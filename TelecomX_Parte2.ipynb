{
  "nbformat": 4,
  "nbformat_minor": 0,
  "metadata": {
    "colab": {
      "provenance": [],
      "toc_visible": true
    },
    "kernelspec": {
      "name": "python3",
      "display_name": "Python 3"
    },
    "language_info": {
      "name": "python"
    }
  },
  "cells": [
    {
      "cell_type": "markdown",
      "source": [
        "# ***Challenge Telecom X: análisis de evasión de clientes - Parte 2***"
      ],
      "metadata": {
        "id": "ldTGvuWeVvJL"
      }
    },
    {
      "cell_type": "markdown",
      "source": [
        "#Preparación de los datos para el modelado (tratamiento, codificación, normalización)."
      ],
      "metadata": {
        "id": "CMBsy5qSJdqu"
      }
    },
    {
      "cell_type": "code",
      "execution_count": 594,
      "metadata": {
        "id": "qezmIvSgEo74"
      },
      "outputs": [],
      "source": [
        "##Importar librerias\n",
        "import pandas as pd\n",
        "import numpy as np\n",
        "import plotly.express as px"
      ]
    },
    {
      "cell_type": "code",
      "source": [
        "#Importar datos\n",
        "datos = pd.read_csv('/content/TelecomX_Data_estandarizado.csv')\n",
        "#Eliminar datos irrelevantes, en este caso Id clientes, cuentas_diarias (creada a partir de cargo_mensual)\n",
        "datos = datos.drop(['id_cliente','cuentas_diarias'],axis=1)"
      ],
      "metadata": {
        "id": "yAIZb3nOE4Lk"
      },
      "execution_count": 595,
      "outputs": []
    },
    {
      "cell_type": "code",
      "source": [
        "datos"
      ],
      "metadata": {
        "colab": {
          "base_uri": "https://localhost:8080/",
          "height": 444
        },
        "id": "q_qsJBzEE_Fl",
        "outputId": "28148b21-4f01-4473-c9ae-f3dacb49ae4c"
      },
      "execution_count": 596,
      "outputs": [
        {
          "output_type": "execute_result",
          "data": {
            "text/plain": [
              "      es_hombre  es_adulto_mayor  tiene_pareja  tiene_dependientes  \\\n",
              "0             0                0             1                   1   \n",
              "1             1                0             0                   0   \n",
              "2             1                0             0                   0   \n",
              "3             1                1             1                   0   \n",
              "4             0                1             1                   0   \n",
              "...         ...              ...           ...                 ...   \n",
              "7038          0                0             0                   0   \n",
              "7039          1                0             1                   0   \n",
              "7040          1                0             0                   0   \n",
              "7041          1                0             1                   1   \n",
              "7042          1                0             1                   1   \n",
              "\n",
              "      meses_contrato  tiene_telefono  tiene_varias_lineas tipo_internet  \\\n",
              "0                  9               1                    0           DSL   \n",
              "1                  9               1                    1           DSL   \n",
              "2                  4               1                    0   Fiber optic   \n",
              "3                 13               1                    0   Fiber optic   \n",
              "4                  3               1                    0   Fiber optic   \n",
              "...              ...             ...                  ...           ...   \n",
              "7038              13               1                    0           DSL   \n",
              "7039              22               1                    1   Fiber optic   \n",
              "7040               2               1                    0           DSL   \n",
              "7041              67               1                    0           DSL   \n",
              "7042              63               0                    0           DSL   \n",
              "\n",
              "      seguridad_online  respaldo_online  proteccion_dispositivo  \\\n",
              "0                    0                1                       0   \n",
              "1                    0                0                       0   \n",
              "2                    0                0                       1   \n",
              "3                    0                1                       1   \n",
              "4                    0                0                       0   \n",
              "...                ...              ...                     ...   \n",
              "7038                 1                0                       0   \n",
              "7039                 0                0                       0   \n",
              "7040                 0                1                       0   \n",
              "7041                 1                0                       1   \n",
              "7042                 1                1                       1   \n",
              "\n",
              "      soporte_tecnico  tiene_tv  tiene_peliculas tipo_contrato  \\\n",
              "0                   1         1                0       Anual_1   \n",
              "1                   0         0                1       Mensual   \n",
              "2                   0         0                0       Mensual   \n",
              "3                   0         1                1       Mensual   \n",
              "4                   1         1                0       Mensual   \n",
              "...               ...       ...              ...           ...   \n",
              "7038                1         0                0       Anual_1   \n",
              "7039                0         0                1       Mensual   \n",
              "7040                0         0                0       Mensual   \n",
              "7041                1         0                1       Anual_2   \n",
              "7042                0         1                1       Anual_2   \n",
              "\n",
              "      factura_online         metodo_pago  cargo_mensual  cargo_total  abandono  \n",
              "0                  1              Cheque          65.60       593.30         0  \n",
              "1                  0              Cheque          59.90       542.40         0  \n",
              "2                  1  Cheque_electrónico          73.90       280.85         1  \n",
              "3                  1  Cheque_electrónico          98.00      1237.85         1  \n",
              "4                  1              Cheque          83.90       267.40         1  \n",
              "...              ...                 ...            ...          ...       ...  \n",
              "7038               0              Cheque          55.15       742.90         0  \n",
              "7039               1  Cheque_electrónico          85.10      1873.70         1  \n",
              "7040               1              Cheque          50.30        92.75         0  \n",
              "7041               0              Cheque          67.85      4627.65         0  \n",
              "7042               0  Cheque_electrónico          59.00      3707.60         0  \n",
              "\n",
              "[7043 rows x 20 columns]"
            ],
            "text/html": [
              "\n",
              "  <div id=\"df-6d099bcc-aee1-45e8-b309-50e27de3903b\" class=\"colab-df-container\">\n",
              "    <div>\n",
              "<style scoped>\n",
              "    .dataframe tbody tr th:only-of-type {\n",
              "        vertical-align: middle;\n",
              "    }\n",
              "\n",
              "    .dataframe tbody tr th {\n",
              "        vertical-align: top;\n",
              "    }\n",
              "\n",
              "    .dataframe thead th {\n",
              "        text-align: right;\n",
              "    }\n",
              "</style>\n",
              "<table border=\"1\" class=\"dataframe\">\n",
              "  <thead>\n",
              "    <tr style=\"text-align: right;\">\n",
              "      <th></th>\n",
              "      <th>es_hombre</th>\n",
              "      <th>es_adulto_mayor</th>\n",
              "      <th>tiene_pareja</th>\n",
              "      <th>tiene_dependientes</th>\n",
              "      <th>meses_contrato</th>\n",
              "      <th>tiene_telefono</th>\n",
              "      <th>tiene_varias_lineas</th>\n",
              "      <th>tipo_internet</th>\n",
              "      <th>seguridad_online</th>\n",
              "      <th>respaldo_online</th>\n",
              "      <th>proteccion_dispositivo</th>\n",
              "      <th>soporte_tecnico</th>\n",
              "      <th>tiene_tv</th>\n",
              "      <th>tiene_peliculas</th>\n",
              "      <th>tipo_contrato</th>\n",
              "      <th>factura_online</th>\n",
              "      <th>metodo_pago</th>\n",
              "      <th>cargo_mensual</th>\n",
              "      <th>cargo_total</th>\n",
              "      <th>abandono</th>\n",
              "    </tr>\n",
              "  </thead>\n",
              "  <tbody>\n",
              "    <tr>\n",
              "      <th>0</th>\n",
              "      <td>0</td>\n",
              "      <td>0</td>\n",
              "      <td>1</td>\n",
              "      <td>1</td>\n",
              "      <td>9</td>\n",
              "      <td>1</td>\n",
              "      <td>0</td>\n",
              "      <td>DSL</td>\n",
              "      <td>0</td>\n",
              "      <td>1</td>\n",
              "      <td>0</td>\n",
              "      <td>1</td>\n",
              "      <td>1</td>\n",
              "      <td>0</td>\n",
              "      <td>Anual_1</td>\n",
              "      <td>1</td>\n",
              "      <td>Cheque</td>\n",
              "      <td>65.60</td>\n",
              "      <td>593.30</td>\n",
              "      <td>0</td>\n",
              "    </tr>\n",
              "    <tr>\n",
              "      <th>1</th>\n",
              "      <td>1</td>\n",
              "      <td>0</td>\n",
              "      <td>0</td>\n",
              "      <td>0</td>\n",
              "      <td>9</td>\n",
              "      <td>1</td>\n",
              "      <td>1</td>\n",
              "      <td>DSL</td>\n",
              "      <td>0</td>\n",
              "      <td>0</td>\n",
              "      <td>0</td>\n",
              "      <td>0</td>\n",
              "      <td>0</td>\n",
              "      <td>1</td>\n",
              "      <td>Mensual</td>\n",
              "      <td>0</td>\n",
              "      <td>Cheque</td>\n",
              "      <td>59.90</td>\n",
              "      <td>542.40</td>\n",
              "      <td>0</td>\n",
              "    </tr>\n",
              "    <tr>\n",
              "      <th>2</th>\n",
              "      <td>1</td>\n",
              "      <td>0</td>\n",
              "      <td>0</td>\n",
              "      <td>0</td>\n",
              "      <td>4</td>\n",
              "      <td>1</td>\n",
              "      <td>0</td>\n",
              "      <td>Fiber optic</td>\n",
              "      <td>0</td>\n",
              "      <td>0</td>\n",
              "      <td>1</td>\n",
              "      <td>0</td>\n",
              "      <td>0</td>\n",
              "      <td>0</td>\n",
              "      <td>Mensual</td>\n",
              "      <td>1</td>\n",
              "      <td>Cheque_electrónico</td>\n",
              "      <td>73.90</td>\n",
              "      <td>280.85</td>\n",
              "      <td>1</td>\n",
              "    </tr>\n",
              "    <tr>\n",
              "      <th>3</th>\n",
              "      <td>1</td>\n",
              "      <td>1</td>\n",
              "      <td>1</td>\n",
              "      <td>0</td>\n",
              "      <td>13</td>\n",
              "      <td>1</td>\n",
              "      <td>0</td>\n",
              "      <td>Fiber optic</td>\n",
              "      <td>0</td>\n",
              "      <td>1</td>\n",
              "      <td>1</td>\n",
              "      <td>0</td>\n",
              "      <td>1</td>\n",
              "      <td>1</td>\n",
              "      <td>Mensual</td>\n",
              "      <td>1</td>\n",
              "      <td>Cheque_electrónico</td>\n",
              "      <td>98.00</td>\n",
              "      <td>1237.85</td>\n",
              "      <td>1</td>\n",
              "    </tr>\n",
              "    <tr>\n",
              "      <th>4</th>\n",
              "      <td>0</td>\n",
              "      <td>1</td>\n",
              "      <td>1</td>\n",
              "      <td>0</td>\n",
              "      <td>3</td>\n",
              "      <td>1</td>\n",
              "      <td>0</td>\n",
              "      <td>Fiber optic</td>\n",
              "      <td>0</td>\n",
              "      <td>0</td>\n",
              "      <td>0</td>\n",
              "      <td>1</td>\n",
              "      <td>1</td>\n",
              "      <td>0</td>\n",
              "      <td>Mensual</td>\n",
              "      <td>1</td>\n",
              "      <td>Cheque</td>\n",
              "      <td>83.90</td>\n",
              "      <td>267.40</td>\n",
              "      <td>1</td>\n",
              "    </tr>\n",
              "    <tr>\n",
              "      <th>...</th>\n",
              "      <td>...</td>\n",
              "      <td>...</td>\n",
              "      <td>...</td>\n",
              "      <td>...</td>\n",
              "      <td>...</td>\n",
              "      <td>...</td>\n",
              "      <td>...</td>\n",
              "      <td>...</td>\n",
              "      <td>...</td>\n",
              "      <td>...</td>\n",
              "      <td>...</td>\n",
              "      <td>...</td>\n",
              "      <td>...</td>\n",
              "      <td>...</td>\n",
              "      <td>...</td>\n",
              "      <td>...</td>\n",
              "      <td>...</td>\n",
              "      <td>...</td>\n",
              "      <td>...</td>\n",
              "      <td>...</td>\n",
              "    </tr>\n",
              "    <tr>\n",
              "      <th>7038</th>\n",
              "      <td>0</td>\n",
              "      <td>0</td>\n",
              "      <td>0</td>\n",
              "      <td>0</td>\n",
              "      <td>13</td>\n",
              "      <td>1</td>\n",
              "      <td>0</td>\n",
              "      <td>DSL</td>\n",
              "      <td>1</td>\n",
              "      <td>0</td>\n",
              "      <td>0</td>\n",
              "      <td>1</td>\n",
              "      <td>0</td>\n",
              "      <td>0</td>\n",
              "      <td>Anual_1</td>\n",
              "      <td>0</td>\n",
              "      <td>Cheque</td>\n",
              "      <td>55.15</td>\n",
              "      <td>742.90</td>\n",
              "      <td>0</td>\n",
              "    </tr>\n",
              "    <tr>\n",
              "      <th>7039</th>\n",
              "      <td>1</td>\n",
              "      <td>0</td>\n",
              "      <td>1</td>\n",
              "      <td>0</td>\n",
              "      <td>22</td>\n",
              "      <td>1</td>\n",
              "      <td>1</td>\n",
              "      <td>Fiber optic</td>\n",
              "      <td>0</td>\n",
              "      <td>0</td>\n",
              "      <td>0</td>\n",
              "      <td>0</td>\n",
              "      <td>0</td>\n",
              "      <td>1</td>\n",
              "      <td>Mensual</td>\n",
              "      <td>1</td>\n",
              "      <td>Cheque_electrónico</td>\n",
              "      <td>85.10</td>\n",
              "      <td>1873.70</td>\n",
              "      <td>1</td>\n",
              "    </tr>\n",
              "    <tr>\n",
              "      <th>7040</th>\n",
              "      <td>1</td>\n",
              "      <td>0</td>\n",
              "      <td>0</td>\n",
              "      <td>0</td>\n",
              "      <td>2</td>\n",
              "      <td>1</td>\n",
              "      <td>0</td>\n",
              "      <td>DSL</td>\n",
              "      <td>0</td>\n",
              "      <td>1</td>\n",
              "      <td>0</td>\n",
              "      <td>0</td>\n",
              "      <td>0</td>\n",
              "      <td>0</td>\n",
              "      <td>Mensual</td>\n",
              "      <td>1</td>\n",
              "      <td>Cheque</td>\n",
              "      <td>50.30</td>\n",
              "      <td>92.75</td>\n",
              "      <td>0</td>\n",
              "    </tr>\n",
              "    <tr>\n",
              "      <th>7041</th>\n",
              "      <td>1</td>\n",
              "      <td>0</td>\n",
              "      <td>1</td>\n",
              "      <td>1</td>\n",
              "      <td>67</td>\n",
              "      <td>1</td>\n",
              "      <td>0</td>\n",
              "      <td>DSL</td>\n",
              "      <td>1</td>\n",
              "      <td>0</td>\n",
              "      <td>1</td>\n",
              "      <td>1</td>\n",
              "      <td>0</td>\n",
              "      <td>1</td>\n",
              "      <td>Anual_2</td>\n",
              "      <td>0</td>\n",
              "      <td>Cheque</td>\n",
              "      <td>67.85</td>\n",
              "      <td>4627.65</td>\n",
              "      <td>0</td>\n",
              "    </tr>\n",
              "    <tr>\n",
              "      <th>7042</th>\n",
              "      <td>1</td>\n",
              "      <td>0</td>\n",
              "      <td>1</td>\n",
              "      <td>1</td>\n",
              "      <td>63</td>\n",
              "      <td>0</td>\n",
              "      <td>0</td>\n",
              "      <td>DSL</td>\n",
              "      <td>1</td>\n",
              "      <td>1</td>\n",
              "      <td>1</td>\n",
              "      <td>0</td>\n",
              "      <td>1</td>\n",
              "      <td>1</td>\n",
              "      <td>Anual_2</td>\n",
              "      <td>0</td>\n",
              "      <td>Cheque_electrónico</td>\n",
              "      <td>59.00</td>\n",
              "      <td>3707.60</td>\n",
              "      <td>0</td>\n",
              "    </tr>\n",
              "  </tbody>\n",
              "</table>\n",
              "<p>7043 rows × 20 columns</p>\n",
              "</div>\n",
              "    <div class=\"colab-df-buttons\">\n",
              "\n",
              "  <div class=\"colab-df-container\">\n",
              "    <button class=\"colab-df-convert\" onclick=\"convertToInteractive('df-6d099bcc-aee1-45e8-b309-50e27de3903b')\"\n",
              "            title=\"Convert this dataframe to an interactive table.\"\n",
              "            style=\"display:none;\">\n",
              "\n",
              "  <svg xmlns=\"http://www.w3.org/2000/svg\" height=\"24px\" viewBox=\"0 -960 960 960\">\n",
              "    <path d=\"M120-120v-720h720v720H120Zm60-500h600v-160H180v160Zm220 220h160v-160H400v160Zm0 220h160v-160H400v160ZM180-400h160v-160H180v160Zm440 0h160v-160H620v160ZM180-180h160v-160H180v160Zm440 0h160v-160H620v160Z\"/>\n",
              "  </svg>\n",
              "    </button>\n",
              "\n",
              "  <style>\n",
              "    .colab-df-container {\n",
              "      display:flex;\n",
              "      gap: 12px;\n",
              "    }\n",
              "\n",
              "    .colab-df-convert {\n",
              "      background-color: #E8F0FE;\n",
              "      border: none;\n",
              "      border-radius: 50%;\n",
              "      cursor: pointer;\n",
              "      display: none;\n",
              "      fill: #1967D2;\n",
              "      height: 32px;\n",
              "      padding: 0 0 0 0;\n",
              "      width: 32px;\n",
              "    }\n",
              "\n",
              "    .colab-df-convert:hover {\n",
              "      background-color: #E2EBFA;\n",
              "      box-shadow: 0px 1px 2px rgba(60, 64, 67, 0.3), 0px 1px 3px 1px rgba(60, 64, 67, 0.15);\n",
              "      fill: #174EA6;\n",
              "    }\n",
              "\n",
              "    .colab-df-buttons div {\n",
              "      margin-bottom: 4px;\n",
              "    }\n",
              "\n",
              "    [theme=dark] .colab-df-convert {\n",
              "      background-color: #3B4455;\n",
              "      fill: #D2E3FC;\n",
              "    }\n",
              "\n",
              "    [theme=dark] .colab-df-convert:hover {\n",
              "      background-color: #434B5C;\n",
              "      box-shadow: 0px 1px 3px 1px rgba(0, 0, 0, 0.15);\n",
              "      filter: drop-shadow(0px 1px 2px rgba(0, 0, 0, 0.3));\n",
              "      fill: #FFFFFF;\n",
              "    }\n",
              "  </style>\n",
              "\n",
              "    <script>\n",
              "      const buttonEl =\n",
              "        document.querySelector('#df-6d099bcc-aee1-45e8-b309-50e27de3903b button.colab-df-convert');\n",
              "      buttonEl.style.display =\n",
              "        google.colab.kernel.accessAllowed ? 'block' : 'none';\n",
              "\n",
              "      async function convertToInteractive(key) {\n",
              "        const element = document.querySelector('#df-6d099bcc-aee1-45e8-b309-50e27de3903b');\n",
              "        const dataTable =\n",
              "          await google.colab.kernel.invokeFunction('convertToInteractive',\n",
              "                                                    [key], {});\n",
              "        if (!dataTable) return;\n",
              "\n",
              "        const docLinkHtml = 'Like what you see? Visit the ' +\n",
              "          '<a target=\"_blank\" href=https://colab.research.google.com/notebooks/data_table.ipynb>data table notebook</a>'\n",
              "          + ' to learn more about interactive tables.';\n",
              "        element.innerHTML = '';\n",
              "        dataTable['output_type'] = 'display_data';\n",
              "        await google.colab.output.renderOutput(dataTable, element);\n",
              "        const docLink = document.createElement('div');\n",
              "        docLink.innerHTML = docLinkHtml;\n",
              "        element.appendChild(docLink);\n",
              "      }\n",
              "    </script>\n",
              "  </div>\n",
              "\n",
              "\n",
              "    <div id=\"df-43b7b258-df55-40a0-bd08-74572e2f374c\">\n",
              "      <button class=\"colab-df-quickchart\" onclick=\"quickchart('df-43b7b258-df55-40a0-bd08-74572e2f374c')\"\n",
              "                title=\"Suggest charts\"\n",
              "                style=\"display:none;\">\n",
              "\n",
              "<svg xmlns=\"http://www.w3.org/2000/svg\" height=\"24px\"viewBox=\"0 0 24 24\"\n",
              "     width=\"24px\">\n",
              "    <g>\n",
              "        <path d=\"M19 3H5c-1.1 0-2 .9-2 2v14c0 1.1.9 2 2 2h14c1.1 0 2-.9 2-2V5c0-1.1-.9-2-2-2zM9 17H7v-7h2v7zm4 0h-2V7h2v10zm4 0h-2v-4h2v4z\"/>\n",
              "    </g>\n",
              "</svg>\n",
              "      </button>\n",
              "\n",
              "<style>\n",
              "  .colab-df-quickchart {\n",
              "      --bg-color: #E8F0FE;\n",
              "      --fill-color: #1967D2;\n",
              "      --hover-bg-color: #E2EBFA;\n",
              "      --hover-fill-color: #174EA6;\n",
              "      --disabled-fill-color: #AAA;\n",
              "      --disabled-bg-color: #DDD;\n",
              "  }\n",
              "\n",
              "  [theme=dark] .colab-df-quickchart {\n",
              "      --bg-color: #3B4455;\n",
              "      --fill-color: #D2E3FC;\n",
              "      --hover-bg-color: #434B5C;\n",
              "      --hover-fill-color: #FFFFFF;\n",
              "      --disabled-bg-color: #3B4455;\n",
              "      --disabled-fill-color: #666;\n",
              "  }\n",
              "\n",
              "  .colab-df-quickchart {\n",
              "    background-color: var(--bg-color);\n",
              "    border: none;\n",
              "    border-radius: 50%;\n",
              "    cursor: pointer;\n",
              "    display: none;\n",
              "    fill: var(--fill-color);\n",
              "    height: 32px;\n",
              "    padding: 0;\n",
              "    width: 32px;\n",
              "  }\n",
              "\n",
              "  .colab-df-quickchart:hover {\n",
              "    background-color: var(--hover-bg-color);\n",
              "    box-shadow: 0 1px 2px rgba(60, 64, 67, 0.3), 0 1px 3px 1px rgba(60, 64, 67, 0.15);\n",
              "    fill: var(--button-hover-fill-color);\n",
              "  }\n",
              "\n",
              "  .colab-df-quickchart-complete:disabled,\n",
              "  .colab-df-quickchart-complete:disabled:hover {\n",
              "    background-color: var(--disabled-bg-color);\n",
              "    fill: var(--disabled-fill-color);\n",
              "    box-shadow: none;\n",
              "  }\n",
              "\n",
              "  .colab-df-spinner {\n",
              "    border: 2px solid var(--fill-color);\n",
              "    border-color: transparent;\n",
              "    border-bottom-color: var(--fill-color);\n",
              "    animation:\n",
              "      spin 1s steps(1) infinite;\n",
              "  }\n",
              "\n",
              "  @keyframes spin {\n",
              "    0% {\n",
              "      border-color: transparent;\n",
              "      border-bottom-color: var(--fill-color);\n",
              "      border-left-color: var(--fill-color);\n",
              "    }\n",
              "    20% {\n",
              "      border-color: transparent;\n",
              "      border-left-color: var(--fill-color);\n",
              "      border-top-color: var(--fill-color);\n",
              "    }\n",
              "    30% {\n",
              "      border-color: transparent;\n",
              "      border-left-color: var(--fill-color);\n",
              "      border-top-color: var(--fill-color);\n",
              "      border-right-color: var(--fill-color);\n",
              "    }\n",
              "    40% {\n",
              "      border-color: transparent;\n",
              "      border-right-color: var(--fill-color);\n",
              "      border-top-color: var(--fill-color);\n",
              "    }\n",
              "    60% {\n",
              "      border-color: transparent;\n",
              "      border-right-color: var(--fill-color);\n",
              "    }\n",
              "    80% {\n",
              "      border-color: transparent;\n",
              "      border-right-color: var(--fill-color);\n",
              "      border-bottom-color: var(--fill-color);\n",
              "    }\n",
              "    90% {\n",
              "      border-color: transparent;\n",
              "      border-bottom-color: var(--fill-color);\n",
              "    }\n",
              "  }\n",
              "</style>\n",
              "\n",
              "      <script>\n",
              "        async function quickchart(key) {\n",
              "          const quickchartButtonEl =\n",
              "            document.querySelector('#' + key + ' button');\n",
              "          quickchartButtonEl.disabled = true;  // To prevent multiple clicks.\n",
              "          quickchartButtonEl.classList.add('colab-df-spinner');\n",
              "          try {\n",
              "            const charts = await google.colab.kernel.invokeFunction(\n",
              "                'suggestCharts', [key], {});\n",
              "          } catch (error) {\n",
              "            console.error('Error during call to suggestCharts:', error);\n",
              "          }\n",
              "          quickchartButtonEl.classList.remove('colab-df-spinner');\n",
              "          quickchartButtonEl.classList.add('colab-df-quickchart-complete');\n",
              "        }\n",
              "        (() => {\n",
              "          let quickchartButtonEl =\n",
              "            document.querySelector('#df-43b7b258-df55-40a0-bd08-74572e2f374c button');\n",
              "          quickchartButtonEl.style.display =\n",
              "            google.colab.kernel.accessAllowed ? 'block' : 'none';\n",
              "        })();\n",
              "      </script>\n",
              "    </div>\n",
              "\n",
              "  <div id=\"id_694e8126-04d1-4812-a4e6-9d643bb45942\">\n",
              "    <style>\n",
              "      .colab-df-generate {\n",
              "        background-color: #E8F0FE;\n",
              "        border: none;\n",
              "        border-radius: 50%;\n",
              "        cursor: pointer;\n",
              "        display: none;\n",
              "        fill: #1967D2;\n",
              "        height: 32px;\n",
              "        padding: 0 0 0 0;\n",
              "        width: 32px;\n",
              "      }\n",
              "\n",
              "      .colab-df-generate:hover {\n",
              "        background-color: #E2EBFA;\n",
              "        box-shadow: 0px 1px 2px rgba(60, 64, 67, 0.3), 0px 1px 3px 1px rgba(60, 64, 67, 0.15);\n",
              "        fill: #174EA6;\n",
              "      }\n",
              "\n",
              "      [theme=dark] .colab-df-generate {\n",
              "        background-color: #3B4455;\n",
              "        fill: #D2E3FC;\n",
              "      }\n",
              "\n",
              "      [theme=dark] .colab-df-generate:hover {\n",
              "        background-color: #434B5C;\n",
              "        box-shadow: 0px 1px 3px 1px rgba(0, 0, 0, 0.15);\n",
              "        filter: drop-shadow(0px 1px 2px rgba(0, 0, 0, 0.3));\n",
              "        fill: #FFFFFF;\n",
              "      }\n",
              "    </style>\n",
              "    <button class=\"colab-df-generate\" onclick=\"generateWithVariable('datos')\"\n",
              "            title=\"Generate code using this dataframe.\"\n",
              "            style=\"display:none;\">\n",
              "\n",
              "  <svg xmlns=\"http://www.w3.org/2000/svg\" height=\"24px\"viewBox=\"0 0 24 24\"\n",
              "       width=\"24px\">\n",
              "    <path d=\"M7,19H8.4L18.45,9,17,7.55,7,17.6ZM5,21V16.75L18.45,3.32a2,2,0,0,1,2.83,0l1.4,1.43a1.91,1.91,0,0,1,.58,1.4,1.91,1.91,0,0,1-.58,1.4L9.25,21ZM18.45,9,17,7.55Zm-12,3A5.31,5.31,0,0,0,4.9,8.1,5.31,5.31,0,0,0,1,6.5,5.31,5.31,0,0,0,4.9,4.9,5.31,5.31,0,0,0,6.5,1,5.31,5.31,0,0,0,8.1,4.9,5.31,5.31,0,0,0,12,6.5,5.46,5.46,0,0,0,6.5,12Z\"/>\n",
              "  </svg>\n",
              "    </button>\n",
              "    <script>\n",
              "      (() => {\n",
              "      const buttonEl =\n",
              "        document.querySelector('#id_694e8126-04d1-4812-a4e6-9d643bb45942 button.colab-df-generate');\n",
              "      buttonEl.style.display =\n",
              "        google.colab.kernel.accessAllowed ? 'block' : 'none';\n",
              "\n",
              "      buttonEl.onclick = () => {\n",
              "        google.colab.notebook.generateWithVariable('datos');\n",
              "      }\n",
              "      })();\n",
              "    </script>\n",
              "  </div>\n",
              "\n",
              "    </div>\n",
              "  </div>\n"
            ],
            "application/vnd.google.colaboratory.intrinsic+json": {
              "type": "dataframe",
              "variable_name": "datos",
              "summary": "{\n  \"name\": \"datos\",\n  \"rows\": 7043,\n  \"fields\": [\n    {\n      \"column\": \"es_hombre\",\n      \"properties\": {\n        \"dtype\": \"number\",\n        \"std\": 0,\n        \"min\": 0,\n        \"max\": 1,\n        \"num_unique_values\": 2,\n        \"samples\": [\n          1,\n          0\n        ],\n        \"semantic_type\": \"\",\n        \"description\": \"\"\n      }\n    },\n    {\n      \"column\": \"es_adulto_mayor\",\n      \"properties\": {\n        \"dtype\": \"number\",\n        \"std\": 0,\n        \"min\": 0,\n        \"max\": 1,\n        \"num_unique_values\": 2,\n        \"samples\": [\n          1,\n          0\n        ],\n        \"semantic_type\": \"\",\n        \"description\": \"\"\n      }\n    },\n    {\n      \"column\": \"tiene_pareja\",\n      \"properties\": {\n        \"dtype\": \"number\",\n        \"std\": 0,\n        \"min\": 0,\n        \"max\": 1,\n        \"num_unique_values\": 2,\n        \"samples\": [\n          0,\n          1\n        ],\n        \"semantic_type\": \"\",\n        \"description\": \"\"\n      }\n    },\n    {\n      \"column\": \"tiene_dependientes\",\n      \"properties\": {\n        \"dtype\": \"number\",\n        \"std\": 0,\n        \"min\": 0,\n        \"max\": 1,\n        \"num_unique_values\": 2,\n        \"samples\": [\n          0,\n          1\n        ],\n        \"semantic_type\": \"\",\n        \"description\": \"\"\n      }\n    },\n    {\n      \"column\": \"meses_contrato\",\n      \"properties\": {\n        \"dtype\": \"number\",\n        \"std\": 24,\n        \"min\": 0,\n        \"max\": 72,\n        \"num_unique_values\": 73,\n        \"samples\": [\n          71,\n          53\n        ],\n        \"semantic_type\": \"\",\n        \"description\": \"\"\n      }\n    },\n    {\n      \"column\": \"tiene_telefono\",\n      \"properties\": {\n        \"dtype\": \"number\",\n        \"std\": 0,\n        \"min\": 0,\n        \"max\": 1,\n        \"num_unique_values\": 2,\n        \"samples\": [\n          0,\n          1\n        ],\n        \"semantic_type\": \"\",\n        \"description\": \"\"\n      }\n    },\n    {\n      \"column\": \"tiene_varias_lineas\",\n      \"properties\": {\n        \"dtype\": \"number\",\n        \"std\": 0,\n        \"min\": 0,\n        \"max\": 1,\n        \"num_unique_values\": 2,\n        \"samples\": [\n          1,\n          0\n        ],\n        \"semantic_type\": \"\",\n        \"description\": \"\"\n      }\n    },\n    {\n      \"column\": \"tipo_internet\",\n      \"properties\": {\n        \"dtype\": \"category\",\n        \"num_unique_values\": 3,\n        \"samples\": [\n          \"DSL\",\n          \"Fiber optic\"\n        ],\n        \"semantic_type\": \"\",\n        \"description\": \"\"\n      }\n    },\n    {\n      \"column\": \"seguridad_online\",\n      \"properties\": {\n        \"dtype\": \"number\",\n        \"std\": 0,\n        \"min\": 0,\n        \"max\": 1,\n        \"num_unique_values\": 2,\n        \"samples\": [\n          1,\n          0\n        ],\n        \"semantic_type\": \"\",\n        \"description\": \"\"\n      }\n    },\n    {\n      \"column\": \"respaldo_online\",\n      \"properties\": {\n        \"dtype\": \"number\",\n        \"std\": 0,\n        \"min\": 0,\n        \"max\": 1,\n        \"num_unique_values\": 2,\n        \"samples\": [\n          0,\n          1\n        ],\n        \"semantic_type\": \"\",\n        \"description\": \"\"\n      }\n    },\n    {\n      \"column\": \"proteccion_dispositivo\",\n      \"properties\": {\n        \"dtype\": \"number\",\n        \"std\": 0,\n        \"min\": 0,\n        \"max\": 1,\n        \"num_unique_values\": 2,\n        \"samples\": [\n          1,\n          0\n        ],\n        \"semantic_type\": \"\",\n        \"description\": \"\"\n      }\n    },\n    {\n      \"column\": \"soporte_tecnico\",\n      \"properties\": {\n        \"dtype\": \"number\",\n        \"std\": 0,\n        \"min\": 0,\n        \"max\": 1,\n        \"num_unique_values\": 2,\n        \"samples\": [\n          0,\n          1\n        ],\n        \"semantic_type\": \"\",\n        \"description\": \"\"\n      }\n    },\n    {\n      \"column\": \"tiene_tv\",\n      \"properties\": {\n        \"dtype\": \"number\",\n        \"std\": 0,\n        \"min\": 0,\n        \"max\": 1,\n        \"num_unique_values\": 2,\n        \"samples\": [\n          0,\n          1\n        ],\n        \"semantic_type\": \"\",\n        \"description\": \"\"\n      }\n    },\n    {\n      \"column\": \"tiene_peliculas\",\n      \"properties\": {\n        \"dtype\": \"number\",\n        \"std\": 0,\n        \"min\": 0,\n        \"max\": 1,\n        \"num_unique_values\": 2,\n        \"samples\": [\n          1,\n          0\n        ],\n        \"semantic_type\": \"\",\n        \"description\": \"\"\n      }\n    },\n    {\n      \"column\": \"tipo_contrato\",\n      \"properties\": {\n        \"dtype\": \"category\",\n        \"num_unique_values\": 3,\n        \"samples\": [\n          \"Anual_1\",\n          \"Mensual\"\n        ],\n        \"semantic_type\": \"\",\n        \"description\": \"\"\n      }\n    },\n    {\n      \"column\": \"factura_online\",\n      \"properties\": {\n        \"dtype\": \"number\",\n        \"std\": 0,\n        \"min\": 0,\n        \"max\": 1,\n        \"num_unique_values\": 2,\n        \"samples\": [\n          0,\n          1\n        ],\n        \"semantic_type\": \"\",\n        \"description\": \"\"\n      }\n    },\n    {\n      \"column\": \"metodo_pago\",\n      \"properties\": {\n        \"dtype\": \"category\",\n        \"num_unique_values\": 4,\n        \"samples\": [\n          \"Cheque_electr\\u00f3nico\",\n          \"Transferencia\"\n        ],\n        \"semantic_type\": \"\",\n        \"description\": \"\"\n      }\n    },\n    {\n      \"column\": \"cargo_mensual\",\n      \"properties\": {\n        \"dtype\": \"number\",\n        \"std\": 30.09004709767855,\n        \"min\": 18.25,\n        \"max\": 118.75,\n        \"num_unique_values\": 1585,\n        \"samples\": [\n          104.15,\n          47.85\n        ],\n        \"semantic_type\": \"\",\n        \"description\": \"\"\n      }\n    },\n    {\n      \"column\": \"cargo_total\",\n      \"properties\": {\n        \"dtype\": \"number\",\n        \"std\": 2266.794469689021,\n        \"min\": 0.0,\n        \"max\": 8684.8,\n        \"num_unique_values\": 6531,\n        \"samples\": [\n          7732.65,\n          4847.05\n        ],\n        \"semantic_type\": \"\",\n        \"description\": \"\"\n      }\n    },\n    {\n      \"column\": \"abandono\",\n      \"properties\": {\n        \"dtype\": \"number\",\n        \"std\": 0,\n        \"min\": 0,\n        \"max\": 1,\n        \"num_unique_values\": 2,\n        \"samples\": [\n          1,\n          0\n        ],\n        \"semantic_type\": \"\",\n        \"description\": \"\"\n      }\n    }\n  ]\n}"
            }
          },
          "metadata": {},
          "execution_count": 596
        }
      ]
    },
    {
      "cell_type": "code",
      "source": [
        "datos.info()"
      ],
      "metadata": {
        "colab": {
          "base_uri": "https://localhost:8080/"
        },
        "id": "-UhM2ZICFgEY",
        "outputId": "a4902bd8-e6fc-4b52-8892-99731919bfcd"
      },
      "execution_count": 597,
      "outputs": [
        {
          "output_type": "stream",
          "name": "stdout",
          "text": [
            "<class 'pandas.core.frame.DataFrame'>\n",
            "RangeIndex: 7043 entries, 0 to 7042\n",
            "Data columns (total 20 columns):\n",
            " #   Column                  Non-Null Count  Dtype  \n",
            "---  ------                  --------------  -----  \n",
            " 0   es_hombre               7043 non-null   int64  \n",
            " 1   es_adulto_mayor         7043 non-null   int64  \n",
            " 2   tiene_pareja            7043 non-null   int64  \n",
            " 3   tiene_dependientes      7043 non-null   int64  \n",
            " 4   meses_contrato          7043 non-null   int64  \n",
            " 5   tiene_telefono          7043 non-null   int64  \n",
            " 6   tiene_varias_lineas     7043 non-null   int64  \n",
            " 7   tipo_internet           7043 non-null   object \n",
            " 8   seguridad_online        7043 non-null   int64  \n",
            " 9   respaldo_online         7043 non-null   int64  \n",
            " 10  proteccion_dispositivo  7043 non-null   int64  \n",
            " 11  soporte_tecnico         7043 non-null   int64  \n",
            " 12  tiene_tv                7043 non-null   int64  \n",
            " 13  tiene_peliculas         7043 non-null   int64  \n",
            " 14  tipo_contrato           7043 non-null   object \n",
            " 15  factura_online          7043 non-null   int64  \n",
            " 16  metodo_pago             7043 non-null   object \n",
            " 17  cargo_mensual           7043 non-null   float64\n",
            " 18  cargo_total             7043 non-null   float64\n",
            " 19  abandono                7043 non-null   int64  \n",
            "dtypes: float64(2), int64(15), object(3)\n",
            "memory usage: 1.1+ MB\n"
          ]
        }
      ]
    },
    {
      "cell_type": "code",
      "source": [
        "datos.describe()"
      ],
      "metadata": {
        "colab": {
          "base_uri": "https://localhost:8080/",
          "height": 320
        },
        "id": "XijrImgELD7J",
        "outputId": "6903ee56-4f79-4f72-c523-27ae15789496"
      },
      "execution_count": 598,
      "outputs": [
        {
          "output_type": "execute_result",
          "data": {
            "text/plain": [
              "         es_hombre  es_adulto_mayor  tiene_pareja  tiene_dependientes  \\\n",
              "count  7043.000000      7043.000000   7043.000000         7043.000000   \n",
              "mean      0.504756         0.162147      0.483033            0.299588   \n",
              "std       0.500013         0.368612      0.499748            0.458110   \n",
              "min       0.000000         0.000000      0.000000            0.000000   \n",
              "25%       0.000000         0.000000      0.000000            0.000000   \n",
              "50%       1.000000         0.000000      0.000000            0.000000   \n",
              "75%       1.000000         0.000000      1.000000            1.000000   \n",
              "max       1.000000         1.000000      1.000000            1.000000   \n",
              "\n",
              "       meses_contrato  tiene_telefono  tiene_varias_lineas  seguridad_online  \\\n",
              "count     7043.000000     7043.000000          7043.000000       7043.000000   \n",
              "mean        32.371149        0.903166             0.421837          0.286668   \n",
              "std         24.559481        0.295752             0.493888          0.452237   \n",
              "min          0.000000        0.000000             0.000000          0.000000   \n",
              "25%          9.000000        1.000000             0.000000          0.000000   \n",
              "50%         29.000000        1.000000             0.000000          0.000000   \n",
              "75%         55.000000        1.000000             1.000000          1.000000   \n",
              "max         72.000000        1.000000             1.000000          1.000000   \n",
              "\n",
              "       respaldo_online  proteccion_dispositivo  soporte_tecnico     tiene_tv  \\\n",
              "count      7043.000000             7043.000000      7043.000000  7043.000000   \n",
              "mean          0.344881                0.343888         0.290217     0.384353   \n",
              "std           0.475363                0.475038         0.453895     0.486477   \n",
              "min           0.000000                0.000000         0.000000     0.000000   \n",
              "25%           0.000000                0.000000         0.000000     0.000000   \n",
              "50%           0.000000                0.000000         0.000000     0.000000   \n",
              "75%           1.000000                1.000000         1.000000     1.000000   \n",
              "max           1.000000                1.000000         1.000000     1.000000   \n",
              "\n",
              "       tiene_peliculas  factura_online  cargo_mensual  cargo_total  \\\n",
              "count      7043.000000     7043.000000    7043.000000  7043.000000   \n",
              "mean          0.387903        0.592219      64.761692  2279.734304   \n",
              "std           0.487307        0.491457      30.090047  2266.794470   \n",
              "min           0.000000        0.000000      18.250000     0.000000   \n",
              "25%           0.000000        0.000000      35.500000   398.550000   \n",
              "50%           0.000000        1.000000      70.350000  1394.550000   \n",
              "75%           1.000000        1.000000      89.850000  3786.600000   \n",
              "max           1.000000        1.000000     118.750000  8684.800000   \n",
              "\n",
              "          abandono  \n",
              "count  7043.000000  \n",
              "mean      0.265370  \n",
              "std       0.441561  \n",
              "min       0.000000  \n",
              "25%       0.000000  \n",
              "50%       0.000000  \n",
              "75%       1.000000  \n",
              "max       1.000000  "
            ],
            "text/html": [
              "\n",
              "  <div id=\"df-28d09917-2d4f-4717-864e-d2dce03f9e4b\" class=\"colab-df-container\">\n",
              "    <div>\n",
              "<style scoped>\n",
              "    .dataframe tbody tr th:only-of-type {\n",
              "        vertical-align: middle;\n",
              "    }\n",
              "\n",
              "    .dataframe tbody tr th {\n",
              "        vertical-align: top;\n",
              "    }\n",
              "\n",
              "    .dataframe thead th {\n",
              "        text-align: right;\n",
              "    }\n",
              "</style>\n",
              "<table border=\"1\" class=\"dataframe\">\n",
              "  <thead>\n",
              "    <tr style=\"text-align: right;\">\n",
              "      <th></th>\n",
              "      <th>es_hombre</th>\n",
              "      <th>es_adulto_mayor</th>\n",
              "      <th>tiene_pareja</th>\n",
              "      <th>tiene_dependientes</th>\n",
              "      <th>meses_contrato</th>\n",
              "      <th>tiene_telefono</th>\n",
              "      <th>tiene_varias_lineas</th>\n",
              "      <th>seguridad_online</th>\n",
              "      <th>respaldo_online</th>\n",
              "      <th>proteccion_dispositivo</th>\n",
              "      <th>soporte_tecnico</th>\n",
              "      <th>tiene_tv</th>\n",
              "      <th>tiene_peliculas</th>\n",
              "      <th>factura_online</th>\n",
              "      <th>cargo_mensual</th>\n",
              "      <th>cargo_total</th>\n",
              "      <th>abandono</th>\n",
              "    </tr>\n",
              "  </thead>\n",
              "  <tbody>\n",
              "    <tr>\n",
              "      <th>count</th>\n",
              "      <td>7043.000000</td>\n",
              "      <td>7043.000000</td>\n",
              "      <td>7043.000000</td>\n",
              "      <td>7043.000000</td>\n",
              "      <td>7043.000000</td>\n",
              "      <td>7043.000000</td>\n",
              "      <td>7043.000000</td>\n",
              "      <td>7043.000000</td>\n",
              "      <td>7043.000000</td>\n",
              "      <td>7043.000000</td>\n",
              "      <td>7043.000000</td>\n",
              "      <td>7043.000000</td>\n",
              "      <td>7043.000000</td>\n",
              "      <td>7043.000000</td>\n",
              "      <td>7043.000000</td>\n",
              "      <td>7043.000000</td>\n",
              "      <td>7043.000000</td>\n",
              "    </tr>\n",
              "    <tr>\n",
              "      <th>mean</th>\n",
              "      <td>0.504756</td>\n",
              "      <td>0.162147</td>\n",
              "      <td>0.483033</td>\n",
              "      <td>0.299588</td>\n",
              "      <td>32.371149</td>\n",
              "      <td>0.903166</td>\n",
              "      <td>0.421837</td>\n",
              "      <td>0.286668</td>\n",
              "      <td>0.344881</td>\n",
              "      <td>0.343888</td>\n",
              "      <td>0.290217</td>\n",
              "      <td>0.384353</td>\n",
              "      <td>0.387903</td>\n",
              "      <td>0.592219</td>\n",
              "      <td>64.761692</td>\n",
              "      <td>2279.734304</td>\n",
              "      <td>0.265370</td>\n",
              "    </tr>\n",
              "    <tr>\n",
              "      <th>std</th>\n",
              "      <td>0.500013</td>\n",
              "      <td>0.368612</td>\n",
              "      <td>0.499748</td>\n",
              "      <td>0.458110</td>\n",
              "      <td>24.559481</td>\n",
              "      <td>0.295752</td>\n",
              "      <td>0.493888</td>\n",
              "      <td>0.452237</td>\n",
              "      <td>0.475363</td>\n",
              "      <td>0.475038</td>\n",
              "      <td>0.453895</td>\n",
              "      <td>0.486477</td>\n",
              "      <td>0.487307</td>\n",
              "      <td>0.491457</td>\n",
              "      <td>30.090047</td>\n",
              "      <td>2266.794470</td>\n",
              "      <td>0.441561</td>\n",
              "    </tr>\n",
              "    <tr>\n",
              "      <th>min</th>\n",
              "      <td>0.000000</td>\n",
              "      <td>0.000000</td>\n",
              "      <td>0.000000</td>\n",
              "      <td>0.000000</td>\n",
              "      <td>0.000000</td>\n",
              "      <td>0.000000</td>\n",
              "      <td>0.000000</td>\n",
              "      <td>0.000000</td>\n",
              "      <td>0.000000</td>\n",
              "      <td>0.000000</td>\n",
              "      <td>0.000000</td>\n",
              "      <td>0.000000</td>\n",
              "      <td>0.000000</td>\n",
              "      <td>0.000000</td>\n",
              "      <td>18.250000</td>\n",
              "      <td>0.000000</td>\n",
              "      <td>0.000000</td>\n",
              "    </tr>\n",
              "    <tr>\n",
              "      <th>25%</th>\n",
              "      <td>0.000000</td>\n",
              "      <td>0.000000</td>\n",
              "      <td>0.000000</td>\n",
              "      <td>0.000000</td>\n",
              "      <td>9.000000</td>\n",
              "      <td>1.000000</td>\n",
              "      <td>0.000000</td>\n",
              "      <td>0.000000</td>\n",
              "      <td>0.000000</td>\n",
              "      <td>0.000000</td>\n",
              "      <td>0.000000</td>\n",
              "      <td>0.000000</td>\n",
              "      <td>0.000000</td>\n",
              "      <td>0.000000</td>\n",
              "      <td>35.500000</td>\n",
              "      <td>398.550000</td>\n",
              "      <td>0.000000</td>\n",
              "    </tr>\n",
              "    <tr>\n",
              "      <th>50%</th>\n",
              "      <td>1.000000</td>\n",
              "      <td>0.000000</td>\n",
              "      <td>0.000000</td>\n",
              "      <td>0.000000</td>\n",
              "      <td>29.000000</td>\n",
              "      <td>1.000000</td>\n",
              "      <td>0.000000</td>\n",
              "      <td>0.000000</td>\n",
              "      <td>0.000000</td>\n",
              "      <td>0.000000</td>\n",
              "      <td>0.000000</td>\n",
              "      <td>0.000000</td>\n",
              "      <td>0.000000</td>\n",
              "      <td>1.000000</td>\n",
              "      <td>70.350000</td>\n",
              "      <td>1394.550000</td>\n",
              "      <td>0.000000</td>\n",
              "    </tr>\n",
              "    <tr>\n",
              "      <th>75%</th>\n",
              "      <td>1.000000</td>\n",
              "      <td>0.000000</td>\n",
              "      <td>1.000000</td>\n",
              "      <td>1.000000</td>\n",
              "      <td>55.000000</td>\n",
              "      <td>1.000000</td>\n",
              "      <td>1.000000</td>\n",
              "      <td>1.000000</td>\n",
              "      <td>1.000000</td>\n",
              "      <td>1.000000</td>\n",
              "      <td>1.000000</td>\n",
              "      <td>1.000000</td>\n",
              "      <td>1.000000</td>\n",
              "      <td>1.000000</td>\n",
              "      <td>89.850000</td>\n",
              "      <td>3786.600000</td>\n",
              "      <td>1.000000</td>\n",
              "    </tr>\n",
              "    <tr>\n",
              "      <th>max</th>\n",
              "      <td>1.000000</td>\n",
              "      <td>1.000000</td>\n",
              "      <td>1.000000</td>\n",
              "      <td>1.000000</td>\n",
              "      <td>72.000000</td>\n",
              "      <td>1.000000</td>\n",
              "      <td>1.000000</td>\n",
              "      <td>1.000000</td>\n",
              "      <td>1.000000</td>\n",
              "      <td>1.000000</td>\n",
              "      <td>1.000000</td>\n",
              "      <td>1.000000</td>\n",
              "      <td>1.000000</td>\n",
              "      <td>1.000000</td>\n",
              "      <td>118.750000</td>\n",
              "      <td>8684.800000</td>\n",
              "      <td>1.000000</td>\n",
              "    </tr>\n",
              "  </tbody>\n",
              "</table>\n",
              "</div>\n",
              "    <div class=\"colab-df-buttons\">\n",
              "\n",
              "  <div class=\"colab-df-container\">\n",
              "    <button class=\"colab-df-convert\" onclick=\"convertToInteractive('df-28d09917-2d4f-4717-864e-d2dce03f9e4b')\"\n",
              "            title=\"Convert this dataframe to an interactive table.\"\n",
              "            style=\"display:none;\">\n",
              "\n",
              "  <svg xmlns=\"http://www.w3.org/2000/svg\" height=\"24px\" viewBox=\"0 -960 960 960\">\n",
              "    <path d=\"M120-120v-720h720v720H120Zm60-500h600v-160H180v160Zm220 220h160v-160H400v160Zm0 220h160v-160H400v160ZM180-400h160v-160H180v160Zm440 0h160v-160H620v160ZM180-180h160v-160H180v160Zm440 0h160v-160H620v160Z\"/>\n",
              "  </svg>\n",
              "    </button>\n",
              "\n",
              "  <style>\n",
              "    .colab-df-container {\n",
              "      display:flex;\n",
              "      gap: 12px;\n",
              "    }\n",
              "\n",
              "    .colab-df-convert {\n",
              "      background-color: #E8F0FE;\n",
              "      border: none;\n",
              "      border-radius: 50%;\n",
              "      cursor: pointer;\n",
              "      display: none;\n",
              "      fill: #1967D2;\n",
              "      height: 32px;\n",
              "      padding: 0 0 0 0;\n",
              "      width: 32px;\n",
              "    }\n",
              "\n",
              "    .colab-df-convert:hover {\n",
              "      background-color: #E2EBFA;\n",
              "      box-shadow: 0px 1px 2px rgba(60, 64, 67, 0.3), 0px 1px 3px 1px rgba(60, 64, 67, 0.15);\n",
              "      fill: #174EA6;\n",
              "    }\n",
              "\n",
              "    .colab-df-buttons div {\n",
              "      margin-bottom: 4px;\n",
              "    }\n",
              "\n",
              "    [theme=dark] .colab-df-convert {\n",
              "      background-color: #3B4455;\n",
              "      fill: #D2E3FC;\n",
              "    }\n",
              "\n",
              "    [theme=dark] .colab-df-convert:hover {\n",
              "      background-color: #434B5C;\n",
              "      box-shadow: 0px 1px 3px 1px rgba(0, 0, 0, 0.15);\n",
              "      filter: drop-shadow(0px 1px 2px rgba(0, 0, 0, 0.3));\n",
              "      fill: #FFFFFF;\n",
              "    }\n",
              "  </style>\n",
              "\n",
              "    <script>\n",
              "      const buttonEl =\n",
              "        document.querySelector('#df-28d09917-2d4f-4717-864e-d2dce03f9e4b button.colab-df-convert');\n",
              "      buttonEl.style.display =\n",
              "        google.colab.kernel.accessAllowed ? 'block' : 'none';\n",
              "\n",
              "      async function convertToInteractive(key) {\n",
              "        const element = document.querySelector('#df-28d09917-2d4f-4717-864e-d2dce03f9e4b');\n",
              "        const dataTable =\n",
              "          await google.colab.kernel.invokeFunction('convertToInteractive',\n",
              "                                                    [key], {});\n",
              "        if (!dataTable) return;\n",
              "\n",
              "        const docLinkHtml = 'Like what you see? Visit the ' +\n",
              "          '<a target=\"_blank\" href=https://colab.research.google.com/notebooks/data_table.ipynb>data table notebook</a>'\n",
              "          + ' to learn more about interactive tables.';\n",
              "        element.innerHTML = '';\n",
              "        dataTable['output_type'] = 'display_data';\n",
              "        await google.colab.output.renderOutput(dataTable, element);\n",
              "        const docLink = document.createElement('div');\n",
              "        docLink.innerHTML = docLinkHtml;\n",
              "        element.appendChild(docLink);\n",
              "      }\n",
              "    </script>\n",
              "  </div>\n",
              "\n",
              "\n",
              "    <div id=\"df-3d0f54e6-fd98-4376-8595-591be64fde04\">\n",
              "      <button class=\"colab-df-quickchart\" onclick=\"quickchart('df-3d0f54e6-fd98-4376-8595-591be64fde04')\"\n",
              "                title=\"Suggest charts\"\n",
              "                style=\"display:none;\">\n",
              "\n",
              "<svg xmlns=\"http://www.w3.org/2000/svg\" height=\"24px\"viewBox=\"0 0 24 24\"\n",
              "     width=\"24px\">\n",
              "    <g>\n",
              "        <path d=\"M19 3H5c-1.1 0-2 .9-2 2v14c0 1.1.9 2 2 2h14c1.1 0 2-.9 2-2V5c0-1.1-.9-2-2-2zM9 17H7v-7h2v7zm4 0h-2V7h2v10zm4 0h-2v-4h2v4z\"/>\n",
              "    </g>\n",
              "</svg>\n",
              "      </button>\n",
              "\n",
              "<style>\n",
              "  .colab-df-quickchart {\n",
              "      --bg-color: #E8F0FE;\n",
              "      --fill-color: #1967D2;\n",
              "      --hover-bg-color: #E2EBFA;\n",
              "      --hover-fill-color: #174EA6;\n",
              "      --disabled-fill-color: #AAA;\n",
              "      --disabled-bg-color: #DDD;\n",
              "  }\n",
              "\n",
              "  [theme=dark] .colab-df-quickchart {\n",
              "      --bg-color: #3B4455;\n",
              "      --fill-color: #D2E3FC;\n",
              "      --hover-bg-color: #434B5C;\n",
              "      --hover-fill-color: #FFFFFF;\n",
              "      --disabled-bg-color: #3B4455;\n",
              "      --disabled-fill-color: #666;\n",
              "  }\n",
              "\n",
              "  .colab-df-quickchart {\n",
              "    background-color: var(--bg-color);\n",
              "    border: none;\n",
              "    border-radius: 50%;\n",
              "    cursor: pointer;\n",
              "    display: none;\n",
              "    fill: var(--fill-color);\n",
              "    height: 32px;\n",
              "    padding: 0;\n",
              "    width: 32px;\n",
              "  }\n",
              "\n",
              "  .colab-df-quickchart:hover {\n",
              "    background-color: var(--hover-bg-color);\n",
              "    box-shadow: 0 1px 2px rgba(60, 64, 67, 0.3), 0 1px 3px 1px rgba(60, 64, 67, 0.15);\n",
              "    fill: var(--button-hover-fill-color);\n",
              "  }\n",
              "\n",
              "  .colab-df-quickchart-complete:disabled,\n",
              "  .colab-df-quickchart-complete:disabled:hover {\n",
              "    background-color: var(--disabled-bg-color);\n",
              "    fill: var(--disabled-fill-color);\n",
              "    box-shadow: none;\n",
              "  }\n",
              "\n",
              "  .colab-df-spinner {\n",
              "    border: 2px solid var(--fill-color);\n",
              "    border-color: transparent;\n",
              "    border-bottom-color: var(--fill-color);\n",
              "    animation:\n",
              "      spin 1s steps(1) infinite;\n",
              "  }\n",
              "\n",
              "  @keyframes spin {\n",
              "    0% {\n",
              "      border-color: transparent;\n",
              "      border-bottom-color: var(--fill-color);\n",
              "      border-left-color: var(--fill-color);\n",
              "    }\n",
              "    20% {\n",
              "      border-color: transparent;\n",
              "      border-left-color: var(--fill-color);\n",
              "      border-top-color: var(--fill-color);\n",
              "    }\n",
              "    30% {\n",
              "      border-color: transparent;\n",
              "      border-left-color: var(--fill-color);\n",
              "      border-top-color: var(--fill-color);\n",
              "      border-right-color: var(--fill-color);\n",
              "    }\n",
              "    40% {\n",
              "      border-color: transparent;\n",
              "      border-right-color: var(--fill-color);\n",
              "      border-top-color: var(--fill-color);\n",
              "    }\n",
              "    60% {\n",
              "      border-color: transparent;\n",
              "      border-right-color: var(--fill-color);\n",
              "    }\n",
              "    80% {\n",
              "      border-color: transparent;\n",
              "      border-right-color: var(--fill-color);\n",
              "      border-bottom-color: var(--fill-color);\n",
              "    }\n",
              "    90% {\n",
              "      border-color: transparent;\n",
              "      border-bottom-color: var(--fill-color);\n",
              "    }\n",
              "  }\n",
              "</style>\n",
              "\n",
              "      <script>\n",
              "        async function quickchart(key) {\n",
              "          const quickchartButtonEl =\n",
              "            document.querySelector('#' + key + ' button');\n",
              "          quickchartButtonEl.disabled = true;  // To prevent multiple clicks.\n",
              "          quickchartButtonEl.classList.add('colab-df-spinner');\n",
              "          try {\n",
              "            const charts = await google.colab.kernel.invokeFunction(\n",
              "                'suggestCharts', [key], {});\n",
              "          } catch (error) {\n",
              "            console.error('Error during call to suggestCharts:', error);\n",
              "          }\n",
              "          quickchartButtonEl.classList.remove('colab-df-spinner');\n",
              "          quickchartButtonEl.classList.add('colab-df-quickchart-complete');\n",
              "        }\n",
              "        (() => {\n",
              "          let quickchartButtonEl =\n",
              "            document.querySelector('#df-3d0f54e6-fd98-4376-8595-591be64fde04 button');\n",
              "          quickchartButtonEl.style.display =\n",
              "            google.colab.kernel.accessAllowed ? 'block' : 'none';\n",
              "        })();\n",
              "      </script>\n",
              "    </div>\n",
              "\n",
              "    </div>\n",
              "  </div>\n"
            ],
            "application/vnd.google.colaboratory.intrinsic+json": {
              "type": "dataframe",
              "summary": "{\n  \"name\": \"datos\",\n  \"rows\": 8,\n  \"fields\": [\n    {\n      \"column\": \"es_hombre\",\n      \"properties\": {\n        \"dtype\": \"number\",\n        \"std\": 2489.874293365961,\n        \"min\": 0.0,\n        \"max\": 7043.0,\n        \"num_unique_values\": 5,\n        \"samples\": [\n          0.504756495811444,\n          1.0,\n          0.5000128736471765\n        ],\n        \"semantic_type\": \"\",\n        \"description\": \"\"\n      }\n    },\n    {\n      \"column\": \"es_adulto_mayor\",\n      \"properties\": {\n        \"dtype\": \"number\",\n        \"std\": 2489.9992387084,\n        \"min\": 0.0,\n        \"max\": 7043.0,\n        \"num_unique_values\": 5,\n        \"samples\": [\n          0.1621468124378816,\n          1.0,\n          0.3686116056100278\n        ],\n        \"semantic_type\": \"\",\n        \"description\": \"\"\n      }\n    },\n    {\n      \"column\": \"tiene_pareja\",\n      \"properties\": {\n        \"dtype\": \"number\",\n        \"std\": 2489.92591156319,\n        \"min\": 0.0,\n        \"max\": 7043.0,\n        \"num_unique_values\": 5,\n        \"samples\": [\n          0.4830327985233565,\n          1.0,\n          0.49974751072001705\n        ],\n        \"semantic_type\": \"\",\n        \"description\": \"\"\n      }\n    },\n    {\n      \"column\": \"tiene_dependientes\",\n      \"properties\": {\n        \"dtype\": \"number\",\n        \"std\": 2489.9372799481184,\n        \"min\": 0.0,\n        \"max\": 7043.0,\n        \"num_unique_values\": 5,\n        \"samples\": [\n          0.2995882436461735,\n          1.0,\n          0.4581101675100069\n        ],\n        \"semantic_type\": \"\",\n        \"description\": \"\"\n      }\n    },\n    {\n      \"column\": \"meses_contrato\",\n      \"properties\": {\n        \"dtype\": \"number\",\n        \"std\": 2478.9752758409018,\n        \"min\": 0.0,\n        \"max\": 7043.0,\n        \"num_unique_values\": 8,\n        \"samples\": [\n          32.37114865824223,\n          29.0,\n          7043.0\n        ],\n        \"semantic_type\": \"\",\n        \"description\": \"\"\n      }\n    },\n    {\n      \"column\": \"tiene_telefono\",\n      \"properties\": {\n        \"dtype\": \"number\",\n        \"std\": 2489.813974802202,\n        \"min\": 0.0,\n        \"max\": 7043.0,\n        \"num_unique_values\": 5,\n        \"samples\": [\n          0.9031662643759761,\n          1.0,\n          0.2957522317836505\n        ],\n        \"semantic_type\": \"\",\n        \"description\": \"\"\n      }\n    },\n    {\n      \"column\": \"tiene_varias_lineas\",\n      \"properties\": {\n        \"dtype\": \"number\",\n        \"std\": 2489.9292982254688,\n        \"min\": 0.0,\n        \"max\": 7043.0,\n        \"num_unique_values\": 5,\n        \"samples\": [\n          0.42183728524776376,\n          1.0,\n          0.49388786554558783\n        ],\n        \"semantic_type\": \"\",\n        \"description\": \"\"\n      }\n    },\n    {\n      \"column\": \"seguridad_online\",\n      \"properties\": {\n        \"dtype\": \"number\",\n        \"std\": 2489.9382292294003,\n        \"min\": 0.0,\n        \"max\": 7043.0,\n        \"num_unique_values\": 5,\n        \"samples\": [\n          0.2866676132329973,\n          1.0,\n          0.45223702997571236\n        ],\n        \"semantic_type\": \"\",\n        \"description\": \"\"\n      }\n    },\n    {\n      \"column\": \"respaldo_online\",\n      \"properties\": {\n        \"dtype\": \"number\",\n        \"std\": 2489.934120748317,\n        \"min\": 0.0,\n        \"max\": 7043.0,\n        \"num_unique_values\": 5,\n        \"samples\": [\n          0.3448814425670879,\n          1.0,\n          0.47536335315638006\n        ],\n        \"semantic_type\": \"\",\n        \"description\": \"\"\n      }\n    },\n    {\n      \"column\": \"proteccion_dispositivo\",\n      \"properties\": {\n        \"dtype\": \"number\",\n        \"std\": 2489.9341873908065,\n        \"min\": 0.0,\n        \"max\": 7043.0,\n        \"num_unique_values\": 5,\n        \"samples\": [\n          0.3438875479199205,\n          1.0,\n          0.47503783298082863\n        ],\n        \"semantic_type\": \"\",\n        \"description\": \"\"\n      }\n    },\n    {\n      \"column\": \"soporte_tecnico\",\n      \"properties\": {\n        \"dtype\": \"number\",\n        \"std\": 2489.9379662036467,\n        \"min\": 0.0,\n        \"max\": 7043.0,\n        \"num_unique_values\": 5,\n        \"samples\": [\n          0.2902172369728809,\n          1.0,\n          0.45389475006775565\n        ],\n        \"semantic_type\": \"\",\n        \"description\": \"\"\n      }\n    },\n    {\n      \"column\": \"tiene_tv\",\n      \"properties\": {\n        \"dtype\": \"number\",\n        \"std\": 2489.9315657719894,\n        \"min\": 0.0,\n        \"max\": 7043.0,\n        \"num_unique_values\": 5,\n        \"samples\": [\n          0.38435325855459324,\n          1.0,\n          0.48647654955896596\n        ],\n        \"semantic_type\": \"\",\n        \"description\": \"\"\n      }\n    },\n    {\n      \"column\": \"tiene_peliculas\",\n      \"properties\": {\n        \"dtype\": \"number\",\n        \"std\": 2489.93134455178,\n        \"min\": 0.0,\n        \"max\": 7043.0,\n        \"num_unique_values\": 5,\n        \"samples\": [\n          0.3879028822944768,\n          1.0,\n          0.487306836682434\n        ],\n        \"semantic_type\": \"\",\n        \"description\": \"\"\n      }\n    },\n    {\n      \"column\": \"factura_online\",\n      \"properties\": {\n        \"dtype\": \"number\",\n        \"std\": 2489.8703078652547,\n        \"min\": 0.0,\n        \"max\": 7043.0,\n        \"num_unique_values\": 5,\n        \"samples\": [\n          0.5922192247621753,\n          1.0,\n          0.491456924049444\n        ],\n        \"semantic_type\": \"\",\n        \"description\": \"\"\n      }\n    },\n    {\n      \"column\": \"cargo_mensual\",\n      \"properties\": {\n        \"dtype\": \"number\",\n        \"std\": 2468.7047672837775,\n        \"min\": 18.25,\n        \"max\": 7043.0,\n        \"num_unique_values\": 8,\n        \"samples\": [\n          64.76169246059918,\n          70.35,\n          7043.0\n        ],\n        \"semantic_type\": \"\",\n        \"description\": \"\"\n      }\n    },\n    {\n      \"column\": \"cargo_total\",\n      \"properties\": {\n        \"dtype\": \"number\",\n        \"std\": 3122.5732655623974,\n        \"min\": 0.0,\n        \"max\": 8684.8,\n        \"num_unique_values\": 8,\n        \"samples\": [\n          2279.7343035638223,\n          1394.55,\n          7043.0\n        ],\n        \"semantic_type\": \"\",\n        \"description\": \"\"\n      }\n    },\n    {\n      \"column\": \"abandono\",\n      \"properties\": {\n        \"dtype\": \"number\",\n        \"std\": 2489.939844235915,\n        \"min\": 0.0,\n        \"max\": 7043.0,\n        \"num_unique_values\": 5,\n        \"samples\": [\n          0.2653698707936959,\n          1.0,\n          0.4415613051219502\n        ],\n        \"semantic_type\": \"\",\n        \"description\": \"\"\n      }\n    }\n  ]\n}"
            }
          },
          "metadata": {},
          "execution_count": 598
        }
      ]
    },
    {
      "cell_type": "code",
      "source": [
        "datos.describe(include='O')"
      ],
      "metadata": {
        "colab": {
          "base_uri": "https://localhost:8080/",
          "height": 175
        },
        "id": "KczFUP1ZLD9f",
        "outputId": "934c18e5-56ff-4e5c-e5f6-dbc3af4825b2"
      },
      "execution_count": 599,
      "outputs": [
        {
          "output_type": "execute_result",
          "data": {
            "text/plain": [
              "       tipo_internet tipo_contrato         metodo_pago\n",
              "count           7043          7043                7043\n",
              "unique             3             3                   4\n",
              "top      Fiber optic       Mensual  Cheque_electrónico\n",
              "freq            3096          3875                2365"
            ],
            "text/html": [
              "\n",
              "  <div id=\"df-297176e3-5090-41e8-95a3-d6fadba41a09\" class=\"colab-df-container\">\n",
              "    <div>\n",
              "<style scoped>\n",
              "    .dataframe tbody tr th:only-of-type {\n",
              "        vertical-align: middle;\n",
              "    }\n",
              "\n",
              "    .dataframe tbody tr th {\n",
              "        vertical-align: top;\n",
              "    }\n",
              "\n",
              "    .dataframe thead th {\n",
              "        text-align: right;\n",
              "    }\n",
              "</style>\n",
              "<table border=\"1\" class=\"dataframe\">\n",
              "  <thead>\n",
              "    <tr style=\"text-align: right;\">\n",
              "      <th></th>\n",
              "      <th>tipo_internet</th>\n",
              "      <th>tipo_contrato</th>\n",
              "      <th>metodo_pago</th>\n",
              "    </tr>\n",
              "  </thead>\n",
              "  <tbody>\n",
              "    <tr>\n",
              "      <th>count</th>\n",
              "      <td>7043</td>\n",
              "      <td>7043</td>\n",
              "      <td>7043</td>\n",
              "    </tr>\n",
              "    <tr>\n",
              "      <th>unique</th>\n",
              "      <td>3</td>\n",
              "      <td>3</td>\n",
              "      <td>4</td>\n",
              "    </tr>\n",
              "    <tr>\n",
              "      <th>top</th>\n",
              "      <td>Fiber optic</td>\n",
              "      <td>Mensual</td>\n",
              "      <td>Cheque_electrónico</td>\n",
              "    </tr>\n",
              "    <tr>\n",
              "      <th>freq</th>\n",
              "      <td>3096</td>\n",
              "      <td>3875</td>\n",
              "      <td>2365</td>\n",
              "    </tr>\n",
              "  </tbody>\n",
              "</table>\n",
              "</div>\n",
              "    <div class=\"colab-df-buttons\">\n",
              "\n",
              "  <div class=\"colab-df-container\">\n",
              "    <button class=\"colab-df-convert\" onclick=\"convertToInteractive('df-297176e3-5090-41e8-95a3-d6fadba41a09')\"\n",
              "            title=\"Convert this dataframe to an interactive table.\"\n",
              "            style=\"display:none;\">\n",
              "\n",
              "  <svg xmlns=\"http://www.w3.org/2000/svg\" height=\"24px\" viewBox=\"0 -960 960 960\">\n",
              "    <path d=\"M120-120v-720h720v720H120Zm60-500h600v-160H180v160Zm220 220h160v-160H400v160Zm0 220h160v-160H400v160ZM180-400h160v-160H180v160Zm440 0h160v-160H620v160ZM180-180h160v-160H180v160Zm440 0h160v-160H620v160Z\"/>\n",
              "  </svg>\n",
              "    </button>\n",
              "\n",
              "  <style>\n",
              "    .colab-df-container {\n",
              "      display:flex;\n",
              "      gap: 12px;\n",
              "    }\n",
              "\n",
              "    .colab-df-convert {\n",
              "      background-color: #E8F0FE;\n",
              "      border: none;\n",
              "      border-radius: 50%;\n",
              "      cursor: pointer;\n",
              "      display: none;\n",
              "      fill: #1967D2;\n",
              "      height: 32px;\n",
              "      padding: 0 0 0 0;\n",
              "      width: 32px;\n",
              "    }\n",
              "\n",
              "    .colab-df-convert:hover {\n",
              "      background-color: #E2EBFA;\n",
              "      box-shadow: 0px 1px 2px rgba(60, 64, 67, 0.3), 0px 1px 3px 1px rgba(60, 64, 67, 0.15);\n",
              "      fill: #174EA6;\n",
              "    }\n",
              "\n",
              "    .colab-df-buttons div {\n",
              "      margin-bottom: 4px;\n",
              "    }\n",
              "\n",
              "    [theme=dark] .colab-df-convert {\n",
              "      background-color: #3B4455;\n",
              "      fill: #D2E3FC;\n",
              "    }\n",
              "\n",
              "    [theme=dark] .colab-df-convert:hover {\n",
              "      background-color: #434B5C;\n",
              "      box-shadow: 0px 1px 3px 1px rgba(0, 0, 0, 0.15);\n",
              "      filter: drop-shadow(0px 1px 2px rgba(0, 0, 0, 0.3));\n",
              "      fill: #FFFFFF;\n",
              "    }\n",
              "  </style>\n",
              "\n",
              "    <script>\n",
              "      const buttonEl =\n",
              "        document.querySelector('#df-297176e3-5090-41e8-95a3-d6fadba41a09 button.colab-df-convert');\n",
              "      buttonEl.style.display =\n",
              "        google.colab.kernel.accessAllowed ? 'block' : 'none';\n",
              "\n",
              "      async function convertToInteractive(key) {\n",
              "        const element = document.querySelector('#df-297176e3-5090-41e8-95a3-d6fadba41a09');\n",
              "        const dataTable =\n",
              "          await google.colab.kernel.invokeFunction('convertToInteractive',\n",
              "                                                    [key], {});\n",
              "        if (!dataTable) return;\n",
              "\n",
              "        const docLinkHtml = 'Like what you see? Visit the ' +\n",
              "          '<a target=\"_blank\" href=https://colab.research.google.com/notebooks/data_table.ipynb>data table notebook</a>'\n",
              "          + ' to learn more about interactive tables.';\n",
              "        element.innerHTML = '';\n",
              "        dataTable['output_type'] = 'display_data';\n",
              "        await google.colab.output.renderOutput(dataTable, element);\n",
              "        const docLink = document.createElement('div');\n",
              "        docLink.innerHTML = docLinkHtml;\n",
              "        element.appendChild(docLink);\n",
              "      }\n",
              "    </script>\n",
              "  </div>\n",
              "\n",
              "\n",
              "    <div id=\"df-729bdbed-578c-44e5-8c10-408f09aab0ef\">\n",
              "      <button class=\"colab-df-quickchart\" onclick=\"quickchart('df-729bdbed-578c-44e5-8c10-408f09aab0ef')\"\n",
              "                title=\"Suggest charts\"\n",
              "                style=\"display:none;\">\n",
              "\n",
              "<svg xmlns=\"http://www.w3.org/2000/svg\" height=\"24px\"viewBox=\"0 0 24 24\"\n",
              "     width=\"24px\">\n",
              "    <g>\n",
              "        <path d=\"M19 3H5c-1.1 0-2 .9-2 2v14c0 1.1.9 2 2 2h14c1.1 0 2-.9 2-2V5c0-1.1-.9-2-2-2zM9 17H7v-7h2v7zm4 0h-2V7h2v10zm4 0h-2v-4h2v4z\"/>\n",
              "    </g>\n",
              "</svg>\n",
              "      </button>\n",
              "\n",
              "<style>\n",
              "  .colab-df-quickchart {\n",
              "      --bg-color: #E8F0FE;\n",
              "      --fill-color: #1967D2;\n",
              "      --hover-bg-color: #E2EBFA;\n",
              "      --hover-fill-color: #174EA6;\n",
              "      --disabled-fill-color: #AAA;\n",
              "      --disabled-bg-color: #DDD;\n",
              "  }\n",
              "\n",
              "  [theme=dark] .colab-df-quickchart {\n",
              "      --bg-color: #3B4455;\n",
              "      --fill-color: #D2E3FC;\n",
              "      --hover-bg-color: #434B5C;\n",
              "      --hover-fill-color: #FFFFFF;\n",
              "      --disabled-bg-color: #3B4455;\n",
              "      --disabled-fill-color: #666;\n",
              "  }\n",
              "\n",
              "  .colab-df-quickchart {\n",
              "    background-color: var(--bg-color);\n",
              "    border: none;\n",
              "    border-radius: 50%;\n",
              "    cursor: pointer;\n",
              "    display: none;\n",
              "    fill: var(--fill-color);\n",
              "    height: 32px;\n",
              "    padding: 0;\n",
              "    width: 32px;\n",
              "  }\n",
              "\n",
              "  .colab-df-quickchart:hover {\n",
              "    background-color: var(--hover-bg-color);\n",
              "    box-shadow: 0 1px 2px rgba(60, 64, 67, 0.3), 0 1px 3px 1px rgba(60, 64, 67, 0.15);\n",
              "    fill: var(--button-hover-fill-color);\n",
              "  }\n",
              "\n",
              "  .colab-df-quickchart-complete:disabled,\n",
              "  .colab-df-quickchart-complete:disabled:hover {\n",
              "    background-color: var(--disabled-bg-color);\n",
              "    fill: var(--disabled-fill-color);\n",
              "    box-shadow: none;\n",
              "  }\n",
              "\n",
              "  .colab-df-spinner {\n",
              "    border: 2px solid var(--fill-color);\n",
              "    border-color: transparent;\n",
              "    border-bottom-color: var(--fill-color);\n",
              "    animation:\n",
              "      spin 1s steps(1) infinite;\n",
              "  }\n",
              "\n",
              "  @keyframes spin {\n",
              "    0% {\n",
              "      border-color: transparent;\n",
              "      border-bottom-color: var(--fill-color);\n",
              "      border-left-color: var(--fill-color);\n",
              "    }\n",
              "    20% {\n",
              "      border-color: transparent;\n",
              "      border-left-color: var(--fill-color);\n",
              "      border-top-color: var(--fill-color);\n",
              "    }\n",
              "    30% {\n",
              "      border-color: transparent;\n",
              "      border-left-color: var(--fill-color);\n",
              "      border-top-color: var(--fill-color);\n",
              "      border-right-color: var(--fill-color);\n",
              "    }\n",
              "    40% {\n",
              "      border-color: transparent;\n",
              "      border-right-color: var(--fill-color);\n",
              "      border-top-color: var(--fill-color);\n",
              "    }\n",
              "    60% {\n",
              "      border-color: transparent;\n",
              "      border-right-color: var(--fill-color);\n",
              "    }\n",
              "    80% {\n",
              "      border-color: transparent;\n",
              "      border-right-color: var(--fill-color);\n",
              "      border-bottom-color: var(--fill-color);\n",
              "    }\n",
              "    90% {\n",
              "      border-color: transparent;\n",
              "      border-bottom-color: var(--fill-color);\n",
              "    }\n",
              "  }\n",
              "</style>\n",
              "\n",
              "      <script>\n",
              "        async function quickchart(key) {\n",
              "          const quickchartButtonEl =\n",
              "            document.querySelector('#' + key + ' button');\n",
              "          quickchartButtonEl.disabled = true;  // To prevent multiple clicks.\n",
              "          quickchartButtonEl.classList.add('colab-df-spinner');\n",
              "          try {\n",
              "            const charts = await google.colab.kernel.invokeFunction(\n",
              "                'suggestCharts', [key], {});\n",
              "          } catch (error) {\n",
              "            console.error('Error during call to suggestCharts:', error);\n",
              "          }\n",
              "          quickchartButtonEl.classList.remove('colab-df-spinner');\n",
              "          quickchartButtonEl.classList.add('colab-df-quickchart-complete');\n",
              "        }\n",
              "        (() => {\n",
              "          let quickchartButtonEl =\n",
              "            document.querySelector('#df-729bdbed-578c-44e5-8c10-408f09aab0ef button');\n",
              "          quickchartButtonEl.style.display =\n",
              "            google.colab.kernel.accessAllowed ? 'block' : 'none';\n",
              "        })();\n",
              "      </script>\n",
              "    </div>\n",
              "\n",
              "    </div>\n",
              "  </div>\n"
            ],
            "application/vnd.google.colaboratory.intrinsic+json": {
              "type": "dataframe",
              "summary": "{\n  \"name\": \"datos\",\n  \"rows\": 4,\n  \"fields\": [\n    {\n      \"column\": \"tipo_internet\",\n      \"properties\": {\n        \"dtype\": \"string\",\n        \"num_unique_values\": 4,\n        \"samples\": [\n          3,\n          \"3096\",\n          \"7043\"\n        ],\n        \"semantic_type\": \"\",\n        \"description\": \"\"\n      }\n    },\n    {\n      \"column\": \"tipo_contrato\",\n      \"properties\": {\n        \"dtype\": \"string\",\n        \"num_unique_values\": 4,\n        \"samples\": [\n          3,\n          \"3875\",\n          \"7043\"\n        ],\n        \"semantic_type\": \"\",\n        \"description\": \"\"\n      }\n    },\n    {\n      \"column\": \"metodo_pago\",\n      \"properties\": {\n        \"dtype\": \"string\",\n        \"num_unique_values\": 4,\n        \"samples\": [\n          4,\n          \"2365\",\n          \"7043\"\n        ],\n        \"semantic_type\": \"\",\n        \"description\": \"\"\n      }\n    }\n  ]\n}"
            }
          },
          "metadata": {},
          "execution_count": 599
        }
      ]
    },
    {
      "cell_type": "code",
      "source": [
        "px.histogram(datos, x = 'abandono', text_auto = True)"
      ],
      "metadata": {
        "colab": {
          "base_uri": "https://localhost:8080/",
          "height": 542
        },
        "id": "OKOZ7IbLFvqp",
        "outputId": "4e4d8519-2352-4c8f-fdde-d6aab1696477"
      },
      "execution_count": 600,
      "outputs": [
        {
          "output_type": "display_data",
          "data": {
            "text/html": [
              "<html>\n",
              "<head><meta charset=\"utf-8\" /></head>\n",
              "<body>\n",
              "    <div>            <script src=\"https://cdnjs.cloudflare.com/ajax/libs/mathjax/2.7.5/MathJax.js?config=TeX-AMS-MML_SVG\"></script><script type=\"text/javascript\">if (window.MathJax && window.MathJax.Hub && window.MathJax.Hub.Config) {window.MathJax.Hub.Config({SVG: {font: \"STIX-Web\"}});}</script>                <script type=\"text/javascript\">window.PlotlyConfig = {MathJaxConfig: 'local'};</script>\n",
              "        <script charset=\"utf-8\" src=\"https://cdn.plot.ly/plotly-2.35.2.min.js\"></script>                <div id=\"91b771ca-6ac0-4a6c-9cf5-8f111666b4d5\" class=\"plotly-graph-div\" style=\"height:525px; width:100%;\"></div>            <script type=\"text/javascript\">                                    window.PLOTLYENV=window.PLOTLYENV || {};                                    if (document.getElementById(\"91b771ca-6ac0-4a6c-9cf5-8f111666b4d5\")) {                    Plotly.newPlot(                        \"91b771ca-6ac0-4a6c-9cf5-8f111666b4d5\",                        [{\"alignmentgroup\":\"True\",\"bingroup\":\"x\",\"hovertemplate\":\"abandono=%{x}\\u003cbr\\u003ecount=%{y}\\u003cextra\\u003e\\u003c\\u002fextra\\u003e\",\"legendgroup\":\"\",\"marker\":{\"color\":\"#636efa\",\"pattern\":{\"shape\":\"\"}},\"name\":\"\",\"offsetgroup\":\"\",\"orientation\":\"v\",\"showlegend\":false,\"texttemplate\":\"%{value}\",\"x\":[0,0,1,1,1,0,0,0,0,0,0,0,0,0,0,0,0,0,1,1,0,1,0,0,1,1,0,0,0,0,0,0,0,0,0,0,0,0,0,0,1,0,0,0,0,0,0,0,0,0,0,0,0,1,1,0,0,0,0,0,0,0,0,1,1,0,0,1,0,0,0,1,1,0,0,1,0,1,0,0,0,0,1,0,1,0,1,1,0,0,0,0,1,1,1,0,0,0,0,0,0,0,0,0,0,0,0,0,0,1,1,0,1,0,0,1,1,0,0,1,0,0,0,0,0,0,1,1,0,0,0,1,0,0,0,0,0,0,0,1,0,0,1,1,0,0,0,0,0,0,0,0,0,0,0,1,0,1,0,1,1,0,0,1,0,0,0,1,0,0,0,0,0,1,1,0,0,0,0,0,1,0,0,0,0,0,1,0,0,0,1,0,0,0,1,0,0,0,1,0,0,1,0,0,0,1,1,1,0,1,1,0,0,1,1,0,1,1,0,0,0,1,0,1,0,0,1,0,1,0,0,0,0,0,1,1,0,0,0,0,0,0,0,0,0,0,1,0,1,0,0,1,1,1,0,0,0,0,0,0,0,1,1,0,0,0,0,0,1,0,0,1,0,0,1,1,1,0,0,0,0,1,0,1,0,0,0,0,0,1,0,0,0,1,0,0,0,0,0,0,0,0,0,0,1,0,0,0,0,0,0,1,0,0,0,0,0,0,1,1,0,0,0,0,0,0,0,1,0,0,0,0,1,0,0,1,1,0,1,0,1,0,0,0,1,0,0,1,0,0,0,1,1,0,1,1,0,1,0,1,0,0,0,1,0,0,0,0,0,0,0,0,0,0,0,0,0,0,0,1,0,1,0,0,0,1,0,0,0,1,0,1,0,0,0,0,0,0,1,0,0,1,0,1,0,0,0,0,1,0,0,1,1,0,1,1,1,1,0,0,0,0,0,0,0,1,0,0,1,0,0,1,1,0,1,1,1,1,0,0,1,0,0,1,0,1,0,0,0,0,0,1,0,0,0,0,0,0,0,0,0,0,0,0,1,0,1,0,1,1,1,0,1,0,1,1,0,0,1,0,0,0,1,0,0,0,0,1,0,1,0,1,1,0,0,0,1,0,1,0,0,0,0,1,0,0,0,1,1,0,0,0,0,1,1,0,0,0,0,1,0,0,1,0,0,0,1,0,0,1,0,1,0,0,0,1,0,0,0,0,0,0,0,0,0,0,1,0,0,0,1,0,0,0,0,1,0,1,0,1,0,0,0,0,0,0,0,0,1,0,0,0,0,1,0,1,0,0,0,0,0,0,0,0,0,0,0,1,0,1,0,0,1,0,1,0,0,1,1,1,1,0,1,1,0,1,1,0,1,0,0,0,1,0,0,0,0,0,0,0,0,0,0,0,0,1,0,1,0,1,0,1,0,0,0,0,0,0,0,0,0,1,1,0,0,0,1,0,1,1,1,0,0,0,0,0,0,0,0,1,0,1,0,1,0,0,0,0,0,0,1,0,0,0,0,0,1,0,0,0,1,0,1,1,0,0,0,0,0,0,0,0,1,0,1,0,0,0,1,1,0,0,0,0,1,1,0,0,1,0,0,0,0,0,0,0,0,0,0,0,1,0,0,1,0,1,0,0,0,1,0,0,0,0,1,0,1,0,1,0,0,0,0,0,0,0,1,0,0,0,1,0,0,0,0,0,0,0,0,0,0,0,0,0,1,1,1,0,0,1,0,1,0,0,0,0,0,0,0,0,0,0,0,0,0,0,1,1,0,1,0,0,0,1,0,0,0,0,0,0,0,0,0,0,0,0,0,0,0,0,0,0,1,0,1,0,0,0,1,1,0,0,0,1,0,0,1,0,0,0,1,0,0,0,0,0,0,1,0,0,0,0,0,0,0,1,0,1,0,0,0,0,1,0,0,1,0,0,0,0,0,1,0,1,0,0,1,0,1,1,0,0,0,1,0,0,1,0,0,1,0,0,1,0,1,0,0,0,0,0,0,0,0,0,0,0,1,0,0,0,0,1,0,0,0,0,1,0,1,1,1,0,0,0,0,1,0,0,0,0,0,0,0,1,1,0,0,0,0,0,1,0,0,0,0,0,0,0,0,0,0,0,0,1,0,0,0,0,1,1,0,0,1,0,0,0,1,0,0,0,0,0,0,1,0,0,0,1,0,0,0,0,0,0,0,0,0,0,1,0,0,0,0,1,0,0,0,0,0,1,0,0,0,0,1,1,1,0,1,1,1,1,0,0,0,0,0,1,0,1,0,0,0,0,1,0,0,0,0,0,0,0,0,0,0,0,1,0,0,0,0,0,0,1,0,1,0,0,1,1,0,0,1,0,1,1,0,1,0,0,0,0,0,0,1,0,0,0,0,0,0,0,1,0,0,0,1,0,0,0,0,0,0,1,1,1,0,0,1,1,0,0,0,0,1,1,0,1,1,1,1,1,0,1,0,1,0,1,1,0,0,0,1,0,1,0,1,0,0,0,1,1,1,1,1,0,0,0,0,0,0,0,0,0,0,0,1,0,0,1,0,0,1,0,0,0,0,1,0,1,0,0,0,0,0,0,0,1,0,0,0,0,0,0,0,1,0,0,0,0,1,0,0,0,0,0,0,0,1,1,0,1,1,0,0,0,0,0,1,0,1,0,0,1,0,0,0,1,0,0,0,0,0,0,0,1,0,0,0,0,0,0,0,1,0,1,0,0,0,0,0,0,0,0,0,1,1,0,0,0,1,0,0,0,0,0,0,0,0,0,1,0,0,0,0,0,1,0,0,0,0,0,0,0,1,0,0,0,1,0,0,0,0,0,0,1,0,0,0,1,0,0,0,1,0,1,0,1,0,1,0,1,0,1,1,0,0,0,0,1,1,0,0,1,0,0,1,0,1,0,0,0,0,1,0,0,0,0,0,0,0,0,0,1,0,0,0,0,0,0,0,0,0,0,0,0,0,0,0,1,1,0,1,1,0,0,0,0,1,1,1,1,0,1,0,0,0,0,1,0,0,0,0,0,0,0,1,1,1,0,0,1,1,1,0,0,0,0,0,0,1,1,1,0,0,1,1,0,0,1,1,1,1,0,0,0,0,0,0,0,0,0,0,0,0,0,0,0,1,0,0,0,1,1,0,0,0,0,1,0,0,0,1,0,0,0,0,0,1,0,0,0,0,0,1,1,0,0,0,0,0,1,1,0,0,1,0,0,0,0,0,1,1,0,1,1,0,0,0,0,0,0,0,0,0,0,1,0,0,0,1,0,0,0,0,0,1,0,1,1,0,1,0,0,0,0,1,0,0,0,0,0,0,0,1,0,0,0,1,0,0,1,1,0,0,0,0,0,0,0,1,0,0,1,0,0,0,1,1,1,0,0,0,0,0,0,0,0,0,0,1,0,0,1,1,0,0,0,0,0,0,1,0,0,0,0,0,0,1,0,1,0,0,1,0,0,0,0,1,0,0,0,0,0,0,0,0,0,0,1,0,0,1,0,0,0,0,0,0,1,0,0,0,0,0,1,0,0,0,0,0,0,0,0,0,0,0,0,0,1,0,0,0,0,0,1,1,0,0,1,0,0,0,1,0,0,0,0,0,0,1,0,1,0,0,0,0,0,1,0,0,0,0,0,0,0,1,0,1,1,0,0,0,1,0,0,0,0,1,0,0,0,1,0,0,0,0,1,0,0,1,0,1,0,0,0,0,1,0,1,1,0,0,0,1,0,0,0,1,1,0,0,0,0,0,0,0,0,1,0,1,0,0,0,0,1,1,0,0,0,0,0,0,0,1,0,0,1,0,1,0,0,0,0,0,1,1,0,0,0,0,1,0,0,0,0,1,0,1,1,0,1,0,0,0,0,0,0,1,1,0,0,0,0,1,1,0,0,1,0,0,0,0,0,0,0,0,1,1,0,1,0,0,0,0,0,0,0,0,0,0,0,0,0,0,1,1,1,0,0,1,0,0,0,0,0,0,0,0,0,0,0,0,0,1,0,0,0,0,0,0,0,0,1,0,0,1,1,0,1,1,0,0,0,1,0,0,0,1,0,0,0,1,1,1,1,0,0,0,0,1,1,0,1,0,0,0,0,1,1,1,0,1,1,0,0,0,0,1,0,0,0,1,1,0,0,0,0,0,0,0,0,0,0,0,0,0,0,1,0,1,1,0,0,1,0,0,0,0,0,1,0,0,0,0,0,0,0,0,0,0,1,0,1,0,1,1,1,0,0,1,0,0,0,0,1,1,0,0,0,0,0,1,0,0,0,0,1,1,0,1,0,0,0,0,1,0,1,1,0,0,0,0,0,0,0,0,0,0,1,0,0,0,0,0,0,0,0,0,0,0,0,0,0,0,1,0,0,0,0,1,0,1,0,0,0,0,0,0,0,0,0,0,0,0,0,1,0,1,1,1,1,0,1,0,1,1,0,0,0,0,0,1,1,0,1,1,0,0,0,1,0,1,0,1,1,1,1,0,0,1,0,0,0,0,0,0,0,1,0,1,0,0,1,0,0,1,0,0,1,0,0,0,0,0,0,0,0,0,1,0,0,1,0,0,0,0,0,0,0,0,0,0,1,1,1,0,0,0,0,1,0,0,0,1,1,1,0,1,1,1,0,1,0,0,0,1,0,0,1,0,1,0,0,0,0,0,0,0,0,1,1,1,1,0,1,0,0,0,0,0,0,0,0,1,0,0,1,0,0,0,1,0,0,0,1,0,1,0,1,0,0,0,0,1,0,0,1,0,0,1,0,1,0,1,0,0,0,0,1,1,1,0,0,0,0,0,0,1,0,0,0,0,1,1,0,1,0,0,1,0,0,0,1,0,0,0,0,0,0,0,1,0,0,0,1,0,0,1,1,0,0,1,1,0,0,0,0,1,1,0,0,1,1,0,0,0,0,0,0,0,0,0,0,0,0,1,0,0,0,0,1,1,1,1,0,0,0,0,1,0,0,0,1,0,0,0,0,0,1,0,1,0,0,0,0,0,0,0,0,1,0,1,0,0,0,0,1,0,0,1,0,0,1,1,0,0,0,0,1,0,0,0,0,1,1,0,0,1,0,0,0,1,0,0,0,1,0,0,0,0,0,1,0,1,1,0,0,0,1,0,1,0,1,0,0,1,0,0,0,0,0,1,0,0,0,0,0,1,0,0,0,1,0,0,0,0,0,0,0,1,0,0,1,0,0,0,0,0,0,0,0,0,1,0,1,0,1,0,0,0,1,1,0,0,0,1,0,1,1,1,1,0,0,0,0,0,1,0,1,0,0,1,0,0,0,0,0,0,0,0,0,0,1,0,0,1,0,0,1,0,0,0,1,0,1,0,0,1,0,0,1,0,1,0,1,0,0,0,0,0,0,0,0,0,0,0,1,0,1,0,0,0,1,0,0,1,1,0,0,1,0,0,1,0,0,1,0,0,0,0,0,0,0,0,0,0,0,0,0,0,0,0,0,0,0,0,0,1,0,0,0,0,0,0,0,1,0,0,1,0,0,0,1,0,1,0,0,0,0,0,0,0,1,0,0,1,0,0,0,1,0,0,1,0,0,0,0,0,0,1,0,0,1,1,0,0,0,0,0,0,1,0,1,0,0,0,0,1,0,0,0,0,0,0,0,0,0,1,0,0,0,0,0,1,1,0,0,1,0,0,0,0,0,0,0,0,1,0,0,0,0,0,1,0,0,0,0,0,1,0,0,1,1,0,0,0,0,0,0,0,0,0,0,1,0,0,1,0,0,0,1,0,0,0,0,0,1,0,1,0,0,1,0,1,1,1,0,1,1,0,0,1,1,0,0,0,0,1,1,0,0,0,0,0,0,0,0,0,0,1,0,1,0,1,1,0,0,1,0,0,1,0,0,0,0,0,0,0,0,1,0,0,1,0,0,0,0,0,0,0,1,0,0,0,0,0,1,0,0,0,0,1,0,1,0,1,0,0,1,0,1,1,1,0,1,0,0,1,0,1,0,1,0,0,0,0,1,0,0,0,0,0,0,0,0,0,1,1,0,0,0,0,0,1,0,1,0,1,1,1,1,0,0,0,0,0,0,1,0,0,1,1,0,0,0,1,0,1,0,0,1,0,0,0,0,0,0,0,1,0,1,1,0,0,0,0,0,1,1,0,1,0,0,1,1,0,0,1,0,1,0,0,0,0,1,0,0,0,0,0,0,1,1,0,0,1,0,0,0,0,0,0,0,0,0,1,1,0,1,0,1,0,0,1,0,0,0,0,1,1,0,1,0,0,1,0,0,0,0,0,0,1,0,0,0,0,0,0,0,0,0,0,1,0,0,0,0,0,0,0,1,0,0,1,1,1,0,0,1,0,0,0,0,0,0,0,0,1,0,0,0,0,0,1,1,0,0,0,0,1,0,0,0,0,1,0,1,0,0,0,0,0,0,0,0,0,0,0,0,0,0,0,1,0,0,1,0,1,0,0,0,0,1,1,0,1,0,0,1,1,0,0,0,1,0,0,0,1,0,1,0,1,0,1,0,0,0,0,0,1,0,0,0,0,0,1,0,0,0,0,0,0,0,0,0,0,0,0,1,1,1,1,1,1,0,1,0,1,0,0,0,1,0,0,0,0,0,0,1,1,0,0,1,0,0,0,1,0,1,0,1,0,0,0,0,1,0,0,1,0,1,1,1,0,0,0,0,0,0,1,1,0,0,0,0,1,0,1,0,0,1,1,1,0,1,0,1,0,0,0,0,1,0,1,0,0,0,0,1,1,0,1,1,1,0,0,0,0,0,0,0,0,0,0,0,0,0,0,1,0,0,0,0,0,1,0,1,0,0,1,0,0,1,0,0,1,0,0,0,0,0,0,0,1,0,0,1,0,1,0,0,1,0,0,0,1,0,1,0,0,0,0,1,0,1,0,0,0,0,0,0,0,1,0,0,1,0,1,0,0,0,0,0,0,1,0,0,1,1,1,0,0,0,0,0,1,1,0,0,1,0,0,1,1,1,0,1,0,0,0,1,0,0,0,0,0,0,0,0,0,0,0,1,0,0,0,1,0,0,0,0,0,0,0,0,1,1,0,0,0,1,1,0,0,1,0,0,1,0,1,0,1,1,1,0,1,0,0,0,0,0,1,0,0,0,0,0,1,0,0,0,0,0,0,0,1,0,0,0,1,1,1,0,1,1,0,1,0,1,0,0,0,0,1,0,1,0,0,0,0,1,0,1,0,1,0,1,0,0,1,1,1,1,0,1,1,1,1,0,1,1,0,0,0,0,1,1,0,0,0,0,0,0,1,0,0,1,0,0,1,1,1,1,0,0,0,0,0,0,0,1,0,1,0,0,0,0,0,0,0,1,0,0,0,0,0,0,1,1,0,0,1,0,1,0,0,1,0,0,0,0,0,0,1,0,0,0,0,0,0,0,1,0,0,0,0,1,1,0,0,0,1,0,1,0,1,0,1,1,0,0,0,0,1,0,0,0,1,0,0,0,0,0,0,0,1,0,0,0,0,1,0,0,1,0,0,0,0,0,0,1,0,0,1,0,1,0,0,0,1,0,1,1,1,0,0,0,0,0,0,0,0,0,0,0,1,1,1,1,1,0,0,1,0,1,1,0,0,1,0,0,0,1,1,0,0,0,0,0,0,0,1,1,0,0,1,1,1,1,0,0,0,0,1,1,1,0,0,0,0,0,1,0,0,0,0,1,0,0,1,0,0,0,0,0,0,0,1,1,1,0,0,0,0,1,0,0,1,0,0,0,0,0,1,0,0,1,1,0,0,0,0,0,0,1,0,0,0,0,0,1,0,1,0,1,0,1,0,1,1,0,0,0,1,1,1,0,1,0,0,1,1,1,0,0,1,0,0,1,0,0,0,0,0,0,0,0,0,0,0,1,0,0,0,0,1,1,0,0,0,0,1,1,1,0,0,1,0,0,0,0,0,0,0,0,0,0,1,0,0,0,0,0,0,0,0,0,0,0,0,0,1,0,0,1,0,0,0,0,0,0,1,0,0,0,1,1,0,1,1,0,0,0,0,0,0,0,0,0,0,1,1,0,1,1,0,0,0,1,0,0,0,0,0,0,0,0,0,0,0,1,0,0,0,1,0,0,1,0,1,0,0,0,0,1,0,1,1,1,0,0,0,0,0,0,0,0,0,0,0,0,0,0,0,0,1,0,0,0,0,1,0,0,0,1,0,1,0,0,1,1,0,0,0,0,0,0,0,0,0,0,0,0,0,0,1,0,0,0,1,0,0,0,1,1,0,0,0,0,0,0,0,0,0,1,1,0,0,0,0,0,1,1,0,0,0,0,0,1,0,1,0,0,1,0,0,0,0,0,0,0,0,0,0,1,0,0,1,0,0,0,0,1,0,0,0,0,0,1,0,0,0,0,0,0,1,0,1,0,0,0,1,1,0,0,1,0,0,1,0,0,0,0,0,0,0,1,0,0,0,0,1,0,0,1,1,1,0,1,0,0,1,0,1,1,0,0,1,0,0,0,0,1,1,1,0,0,0,1,0,0,0,0,0,0,0,0,0,0,1,0,0,0,0,0,0,0,0,0,0,0,0,0,0,0,0,0,0,0,0,0,0,0,1,0,0,0,0,1,1,0,0,1,1,0,1,0,0,0,0,1,0,1,0,0,1,1,1,0,0,0,1,0,1,0,0,1,0,0,1,0,1,0,0,0,0,0,0,0,0,0,1,0,1,1,0,0,0,0,0,0,1,0,0,0,0,1,1,0,0,1,1,0,0,0,0,1,0,0,0,0,0,0,1,0,0,0,1,0,0,0,0,0,1,1,0,0,1,1,0,0,1,1,1,0,0,0,1,0,0,1,0,0,1,0,0,1,1,0,1,0,1,1,0,0,0,0,0,0,0,1,1,0,0,1,0,0,0,0,0,0,0,1,1,0,0,1,0,0,1,1,0,0,1,0,0,1,1,1,1,0,0,0,1,0,0,1,1,1,0,0,1,0,0,0,0,0,0,0,0,1,0,0,1,0,0,0,1,0,0,0,0,0,0,0,0,0,0,0,1,0,0,1,0,1,1,1,0,0,0,0,0,0,1,0,0,0,0,0,0,1,0,0,1,1,0,0,0,0,0,1,0,1,1,1,0,0,0,0,0,1,0,1,0,0,0,0,0,0,0,1,0,1,0,0,1,0,0,0,0,0,0,1,0,0,0,0,0,0,0,1,1,0,0,0,0,1,0,0,0,0,0,1,1,0,0,0,0,0,0,0,0,0,0,0,0,0,0,0,0,1,0,0,0,0,0,1,0,0,1,0,0,0,0,0,0,0,0,1,0,0,0,0,1,1,1,0,0,0,1,0,0,0,0,0,0,0,0,0,0,0,0,0,0,0,0,0,0,1,0,1,0,0,1,1,0,0,0,0,1,0,1,0,0,1,1,0,0,0,1,0,0,1,0,0,0,1,0,1,1,0,1,0,0,0,0,0,0,0,0,1,0,0,1,1,0,0,0,0,1,0,0,0,0,0,0,1,1,0,0,0,0,1,0,1,0,0,0,0,1,1,0,1,0,1,0,0,0,0,0,0,0,0,0,1,0,0,1,1,0,0,0,0,0,0,0,0,0,0,0,0,0,1,0,0,0,0,0,0,0,1,0,1,0,1,0,0,0,0,1,0,0,1,0,1,0,1,0,0,1,0,1,1,0,1,0,0,0,1,0,0,1,0,0,0,0,0,0,1,0,0,0,0,0,0,0,0,0,0,0,0,0,0,0,1,1,0,0,0,0,0,1,0,1,1,0,0,0,1,1,0,0,0,0,0,0,0,1,0,0,0,1,0,0,1,0,0,0,0,0,0,0,0,0,0,1,1,1,0,0,0,0,0,1,0,0,1,0,0,1,0,1,0,0,0,0,1,0,1,0,0,0,0,1,1,0,0,0,0,0,0,0,0,0,0,0,0,0,0,0,0,1,1,1,0,0,0,1,0,0,0,0,1,0,0,1,0,0,1,0,0,0,0,1,1,0,0,0,0,0,0,0,0,0,0,0,0,0,0,0,0,0,0,0,1,0,0,0,0,1,1,0,0,0,1,0,0,0,0,0,0,1,0,0,0,0,1,0,1,0,1,1,0,1,1,1,1,0,0,0,1,1,1,1,1,1,0,0,1,0,0,0,0,0,0,0,0,0,0,1,1,0,0,0,0,0,1,0,1,0,1,0,0,0,1,0,1,0,0,0,0,0,1,0,0,1,0,0,1,0,0,0,1,0,1,1,0,1,1,1,0,0,1,0,0,0,0,1,1,0,1,0,0,0,0,0,1,0,1,0,0,1,0,0,0,0,1,1,0,0,0,0,0,0,1,1,0,0,0,0,0,0,0,1,0,0,0,1,0,0,0,0,0,0,0,0,0,0,1,0,0,0,0,0,0,1,0,0,1,0,1,0,0,0,0,0,0,0,0,1,0,0,1,0,0,0,1,0,0,0,1,0,0,0,0,1,0,1,0,0,0,0,0,0,0,0,0,1,0,0,0,0,1,0,0,0,0,0,0,0,0,1,0,0,0,1,0,0,0,0,0,0,1,1,0,1,1,0,1,0,0,0,1,0,0,0,0,0,1,1,0,0,1,0,0,0,0,0,0,0,0,0,0,1,0,0,0,1,0,0,1,0,1,0,0,1,1,0,0,0,0,1,0,0,1,0,0,0,0,0,1,0,1,0,0,0,0,1,1,0,1,0,1,0,0,1,1,1,1,0,0,1,0,0,0,0,0,0,0,0,0,1,0,0,0,0,1,1,1,0,1,0,0,0,0,0,0,0,0,0,0,0,0,0,0,0,0,0,0,0,0,0,0,0,0,0,0,0,0,0,0,0,0,0,0,0,0,0,0,1,1,0,1,1,1,0,0,1,1,0,0,0,0,0,0,0,0,1,0,1,0,0,0,0,0,0,0,0,1,1,0,0,1,0,0,0,1,0,0,0,0,1,0,0,1,0,0,0,1,1,0,0,0,0,0,1,0,0,0,1,1,0,0,0,0,0,0,0,0,0,1,1,1,0,0,0,0,0,0,1,1,0,1,0,0,0,0,0,1,1,0,0,0,1,1,0,0,0,1,0,1,0,0,0,0,0,0,0,0,0,1,0,0,0,1,0,0,0,0,0,1,0,1,0,0,0,0,1,0,1,1,0,1,0,0,0,0,0,0,0,0,0,0,0,0,1,0,0,0,1,1,0,1,0,1,0,1,0,1,0,0,0,0,0,1,0,0,1,1,0,0,0,0,0,0,0,0,0,1,0,0,0,0,0,0,0,1,0,0,0,1,0,1,0,0,0,0,0,0,0,0,0,0,0,0,0,0,0,1,0,0,1,1,0,0,0,1,1,0,0,1,0,0,0,0,1,0,0,1,0,1,0,0,0,0,0,0,0,0,0,0,0,0,0,0,0,0,0,1,0,0,0,1,0,1,0,0,0,0,0,0,1,0,0,1,0,0,0,1,0,1,0,0,0,1,0,0,0,0,0,1,1,0,0,0,0,0,0,0,0,0,0,0,0,0,0,0,1,1,0,0,0,0,0,0,0,0,1,0,0,1,0,1,0,1,1,0,0,1,0,0,0,1,0,0,0,0,1,0,1,1,1,1,0,0,1,0,0,0,0,0,0,0,1,1,1,0,0,0,1,1,0,0,0,0,0,0,1,0,0,1,0,1,0,0,0,1,0,0,0,0,0,0,1,1,0,0,0,0,0,0,0,0,0,0,0,1,0,1,0,0,0,0,1,0,0,0,0,0,0,0,1,0,0,0,0,0,1,0,0,0,0,0,0,0,0,0,1,1,0,0,0,0,0,0,1,0,1,0,1,0,0,1,0,1,0,0,0,0,0,0,0,0,0,0,0,0,0,0,1,1,0,1,0,0,0,0,0,0,0,0,1,0,0,0,0,0,0,0,0,1,0,0,1,0,0,0,0,0,1,0,0,0,0,1,1,0,1,0,1,1,0,0,1,1,0,0,0,0,0,1,1,0,0,0,1,0,1,0,0,0,1,0,0,0,0,0,1,0,0,0,1,0,1,0,0,1,1,0,0,1,1,1,0,1,1,0,0,0,0,0,0,1,0,1,0,0,0,1,0,0,1,0,0,0,1,0,0,1,1,0,0,0,1,0,1,1,0,1,0,1,0,0,0,1,1,0,0,0,0,0,0,1,0,0,0,0,0,0,0,0,0,1,1,1,0,1,0,0,0,0,0,1,1,1,0,0,1,0,0,0,0,0,0,0,1,0,0,1,1,0,0,0,0,0,0,0,1,0,1,0,0,1,0,0,0,1,0,1,0,0,0,0,0,0,0,1,0,0,1,0,0,0,0,0,1,0,1,0,0,0,0,1,0,0,0,0,0,0,0,1,0,0,0,0,1,0,0,0,0,0,0,1,0,1,1,0,0,0,1,0,0,0,0,1,0,0,0,1,1,0,1,0,0,0,1,0,0,1,0,1,0,1,0,1,0,0,1,0,1,0,0,0,0,0,0,0,0,0,0,0,1,0,0,0,1,0,0,0,0,0,1,0,0,0,0,0,1,1,0,1,0,0,0,1,0,1,1,0,0,1,1,0,1,0,0,1,1,1,0,0,0,0,0,1,0,0,0,0,0,0,0,0,0,0,0,0,0,0,1,1,0,1,1,0,1,0,0,0,0,0,1,0,0,1,0,1,0,0,0,0,0,0,0,0,1,0,0,0,1,1,1,0,0,1,0,0,0,1,0,0,0,0,1,1,0,0,0,0,0,0,0,1,0,0,0,0,0,0,0,0,1,0,0,0,1,0,0,1,0,0,0,0,0,0,0,0,1,0,0,0,0,1,0,1,0,0,0,0,1,0,1,1,0,0,0,0,0,0,0,0,1,0,0,0,0,0,1,0,0,0,0,0,0,0,0,0,1,1,0,1,1,0,0,1,1,1,0,0,0,1,1,0,0,0,0,0,1,0,0,1,1,0,0,1,0,0,1,0,0,0,0,0,0,0,0,1,0,0,0,0,0,0,0,0,0,0,0,1,1,1,0,0,0,0,0,1,0,0,0,0,0,0,0,0,0,0,0,1,0,0,0,1,0,0,0,0,0,0,0,1,0,1,0,0,0,0,1,0,0,1,1,1,0,1,0,0,0,0,0,0,0,0,1,0,0,0,0,0,0,0,1,0,0,0,0,0,0,0,0,0,0,0,0,0,0,0,0,0,0,0,1,0,0,0,1,0,0,0,0,0,0,0,0,0,1,0,0,0,1,1,0,0,1,0,0,1,0,0,0,0,0,1,0,0,0,1,0,1,0,0,1,0,0,1,0,0,0,1,0,0,0,0,0,0,0,0,0,0,0,0,0,1,0,0,0,1,0,0,0,0,1,1,0,0,0,0,1,0,0,0,1,0,1,1,1,0,1,1,0,0,0,1,1,0,0,1,0,0,0,0,1,0,0,1,0,1,0,0,0,0,0,0,0,0,0,0,0,0,1,0,1,0,1,0,0,1,0,0,1,0,0,1,0,0,1,1,1,0,1,0,0,0,0,0,0,0,0,0,0,0,0,0,0,1,0,0,1,1,0,0,0,0,0,1,0,0,1,0,0,0,0,0,1,1,1,0,0,0,0,0,0,0,0,0,0,0,1,0,0,0,1,0,0,1,0,0,0,0,0,0,0,0,1,1,0,0,0,0,0,0,0,0,1,0,0,0,1,1,0,0,0,0,1,0,0,1,0,0,0,1,0,1,0,1,1,0,0,1,0,0,0,0,1,0,0,1,1,1,0,1,1,1,0,0,0,0,0,0,1,1,0,0,0,0,0,0,0,1,0,0,0,0,0,0,1,0,1,0,0,0,1,0,0,0,0,0,1,1,0,0,0,0,0,0,1,0,0,0,0,0,1,0,0,1,0,1,0,0,0,0,0,0,0,0,0,0,0,0,0,0,1,0,1,1,0,0,0,0,0,0,0,1,0,0,0,0,0,1,0,0,0,0,0,1,0,0,0,1,0,1,0,1,0,0,0,1,0,0,1,0,0,0,0,1,0,1,0,0,0,0,0,0,1,0,1,0,0,1,1,0,0,0,1,0,1,0,0,0,0,1,0,0,1,1,1,0,1,1,0,0,0,1,0,0,0,1,0,0,0,0,1,0,0,1,0,1,0,0,0,0,0,1,0,0,0,0,0,0,1,0,0,0,0,0,0,0,0,1,0,0,0,0,0,0,0,0,0,0,0,1,0,0,0,1,0,1,0,0,0,1,0,1,1,0,1,0,1,1,0,0,1,0,0,0,0,0,0,0,0,0,0,0,0,0,1,0,0,1,0,0,0,0,0,0,0,1,0,0,0,1,0,0,0,1,0,1,0,0,0,0,0,0,0,1,1,1,0,1,0,0,0,0,0,0,1,0,1,0,0,0,0,1,0,1,0,0,0,1,0,0,1,1,1,0,0,0,1,1,0,0,0,0,0,0,0,0,0,0,0,0,1,0,0,0,0,0,1,0,0,0,0,1,0,0,1,0,1,0,0,1,0,0,0,0,0,0,0,0,0,1,0,0,1,0,0,0,0,0,1,0,0,0,1,0,0,0,0,1,0,0,0,0,0,0,0,0,0,0,1,0,0,0,0,0,1,1,1,1,0,1,0,0,0,1,1,1,1,0,0,0,1,0,0,0,1,0,0,0,1,1,0,0,1,0,0,0,1,0,0,1,0,1,0,0,1,1,1,0,0,1,0,1,0,0,0,1,0,1,0,1,0,0,0,0,0,0,0,1,1,0,1,0,0,0,0,0,0,1,1,1,1,0,0,0,0,0,0,1,1,0,0,0,1,0,0,0,0,0,0,0,0,0,0,0,0,0,0,0,0,0,0,1,0,0,0,0,0,0,0,0,1,1,0,0,0,0,0,1,1,0,0,0,0,0,0,1,0,0,0,0,0,0,0,1,0,0,0,0,0,1,0,1,1,1,0,0,0,0,1,0,0,1,0,0,0,0,1,0,0,0,1,1,0,0,1,0,1,0,0,1,1,0,0,0,0,0,0,1,0,0,0,0,0,0,0,0,0,0,1,0,0,0,1,1,0,0,0,0,0,1,0,0,0,0,0,0,0,0,0,0,0,1,0,0,0,0,1,0,1,0,1,0,0,0,1,1,1,0,1,0,0,0,0,0,1,0,0,0,1,0,0,0,0,0,0,0,0,0,0,1,0,1,0,1,0,1,0,0,1,0,0,1,0,1,0,0,0,1,0,0,0,0,0,0,0,0,0,0,1,1,1,0,0,0,1,0,0,1,1,0,0,0,0,0,0,0,0,0,1,0,0,0,0,0,0,0,0,0,1,0,0,0,0,0,0,0,0,1,0,0,1,1,0,0,1,0,1,1,0,0,0,0,0,0,0,0,1,1,0,1,0,1,0,0,0,0,0,0,0,0,0,0,0,0,0,1,0,0,0,0,0,0,0,1,1,1,0,0,1,0,1,1,0,0,0,0,0,0,0,0,1,0,0,0,0,0,0,0,0,0,1,0,0,0,0,0,0,0,0,1,0,0,0,0,0,0,0,0,0,1,0,0,0,0,0,0,0,0,0,0,0,0,0,1,0,0,0,1,0,1,0,0,0,0,0,1,0,1,0,0,0,0,1,0,0,1,0,0,1,0,1,1,0,0,0,1,0,0,0,0,0,1,0,0,1,1,1,0,0,0,0,1,0,1,0,0,0,0,0,1,1,0,0,0,1,0,0,1,0,1,0,0,0,1,1,0,0,0,1,0,0,1,0,0,0,0,0,0,0,0,1,0,0,0,0,0,0,0,0,0,0,0,0,0,1,1,0,0,1,0,1,1,0,0,0,0,0,0,1,0,0,1,0,0,0,0,0,0,0,0,0,0,0,0,1,1,0,1,0,0,0],\"xaxis\":\"x\",\"yaxis\":\"y\",\"type\":\"histogram\"}],                        {\"template\":{\"data\":{\"histogram2dcontour\":[{\"type\":\"histogram2dcontour\",\"colorbar\":{\"outlinewidth\":0,\"ticks\":\"\"},\"colorscale\":[[0.0,\"#0d0887\"],[0.1111111111111111,\"#46039f\"],[0.2222222222222222,\"#7201a8\"],[0.3333333333333333,\"#9c179e\"],[0.4444444444444444,\"#bd3786\"],[0.5555555555555556,\"#d8576b\"],[0.6666666666666666,\"#ed7953\"],[0.7777777777777778,\"#fb9f3a\"],[0.8888888888888888,\"#fdca26\"],[1.0,\"#f0f921\"]]}],\"choropleth\":[{\"type\":\"choropleth\",\"colorbar\":{\"outlinewidth\":0,\"ticks\":\"\"}}],\"histogram2d\":[{\"type\":\"histogram2d\",\"colorbar\":{\"outlinewidth\":0,\"ticks\":\"\"},\"colorscale\":[[0.0,\"#0d0887\"],[0.1111111111111111,\"#46039f\"],[0.2222222222222222,\"#7201a8\"],[0.3333333333333333,\"#9c179e\"],[0.4444444444444444,\"#bd3786\"],[0.5555555555555556,\"#d8576b\"],[0.6666666666666666,\"#ed7953\"],[0.7777777777777778,\"#fb9f3a\"],[0.8888888888888888,\"#fdca26\"],[1.0,\"#f0f921\"]]}],\"heatmap\":[{\"type\":\"heatmap\",\"colorbar\":{\"outlinewidth\":0,\"ticks\":\"\"},\"colorscale\":[[0.0,\"#0d0887\"],[0.1111111111111111,\"#46039f\"],[0.2222222222222222,\"#7201a8\"],[0.3333333333333333,\"#9c179e\"],[0.4444444444444444,\"#bd3786\"],[0.5555555555555556,\"#d8576b\"],[0.6666666666666666,\"#ed7953\"],[0.7777777777777778,\"#fb9f3a\"],[0.8888888888888888,\"#fdca26\"],[1.0,\"#f0f921\"]]}],\"heatmapgl\":[{\"type\":\"heatmapgl\",\"colorbar\":{\"outlinewidth\":0,\"ticks\":\"\"},\"colorscale\":[[0.0,\"#0d0887\"],[0.1111111111111111,\"#46039f\"],[0.2222222222222222,\"#7201a8\"],[0.3333333333333333,\"#9c179e\"],[0.4444444444444444,\"#bd3786\"],[0.5555555555555556,\"#d8576b\"],[0.6666666666666666,\"#ed7953\"],[0.7777777777777778,\"#fb9f3a\"],[0.8888888888888888,\"#fdca26\"],[1.0,\"#f0f921\"]]}],\"contourcarpet\":[{\"type\":\"contourcarpet\",\"colorbar\":{\"outlinewidth\":0,\"ticks\":\"\"}}],\"contour\":[{\"type\":\"contour\",\"colorbar\":{\"outlinewidth\":0,\"ticks\":\"\"},\"colorscale\":[[0.0,\"#0d0887\"],[0.1111111111111111,\"#46039f\"],[0.2222222222222222,\"#7201a8\"],[0.3333333333333333,\"#9c179e\"],[0.4444444444444444,\"#bd3786\"],[0.5555555555555556,\"#d8576b\"],[0.6666666666666666,\"#ed7953\"],[0.7777777777777778,\"#fb9f3a\"],[0.8888888888888888,\"#fdca26\"],[1.0,\"#f0f921\"]]}],\"surface\":[{\"type\":\"surface\",\"colorbar\":{\"outlinewidth\":0,\"ticks\":\"\"},\"colorscale\":[[0.0,\"#0d0887\"],[0.1111111111111111,\"#46039f\"],[0.2222222222222222,\"#7201a8\"],[0.3333333333333333,\"#9c179e\"],[0.4444444444444444,\"#bd3786\"],[0.5555555555555556,\"#d8576b\"],[0.6666666666666666,\"#ed7953\"],[0.7777777777777778,\"#fb9f3a\"],[0.8888888888888888,\"#fdca26\"],[1.0,\"#f0f921\"]]}],\"mesh3d\":[{\"type\":\"mesh3d\",\"colorbar\":{\"outlinewidth\":0,\"ticks\":\"\"}}],\"scatter\":[{\"fillpattern\":{\"fillmode\":\"overlay\",\"size\":10,\"solidity\":0.2},\"type\":\"scatter\"}],\"parcoords\":[{\"type\":\"parcoords\",\"line\":{\"colorbar\":{\"outlinewidth\":0,\"ticks\":\"\"}}}],\"scatterpolargl\":[{\"type\":\"scatterpolargl\",\"marker\":{\"colorbar\":{\"outlinewidth\":0,\"ticks\":\"\"}}}],\"bar\":[{\"error_x\":{\"color\":\"#2a3f5f\"},\"error_y\":{\"color\":\"#2a3f5f\"},\"marker\":{\"line\":{\"color\":\"#E5ECF6\",\"width\":0.5},\"pattern\":{\"fillmode\":\"overlay\",\"size\":10,\"solidity\":0.2}},\"type\":\"bar\"}],\"scattergeo\":[{\"type\":\"scattergeo\",\"marker\":{\"colorbar\":{\"outlinewidth\":0,\"ticks\":\"\"}}}],\"scatterpolar\":[{\"type\":\"scatterpolar\",\"marker\":{\"colorbar\":{\"outlinewidth\":0,\"ticks\":\"\"}}}],\"histogram\":[{\"marker\":{\"pattern\":{\"fillmode\":\"overlay\",\"size\":10,\"solidity\":0.2}},\"type\":\"histogram\"}],\"scattergl\":[{\"type\":\"scattergl\",\"marker\":{\"colorbar\":{\"outlinewidth\":0,\"ticks\":\"\"}}}],\"scatter3d\":[{\"type\":\"scatter3d\",\"line\":{\"colorbar\":{\"outlinewidth\":0,\"ticks\":\"\"}},\"marker\":{\"colorbar\":{\"outlinewidth\":0,\"ticks\":\"\"}}}],\"scattermapbox\":[{\"type\":\"scattermapbox\",\"marker\":{\"colorbar\":{\"outlinewidth\":0,\"ticks\":\"\"}}}],\"scatterternary\":[{\"type\":\"scatterternary\",\"marker\":{\"colorbar\":{\"outlinewidth\":0,\"ticks\":\"\"}}}],\"scattercarpet\":[{\"type\":\"scattercarpet\",\"marker\":{\"colorbar\":{\"outlinewidth\":0,\"ticks\":\"\"}}}],\"carpet\":[{\"aaxis\":{\"endlinecolor\":\"#2a3f5f\",\"gridcolor\":\"white\",\"linecolor\":\"white\",\"minorgridcolor\":\"white\",\"startlinecolor\":\"#2a3f5f\"},\"baxis\":{\"endlinecolor\":\"#2a3f5f\",\"gridcolor\":\"white\",\"linecolor\":\"white\",\"minorgridcolor\":\"white\",\"startlinecolor\":\"#2a3f5f\"},\"type\":\"carpet\"}],\"table\":[{\"cells\":{\"fill\":{\"color\":\"#EBF0F8\"},\"line\":{\"color\":\"white\"}},\"header\":{\"fill\":{\"color\":\"#C8D4E3\"},\"line\":{\"color\":\"white\"}},\"type\":\"table\"}],\"barpolar\":[{\"marker\":{\"line\":{\"color\":\"#E5ECF6\",\"width\":0.5},\"pattern\":{\"fillmode\":\"overlay\",\"size\":10,\"solidity\":0.2}},\"type\":\"barpolar\"}],\"pie\":[{\"automargin\":true,\"type\":\"pie\"}]},\"layout\":{\"autotypenumbers\":\"strict\",\"colorway\":[\"#636efa\",\"#EF553B\",\"#00cc96\",\"#ab63fa\",\"#FFA15A\",\"#19d3f3\",\"#FF6692\",\"#B6E880\",\"#FF97FF\",\"#FECB52\"],\"font\":{\"color\":\"#2a3f5f\"},\"hovermode\":\"closest\",\"hoverlabel\":{\"align\":\"left\"},\"paper_bgcolor\":\"white\",\"plot_bgcolor\":\"#E5ECF6\",\"polar\":{\"bgcolor\":\"#E5ECF6\",\"angularaxis\":{\"gridcolor\":\"white\",\"linecolor\":\"white\",\"ticks\":\"\"},\"radialaxis\":{\"gridcolor\":\"white\",\"linecolor\":\"white\",\"ticks\":\"\"}},\"ternary\":{\"bgcolor\":\"#E5ECF6\",\"aaxis\":{\"gridcolor\":\"white\",\"linecolor\":\"white\",\"ticks\":\"\"},\"baxis\":{\"gridcolor\":\"white\",\"linecolor\":\"white\",\"ticks\":\"\"},\"caxis\":{\"gridcolor\":\"white\",\"linecolor\":\"white\",\"ticks\":\"\"}},\"coloraxis\":{\"colorbar\":{\"outlinewidth\":0,\"ticks\":\"\"}},\"colorscale\":{\"sequential\":[[0.0,\"#0d0887\"],[0.1111111111111111,\"#46039f\"],[0.2222222222222222,\"#7201a8\"],[0.3333333333333333,\"#9c179e\"],[0.4444444444444444,\"#bd3786\"],[0.5555555555555556,\"#d8576b\"],[0.6666666666666666,\"#ed7953\"],[0.7777777777777778,\"#fb9f3a\"],[0.8888888888888888,\"#fdca26\"],[1.0,\"#f0f921\"]],\"sequentialminus\":[[0.0,\"#0d0887\"],[0.1111111111111111,\"#46039f\"],[0.2222222222222222,\"#7201a8\"],[0.3333333333333333,\"#9c179e\"],[0.4444444444444444,\"#bd3786\"],[0.5555555555555556,\"#d8576b\"],[0.6666666666666666,\"#ed7953\"],[0.7777777777777778,\"#fb9f3a\"],[0.8888888888888888,\"#fdca26\"],[1.0,\"#f0f921\"]],\"diverging\":[[0,\"#8e0152\"],[0.1,\"#c51b7d\"],[0.2,\"#de77ae\"],[0.3,\"#f1b6da\"],[0.4,\"#fde0ef\"],[0.5,\"#f7f7f7\"],[0.6,\"#e6f5d0\"],[0.7,\"#b8e186\"],[0.8,\"#7fbc41\"],[0.9,\"#4d9221\"],[1,\"#276419\"]]},\"xaxis\":{\"gridcolor\":\"white\",\"linecolor\":\"white\",\"ticks\":\"\",\"title\":{\"standoff\":15},\"zerolinecolor\":\"white\",\"automargin\":true,\"zerolinewidth\":2},\"yaxis\":{\"gridcolor\":\"white\",\"linecolor\":\"white\",\"ticks\":\"\",\"title\":{\"standoff\":15},\"zerolinecolor\":\"white\",\"automargin\":true,\"zerolinewidth\":2},\"scene\":{\"xaxis\":{\"backgroundcolor\":\"#E5ECF6\",\"gridcolor\":\"white\",\"linecolor\":\"white\",\"showbackground\":true,\"ticks\":\"\",\"zerolinecolor\":\"white\",\"gridwidth\":2},\"yaxis\":{\"backgroundcolor\":\"#E5ECF6\",\"gridcolor\":\"white\",\"linecolor\":\"white\",\"showbackground\":true,\"ticks\":\"\",\"zerolinecolor\":\"white\",\"gridwidth\":2},\"zaxis\":{\"backgroundcolor\":\"#E5ECF6\",\"gridcolor\":\"white\",\"linecolor\":\"white\",\"showbackground\":true,\"ticks\":\"\",\"zerolinecolor\":\"white\",\"gridwidth\":2}},\"shapedefaults\":{\"line\":{\"color\":\"#2a3f5f\"}},\"annotationdefaults\":{\"arrowcolor\":\"#2a3f5f\",\"arrowhead\":0,\"arrowwidth\":1},\"geo\":{\"bgcolor\":\"white\",\"landcolor\":\"#E5ECF6\",\"subunitcolor\":\"white\",\"showland\":true,\"showlakes\":true,\"lakecolor\":\"white\"},\"title\":{\"x\":0.05},\"mapbox\":{\"style\":\"light\"}}},\"xaxis\":{\"anchor\":\"y\",\"domain\":[0.0,1.0],\"title\":{\"text\":\"abandono\"}},\"yaxis\":{\"anchor\":\"x\",\"domain\":[0.0,1.0],\"title\":{\"text\":\"count\"}},\"legend\":{\"tracegroupgap\":0},\"margin\":{\"t\":60},\"barmode\":\"relative\"},                        {\"responsive\": true}                    ).then(function(){\n",
              "                            \n",
              "var gd = document.getElementById('91b771ca-6ac0-4a6c-9cf5-8f111666b4d5');\n",
              "var x = new MutationObserver(function (mutations, observer) {{\n",
              "        var display = window.getComputedStyle(gd).display;\n",
              "        if (!display || display === 'none') {{\n",
              "            console.log([gd, 'removed!']);\n",
              "            Plotly.purge(gd);\n",
              "            observer.disconnect();\n",
              "        }}\n",
              "}});\n",
              "\n",
              "// Listen for the removal of the full notebook cells\n",
              "var notebookContainer = gd.closest('#notebook-container');\n",
              "if (notebookContainer) {{\n",
              "    x.observe(notebookContainer, {childList: true});\n",
              "}}\n",
              "\n",
              "// Listen for the clearing of the current output cell\n",
              "var outputEl = gd.closest('.output');\n",
              "if (outputEl) {{\n",
              "    x.observe(outputEl, {childList: true});\n",
              "}}\n",
              "\n",
              "                        })                };                            </script>        </div>\n",
              "</body>\n",
              "</html>"
            ]
          },
          "metadata": {}
        }
      ]
    },
    {
      "cell_type": "code",
      "source": [
        "px.histogram(datos, x = 'es_hombre', text_auto = True)"
      ],
      "metadata": {
        "colab": {
          "base_uri": "https://localhost:8080/",
          "height": 542
        },
        "id": "23ua2-8QFvt6",
        "outputId": "8018ac07-cb09-472a-8134-a5ef1ec9de42"
      },
      "execution_count": 601,
      "outputs": [
        {
          "output_type": "display_data",
          "data": {
            "text/html": [
              "<html>\n",
              "<head><meta charset=\"utf-8\" /></head>\n",
              "<body>\n",
              "    <div>            <script src=\"https://cdnjs.cloudflare.com/ajax/libs/mathjax/2.7.5/MathJax.js?config=TeX-AMS-MML_SVG\"></script><script type=\"text/javascript\">if (window.MathJax && window.MathJax.Hub && window.MathJax.Hub.Config) {window.MathJax.Hub.Config({SVG: {font: \"STIX-Web\"}});}</script>                <script type=\"text/javascript\">window.PlotlyConfig = {MathJaxConfig: 'local'};</script>\n",
              "        <script charset=\"utf-8\" src=\"https://cdn.plot.ly/plotly-2.35.2.min.js\"></script>                <div id=\"b37b8100-112f-46db-b622-0dfa1127e4d9\" class=\"plotly-graph-div\" style=\"height:525px; width:100%;\"></div>            <script type=\"text/javascript\">                                    window.PLOTLYENV=window.PLOTLYENV || {};                                    if (document.getElementById(\"b37b8100-112f-46db-b622-0dfa1127e4d9\")) {                    Plotly.newPlot(                        \"b37b8100-112f-46db-b622-0dfa1127e4d9\",                        [{\"alignmentgroup\":\"True\",\"bingroup\":\"x\",\"hovertemplate\":\"es_hombre=%{x}\\u003cbr\\u003ecount=%{y}\\u003cextra\\u003e\\u003c\\u002fextra\\u003e\",\"legendgroup\":\"\",\"marker\":{\"color\":\"#636efa\",\"pattern\":{\"shape\":\"\"}},\"name\":\"\",\"offsetgroup\":\"\",\"orientation\":\"v\",\"showlegend\":false,\"texttemplate\":\"%{value}\",\"x\":[0,1,1,1,0,0,0,1,0,0,1,0,0,0,0,0,0,0,1,1,0,0,0,0,0,0,0,1,1,0,1,0,1,0,1,0,0,0,0,1,1,0,1,1,1,1,0,0,1,1,1,0,0,1,0,0,1,1,1,0,1,1,0,1,1,1,1,1,0,0,0,1,1,0,1,0,0,1,0,1,1,1,0,0,0,1,0,0,0,0,1,0,1,0,1,0,0,0,1,1,0,1,1,1,1,0,1,0,1,0,1,0,0,0,0,0,1,0,0,0,0,0,0,1,1,1,1,1,1,1,1,1,1,0,1,1,1,1,1,1,0,0,0,1,0,1,0,0,1,0,0,0,0,1,0,0,0,0,1,1,0,1,0,1,0,0,1,0,1,1,1,1,1,1,1,1,0,1,0,0,1,1,1,1,0,1,0,1,1,0,1,0,1,0,0,0,1,0,0,0,1,1,0,0,0,1,1,1,1,0,1,0,1,0,0,1,0,1,0,1,1,0,1,0,0,0,0,1,0,1,0,0,0,0,1,1,1,1,1,0,1,0,1,0,1,0,0,1,1,1,0,0,0,1,1,1,1,0,1,1,0,0,0,0,1,0,1,1,1,1,1,0,0,1,1,0,1,0,0,0,1,0,1,1,0,1,0,0,1,0,1,1,1,0,1,0,0,0,1,0,0,0,1,0,0,1,1,1,0,0,1,0,1,1,1,0,1,0,1,1,0,0,0,0,1,1,1,1,1,0,1,1,0,0,1,0,1,1,0,0,0,1,0,0,0,0,1,1,1,0,0,0,0,0,0,1,0,0,1,1,1,1,1,0,1,0,0,1,1,0,1,1,1,1,0,0,0,1,0,1,0,1,1,0,0,1,0,0,1,1,0,0,0,0,0,0,0,1,0,1,1,0,0,1,0,1,0,0,1,1,1,1,0,0,1,0,1,1,1,0,1,0,0,0,1,1,1,0,0,0,0,1,0,1,1,1,0,0,1,1,0,1,0,1,0,1,1,0,1,0,1,0,1,1,0,0,1,0,1,1,0,1,0,0,0,1,1,0,1,0,1,0,1,1,0,0,0,1,1,0,0,1,1,0,0,1,0,0,1,0,0,0,0,1,0,0,0,1,1,1,1,0,0,1,1,0,1,1,0,0,0,1,0,1,1,0,1,1,1,1,1,1,0,0,1,0,1,1,0,1,1,1,1,1,0,1,1,1,0,1,1,1,1,0,0,0,0,0,0,0,1,1,0,1,1,1,1,0,0,1,0,0,1,0,0,1,0,0,1,0,0,1,0,1,0,1,1,1,0,0,0,1,0,1,1,0,0,0,1,0,1,0,0,0,1,1,1,0,0,0,0,1,1,0,1,0,1,0,1,1,1,1,0,1,1,1,1,1,1,0,0,1,1,1,0,1,1,0,0,0,1,1,1,0,1,0,0,0,0,0,0,0,1,0,1,0,1,1,0,1,1,1,0,0,0,1,1,1,0,1,0,0,1,1,0,0,0,0,0,1,1,1,0,0,0,0,1,0,0,1,1,1,0,1,0,1,1,1,0,0,0,1,0,0,1,0,0,1,1,0,0,0,1,1,0,0,0,0,1,0,1,1,0,0,0,0,0,0,0,0,1,1,1,1,1,0,1,0,0,1,0,0,1,0,1,0,0,1,0,1,1,1,0,1,0,0,1,0,1,0,0,0,0,0,0,0,0,0,1,0,1,1,1,0,0,0,1,1,0,0,0,1,1,0,0,1,1,0,1,0,0,0,0,1,0,0,1,0,0,0,1,1,0,1,0,1,1,0,0,0,1,1,0,1,1,0,0,0,1,0,1,0,1,1,0,1,0,1,1,1,0,0,0,0,0,0,1,1,1,1,0,1,1,0,1,1,1,0,0,0,1,1,1,1,0,0,0,1,1,0,1,1,1,0,0,1,1,1,0,0,1,1,0,0,1,0,1,1,0,1,0,0,1,0,0,0,0,1,0,1,1,1,0,1,1,1,0,0,1,1,0,1,1,1,0,1,0,0,0,1,1,1,1,0,1,1,0,1,1,0,0,1,0,0,0,1,0,0,1,1,0,1,1,1,1,1,1,1,0,1,1,0,1,1,1,1,0,1,1,1,0,1,0,1,0,0,0,1,0,0,0,1,0,1,0,1,1,0,1,0,0,1,1,0,1,0,1,1,1,1,0,1,0,1,0,1,1,1,0,1,1,0,0,1,1,0,1,1,0,0,0,0,0,1,1,1,0,0,1,1,0,0,1,1,1,0,0,1,1,1,1,1,1,1,0,0,1,0,1,0,1,0,1,0,1,1,1,1,1,0,1,1,1,1,0,0,0,1,1,0,1,1,0,1,0,1,1,1,0,0,0,0,1,0,1,1,1,0,1,0,1,0,0,0,0,0,0,0,0,1,1,0,1,0,0,1,1,1,1,1,1,0,0,1,0,1,1,1,1,1,1,1,1,1,0,1,0,0,0,1,1,0,0,1,0,0,0,0,0,0,0,1,0,0,1,0,1,0,0,0,1,1,0,1,0,0,0,0,1,1,0,0,1,1,1,0,1,0,1,0,0,1,1,0,0,1,1,1,0,0,1,0,0,1,1,1,0,1,1,0,0,0,0,0,0,1,1,1,1,1,1,1,1,0,1,0,0,0,0,0,0,0,1,1,1,0,1,1,1,1,1,1,1,1,1,1,0,1,1,1,1,0,0,0,0,1,1,0,1,0,0,1,1,0,0,0,0,1,0,0,0,1,1,0,0,0,1,1,0,0,1,1,1,0,1,1,0,0,1,0,0,1,1,1,1,0,0,1,0,0,0,1,1,1,0,1,1,0,0,0,0,0,1,1,1,1,0,1,0,0,0,1,1,0,0,0,0,0,0,1,1,0,0,1,1,0,0,0,0,1,0,0,1,0,0,0,1,1,1,1,1,1,1,1,1,1,0,0,1,1,0,0,1,0,1,1,1,1,1,1,0,1,0,1,0,0,0,1,0,0,0,0,0,0,0,0,1,0,1,0,0,0,0,0,0,1,0,1,0,0,0,1,0,0,0,0,1,1,1,1,0,1,0,1,1,1,0,0,1,1,0,1,1,0,1,0,1,1,1,0,1,0,1,0,0,0,0,1,0,0,1,0,0,1,0,0,0,1,0,0,1,0,1,0,1,0,0,1,0,0,1,0,1,1,1,1,1,1,0,0,0,0,0,0,1,0,0,1,0,0,1,1,0,1,0,1,1,0,1,0,0,0,0,0,0,0,1,1,0,1,0,0,0,1,1,1,0,0,0,0,0,1,1,1,1,0,0,0,0,1,0,0,1,1,0,1,1,0,0,1,0,0,0,0,0,0,0,1,0,1,0,0,0,1,0,0,1,1,1,1,0,1,0,1,0,1,0,0,1,1,1,0,1,0,0,0,0,0,0,0,0,0,0,1,1,0,0,0,0,1,0,1,0,1,1,1,1,0,0,1,1,1,1,1,0,0,1,1,1,0,0,1,0,1,0,1,0,0,0,0,0,0,1,1,0,0,0,0,1,0,1,0,1,1,0,0,1,0,0,0,1,0,1,1,0,1,0,0,0,0,0,0,0,0,1,1,0,1,0,0,0,1,1,0,1,1,0,0,1,1,0,0,1,0,0,0,0,0,1,0,1,1,0,1,1,1,0,1,1,1,1,1,1,1,1,1,0,1,1,0,0,0,1,0,1,0,1,1,0,1,0,1,0,0,1,0,0,1,1,0,1,0,1,1,1,1,1,1,1,1,1,0,0,1,1,0,1,1,0,1,1,0,0,0,0,0,0,0,1,1,1,0,1,1,0,1,1,0,1,0,1,1,0,0,1,0,1,0,0,0,1,1,0,0,0,0,1,1,0,0,1,1,0,1,1,0,0,1,1,1,1,0,1,1,0,0,0,1,0,1,1,1,0,0,1,0,0,1,1,0,1,1,0,0,1,1,1,0,0,1,0,0,1,1,0,0,0,0,1,1,1,0,0,1,1,0,1,1,1,1,0,0,1,1,1,1,0,0,1,0,1,1,1,1,0,0,0,0,1,1,0,0,1,1,0,1,1,0,1,1,1,1,0,1,1,1,1,0,0,1,0,0,1,1,1,1,1,0,0,1,0,0,1,0,0,0,0,0,0,0,1,1,1,1,1,1,0,0,1,1,0,0,1,1,1,0,1,0,0,0,1,1,1,1,1,0,1,0,0,1,0,0,1,1,0,1,0,1,1,1,1,0,0,0,0,0,0,0,1,1,1,0,0,1,0,1,0,1,0,1,1,1,1,0,1,0,1,0,1,1,0,0,1,0,1,1,0,0,1,1,0,1,1,0,0,1,0,1,1,0,0,1,0,0,0,0,0,1,0,1,1,0,1,0,0,0,0,0,1,1,1,1,1,1,0,0,1,0,1,1,0,1,1,1,1,1,0,0,1,0,1,1,0,1,0,0,0,1,1,0,0,0,1,0,1,0,0,0,0,0,0,0,1,1,1,0,1,1,0,1,0,0,0,1,0,0,0,1,1,0,1,0,1,0,0,0,0,0,1,0,1,1,0,1,0,1,1,0,1,0,0,1,0,0,0,0,1,1,0,0,0,0,0,0,1,1,1,0,1,0,1,0,1,1,0,0,1,1,0,1,1,0,0,0,0,0,0,0,0,0,0,0,0,0,0,1,0,1,0,1,0,0,0,1,0,1,0,0,0,1,0,1,1,0,0,1,0,0,0,1,1,0,1,1,1,0,1,0,0,0,1,1,1,1,0,0,1,0,1,0,0,0,0,0,1,0,0,1,1,1,1,1,0,0,0,0,1,0,0,1,0,1,1,1,0,0,1,1,1,0,0,0,0,1,0,1,1,0,1,1,1,1,0,0,0,0,0,1,0,1,0,1,1,0,1,1,1,0,0,1,1,0,0,0,0,0,1,1,0,0,1,1,1,0,0,1,1,0,0,1,1,1,1,0,1,1,1,0,1,1,1,1,0,1,0,0,0,0,0,1,0,0,0,1,1,1,1,0,1,0,1,0,1,1,0,1,0,0,1,0,0,0,1,1,1,1,1,1,1,1,1,0,0,0,1,1,1,0,0,0,0,0,1,1,1,0,0,0,0,0,1,1,0,1,1,0,1,1,1,1,1,1,1,1,1,0,0,1,1,0,0,1,0,0,1,1,1,1,1,0,0,1,1,0,0,0,1,1,1,1,1,1,1,1,1,1,1,0,0,0,1,1,1,1,1,1,1,0,0,0,0,0,1,1,1,1,1,0,1,0,0,0,0,1,0,0,0,1,0,0,1,0,1,1,1,1,0,1,1,0,1,1,0,1,0,0,1,0,0,0,1,0,0,1,1,1,1,0,0,0,1,0,0,0,1,1,1,0,1,0,0,1,1,1,1,0,1,1,0,1,1,0,1,0,0,1,1,0,1,0,1,1,0,1,1,1,0,1,1,0,1,1,1,0,1,0,1,1,0,1,1,0,0,1,0,0,1,0,0,1,1,1,1,0,0,1,1,1,0,0,1,1,1,0,1,0,0,1,1,1,0,0,1,0,0,0,1,0,0,1,1,0,0,1,0,0,0,0,1,0,1,0,1,1,1,0,0,1,0,0,1,0,1,0,0,1,0,1,1,0,1,1,0,1,1,1,1,1,0,0,1,0,1,1,0,0,1,0,0,0,0,1,1,1,1,0,0,0,1,0,0,1,0,0,0,1,1,0,1,0,1,0,0,1,0,0,0,1,1,1,0,1,1,1,1,0,0,0,0,0,1,0,0,0,1,1,1,0,1,1,1,1,0,0,1,0,1,1,0,1,0,0,0,1,0,0,0,1,1,1,1,0,1,0,1,0,1,1,0,0,0,1,1,1,1,1,1,1,0,1,0,1,0,1,1,1,1,1,0,1,1,1,1,0,1,1,1,0,1,1,1,0,1,1,1,1,1,0,1,0,0,0,1,1,1,1,0,0,1,1,0,0,1,1,0,1,0,0,0,0,0,1,0,1,1,0,1,0,0,1,1,0,1,1,1,0,1,0,1,0,1,0,0,0,0,0,0,1,1,0,1,0,0,1,0,0,1,1,1,0,0,0,1,1,0,0,1,1,0,1,0,0,1,1,1,1,1,1,0,0,0,1,1,1,1,1,0,0,0,0,0,0,1,1,1,0,1,1,0,0,0,0,0,1,1,1,0,1,0,0,0,0,1,1,1,0,0,1,0,1,1,0,1,0,1,1,1,1,1,0,0,1,1,1,1,1,1,0,1,0,0,0,0,0,1,0,0,1,0,0,0,0,1,0,1,1,0,1,1,1,1,0,1,1,0,1,0,0,1,1,0,1,0,1,1,0,1,0,0,0,1,1,0,1,1,0,0,1,0,1,1,0,0,1,1,0,0,1,1,1,0,0,0,1,0,1,1,1,1,0,0,0,0,0,0,0,0,1,0,1,1,1,0,0,0,0,1,0,1,0,1,0,1,1,0,1,1,0,1,1,1,1,0,0,1,0,1,0,1,1,0,0,1,0,1,0,1,0,0,0,0,1,1,0,1,0,1,0,1,1,0,0,1,1,0,1,1,0,0,1,1,0,0,1,1,1,1,0,0,1,0,1,0,0,1,0,1,0,1,1,1,0,0,0,0,1,1,0,1,0,0,1,0,1,0,0,0,1,1,0,1,1,0,1,1,0,0,1,1,1,0,1,0,0,1,1,0,0,0,0,0,0,1,1,0,1,1,1,1,0,1,1,0,1,1,1,0,1,1,0,0,0,1,0,1,1,1,0,1,1,1,0,0,0,1,0,1,1,0,1,1,1,0,1,0,0,1,0,1,1,1,0,0,1,0,0,1,1,0,0,0,0,1,0,1,1,0,1,1,1,0,0,1,1,1,0,1,1,1,1,1,1,0,0,1,0,1,1,1,1,0,1,1,1,0,0,1,1,0,0,0,0,1,1,0,1,0,1,0,1,1,0,0,1,1,0,0,0,0,0,1,1,1,1,0,1,1,0,0,0,1,1,1,1,0,0,1,0,0,0,1,1,0,0,0,1,0,0,1,0,0,1,0,0,1,0,0,1,1,0,0,1,1,0,0,0,0,1,1,0,0,1,0,1,1,1,1,0,0,0,0,0,1,0,0,0,1,1,0,1,0,0,0,0,0,1,0,1,1,0,1,0,0,0,1,1,0,0,1,1,0,0,1,1,1,0,0,0,1,1,0,0,0,0,1,0,1,1,0,0,1,1,1,0,0,0,0,0,0,0,0,0,1,1,1,1,0,1,0,0,1,1,0,1,1,1,0,0,1,1,1,0,1,0,0,1,1,0,0,0,1,1,1,0,0,1,1,0,0,0,1,1,1,0,1,0,1,1,0,1,0,1,1,1,0,0,1,1,1,1,1,0,1,0,0,0,0,1,0,1,0,1,1,0,1,1,0,1,0,0,1,1,0,0,1,1,1,0,0,1,1,0,0,0,1,1,0,1,1,1,1,1,1,1,1,0,1,1,0,1,0,1,1,0,0,0,0,1,0,0,1,0,0,0,0,1,0,1,1,0,1,1,1,0,0,1,1,1,1,1,0,1,0,0,1,0,0,0,1,0,1,1,0,0,1,0,0,1,0,0,0,1,1,0,1,0,0,0,1,0,1,0,0,1,0,1,1,0,1,0,1,0,1,0,0,1,0,0,0,1,1,1,1,1,0,0,0,0,0,0,0,0,0,1,1,1,0,1,0,0,1,1,1,1,0,0,1,1,1,0,1,0,1,1,0,1,1,0,0,1,0,1,0,1,1,0,0,0,1,1,1,1,0,1,1,0,0,0,1,1,0,1,1,1,0,0,1,0,1,0,1,1,0,0,0,0,1,1,0,1,0,0,1,0,1,0,0,0,0,1,0,1,1,1,0,1,1,0,0,0,1,1,1,0,1,0,0,1,1,1,1,1,1,1,0,1,1,0,1,0,0,1,0,1,1,1,1,1,0,0,0,1,0,0,1,0,1,1,1,1,1,0,0,1,0,0,0,0,0,0,0,1,1,1,1,1,0,0,0,0,0,1,0,1,1,0,1,1,1,0,0,0,1,0,1,0,0,0,0,1,0,0,0,0,0,0,0,1,0,1,0,1,0,1,0,0,1,1,0,0,1,1,1,0,0,1,1,0,1,1,1,0,1,0,1,0,1,1,0,0,0,1,1,1,0,1,0,0,1,0,0,1,1,1,1,0,0,0,0,0,0,1,1,1,1,1,0,1,0,1,1,1,1,1,1,0,0,1,0,0,0,0,1,1,0,0,1,1,0,1,1,0,1,0,0,1,0,0,0,1,1,1,1,1,0,0,0,0,1,1,1,1,1,0,1,1,1,0,0,0,1,1,1,1,1,1,1,0,1,0,0,0,1,0,0,0,1,1,1,1,0,1,0,1,0,0,0,0,1,0,1,1,1,0,1,1,0,0,0,1,0,1,1,1,0,1,0,1,1,1,0,0,0,0,1,1,1,1,1,0,0,0,1,1,0,0,0,1,1,0,0,1,0,1,0,1,1,1,1,1,1,1,1,0,0,1,1,1,1,0,1,0,1,0,1,1,0,0,1,1,1,0,1,1,1,0,1,0,1,0,0,1,1,0,1,0,0,0,1,0,1,1,0,0,1,0,0,1,0,0,1,0,1,1,1,1,1,1,1,0,0,1,0,1,1,0,0,1,0,0,0,1,1,1,0,0,1,1,1,0,0,1,0,0,1,0,0,1,1,0,1,1,1,1,1,1,0,1,1,1,0,0,1,0,0,0,0,0,0,0,1,1,1,1,0,0,1,0,0,0,1,0,0,0,1,1,1,0,1,1,0,1,0,0,1,1,1,0,0,1,1,1,0,0,0,1,0,0,1,1,0,1,1,0,1,0,1,0,1,0,0,0,1,1,1,0,1,0,0,0,0,1,1,1,0,0,1,1,1,0,0,0,0,0,0,1,1,0,0,1,0,0,0,0,1,0,1,0,0,0,0,0,1,0,0,0,1,0,0,0,0,0,1,1,1,1,0,0,1,1,0,0,0,0,1,1,1,1,0,1,0,0,0,0,0,1,1,0,0,1,0,0,1,0,1,0,1,1,1,1,0,1,0,0,1,0,0,0,1,1,0,1,1,0,0,0,1,0,0,0,1,0,1,0,1,0,1,0,1,1,1,1,1,1,0,0,1,0,1,1,0,0,1,0,1,1,0,0,0,0,0,0,1,1,0,1,0,0,0,0,0,0,0,0,1,1,0,0,0,0,1,1,0,0,0,0,0,1,1,1,1,0,1,1,1,1,1,0,1,0,0,0,0,1,1,1,0,1,0,1,0,1,0,1,0,1,1,1,0,1,1,1,1,0,1,0,0,0,0,0,1,0,1,1,1,0,0,0,1,1,1,0,1,0,1,0,1,0,0,1,0,1,0,0,1,1,0,0,0,1,0,0,1,1,0,1,1,0,1,1,1,0,0,0,1,1,0,1,1,1,1,0,1,1,0,0,1,1,0,0,1,0,1,1,1,1,0,1,1,1,1,1,1,1,1,1,0,1,0,1,0,0,0,0,0,0,1,0,0,0,1,0,1,1,1,0,1,0,1,1,0,1,0,1,1,0,0,1,1,1,0,0,1,1,0,0,0,1,1,1,1,0,0,1,0,0,0,0,0,0,0,1,1,1,0,0,0,0,0,0,1,1,0,1,0,0,1,0,1,0,1,1,1,1,1,0,0,1,0,1,0,0,0,1,1,1,0,1,0,0,1,0,0,0,0,1,0,0,0,1,1,0,0,1,1,0,0,1,0,0,0,1,0,0,0,1,1,1,0,1,0,0,0,0,1,1,1,1,1,0,0,1,0,1,0,1,1,1,1,1,1,1,1,0,0,0,1,1,0,1,0,1,1,1,0,0,0,0,0,0,1,1,0,0,1,0,1,0,0,1,1,0,1,1,0,1,0,1,1,0,1,0,1,0,0,0,1,0,1,0,1,1,0,1,0,0,1,1,1,1,1,1,1,1,0,0,1,1,0,0,1,0,0,0,1,1,0,1,1,0,0,0,1,1,1,0,0,1,0,1,0,1,1,0,0,1,0,1,0,1,1,1,1,0,1,1,1,1,1,1,0,1,1,1,0,0,0,0,1,1,1,1,1,0,1,1,1,0,0,0,0,1,0,1,0,1,0,1,0,1,0,0,1,0,1,1,1,1,0,1,1,0,0,0,1,0,0,1,0,0,0,1,0,0,0,0,0,1,0,1,0,1,1,1,0,1,0,0,1,0,0,1,1,1,0,1,0,0,0,1,0,1,1,0,1,1,1,0,0,0,0,0,1,0,1,1,0,1,1,0,1,0,1,1,1,0,1,0,1,1,1,1,0,0,1,0,1,0,1,1,0,1,1,0,0,1,1,1,0,0,1,1,1,0,1,0,0,1,0,1,1,0,1,0,1,1,1,0,0,1,0,0,1,0,1,1,0,1,1,1,1,0,1,0,0,0,0,0,0,1,1,1,0,0,1,0,0,1,1,1,1,1,1,0,1,1,1,0,0,1,0,0,1,1,0,1,0,0,1,1,1,0,0,0,0,1,0,0,1,0,1,1,0,0,1,0,0,1,1,0,1,0,0,0,1,0,1,1,0,1,0,1,1,1,0,0,0,1,1,0,0,0,1,0,0,1,0,0,0,0,1,1,0,1,1,1,1,0,0,0,0,0,0,1,0,1,0,1,1,1,0,1,1,1,1,0,1,0,0,0,0,1,0,0,1,0,0,1,0,1,1,0,0,0,1,1,0,0,1,1,0,1,1,1,1,0,1,1,0,1,1,1,1,1,1,1,0,0,0,0,1,1,0,0,0,1,1,0,1,0,1,1,0,0,0,0,1,1,1,0,0,0,1,0,0,1,1,1,0,0,0,0,1,0,0,1,0,0,1,1,0,0,0,1,1,0,0,0,1,1,1,1,0,1,0,1,0,0,1,1,0,1,1,0,0,1,0,1,0,1,1,1,1,1,0,0,1,1,0,0,0,1,1,1,1,1,1,1,0,0,1,1,1,0,1,1,1,1,1,0,1,0,0,0,1,0,0,1,1,1,1,1,0,1,0,1,0,0,1,1,0,0,0,1,1,1,1,1,0,1,1,0,1,1,1,0,1,1,0,1,1,0,0,0,0,0,0,0,0,1,1,0,0,1,1,0,1,1,1,0,1,1,1,1,0,0,1,1,0,1,0,1,0,1,1,0,1,0,0,0,1,0,0,1,1,0,1,0,1,1,1,1,0,1,1,1,0,0,0,1,1,0,1,0,1,1,0,1,0,0,1,0,1,1,0,1,1,0,0,0,1,0,1,0,1,0,0,1,0,0,0,0,1,1,1,1,0,1,0,0,1,0,1,0,0,0,1,1,0,1,1,0,0,1,1,0,0,1,0,1,0,1,0,1,0,0,0,0,0,1,1,1,1,1,1,1,1,0,1,1,0,1,1,0,1,0,1,0,1,1,1,1,0,1,0,0,0,1,1,0,1,0,0,0,0,1,0,1,1,1,0,0,1,0,0,1,0,1,1,1,0,1,1,1,0,1,0,1,0,1,1,1,0,0,1,1,1,0,0,1,0,0,0,1,0,1,0,0,0,0,0,1,1,1,0,1,1,0,0,0,1,1,1,1,1,0,1,0,0,0,1,0,1,0,0,0,0,0,0,0,0,0,1,1,1,0,1,1,1,1,1,1,1,1,0,0,1,1,0,1,0,0,0,1,0,1,0,0,1,1,0,1,0,0,0,1,0,1,1,0,1,0,0,1,1,1,1,1,1,1,1,0,1,0,0,1,1,1,1,1,0,0,0,0,1,0,0,1,0,0,0,1,1,0,0,0,1,1,1,1,1,0,0,1,1,1,0,1,0,1,1,1,1,1,0,0,0,1,1,1,0,1,1,1,0,1,1,1,0,1,1,0,1,1,1,0,0,0,0,0,0,1,1,1,0,1,1,0,1,1,1,0,0,0,0,0,1,1,1,1,1,1,0,1,1,1,0,0,1,1,1,1,0,0,1,1,0,1,0,1,1,0,0,0,0,1,0,0,1,1,0,0,0,1,0,0,1,1,1,0,0,0,1,1,1,0,1,1,1,0,1,0,0,0,0,1,1,0,0,1,1,0,0,1,0,0,1,1,1,0,1,1,1,1,1,0,1,1,0,0,1,1,1,1,0,0,0,0,1,0,1,0,0,1,0,1,0,1,1,0,1,1,0,1,0,1,1,1,1,1,0,1,1,1,0,1,0,0,1,0,0,1,0,1,0,0,0,0,1,1,1,1,1,1,1,0,1,1,1,0,0,1,1,1,1,0,1,0,0,1,0,0,1,1,0,0,1,1,1,0,1,1,0,1,0,0,0,1,1,0,1,0,1,0,0,0,1,0,1,1,0,0,1,1,0,0,1,0,1,1,0,1,0,1,1,1,1,0,0,0,0,1,0,0,1,1,0,0,1,0,1,0,1,0,1,0,0,0,1,0,1,0,0,1,1,1,1,1,0,0,0,0,1,1,0,0,0,1,0,0,0,1,0,1,0,0,1,1,0,1,0,1,0,1,1,0,1,0,1,0,0,1,0,0,0,0,1,0,1,1,0,1,0,1,0,0,1,0,1,1,1,1,1,1,0,0,0,0,0,0,0,1,1,0,0,1,0,1,0,1,1,0,1,0,1,0,0,1,1,0,0,1,1,1,0,0,0,1,0,1,1,1,1,0,1,1,0,1,1,1,1,0,1,0,0,1,1,1,1,1,1,1,1,0,0,0,1,0,0,0,0,0,0,1,0,1,0,0,1,0,0,0,1,0,1,0,0,1,1,0,1,0,1,0,0,1,0,1,1,1,1,1,1,1,1,1,0,0,0,0,1,0,0,0,1,1,0,1,1,1,0,0,0,0,0,1,1,0,0,1,1,1,1,0,1,1,0,0,1,1,0,1,1,0,0,1,1,0,0,1,0,1,0,1,1,1,0,1,0,1,1,1,1,1,0,0,0,0,0,0,0,1,0,0,0,1,0,1,1,0,1,0,0,0,1,0,1,0,1,0,1,0,1,0,1,0,0,0,1,0,0,0,1,0,1,1,0,0,0,1,0,0,0,0,1,0,1,1,1,0,1,1,1,1,1,0,1,0,1,0,0,0,1,0,1,0,1,1,1,0,1,0,1,1,0,0,0,1,0,1,1,0,0,1,1,0,0,1,1,0,0,1,0,0,0,0,1,1,0,1,0,1,1,0,1,1,1,1,0,0,0,1,0,0,0,1,0,1,0,1,0,0,0,1,1,0,1,0,0,1,1,1,0,0,1,1,0,0,1,0,1,0,0,1,1,1,0,0,1,1,0,0,0,0,1,0,1,1,1,0,1,1,0,1,0,0,0,0,0,0,1,0,1,1,1,1,0,1,0,1,1,0,1,1,0,0,0,1,0,1,1,1,1,1,1,1,0,1,0,0,1,0,1,1,1,0,1,1,0,1,1,0,0,0,0,1,1,0,1,1,1,1,0,0,1,1,0,1,0,0,0,1,0,0,1,1,0,1,0,0,0,1,1,1,0,1,0,1,1,0,0,1,0,1,1,1,1,0,1,1,0,0,1,1,1,1,1,1,0,0,0,1,1,0,1,0,1,0,1,0,1,0,1,0,1,0,1,1,0,1,0,1,0,1,0,0,1,0,1,0,0,0,0,1,0,0,1,1,1,1,1,0,0,1,1,0,1,1,1,0,0,1,0,1,1,1,1,0,1,0,1,0,0,0,0,0,0,0,0,1,1,1,0,0,1,1,1,0,0,1,1,1,0,1,1,0,1,1,0,1,1,1,1,1,0,0,0,0,1,1,1,0,0,0,1,0,1,1,0,1,1,1,1,0,0,1,1,1,1,0,0,0,1,0,1,1,0,0,1,1,0,1,1,1,1,0,0,1,1,0,1,0,0,1,0,1,0,1,0,0,1,0,1,0,0,0,0,1,1,1,0,0,0,1,1,0,0,1,1,1,0,0,0,0,1,0,1,0,0,1,1,1,0,1,0,0,1,1,1,0,0,0,0,0,1,0,0,0,0,1,0,1,1,0,0,0,0,1,1,1,1,1,0,1,1,1,0,0,0,0,1,1,1,1,0,1,0,1,0,1,1,1,1,0,0,0,1,0,1,0,0,1,0,1,1,0,1,0,1,0,1,1,1,0,1,1,1,0,1,1,0,0,1,1,0,1,0,1,0,1,1,1,0,1,0,0,0,0,1,0,1,0,0,0,1,0,0,0,1,0,1,0,1,1,1,0,0,0,0,0,0,1,1,0,1,0,1,0,0,0,1,0,1,0,0,0,0,1,0,1,0,1,1,0,0,1,0,0,1,1,1,1,1,1,0,1,1,0,1,1,1,0,1,0,0,0,0,0,1,0,1,0,1,0,0,1,1,0,1,1,1,1,0,0,1,1,0,0,1,1,1,0,0,0,1,0,0,1,0,1,1,0,1,0,0,0,0,0,1,1,1,1,1,1,0,1,1,0,0,0,1,1,1,1,1,1,0,1,0,0,0,1,0,0,0,1,0,1,0,1,0,0,0,0,1,0,1,0,0,0,0,0,0,1,0,1,0,1,0,0,0,1,1,1,0,1,0,0,0,0,0,0,1,1,0,1,0,1,0,0,0,0,0,0,1,1,1,0,0,0,0,1,1,0,0,0,0,0,1,1,1,1,0,0,0,0,0,1,0,0,1,1,0,1,0,1,0,0,0,1,1,0,0,1,1,1,1,0,1,0,1,0,1,0,0,0,0,1,1,1,1,1,0,1,1,0,1,0,0,1,1,0,0,0,1,0,0,1,1,1,1,0,1,0,0,0,1,0,1,0,0,0,0,1,1,0,0,1,1,0,0,1,0,0,1,0,0,0,0,0,0,0,0,0,1,0,0,0,0,0,0,1,0,0,1,0,1,1,1,1,0,1,1,0,1,0,1,1,1,0,0,1,1,0,1,1,1,1,0,0,1,1,0,1,1,0,0,1,0,0,0,0,0,1,0,0,1,1,1,1,0,1,0,0,0,0,1,1,1,1,0,0,1,0,1,0,0,0,1,1,1,1,0,1,0,1,0,1,1,1,1,1,0,1,1,0,1,0,1,0,0,0,1,1,1,1,1,0,1,0,0,0,0,1,1,0,1,1,1,1,1,1,1,1,1,0,1,0,1,0,1,0,1,0,0,1,1,1,1,0,1,1,0,1,1,0,1,1,1,0,1,1,0,0,0,0,1,0,0,1,0,1,0,0,0,1,1,0,0,1,0,1,1,0,0,1,0,1,1,0,0,1,0,0,0,1,0,0,1,0,0,1,0,1,1,0,0,1,0,1,0,1,0,0,1,0,1,0,0,1,0,1,1,0,1,1,0,0,1,1,1,1,1,1,1,1,1,0,1,0,1,0,0,0,1,0,1,1,1,1,0,1,0,0,0,0,0,0,0,1,1,1,0,0,0,1,0,0,0,1,1,0,0,1,1,1,0,1,0,0,0,1,1,1,1,0,0,1,1,0,0,0,0,0,1,0,1,0,1,1,1,1,0,1,1,0,1,0,1,1,1,0,0,1,1,1,0,0,1,1,0,1,1,1,1,1,1,1,0,0,0,0,1,0,1,1,0,1,1,0,0,0,1,1,0,1,0,0,0,0,0,0,1,0,0,1,0,0,1,1,0,0,0,0,1,0,0,1,0,0,0,0,1,0,0,1,0,1,0,0,1,0,0,1,0,1,0,0,1,0,1,0,0,0,1,0,0,0,1,1,0,0,1,1,1,1,1,1,1,1,1,0,0,1,0,1,0,1,0,0,0,1,1,1,1,0,0,0,0,1,1,1,1],\"xaxis\":\"x\",\"yaxis\":\"y\",\"type\":\"histogram\"}],                        {\"template\":{\"data\":{\"histogram2dcontour\":[{\"type\":\"histogram2dcontour\",\"colorbar\":{\"outlinewidth\":0,\"ticks\":\"\"},\"colorscale\":[[0.0,\"#0d0887\"],[0.1111111111111111,\"#46039f\"],[0.2222222222222222,\"#7201a8\"],[0.3333333333333333,\"#9c179e\"],[0.4444444444444444,\"#bd3786\"],[0.5555555555555556,\"#d8576b\"],[0.6666666666666666,\"#ed7953\"],[0.7777777777777778,\"#fb9f3a\"],[0.8888888888888888,\"#fdca26\"],[1.0,\"#f0f921\"]]}],\"choropleth\":[{\"type\":\"choropleth\",\"colorbar\":{\"outlinewidth\":0,\"ticks\":\"\"}}],\"histogram2d\":[{\"type\":\"histogram2d\",\"colorbar\":{\"outlinewidth\":0,\"ticks\":\"\"},\"colorscale\":[[0.0,\"#0d0887\"],[0.1111111111111111,\"#46039f\"],[0.2222222222222222,\"#7201a8\"],[0.3333333333333333,\"#9c179e\"],[0.4444444444444444,\"#bd3786\"],[0.5555555555555556,\"#d8576b\"],[0.6666666666666666,\"#ed7953\"],[0.7777777777777778,\"#fb9f3a\"],[0.8888888888888888,\"#fdca26\"],[1.0,\"#f0f921\"]]}],\"heatmap\":[{\"type\":\"heatmap\",\"colorbar\":{\"outlinewidth\":0,\"ticks\":\"\"},\"colorscale\":[[0.0,\"#0d0887\"],[0.1111111111111111,\"#46039f\"],[0.2222222222222222,\"#7201a8\"],[0.3333333333333333,\"#9c179e\"],[0.4444444444444444,\"#bd3786\"],[0.5555555555555556,\"#d8576b\"],[0.6666666666666666,\"#ed7953\"],[0.7777777777777778,\"#fb9f3a\"],[0.8888888888888888,\"#fdca26\"],[1.0,\"#f0f921\"]]}],\"heatmapgl\":[{\"type\":\"heatmapgl\",\"colorbar\":{\"outlinewidth\":0,\"ticks\":\"\"},\"colorscale\":[[0.0,\"#0d0887\"],[0.1111111111111111,\"#46039f\"],[0.2222222222222222,\"#7201a8\"],[0.3333333333333333,\"#9c179e\"],[0.4444444444444444,\"#bd3786\"],[0.5555555555555556,\"#d8576b\"],[0.6666666666666666,\"#ed7953\"],[0.7777777777777778,\"#fb9f3a\"],[0.8888888888888888,\"#fdca26\"],[1.0,\"#f0f921\"]]}],\"contourcarpet\":[{\"type\":\"contourcarpet\",\"colorbar\":{\"outlinewidth\":0,\"ticks\":\"\"}}],\"contour\":[{\"type\":\"contour\",\"colorbar\":{\"outlinewidth\":0,\"ticks\":\"\"},\"colorscale\":[[0.0,\"#0d0887\"],[0.1111111111111111,\"#46039f\"],[0.2222222222222222,\"#7201a8\"],[0.3333333333333333,\"#9c179e\"],[0.4444444444444444,\"#bd3786\"],[0.5555555555555556,\"#d8576b\"],[0.6666666666666666,\"#ed7953\"],[0.7777777777777778,\"#fb9f3a\"],[0.8888888888888888,\"#fdca26\"],[1.0,\"#f0f921\"]]}],\"surface\":[{\"type\":\"surface\",\"colorbar\":{\"outlinewidth\":0,\"ticks\":\"\"},\"colorscale\":[[0.0,\"#0d0887\"],[0.1111111111111111,\"#46039f\"],[0.2222222222222222,\"#7201a8\"],[0.3333333333333333,\"#9c179e\"],[0.4444444444444444,\"#bd3786\"],[0.5555555555555556,\"#d8576b\"],[0.6666666666666666,\"#ed7953\"],[0.7777777777777778,\"#fb9f3a\"],[0.8888888888888888,\"#fdca26\"],[1.0,\"#f0f921\"]]}],\"mesh3d\":[{\"type\":\"mesh3d\",\"colorbar\":{\"outlinewidth\":0,\"ticks\":\"\"}}],\"scatter\":[{\"fillpattern\":{\"fillmode\":\"overlay\",\"size\":10,\"solidity\":0.2},\"type\":\"scatter\"}],\"parcoords\":[{\"type\":\"parcoords\",\"line\":{\"colorbar\":{\"outlinewidth\":0,\"ticks\":\"\"}}}],\"scatterpolargl\":[{\"type\":\"scatterpolargl\",\"marker\":{\"colorbar\":{\"outlinewidth\":0,\"ticks\":\"\"}}}],\"bar\":[{\"error_x\":{\"color\":\"#2a3f5f\"},\"error_y\":{\"color\":\"#2a3f5f\"},\"marker\":{\"line\":{\"color\":\"#E5ECF6\",\"width\":0.5},\"pattern\":{\"fillmode\":\"overlay\",\"size\":10,\"solidity\":0.2}},\"type\":\"bar\"}],\"scattergeo\":[{\"type\":\"scattergeo\",\"marker\":{\"colorbar\":{\"outlinewidth\":0,\"ticks\":\"\"}}}],\"scatterpolar\":[{\"type\":\"scatterpolar\",\"marker\":{\"colorbar\":{\"outlinewidth\":0,\"ticks\":\"\"}}}],\"histogram\":[{\"marker\":{\"pattern\":{\"fillmode\":\"overlay\",\"size\":10,\"solidity\":0.2}},\"type\":\"histogram\"}],\"scattergl\":[{\"type\":\"scattergl\",\"marker\":{\"colorbar\":{\"outlinewidth\":0,\"ticks\":\"\"}}}],\"scatter3d\":[{\"type\":\"scatter3d\",\"line\":{\"colorbar\":{\"outlinewidth\":0,\"ticks\":\"\"}},\"marker\":{\"colorbar\":{\"outlinewidth\":0,\"ticks\":\"\"}}}],\"scattermapbox\":[{\"type\":\"scattermapbox\",\"marker\":{\"colorbar\":{\"outlinewidth\":0,\"ticks\":\"\"}}}],\"scatterternary\":[{\"type\":\"scatterternary\",\"marker\":{\"colorbar\":{\"outlinewidth\":0,\"ticks\":\"\"}}}],\"scattercarpet\":[{\"type\":\"scattercarpet\",\"marker\":{\"colorbar\":{\"outlinewidth\":0,\"ticks\":\"\"}}}],\"carpet\":[{\"aaxis\":{\"endlinecolor\":\"#2a3f5f\",\"gridcolor\":\"white\",\"linecolor\":\"white\",\"minorgridcolor\":\"white\",\"startlinecolor\":\"#2a3f5f\"},\"baxis\":{\"endlinecolor\":\"#2a3f5f\",\"gridcolor\":\"white\",\"linecolor\":\"white\",\"minorgridcolor\":\"white\",\"startlinecolor\":\"#2a3f5f\"},\"type\":\"carpet\"}],\"table\":[{\"cells\":{\"fill\":{\"color\":\"#EBF0F8\"},\"line\":{\"color\":\"white\"}},\"header\":{\"fill\":{\"color\":\"#C8D4E3\"},\"line\":{\"color\":\"white\"}},\"type\":\"table\"}],\"barpolar\":[{\"marker\":{\"line\":{\"color\":\"#E5ECF6\",\"width\":0.5},\"pattern\":{\"fillmode\":\"overlay\",\"size\":10,\"solidity\":0.2}},\"type\":\"barpolar\"}],\"pie\":[{\"automargin\":true,\"type\":\"pie\"}]},\"layout\":{\"autotypenumbers\":\"strict\",\"colorway\":[\"#636efa\",\"#EF553B\",\"#00cc96\",\"#ab63fa\",\"#FFA15A\",\"#19d3f3\",\"#FF6692\",\"#B6E880\",\"#FF97FF\",\"#FECB52\"],\"font\":{\"color\":\"#2a3f5f\"},\"hovermode\":\"closest\",\"hoverlabel\":{\"align\":\"left\"},\"paper_bgcolor\":\"white\",\"plot_bgcolor\":\"#E5ECF6\",\"polar\":{\"bgcolor\":\"#E5ECF6\",\"angularaxis\":{\"gridcolor\":\"white\",\"linecolor\":\"white\",\"ticks\":\"\"},\"radialaxis\":{\"gridcolor\":\"white\",\"linecolor\":\"white\",\"ticks\":\"\"}},\"ternary\":{\"bgcolor\":\"#E5ECF6\",\"aaxis\":{\"gridcolor\":\"white\",\"linecolor\":\"white\",\"ticks\":\"\"},\"baxis\":{\"gridcolor\":\"white\",\"linecolor\":\"white\",\"ticks\":\"\"},\"caxis\":{\"gridcolor\":\"white\",\"linecolor\":\"white\",\"ticks\":\"\"}},\"coloraxis\":{\"colorbar\":{\"outlinewidth\":0,\"ticks\":\"\"}},\"colorscale\":{\"sequential\":[[0.0,\"#0d0887\"],[0.1111111111111111,\"#46039f\"],[0.2222222222222222,\"#7201a8\"],[0.3333333333333333,\"#9c179e\"],[0.4444444444444444,\"#bd3786\"],[0.5555555555555556,\"#d8576b\"],[0.6666666666666666,\"#ed7953\"],[0.7777777777777778,\"#fb9f3a\"],[0.8888888888888888,\"#fdca26\"],[1.0,\"#f0f921\"]],\"sequentialminus\":[[0.0,\"#0d0887\"],[0.1111111111111111,\"#46039f\"],[0.2222222222222222,\"#7201a8\"],[0.3333333333333333,\"#9c179e\"],[0.4444444444444444,\"#bd3786\"],[0.5555555555555556,\"#d8576b\"],[0.6666666666666666,\"#ed7953\"],[0.7777777777777778,\"#fb9f3a\"],[0.8888888888888888,\"#fdca26\"],[1.0,\"#f0f921\"]],\"diverging\":[[0,\"#8e0152\"],[0.1,\"#c51b7d\"],[0.2,\"#de77ae\"],[0.3,\"#f1b6da\"],[0.4,\"#fde0ef\"],[0.5,\"#f7f7f7\"],[0.6,\"#e6f5d0\"],[0.7,\"#b8e186\"],[0.8,\"#7fbc41\"],[0.9,\"#4d9221\"],[1,\"#276419\"]]},\"xaxis\":{\"gridcolor\":\"white\",\"linecolor\":\"white\",\"ticks\":\"\",\"title\":{\"standoff\":15},\"zerolinecolor\":\"white\",\"automargin\":true,\"zerolinewidth\":2},\"yaxis\":{\"gridcolor\":\"white\",\"linecolor\":\"white\",\"ticks\":\"\",\"title\":{\"standoff\":15},\"zerolinecolor\":\"white\",\"automargin\":true,\"zerolinewidth\":2},\"scene\":{\"xaxis\":{\"backgroundcolor\":\"#E5ECF6\",\"gridcolor\":\"white\",\"linecolor\":\"white\",\"showbackground\":true,\"ticks\":\"\",\"zerolinecolor\":\"white\",\"gridwidth\":2},\"yaxis\":{\"backgroundcolor\":\"#E5ECF6\",\"gridcolor\":\"white\",\"linecolor\":\"white\",\"showbackground\":true,\"ticks\":\"\",\"zerolinecolor\":\"white\",\"gridwidth\":2},\"zaxis\":{\"backgroundcolor\":\"#E5ECF6\",\"gridcolor\":\"white\",\"linecolor\":\"white\",\"showbackground\":true,\"ticks\":\"\",\"zerolinecolor\":\"white\",\"gridwidth\":2}},\"shapedefaults\":{\"line\":{\"color\":\"#2a3f5f\"}},\"annotationdefaults\":{\"arrowcolor\":\"#2a3f5f\",\"arrowhead\":0,\"arrowwidth\":1},\"geo\":{\"bgcolor\":\"white\",\"landcolor\":\"#E5ECF6\",\"subunitcolor\":\"white\",\"showland\":true,\"showlakes\":true,\"lakecolor\":\"white\"},\"title\":{\"x\":0.05},\"mapbox\":{\"style\":\"light\"}}},\"xaxis\":{\"anchor\":\"y\",\"domain\":[0.0,1.0],\"title\":{\"text\":\"es_hombre\"}},\"yaxis\":{\"anchor\":\"x\",\"domain\":[0.0,1.0],\"title\":{\"text\":\"count\"}},\"legend\":{\"tracegroupgap\":0},\"margin\":{\"t\":60},\"barmode\":\"relative\"},                        {\"responsive\": true}                    ).then(function(){\n",
              "                            \n",
              "var gd = document.getElementById('b37b8100-112f-46db-b622-0dfa1127e4d9');\n",
              "var x = new MutationObserver(function (mutations, observer) {{\n",
              "        var display = window.getComputedStyle(gd).display;\n",
              "        if (!display || display === 'none') {{\n",
              "            console.log([gd, 'removed!']);\n",
              "            Plotly.purge(gd);\n",
              "            observer.disconnect();\n",
              "        }}\n",
              "}});\n",
              "\n",
              "// Listen for the removal of the full notebook cells\n",
              "var notebookContainer = gd.closest('#notebook-container');\n",
              "if (notebookContainer) {{\n",
              "    x.observe(notebookContainer, {childList: true});\n",
              "}}\n",
              "\n",
              "// Listen for the clearing of the current output cell\n",
              "var outputEl = gd.closest('.output');\n",
              "if (outputEl) {{\n",
              "    x.observe(outputEl, {childList: true});\n",
              "}}\n",
              "\n",
              "                        })                };                            </script>        </div>\n",
              "</body>\n",
              "</html>"
            ]
          },
          "metadata": {}
        }
      ]
    },
    {
      "cell_type": "code",
      "source": [
        "px.box(datos, x = 'meses_contrato', color = 'abandono')"
      ],
      "metadata": {
        "colab": {
          "base_uri": "https://localhost:8080/",
          "height": 542
        },
        "id": "XZhgaexUGeh1",
        "outputId": "1178fa4f-600d-4923-9d37-b1728c40c7ac"
      },
      "execution_count": 602,
      "outputs": [
        {
          "output_type": "display_data",
          "data": {
            "text/html": [
              "<html>\n",
              "<head><meta charset=\"utf-8\" /></head>\n",
              "<body>\n",
              "    <div>            <script src=\"https://cdnjs.cloudflare.com/ajax/libs/mathjax/2.7.5/MathJax.js?config=TeX-AMS-MML_SVG\"></script><script type=\"text/javascript\">if (window.MathJax && window.MathJax.Hub && window.MathJax.Hub.Config) {window.MathJax.Hub.Config({SVG: {font: \"STIX-Web\"}});}</script>                <script type=\"text/javascript\">window.PlotlyConfig = {MathJaxConfig: 'local'};</script>\n",
              "        <script charset=\"utf-8\" src=\"https://cdn.plot.ly/plotly-2.35.2.min.js\"></script>                <div id=\"e7545237-2cdf-48a3-ad46-b48fdc441fc9\" class=\"plotly-graph-div\" style=\"height:525px; width:100%;\"></div>            <script type=\"text/javascript\">                                    window.PLOTLYENV=window.PLOTLYENV || {};                                    if (document.getElementById(\"e7545237-2cdf-48a3-ad46-b48fdc441fc9\")) {                    Plotly.newPlot(                        \"e7545237-2cdf-48a3-ad46-b48fdc441fc9\",                        [{\"alignmentgroup\":\"True\",\"hovertemplate\":\"abandono=0\\u003cbr\\u003emeses_contrato=%{x}\\u003cextra\\u003e\\u003c\\u002fextra\\u003e\",\"legendgroup\":\"0\",\"marker\":{\"color\":\"#636efa\"},\"name\":\"0\",\"notched\":false,\"offsetgroup\":\"0\",\"orientation\":\"h\",\"showlegend\":true,\"x\":[9,9,9,71,63,7,65,54,72,5,72,56,71,34,1,50,23,3,55,54,26,69,37,49,66,67,20,43,55,59,12,27,27,25,25,29,72,14,35,1,29,64,39,40,6,30,27,70,57,58,16,69,32,16,71,33,10,26,50,61,26,72,44,66,44,69,2,27,26,39,72,24,19,71,33,3,47,62,71,7,27,2,25,30,9,69,66,46,54,12,22,70,30,71,30,10,4,52,8,2,3,19,72,63,66,60,48,50,72,46,72,1,1,67,48,72,52,67,32,3,50,71,16,67,72,23,72,7,8,66,63,12,27,35,54,5,19,52,72,32,41,5,11,16,71,11,71,9,6,6,11,49,3,53,3,70,39,60,55,72,72,60,46,15,23,11,56,25,68,40,71,17,18,37,2,28,9,1,65,3,36,22,72,67,34,10,69,40,20,46,72,70,2,23,36,67,72,72,72,58,31,3,55,49,39,66,15,51,9,25,22,15,3,47,67,18,62,41,44,53,48,54,24,33,66,3,13,63,52,3,10,72,29,62,26,19,72,45,32,41,65,11,49,61,25,23,21,24,70,46,2,57,60,37,28,24,62,20,52,72,70,66,55,57,72,28,54,24,2,12,51,13,58,18,29,72,71,70,20,63,7,69,9,46,60,16,41,4,24,38,25,40,13,64,20,57,12,59,59,45,50,70,72,13,4,53,63,10,56,65,1,29,72,40,72,3,4,18,62,29,48,53,6,22,72,34,48,21,71,1,1,32,1,63,72,53,50,21,52,4,40,23,57,49,9,61,70,13,34,57,7,44,45,36,69,71,30,52,52,3,72,72,51,51,72,64,13,52,7,4,46,54,72,66,16,11,71,57,62,72,66,16,58,4,72,67,71,72,15,11,43,24,52,13,55,42,2,1,17,27,45,71,36,15,20,71,24,71,66,30,47,7,46,62,70,16,15,45,72,13,6,18,68,64,5,64,26,2,59,17,56,62,53,23,6,8,61,34,56,38,69,72,70,7,61,55,61,14,22,60,1,4,13,3,63,36,54,47,41,13,30,44,47,52,12,54,13,7,42,65,49,62,11,37,1,69,72,26,3,62,26,40,33,72,3,68,19,7,56,66,7,1,8,62,56,41,57,38,26,72,30,68,63,60,19,25,71,8,20,43,17,44,2,71,72,18,67,56,69,1,25,55,53,59,7,3,64,51,69,38,56,63,11,24,72,69,56,18,11,45,61,66,42,55,1,68,1,17,15,28,28,40,63,39,48,44,69,49,24,71,61,18,27,64,1,50,30,57,17,51,60,33,38,1,16,72,41,65,72,67,49,19,69,47,53,27,11,28,53,19,3,23,63,61,27,1,4,8,12,56,52,20,68,3,50,60,4,45,25,43,9,62,40,6,20,16,8,72,21,64,3,58,18,67,61,52,14,43,52,4,5,27,23,49,71,59,64,72,44,30,39,15,70,72,72,35,68,71,70,29,66,20,55,9,72,49,24,42,52,18,12,72,52,70,18,7,54,68,72,55,9,4,18,41,6,14,61,13,64,72,27,22,11,4,7,6,50,11,54,23,67,46,0,48,40,30,15,16,9,7,20,11,1,44,43,24,7,57,11,57,23,18,70,33,1,3,54,7,70,30,32,1,56,52,12,29,33,22,10,26,13,66,58,22,72,1,39,1,52,4,70,60,8,3,64,66,49,1,36,58,7,1,72,35,30,52,72,31,70,53,10,29,59,45,12,33,66,49,61,24,1,17,12,61,27,48,71,4,61,31,30,55,42,71,43,19,19,12,4,70,68,57,51,4,70,19,51,71,11,60,62,12,45,8,68,36,1,29,1,14,5,19,71,4,1,6,32,68,63,53,6,59,48,1,37,27,72,70,12,23,23,40,11,42,12,71,39,58,61,19,61,16,60,52,17,63,46,42,47,51,45,53,1,2,64,10,34,32,54,11,8,56,34,1,46,60,22,39,2,35,25,18,3,66,29,66,8,45,18,72,34,2,72,10,51,28,13,2,15,2,12,51,30,64,72,5,72,1,27,72,30,65,61,62,45,52,24,70,39,42,20,72,13,22,1,7,8,8,64,22,26,31,4,48,71,36,1,21,58,29,11,64,1,64,39,39,24,1,8,36,16,7,41,5,55,72,72,1,47,21,68,58,33,33,56,49,68,72,1,1,67,45,72,10,59,22,30,52,10,20,35,72,65,7,23,29,43,18,71,9,48,27,70,58,60,46,8,68,46,8,9,1,63,18,18,37,63,6,48,4,29,27,65,31,49,72,5,1,33,1,65,60,63,55,68,72,37,29,64,46,23,68,41,17,55,5,68,7,41,2,1,1,3,17,37,22,68,72,16,65,55,1,33,30,25,1,25,72,44,18,7,59,70,40,34,5,68,14,19,67,50,43,59,27,40,28,5,54,63,20,72,71,32,71,71,71,22,68,2,29,12,34,40,72,72,45,72,71,18,68,68,34,24,58,37,52,45,43,26,56,1,68,27,9,1,71,72,21,54,8,24,48,5,17,72,72,6,72,62,1,51,38,33,20,31,64,72,9,61,52,69,1,68,14,7,1,51,15,72,50,57,44,62,7,72,1,72,1,32,71,60,4,52,29,49,40,57,62,23,65,38,72,2,28,65,2,72,12,26,20,7,23,67,48,64,3,32,51,48,18,23,55,2,27,35,58,42,44,43,7,41,65,40,46,62,30,70,1,24,11,58,8,35,65,68,46,72,38,58,17,72,50,3,55,71,37,55,61,44,2,56,72,1,44,10,72,66,18,64,22,38,5,18,11,67,67,72,47,54,31,11,11,1,20,8,1,72,23,30,29,59,58,1,4,61,39,31,33,4,32,72,11,23,15,72,35,50,41,33,60,25,0,70,60,34,27,60,56,15,70,1,42,1,2,72,52,57,7,47,65,72,68,72,48,1,35,44,37,65,59,22,1,54,44,6,50,13,1,27,71,14,31,20,12,40,72,1,64,71,64,33,3,70,51,67,68,62,64,3,71,2,36,65,33,54,1,10,60,65,72,26,1,48,41,1,37,56,7,4,71,58,53,31,1,6,49,8,22,61,9,5,65,29,1,12,55,68,34,1,36,15,10,3,1,43,8,71,6,39,46,72,33,32,5,17,5,10,1,41,22,47,65,8,35,8,24,36,67,0,21,11,50,13,64,3,71,9,1,3,46,63,71,5,65,42,3,24,66,25,56,52,23,25,32,23,26,49,1,50,28,49,18,72,37,7,45,19,29,61,4,38,2,15,43,24,64,72,27,35,1,53,6,1,61,1,68,34,13,35,35,72,2,12,69,57,69,41,47,59,18,40,2,68,70,1,72,2,11,56,36,37,18,19,1,38,0,56,30,72,8,53,46,6,13,40,59,50,46,18,35,69,62,23,45,9,24,71,1,2,67,7,13,57,36,66,22,3,69,72,23,40,70,70,3,69,72,67,19,70,21,29,29,25,55,2,19,7,29,29,50,67,37,64,8,1,38,3,32,3,3,56,9,53,63,35,13,14,14,51,68,1,60,23,72,3,6,13,47,3,14,23,72,66,53,11,2,1,18,18,61,65,41,19,4,25,72,5,0,59,68,54,22,49,51,19,2,14,72,63,4,17,71,10,72,69,47,60,2,53,34,60,55,53,57,61,38,60,50,9,71,46,35,23,21,16,70,66,14,46,3,34,3,25,19,65,67,8,67,26,47,20,52,0,61,72,24,4,66,65,34,45,71,2,12,16,72,1,62,53,52,18,51,6,72,72,57,58,71,72,17,8,68,28,2,71,30,34,32,6,45,11,2,23,29,68,17,69,59,1,32,29,28,50,14,20,3,14,23,71,64,12,72,36,4,8,29,59,16,40,9,8,58,71,5,17,30,3,13,30,1,34,52,44,47,13,23,40,67,70,43,72,51,51,22,51,71,3,44,31,3,1,41,60,29,2,5,2,28,14,19,60,71,1,43,68,4,46,35,47,25,19,49,6,68,58,25,24,6,15,26,16,10,21,67,19,40,57,41,28,70,21,36,70,2,56,4,63,68,43,35,60,71,71,24,23,72,72,1,72,34,24,32,26,43,17,71,7,22,68,55,47,55,72,49,7,47,12,34,63,20,47,68,64,1,12,53,24,72,66,42,58,46,45,1,61,72,18,51,57,10,35,9,1,24,2,3,27,70,10,55,31,64,71,66,52,2,57,21,8,17,17,15,62,13,68,58,19,13,71,61,13,1,56,32,72,43,61,69,52,62,54,19,71,5,10,68,1,60,10,16,29,52,4,5,68,50,7,16,21,72,69,26,61,49,37,60,1,5,38,2,1,54,51,15,27,24,10,6,71,1,66,35,65,15,61,22,28,24,36,67,3,66,4,12,7,13,65,59,65,46,68,67,33,20,64,58,24,71,35,8,53,1,72,21,30,70,63,63,11,2,14,3,55,1,20,72,70,27,67,12,17,72,71,1,71,16,2,16,10,71,17,4,40,59,38,72,19,69,70,14,67,1,60,67,45,68,16,37,72,68,67,24,10,45,63,4,68,72,71,72,64,9,60,3,26,41,1,45,50,44,2,72,42,47,9,66,57,42,20,23,28,70,34,1,72,3,72,67,11,58,62,71,72,1,5,19,8,65,36,26,9,2,71,60,38,58,25,19,31,63,56,56,27,60,21,1,25,22,61,6,31,72,3,3,41,49,71,64,18,72,58,7,7,3,52,11,1,33,52,36,51,0,72,16,30,72,13,38,34,71,3,48,20,34,68,67,24,29,67,56,29,7,69,4,35,71,58,9,12,47,67,5,4,52,28,55,2,50,51,72,51,1,63,51,35,46,54,67,12,70,10,21,63,36,57,57,26,63,72,54,59,1,69,12,67,28,33,61,21,2,8,68,72,1,2,2,2,61,35,60,52,5,6,1,66,72,24,8,38,68,9,1,28,7,72,7,65,56,15,56,9,16,69,68,50,10,26,16,70,72,17,10,7,13,70,5,10,39,20,20,72,62,24,21,48,7,53,27,56,17,18,37,48,8,50,1,0,56,1,34,72,32,17,68,47,44,72,22,70,3,44,5,4,4,54,14,12,13,69,35,64,20,26,4,7,10,71,42,9,2,60,39,15,7,15,61,19,59,30,62,18,20,5,0,52,45,69,36,8,2,5,13,38,61,18,23,46,26,35,31,71,42,56,18,13,42,26,54,40,8,25,42,51,58,12,9,2,46,8,16,55,52,62,4,14,59,47,71,5,41,52,9,9,12,52,13,16,45,70,53,8,27,60,20,42,16,65,20,33,22,44,72,51,69,22,53,9,1,32,34,54,62,30,55,17,7,18,6,53,45,64,18,70,69,40,18,1,33,60,72,63,12,31,71,50,54,11,44,62,57,18,70,21,42,21,3,8,2,51,21,70,67,21,1,72,34,29,5,18,20,45,20,29,50,11,72,6,72,48,50,1,36,7,40,72,63,2,60,47,25,4,37,72,67,59,43,30,13,2,30,12,63,48,1,71,61,5,26,40,7,11,8,34,19,70,51,35,30,8,4,10,72,50,71,18,32,72,72,22,42,61,35,40,72,66,20,16,72,19,65,67,39,72,47,65,56,6,56,40,5,3,2,58,13,10,66,56,71,56,55,42,42,14,10,22,39,57,8,63,61,50,35,72,29,54,49,72,1,70,55,26,25,31,2,18,2,13,40,17,10,61,27,60,64,28,34,36,35,22,43,70,15,3,29,72,71,30,19,56,36,57,3,52,2,17,68,57,72,26,14,30,66,49,15,71,39,67,31,13,47,23,57,56,10,30,43,9,27,20,51,1,38,11,56,72,13,1,7,51,29,26,67,65,43,9,30,32,25,13,3,2,67,66,4,50,64,59,51,10,17,1,59,2,24,47,55,60,72,69,29,71,48,36,2,50,3,31,63,54,56,43,25,62,49,1,8,72,63,54,31,59,9,4,38,16,67,20,64,28,71,21,3,31,37,68,34,28,3,11,17,69,37,72,8,49,27,4,72,2,2,67,22,48,47,66,37,56,72,10,9,35,54,63,53,67,71,42,12,57,35,33,62,25,26,34,49,17,53,1,70,28,27,72,7,31,68,32,4,64,26,71,41,41,47,29,42,57,45,54,52,71,72,72,40,64,26,52,62,42,11,41,72,49,56,72,11,29,53,46,72,63,60,35,72,48,53,7,46,12,64,15,41,51,28,66,43,58,66,71,31,71,31,48,72,72,54,72,60,65,34,37,4,62,52,8,69,12,5,1,28,3,58,71,72,2,18,37,50,21,69,72,71,38,22,45,15,66,66,12,32,60,9,67,65,5,16,5,8,71,57,30,32,10,12,14,19,41,69,2,33,12,58,22,61,27,53,19,56,72,17,70,72,69,43,41,46,19,68,52,24,33,31,67,22,66,71,20,66,47,1,70,17,46,41,8,33,1,25,33,11,47,7,49,20,28,4,42,1,4,41,13,50,66,10,1,2,27,58,8,71,63,34,46,58,44,8,24,72,14,2,6,12,7,72,10,15,58,46,4,35,9,20,35,21,49,3,47,13,30,58,53,60,8,51,31,10,41,18,32,10,62,42,72,24,65,72,70,50,71,71,68,43,72,17,31,41,67,17,48,28,71,26,1,11,13,71,4,53,0,43,4,65,13,49,8,72,66,43,52,61,69,70,71,46,28,11,61,6,3,22,52,72,50,7,40,12,9,8,72,71,72,34,24,56,52,55,69,68,63,50,72,70,39,3,52,20,70,37,7,56,57,48,56,62,23,29,29,21,16,16,18,33,35,71,71,33,22,68,27,6,70,49,44,2,1,26,46,10,1,32,60,23,72,11,5,72,35,58,72,56,9,67,31,31,70,1,55,34,32,72,70,49,2,37,32,32,2,64,13,41,9,69,22,23,17,15,48,19,53,71,15,2,26,18,33,72,6,21,3,12,72,64,47,2,72,46,51,36,43,72,35,37,23,65,72,32,39,68,24,16,12,66,58,23,37,1,67,40,72,61,1,41,72,54,70,61,34,35,2,69,72,17,28,5,32,54,16,15,39,41,2,69,69,70,55,70,41,25,23,27,65,22,52,38,3,13,51,40,18,23,72,32,36,68,64,26,26,59,44,13,29,72,34,46,62,63,24,70,1,1,41,56,35,19,13,18,62,7,48,6,64,10,1,33,68,26,1,71,71,6,72,59,57,35,43,67,46,5,72,48,5,72,3,1,38,51,57,65,56,17,5,29,46,22,9,52,64,63,50,15,57,17,6,42,69,6,56,4,45,22,72,66,23,62,23,69,61,70,54,37,71,13,71,4,7,68,32,1,4,26,31,69,65,30,9,44,71,56,72,1,20,54,23,50,72,19,70,59,29,71,11,49,49,67,65,13,48,71,9,50,62,31,20,69,34,72,53,4,3,67,54,3,31,42,71,13,38,4,68,61,16,46,72,5,60,1,39,72,62,3,4,25,51,2,66,72,46,11,51,62,23,28,48,24,19,10,5,65,72,9,70,30,68,31,31,5,35,71,71,57,8,67,1,4,16,23,12,15,32,25,36,72,45,29,56,8,68,62,31,6,8,7,68,14,55,6,28,13,23,15,37,23,38,22,53,2,72,69,35,24,15,16,33,3,23,51,60,13,9,14,34,33,71,16,26,49,45,33,45,1,46,33,25,17,32,1,1,51,15,48,27,72,70,15,17,50,13,6,46,33,30,72,24,71,61,65,23,45,24,18,63,5,6,58,67,12,59,2,4,72,23,28,5,2,14,30,16,72,1,67,11,1,50,72,1,48,31,19,69,7,11,56,43,63,60,44,62,16,35,18,70,67,16,11,61,72,29,20,5,61,10,43,72,15,65,66,44,71,27,14,15,72,63,1,67,20,47,70,35,3,67,5,65,72,67,44,30,63,42,35,19,72,42,61,30,46,58,26,56,49,40,29,24,24,2,36,5,12,18,62,66,6,38,47,45,51,56,2,10,48,28,27,12,15,3,69,12,54,24,2,58,64,58,35,8,72,2,67,72,11,9,37,30,24,68,2,70,64,40,30,32,71,1,18,48,71,50,44,61,29,12,49,52,60,72,40,29,1,65,65,72,1,59,5,72,5,56,23,2,11,53,72,26,31,19,48,2,54,68,70,18,45,47,70,70,37,15,55,58,43,9,6,55,72,8,67,69,44,26,14,49,38,60,69,70,4,14,71,68,71,66,4,55,72,18,25,40,71,29,61,2,56,13,9,7,41,47,30,54,72,24,37,48,69,31,38,37,4,46,21,39,17,54,9,3,70,30,48,62,11,66,39,4,12,32,70,72,17,8,25,10,1,72,43,72,9,50,69,15,26,35,21,52,26,71,66,60,72,38,17,46,5,34,17,16,48,60,72,66,40,23,50,60,8,10,12,37,55,57,43,61,3,67,71,58,22,57,67,36,72,72,25,12,70,21,62,22,65,38,44,6,67,72,40,11,70,41,24,4,17,68,14,63,43,66,4,32,44,1,24,50,51,3,1,53,40,61,1,72,11,25,18,62,55,55,28,62,13,22,24,17,5,45,12,1,60,14,51,1,23,72,1,30,69,1,5,1,13,8,7,25,32,2,13,72,39,6,31,59,27,8,39,4,51,3,59,37,7,6,7,9,4,46,72,28,9,1,19,71,2,18,2,22,2,20,4,71,44,3,72,54,18,26,53,3,25,72,53,10,57,8,33,64,9,60,54,46,6,1,1,48,45,37,11,55,39,38,45,72,1,16,53,71,60,71,14,69,37,7,57,61,2,46,64,72,25,64,24,15,69,50,12,69,66,5,3,69,3,17,57,12,63,1,18,58,50,27,6,10,67,70,48,13,72,72,24,72,68,62,41,46,1,71,60,40,27,1,34,32,27,12,65,62,48,35,1,71,72,31,45,72,45,62,17,54,15,22,1,53,42,56,28,6,56,7,25,57,47,8,12,58,2,52,70,39,63,0,54,11,71,43,21,19,59,72,29,36,10,17,12,58,57,69,23,33,8,34,72,71,64,53,68,52,68,49,37,1,11,70,40,69,71,61,26,60,15,69,1,54,72,9,2,66,72,57,55,51,6,28,16,30,12,55,1,34,6,3,72,10,47,22,39,12,45,70,72,3,6,61,42,1,45,8,14,18,43,27,18,52,3,23,20,31,1,35,6,14,63,68,3,58,24,51,45,61,33,26,23,13,4,1,21,45,12,72,63,43,60,31,53,67,72,4,51,15,69,4,1,55,4,19,23,25,71,14,24,56,7,5,19,16,10,72,51,67,25,45,1,11,20,70,64,65,60,35,11,36,3,31,27,52,21,24,67,10,8,6,65,72,66,66,47,4,21,25,72,36,49,18,15,8,54,42,13,66,63,71,15,10,2,15,53,35,43,72,55,66,40,22,56,72,62,71,39,50,55,6,72,69,1,63,66,63,12,62,1,10,49,22,62,54,33,64,1,65,71,24,67,14,24,70,9,10,30,13,11,62,9,71,58,72,10,19,59,54,42,48,43,68,12,38,14,72,11,17,10,9,4,36,6,72,56,6,49,15,23,54,71,34,42,8,39,2,50,72,11,7,7,59,66,72,33,3,69,24,31,70,1,68,62,4,53,32,41,52,24,72,14,21,71,25,1,23,72,12,70,72,70,16,22,5,69,42,42,5,72,39,21,35,35,12,27,72,58,64,71,10,71,66,69,43,72,61,7,70,5,17,51,5,64,7,60,1,20,72,72,4,1,56,9,12,33,70,1,39,45,30,7,59,1,72,67,47,4,24,9,7,65,14,35,26,7,37,23,50,27,58,12,72,72,9,45,64,64,39,1,58,72,68,38,55,33,57,15,8,4,62,1,68,72,55,42,67,41,26,4,66,15,63,59,25,4,69,66,28,57,49,65,42,61,10,67,1,37,35,72,8,19,20,38,57,38,67,22,57,72,70,13,62,31,18,64,42,30,65,18,41,54,32,72,59,52,61,54,8,3,14,72,35,66,48,48,1,67,1,17,40,69,72,1,36,47,16,17,38,50,8,67,38,70,41,59,64,22,70,43,1,72,18,38,2,12,3,71,1,6,26,69,56,47,72,18,51,46,9,72,42,69,14,66,57,14,16,2,64,71,3,72,26,52,72,36,46,51,4,56,44,29,29,1,29,68,34,1,51,52,1,21,70,69,33,1,59,2,4,61,42,1,71,27,57,37,41,26,10,31,10,14,9,72,42,2,5,46,57,21,4,65,19,1,72,70,28,71,5,69,57,68,1,71,27,71,63,72,1,65,52,9,21,63,25,66,44,60,60,59,12,8,28,12,30,2,41,55,72,30,25,46,31,68,58,70,48,72,63,30,60,33,67,25,72,63,39,33,48,10,45,64,68,6,29,39,20,52,71,41,69,68,20,35,17,1,7,62,1,44,39,72,47,15,2,54,69,72,21,3,46,34,72,37,60,62,42,25,18,68,12,15,63,32,1,41,50,56,57,3,22,36,22,70,14,18,23,1,71,64,35,11,27,64,71,1,69,9,1,21,13,7,57,19,72,45,60,42,48,55,9,43,7,71,32,8,72,51,3,26,35,27,2,26,65,41,22,64,65,24,51,72,69,44,70,40,61,23,72,62,50,64,47,47,58,34,60,12,64,22,11,15,14,23,2,59,1,61,1,10,69,35,48,72,62,40,16,1,72,44,59,18,23,51,64,69,2,35,26,26,68,44,29,24,14,56,6,6,71,43,15,22,44,12,52,53,50,24,38,42,63,56,37,18,44,1,69,55,47,72,16,65,18,45,21,72,72,1,48,67,65,11,52,71,3,10,15,3,52,21,68,39,46,72,64,13,5,72,57,72,47,69,38,26,14,11,27,8,23,60,6,7,66,72,33,23,59,4,67,4,72,42,26,38,24,65,67,24,64,40,15,71,27,4,12,52,60,33,1,6,35,72,43,43,5,44,53,23,62,27,15,69,3,70,15,67,64,45,40,8,70,38,51,9,2,72,48,17,71,1,11,72,27,50,35,53,72,25,37,26,35,71,28,71,70,71,62,72,14,70,9,72,63,70,72,8,66,10,25,45,11,8,72,61,35,69,59,52,20,53,3,13,54,34,35,10,27,31,10,34,13,15,70,36,26,69,1,52,68,62,19,9,24,61,72,8,13,30,38,71,36,52,65,64,71,3,68,6,37,68,15,59,17,41,64,2,49,69,55,37,56,50,1,1,35,67,1,22,4,43,6,47,25,37,68,63,41,4,1,35,3,47,3,72,2,63,53,3,9,66,6,47,18,38,45,66,58,2,71,45,46,72,53,72,49,44,55,59,34,5,43,10,2,51,50,61,13,5,1,39,56,4,14,71,27,2,41,32,49,49,39,72,6,67,3,47,22,52,32,1,1,26,49,48,5,39,13,59,17,38,70,53,3,10,27,65,64,31,72,22,6,49,35,63,72,7,23,64,66,7,8,14,17,46,2,22,66,23,72,71,46,40,53,12,2,37,66,53,1,41,72,36,41,24,58,42,12,72,43,1,4,70,59,14,17,72,35,34,72,19,72,17,22,21,34,11,72,25,29,35,64,28,23,1,66,18,32,65,26,20,59,48,41,72,21,42,33,23,72,72,22,12,4,28,46,11,60,15,41,68,37,67,32,25,28,63,69,6,72,71,1,71,19,63,6,34,67,28,53,64,46,1,47,7,13,2,67,63],\"x0\":\" \",\"xaxis\":\"x\",\"y0\":\" \",\"yaxis\":\"y\",\"type\":\"box\"},{\"alignmentgroup\":\"True\",\"hovertemplate\":\"abandono=1\\u003cbr\\u003emeses_contrato=%{x}\\u003cextra\\u003e\\u003c\\u002fextra\\u003e\",\"legendgroup\":\"1\",\"marker\":{\"color\":\"#EF553B\"},\"name\":\"1\",\"notched\":false,\"offsetgroup\":\"1\",\"orientation\":\"h\",\"showlegend\":true,\"x\":[4,13,3,45,1,13,4,1,2,40,11,1,1,49,21,37,7,15,2,12,1,3,25,1,22,58,10,6,70,25,15,4,2,5,1,1,15,28,27,2,9,32,3,5,49,1,8,5,61,26,1,23,2,1,68,8,1,3,5,3,41,6,58,31,36,32,1,23,17,3,58,2,1,59,37,3,54,60,1,8,1,28,48,23,41,43,55,1,1,5,27,5,1,1,18,5,1,35,30,15,55,9,69,5,27,22,8,62,14,53,20,1,1,64,49,28,10,21,22,23,2,13,16,67,47,21,7,1,1,15,1,2,65,13,46,53,4,4,9,12,4,1,55,9,24,4,1,2,70,2,1,3,9,9,16,3,1,27,2,52,9,1,53,34,20,5,13,9,10,5,54,4,2,27,1,54,11,72,3,3,7,35,10,58,7,20,13,32,1,1,69,18,1,7,5,1,11,1,1,12,41,56,1,1,1,16,1,1,3,17,47,15,14,54,16,1,2,2,67,1,10,38,13,7,7,23,6,12,2,50,14,1,2,31,4,9,55,68,16,12,4,1,2,21,3,46,53,15,1,10,63,1,1,11,4,7,3,21,3,1,11,29,70,1,57,1,3,10,56,1,10,10,28,1,1,2,58,12,9,7,52,1,32,70,13,4,8,5,12,30,7,1,12,17,66,3,51,35,2,26,4,1,2,42,5,10,68,20,33,18,1,14,3,34,12,9,42,5,54,1,4,47,1,9,1,1,29,17,1,5,1,1,50,1,1,40,41,11,12,2,69,20,22,48,22,10,1,13,7,1,1,1,14,16,1,1,3,2,70,27,1,66,1,18,11,1,1,13,7,12,43,24,2,38,33,3,21,5,7,2,6,1,29,30,31,5,3,4,14,25,1,4,22,37,15,13,46,12,7,22,15,47,1,7,1,7,8,15,70,1,4,39,58,20,2,4,14,3,48,10,16,1,38,57,16,9,28,24,39,36,5,2,6,62,1,4,8,13,41,59,10,24,22,6,1,12,40,5,6,40,41,10,31,2,4,6,1,1,2,38,17,71,61,1,4,37,7,3,6,4,1,12,4,1,4,66,53,1,4,27,9,7,15,4,26,67,10,8,1,6,29,30,25,9,11,4,17,2,1,64,1,2,2,63,10,9,2,15,1,24,53,16,5,13,1,71,52,2,24,2,41,14,1,43,17,20,4,1,1,2,45,40,1,35,63,72,25,21,39,4,8,56,31,2,1,4,5,17,1,24,12,4,2,10,17,1,11,2,4,6,40,32,55,2,62,12,33,1,9,48,10,1,3,41,1,1,1,7,5,1,61,1,67,12,27,2,2,60,8,57,6,56,13,6,1,2,5,1,1,1,1,49,68,50,3,57,39,17,8,26,18,8,3,1,10,4,19,71,39,1,37,1,59,15,5,35,6,28,3,34,1,33,18,28,67,16,13,4,5,8,25,12,21,55,2,65,1,58,15,1,6,58,16,8,1,15,1,70,3,37,22,32,3,15,33,1,29,65,10,1,8,35,13,14,9,1,31,7,22,3,1,15,2,5,1,4,36,2,14,6,58,2,45,1,32,42,1,2,1,6,11,21,1,2,1,15,2,16,32,66,1,57,1,56,13,1,7,1,1,50,4,7,31,3,7,66,35,23,4,12,2,54,1,7,1,17,72,1,1,12,6,50,1,53,4,23,26,12,1,24,28,30,42,1,37,6,8,25,19,7,29,2,36,1,31,11,8,19,9,3,55,21,1,39,1,10,9,22,31,3,5,52,5,8,13,8,41,31,3,46,10,5,1,2,1,2,4,1,4,6,5,1,30,17,6,68,1,1,8,9,19,7,40,3,53,12,1,68,7,19,2,1,1,67,41,1,6,14,16,3,23,3,25,27,1,21,2,3,2,46,5,13,61,2,42,3,52,16,35,1,11,6,1,38,2,16,59,2,7,10,16,5,1,70,49,17,47,11,10,22,43,3,4,3,6,1,3,56,24,25,1,25,56,1,8,7,57,35,2,15,6,13,16,21,19,2,1,2,1,17,18,2,55,31,1,22,11,56,2,44,1,26,1,1,4,1,1,4,9,46,1,47,59,5,1,48,1,38,1,4,2,23,10,30,29,20,13,8,25,1,46,29,1,37,1,70,1,1,24,1,32,1,11,1,29,5,11,9,1,31,56,3,5,3,15,1,11,4,4,7,35,2,27,1,50,10,54,7,6,2,1,1,1,3,1,39,60,1,18,58,3,43,1,11,25,1,33,10,10,1,9,2,4,1,9,4,1,22,1,1,1,39,19,2,33,13,8,8,57,1,33,4,68,1,2,2,36,71,11,51,4,10,3,32,32,2,2,1,9,13,51,20,36,1,1,5,34,8,52,32,1,37,4,1,25,69,3,11,62,7,19,65,61,3,24,4,2,2,2,1,34,69,1,54,1,12,21,12,49,55,1,1,1,2,1,16,3,9,28,3,22,15,1,22,20,1,20,20,1,2,2,27,12,4,49,5,1,2,5,4,15,1,1,9,9,58,2,4,10,69,3,29,1,1,2,33,19,2,1,3,5,1,6,1,6,19,1,50,13,3,13,45,15,1,18,1,19,10,7,1,19,4,8,18,5,32,1,10,44,40,12,26,9,26,5,20,32,3,37,1,30,72,24,5,5,1,16,66,17,6,4,3,1,16,1,1,1,1,9,3,2,3,49,47,12,43,3,25,9,22,2,15,1,5,18,42,60,2,22,33,22,31,3,69,29,53,1,20,59,8,11,11,20,10,3,44,10,35,1,1,24,1,1,4,10,49,1,34,48,43,6,25,9,17,1,3,66,5,7,45,1,1,47,2,67,3,7,1,1,38,1,53,9,30,71,1,16,50,1,25,2,34,47,1,14,1,1,1,5,30,34,62,53,49,1,42,56,43,3,40,20,47,11,1,5,14,1,7,36,26,5,52,46,1,57,1,3,53,70,61,68,13,23,13,26,47,19,1,1,11,7,1,18,1,4,24,1,37,26,1,15,36,1,4,20,5,25,3,1,1,46,8,1,1,39,54,65,2,1,20,6,29,2,35,17,1,54,53,1,65,3,24,15,8,33,1,61,8,25,70,37,43,1,13,1,1,2,1,65,10,1,2,4,8,2,1,9,18,1,47,10,1,46,1,22,3,1,41,1,4,2,71,11,5,4,1,64,2,3,3,9,17,1,18,7,1,12,15,13,7,50,49,43,4,1,8,16,1,14,9,19,12,38,24,2,36,42,5,63,6,1,16,5,1,2,3,2,2,3,6,1,1,1,2,42,12,12,49,2,24,1,11,37,66,7,22,46,38,1,1,1,39,3,14,5,67,23,48,59,43,1,32,8,60,15,2,66,1,31,30,10,18,12,4,5,17,2,19,1,18,1,2,8,1,2,1,22,2,1,15,2,45,3,28,1,1,1,7,30,38,1,3,9,33,40,3,21,24,1,8,1,14,15,23,42,15,40,1,1,6,1,9,1,27,16,10,13,1,65,1,4,2,4,4,39,23,7,1,24,66,11,46,28,12,2,6,67,22,10,4,16,14,3,1,2,33,51,1,32,19,1,43,1,14,10,2,7,4,3,1,43,1,1,8,42,25,34,21,2,5,6,22,2,26,10,4,66,2,1,5,5,19,13,25,15,14,21,7,24,1,72,3,5,1,49,15,34,51,49,24,44,66,69,47,12,4,2,1,4,60,1,3,16,22,37,7,42,31,13,5,25,1,5,51,4,44,17,9,1,1,6,18,11,12,3,8,72,1,32,1,3,2,8,35,13,54,18,10,28,48,3,7,12,31,44,25,9,1,47,2,1,51,29,7,4,34,1,3,11,1,6,9,5,12,39,3,18,67,27,3,1,13,61,54,68,5,50,17,15,1,1,7,1,49,41,17,41,10,26,1,14,24,19,7,13,7,14,1,1,4,2,6,1,52,5,29,17,34,3,4,1,13,38,1,1,8,3,2,1,13,43,8,33,54,24,12,1,4,48,40,18,15,4,14,1,36,1,7,4,32,15,1,42,18,1,1,18,1,64,18,1,26,11,8,2,16,1,4,38,59,30,3,16,43,30,25,32,3,65,13,1,30,53,17,42,1,30,5,14,2,18,37,29,1,1,1,2,9,1,4,51,1,39,1,22,11,35,17,1,39,66,3,6,9,3,10,41,35,19,17,2,1,8,1,3,40,1,26,14,9,1,3,15,38,21,9,1,4,22],\"x0\":\" \",\"xaxis\":\"x\",\"y0\":\" \",\"yaxis\":\"y\",\"type\":\"box\"}],                        {\"template\":{\"data\":{\"histogram2dcontour\":[{\"type\":\"histogram2dcontour\",\"colorbar\":{\"outlinewidth\":0,\"ticks\":\"\"},\"colorscale\":[[0.0,\"#0d0887\"],[0.1111111111111111,\"#46039f\"],[0.2222222222222222,\"#7201a8\"],[0.3333333333333333,\"#9c179e\"],[0.4444444444444444,\"#bd3786\"],[0.5555555555555556,\"#d8576b\"],[0.6666666666666666,\"#ed7953\"],[0.7777777777777778,\"#fb9f3a\"],[0.8888888888888888,\"#fdca26\"],[1.0,\"#f0f921\"]]}],\"choropleth\":[{\"type\":\"choropleth\",\"colorbar\":{\"outlinewidth\":0,\"ticks\":\"\"}}],\"histogram2d\":[{\"type\":\"histogram2d\",\"colorbar\":{\"outlinewidth\":0,\"ticks\":\"\"},\"colorscale\":[[0.0,\"#0d0887\"],[0.1111111111111111,\"#46039f\"],[0.2222222222222222,\"#7201a8\"],[0.3333333333333333,\"#9c179e\"],[0.4444444444444444,\"#bd3786\"],[0.5555555555555556,\"#d8576b\"],[0.6666666666666666,\"#ed7953\"],[0.7777777777777778,\"#fb9f3a\"],[0.8888888888888888,\"#fdca26\"],[1.0,\"#f0f921\"]]}],\"heatmap\":[{\"type\":\"heatmap\",\"colorbar\":{\"outlinewidth\":0,\"ticks\":\"\"},\"colorscale\":[[0.0,\"#0d0887\"],[0.1111111111111111,\"#46039f\"],[0.2222222222222222,\"#7201a8\"],[0.3333333333333333,\"#9c179e\"],[0.4444444444444444,\"#bd3786\"],[0.5555555555555556,\"#d8576b\"],[0.6666666666666666,\"#ed7953\"],[0.7777777777777778,\"#fb9f3a\"],[0.8888888888888888,\"#fdca26\"],[1.0,\"#f0f921\"]]}],\"heatmapgl\":[{\"type\":\"heatmapgl\",\"colorbar\":{\"outlinewidth\":0,\"ticks\":\"\"},\"colorscale\":[[0.0,\"#0d0887\"],[0.1111111111111111,\"#46039f\"],[0.2222222222222222,\"#7201a8\"],[0.3333333333333333,\"#9c179e\"],[0.4444444444444444,\"#bd3786\"],[0.5555555555555556,\"#d8576b\"],[0.6666666666666666,\"#ed7953\"],[0.7777777777777778,\"#fb9f3a\"],[0.8888888888888888,\"#fdca26\"],[1.0,\"#f0f921\"]]}],\"contourcarpet\":[{\"type\":\"contourcarpet\",\"colorbar\":{\"outlinewidth\":0,\"ticks\":\"\"}}],\"contour\":[{\"type\":\"contour\",\"colorbar\":{\"outlinewidth\":0,\"ticks\":\"\"},\"colorscale\":[[0.0,\"#0d0887\"],[0.1111111111111111,\"#46039f\"],[0.2222222222222222,\"#7201a8\"],[0.3333333333333333,\"#9c179e\"],[0.4444444444444444,\"#bd3786\"],[0.5555555555555556,\"#d8576b\"],[0.6666666666666666,\"#ed7953\"],[0.7777777777777778,\"#fb9f3a\"],[0.8888888888888888,\"#fdca26\"],[1.0,\"#f0f921\"]]}],\"surface\":[{\"type\":\"surface\",\"colorbar\":{\"outlinewidth\":0,\"ticks\":\"\"},\"colorscale\":[[0.0,\"#0d0887\"],[0.1111111111111111,\"#46039f\"],[0.2222222222222222,\"#7201a8\"],[0.3333333333333333,\"#9c179e\"],[0.4444444444444444,\"#bd3786\"],[0.5555555555555556,\"#d8576b\"],[0.6666666666666666,\"#ed7953\"],[0.7777777777777778,\"#fb9f3a\"],[0.8888888888888888,\"#fdca26\"],[1.0,\"#f0f921\"]]}],\"mesh3d\":[{\"type\":\"mesh3d\",\"colorbar\":{\"outlinewidth\":0,\"ticks\":\"\"}}],\"scatter\":[{\"fillpattern\":{\"fillmode\":\"overlay\",\"size\":10,\"solidity\":0.2},\"type\":\"scatter\"}],\"parcoords\":[{\"type\":\"parcoords\",\"line\":{\"colorbar\":{\"outlinewidth\":0,\"ticks\":\"\"}}}],\"scatterpolargl\":[{\"type\":\"scatterpolargl\",\"marker\":{\"colorbar\":{\"outlinewidth\":0,\"ticks\":\"\"}}}],\"bar\":[{\"error_x\":{\"color\":\"#2a3f5f\"},\"error_y\":{\"color\":\"#2a3f5f\"},\"marker\":{\"line\":{\"color\":\"#E5ECF6\",\"width\":0.5},\"pattern\":{\"fillmode\":\"overlay\",\"size\":10,\"solidity\":0.2}},\"type\":\"bar\"}],\"scattergeo\":[{\"type\":\"scattergeo\",\"marker\":{\"colorbar\":{\"outlinewidth\":0,\"ticks\":\"\"}}}],\"scatterpolar\":[{\"type\":\"scatterpolar\",\"marker\":{\"colorbar\":{\"outlinewidth\":0,\"ticks\":\"\"}}}],\"histogram\":[{\"marker\":{\"pattern\":{\"fillmode\":\"overlay\",\"size\":10,\"solidity\":0.2}},\"type\":\"histogram\"}],\"scattergl\":[{\"type\":\"scattergl\",\"marker\":{\"colorbar\":{\"outlinewidth\":0,\"ticks\":\"\"}}}],\"scatter3d\":[{\"type\":\"scatter3d\",\"line\":{\"colorbar\":{\"outlinewidth\":0,\"ticks\":\"\"}},\"marker\":{\"colorbar\":{\"outlinewidth\":0,\"ticks\":\"\"}}}],\"scattermapbox\":[{\"type\":\"scattermapbox\",\"marker\":{\"colorbar\":{\"outlinewidth\":0,\"ticks\":\"\"}}}],\"scatterternary\":[{\"type\":\"scatterternary\",\"marker\":{\"colorbar\":{\"outlinewidth\":0,\"ticks\":\"\"}}}],\"scattercarpet\":[{\"type\":\"scattercarpet\",\"marker\":{\"colorbar\":{\"outlinewidth\":0,\"ticks\":\"\"}}}],\"carpet\":[{\"aaxis\":{\"endlinecolor\":\"#2a3f5f\",\"gridcolor\":\"white\",\"linecolor\":\"white\",\"minorgridcolor\":\"white\",\"startlinecolor\":\"#2a3f5f\"},\"baxis\":{\"endlinecolor\":\"#2a3f5f\",\"gridcolor\":\"white\",\"linecolor\":\"white\",\"minorgridcolor\":\"white\",\"startlinecolor\":\"#2a3f5f\"},\"type\":\"carpet\"}],\"table\":[{\"cells\":{\"fill\":{\"color\":\"#EBF0F8\"},\"line\":{\"color\":\"white\"}},\"header\":{\"fill\":{\"color\":\"#C8D4E3\"},\"line\":{\"color\":\"white\"}},\"type\":\"table\"}],\"barpolar\":[{\"marker\":{\"line\":{\"color\":\"#E5ECF6\",\"width\":0.5},\"pattern\":{\"fillmode\":\"overlay\",\"size\":10,\"solidity\":0.2}},\"type\":\"barpolar\"}],\"pie\":[{\"automargin\":true,\"type\":\"pie\"}]},\"layout\":{\"autotypenumbers\":\"strict\",\"colorway\":[\"#636efa\",\"#EF553B\",\"#00cc96\",\"#ab63fa\",\"#FFA15A\",\"#19d3f3\",\"#FF6692\",\"#B6E880\",\"#FF97FF\",\"#FECB52\"],\"font\":{\"color\":\"#2a3f5f\"},\"hovermode\":\"closest\",\"hoverlabel\":{\"align\":\"left\"},\"paper_bgcolor\":\"white\",\"plot_bgcolor\":\"#E5ECF6\",\"polar\":{\"bgcolor\":\"#E5ECF6\",\"angularaxis\":{\"gridcolor\":\"white\",\"linecolor\":\"white\",\"ticks\":\"\"},\"radialaxis\":{\"gridcolor\":\"white\",\"linecolor\":\"white\",\"ticks\":\"\"}},\"ternary\":{\"bgcolor\":\"#E5ECF6\",\"aaxis\":{\"gridcolor\":\"white\",\"linecolor\":\"white\",\"ticks\":\"\"},\"baxis\":{\"gridcolor\":\"white\",\"linecolor\":\"white\",\"ticks\":\"\"},\"caxis\":{\"gridcolor\":\"white\",\"linecolor\":\"white\",\"ticks\":\"\"}},\"coloraxis\":{\"colorbar\":{\"outlinewidth\":0,\"ticks\":\"\"}},\"colorscale\":{\"sequential\":[[0.0,\"#0d0887\"],[0.1111111111111111,\"#46039f\"],[0.2222222222222222,\"#7201a8\"],[0.3333333333333333,\"#9c179e\"],[0.4444444444444444,\"#bd3786\"],[0.5555555555555556,\"#d8576b\"],[0.6666666666666666,\"#ed7953\"],[0.7777777777777778,\"#fb9f3a\"],[0.8888888888888888,\"#fdca26\"],[1.0,\"#f0f921\"]],\"sequentialminus\":[[0.0,\"#0d0887\"],[0.1111111111111111,\"#46039f\"],[0.2222222222222222,\"#7201a8\"],[0.3333333333333333,\"#9c179e\"],[0.4444444444444444,\"#bd3786\"],[0.5555555555555556,\"#d8576b\"],[0.6666666666666666,\"#ed7953\"],[0.7777777777777778,\"#fb9f3a\"],[0.8888888888888888,\"#fdca26\"],[1.0,\"#f0f921\"]],\"diverging\":[[0,\"#8e0152\"],[0.1,\"#c51b7d\"],[0.2,\"#de77ae\"],[0.3,\"#f1b6da\"],[0.4,\"#fde0ef\"],[0.5,\"#f7f7f7\"],[0.6,\"#e6f5d0\"],[0.7,\"#b8e186\"],[0.8,\"#7fbc41\"],[0.9,\"#4d9221\"],[1,\"#276419\"]]},\"xaxis\":{\"gridcolor\":\"white\",\"linecolor\":\"white\",\"ticks\":\"\",\"title\":{\"standoff\":15},\"zerolinecolor\":\"white\",\"automargin\":true,\"zerolinewidth\":2},\"yaxis\":{\"gridcolor\":\"white\",\"linecolor\":\"white\",\"ticks\":\"\",\"title\":{\"standoff\":15},\"zerolinecolor\":\"white\",\"automargin\":true,\"zerolinewidth\":2},\"scene\":{\"xaxis\":{\"backgroundcolor\":\"#E5ECF6\",\"gridcolor\":\"white\",\"linecolor\":\"white\",\"showbackground\":true,\"ticks\":\"\",\"zerolinecolor\":\"white\",\"gridwidth\":2},\"yaxis\":{\"backgroundcolor\":\"#E5ECF6\",\"gridcolor\":\"white\",\"linecolor\":\"white\",\"showbackground\":true,\"ticks\":\"\",\"zerolinecolor\":\"white\",\"gridwidth\":2},\"zaxis\":{\"backgroundcolor\":\"#E5ECF6\",\"gridcolor\":\"white\",\"linecolor\":\"white\",\"showbackground\":true,\"ticks\":\"\",\"zerolinecolor\":\"white\",\"gridwidth\":2}},\"shapedefaults\":{\"line\":{\"color\":\"#2a3f5f\"}},\"annotationdefaults\":{\"arrowcolor\":\"#2a3f5f\",\"arrowhead\":0,\"arrowwidth\":1},\"geo\":{\"bgcolor\":\"white\",\"landcolor\":\"#E5ECF6\",\"subunitcolor\":\"white\",\"showland\":true,\"showlakes\":true,\"lakecolor\":\"white\"},\"title\":{\"x\":0.05},\"mapbox\":{\"style\":\"light\"}}},\"xaxis\":{\"anchor\":\"y\",\"domain\":[0.0,1.0],\"title\":{\"text\":\"meses_contrato\"}},\"yaxis\":{\"anchor\":\"x\",\"domain\":[0.0,1.0]},\"legend\":{\"title\":{\"text\":\"abandono\"},\"tracegroupgap\":0},\"margin\":{\"t\":60},\"boxmode\":\"group\"},                        {\"responsive\": true}                    ).then(function(){\n",
              "                            \n",
              "var gd = document.getElementById('e7545237-2cdf-48a3-ad46-b48fdc441fc9');\n",
              "var x = new MutationObserver(function (mutations, observer) {{\n",
              "        var display = window.getComputedStyle(gd).display;\n",
              "        if (!display || display === 'none') {{\n",
              "            console.log([gd, 'removed!']);\n",
              "            Plotly.purge(gd);\n",
              "            observer.disconnect();\n",
              "        }}\n",
              "}});\n",
              "\n",
              "// Listen for the removal of the full notebook cells\n",
              "var notebookContainer = gd.closest('#notebook-container');\n",
              "if (notebookContainer) {{\n",
              "    x.observe(notebookContainer, {childList: true});\n",
              "}}\n",
              "\n",
              "// Listen for the clearing of the current output cell\n",
              "var outputEl = gd.closest('.output');\n",
              "if (outputEl) {{\n",
              "    x.observe(outputEl, {childList: true});\n",
              "}}\n",
              "\n",
              "                        })                };                            </script>        </div>\n",
              "</body>\n",
              "</html>"
            ]
          },
          "metadata": {}
        }
      ]
    },
    {
      "cell_type": "code",
      "source": [
        "px.box(datos, x = 'cargo_mensual', color = 'abandono')"
      ],
      "metadata": {
        "colab": {
          "base_uri": "https://localhost:8080/",
          "height": 542
        },
        "id": "kB9u5gpuG0Q7",
        "outputId": "ff91c9d8-908c-48f4-9958-13138a3111d1"
      },
      "execution_count": 603,
      "outputs": [
        {
          "output_type": "display_data",
          "data": {
            "text/html": [
              "<html>\n",
              "<head><meta charset=\"utf-8\" /></head>\n",
              "<body>\n",
              "    <div>            <script src=\"https://cdnjs.cloudflare.com/ajax/libs/mathjax/2.7.5/MathJax.js?config=TeX-AMS-MML_SVG\"></script><script type=\"text/javascript\">if (window.MathJax && window.MathJax.Hub && window.MathJax.Hub.Config) {window.MathJax.Hub.Config({SVG: {font: \"STIX-Web\"}});}</script>                <script type=\"text/javascript\">window.PlotlyConfig = {MathJaxConfig: 'local'};</script>\n",
              "        <script charset=\"utf-8\" src=\"https://cdn.plot.ly/plotly-2.35.2.min.js\"></script>                <div id=\"d2e125cb-8420-4fbe-9a5d-6b75cea73b89\" class=\"plotly-graph-div\" style=\"height:525px; width:100%;\"></div>            <script type=\"text/javascript\">                                    window.PLOTLYENV=window.PLOTLYENV || {};                                    if (document.getElementById(\"d2e125cb-8420-4fbe-9a5d-6b75cea73b89\")) {                    Plotly.newPlot(                        \"d2e125cb-8420-4fbe-9a5d-6b75cea73b89\",                        [{\"alignmentgroup\":\"True\",\"hovertemplate\":\"abandono=0\\u003cbr\\u003ecargo_mensual=%{x}\\u003cextra\\u003e\\u003c\\u002fextra\\u003e\",\"legendgroup\":\"0\",\"marker\":{\"color\":\"#636efa\"},\"name\":\"0\",\"notched\":false,\"offsetgroup\":\"0\",\"orientation\":\"h\",\"showlegend\":true,\"x\":[65.6,59.9,69.4,109.7,84.65,48.2,90.45,45.2,116.8,68.95,101.3,45.05,95.75,61.25,72.1,25.2,83.75,19.85,103.7,20.4,19.6,19.7,91.2,20.45,115.8,20.55,39.4,25.1,89.8,94.75,20.3,75.75,78.2,25.5,61.6,45.0,85.15,51.45,99.25,44.3,94.2,81.25,99.95,91.55,50.35,64.5,19.4,104.8,109.4,50.3,71.4,116.0,93.95,90.8,58.25,107.55,19.95,85.8,35.4,88.1,45.8,94.65,20.5,89.4,74.85,109.95,90.35,86.45,20.3,101.25,114.9,19.55,86.85,25.35,109.9,19.95,87.2,108.15,116.3,89.0,74.4,20.05,35.05,74.75,75.2,84.45,102.4,19.25,114.65,19.4,50.35,57.8,84.3,100.55,19.8,19.95,75.35,48.8,20.15,44.3,84.3,59.55,69.65,36.1,56.6,79.2,45.0,109.65,89.7,84.25,92.65,19.7,50.1,92.45,79.65,109.9,81.4,50.55,62.45,90.4,70.5,20.1,100.7,105.65,114.3,24.35,69.85,58.85,54.4,50.55,19.95,29.3,54.75,60.55,86.2,63.95,65.35,50.2,63.8,20.05,65.0,19.25,36.05,19.05,105.75,40.4,84.8,19.85,49.45,55.15,84.8,20.15,58.7,99.5,26.4,97.65,100.0,102.5,66.05,61.2,74.4,39.6,108.9,19.9,19.6,45.9,99.9,20.05,64.35,19.65,86.85,102.55,78.2,91.2,19.35,70.4,39.55,50.15,20.4,44.6,93.6,57.95,112.1,81.35,99.85,20.0,85.35,62.05,64.4,19.4,105.0,25.15,19.3,55.3,95.4,20.5,105.55,24.45,19.7,110.65,83.85,60.25,59.2,85.3,99.75,66.1,20.55,98.85,49.2,19.5,87.0,49.0,90.7,100.5,85.25,74.7,60.15,80.55,50.15,94.45,20.05,115.6,99.65,80.6,85.25,69.55,35.4,83.5,25.6,20.75,56.75,20.1,98.8,104.85,105.45,96.8,24.25,102.15,64.85,25.25,24.75,19.65,74.45,99.4,19.15,49.45,73.7,74.4,19.8,20.2,71.65,20.1,100.5,62.8,100.35,20.3,92.05,20.35,50.5,42.1,114.6,65.7,74.0,71.1,109.55,20.5,74.55,79.85,62.15,21.05,79.6,73.35,70.1,54.4,19.55,74.55,23.9,44.6,95.5,104.5,61.4,43.95,80.55,99.65,97.95,90.7,101.6,72.75,88.95,20.3,78.35,80.0,19.85,91.8,69.8,69.75,69.85,25.45,75.95,78.75,19.8,19.2,111.9,81.9,18.85,18.7,81.55,29.6,19.95,93.55,48.45,20.2,24.15,70.75,21.0,82.3,70.65,73.55,70.75,48.95,60.6,78.75,19.0,56.25,99.4,85.2,69.55,28.5,97.65,20.25,20.45,93.5,54.65,71.9,116.4,105.55,75.5,86.05,85.8,19.65,105.95,54.15,58.75,95.4,68.25,20.25,75.5,65.85,65.0,93.75,100.4,85.25,34.2,89.65,97.65,90.3,94.3,20.4,25.05,70.7,53.8,99.15,69.75,56.15,86.65,86.8,45.3,91.25,20.75,19.9,33.7,63.35,65.7,74.6,112.95,65.15,59.7,20.65,23.75,19.9,108.1,20.6,19.55,80.15,20.3,109.9,90.4,25.4,46.3,25.2,24.45,78.4,74.0,30.15,77.8,99.0,20.75,75.5,66.7,83.85,96.75,19.1,18.55,20.1,89.4,19.8,21.05,111.25,89.9,19.4,86.95,75.35,44.95,20.0,48.4,94.65,58.95,100.3,105.6,19.55,60.9,20.05,103.75,113.35,75.15,104.05,85.7,20.05,69.1,65.75,86.4,69.4,93.45,64.9,19.45,44.55,96.5,100.85,105.35,20.1,20.2,115.15,113.0,29.8,80.8,85.5,69.9,95.8,83.05,89.45,19.55,29.9,80.5,50.15,89.6,76.35,100.05,20.25,20.65,53.45,80.8,92.95,85.3,30.1,35.5,94.1,19.65,69.9,99.0,104.1,109.2,20.3,20.0,19.8,19.65,24.25,70.65,90.1,29.2,39.0,50.35,50.85,51.45,80.85,54.2,60.65,48.8,45.75,94.8,100.8,19.45,19.05,69.7,106.05,90.55,24.85,74.35,89.1,69.05,80.45,101.5,78.45,103.5,79.05,20.6,54.75,113.15,21.05,70.55,19.55,35.65,19.6,19.5,19.9,108.65,19.65,105.4,109.6,92.15,19.85,19.9,25.7,108.25,20.35,71.05,30.75,25.65,85.5,20.35,20.4,75.85,80.0,54.55,19.7,105.5,105.1,99.8,25.1,19.55,51.0,101.05,74.25,54.55,19.4,19.25,54.4,20.35,49.8,51.1,64.4,105.8,19.6,108.25,100.45,39.4,77.55,53.65,43.8,24.6,23.95,98.45,20.1,53.8,111.45,19.85,84.15,70.25,53.35,24.8,87.55,94.15,39.1,70.6,19.75,20.4,109.75,74.55,109.3,19.55,20.05,106.65,88.8,85.4,25.4,69.7,90.15,89.2,90.45,64.15,20.25,19.45,60.0,89.4,62.15,95.0,19.65,74.45,85.2,54.2,80.3,23.05,49.6,56.4,86.05,20.55,89.9,48.25,108.45,75.5,100.55,76.85,65.1,20.4,26.35,20.05,78.75,19.8,91.15,75.3,115.0,65.25,19.15,19.55,26.1,25.45,19.65,20.4,50.2,24.8,80.25,19.45,110.5,34.65,56.3,80.45,66.4,81.3,66.85,20.0,19.7,53.85,19.65,44.05,110.6,20.7,21.1,107.15,84.8,24.7,55.35,19.35,89.95,69.05,70.05,97.85,20.45,89.55,79.35,80.85,50.3,84.6,108.4,110.75,99.35,20.1,25.05,24.75,86.45,101.35,55.25,24.95,20.05,46.4,68.5,19.55,19.35,94.15,80.0,102.45,115.6,71.6,59.75,60.9,19.55,48.8,78.65,98.25,59.65,99.1,30.35,109.7,94.15,56.05,24.35,55.8,48.8,91.0,80.55,20.45,18.95,76.0,72.9,95.85,85.15,29.3,20.75,35.3,19.75,69.35,107.95,20.0,61.5,20.05,20.1,49.9,19.1,110.45,71.35,84.6,105.7,79.25,19.0,98.7,109.3,19.7,35.6,82.1,19.05,67.8,19.2,29.15,103.15,105.2,89.1,106.1,75.1,51.05,49.9,91.6,49.25,59.5,19.95,64.4,19.65,24.4,105.2,93.65,49.95,94.7,68.4,74.9,43.8,116.05,81.6,100.4,93.25,116.85,20.65,78.35,85.7,20.15,19.85,86.75,73.85,81.45,44.55,63.3,40.65,49.7,25.15,49.9,62.1,20.4,98.3,69.35,99.7,99.0,58.5,106.2,104.35,106.4,20.0,20.35,23.9,115.05,25.15,19.8,19.7,63.75,90.05,92.2,97.55,19.95,55.2,105.35,87.3,93.65,19.85,51.1,23.95,81.45,45.0,93.9,20.7,24.95,106.05,19.55,19.4,85.0,50.1,44.05,20.5,25.45,50.95,70.25,20.2,100.4,91.7,109.85,19.9,74.1,88.75,70.95,19.2,100.05,49.0,75.1,108.15,19.8,20.45,69.5,93.4,45.2,19.8,76.6,95.65,25.25,66.8,19.1,66.4,107.75,19.7,61.4,61.35,69.0,24.2,91.3,54.75,19.75,90.35,54.65,20.2,19.3,44.45,94.25,40.25,50.2,79.5,94.75,25.0,19.35,115.85,24.7,75.35,98.85,59.8,89.75,19.9,20.3,20.05,20.8,20.35,50.5,19.95,84.9,25.1,45.45,70.05,71.1,89.85,20.1,24.3,114.65,20.55,106.8,85.45,20.4,61.2,59.65,19.95,54.3,96.4,67.6,19.8,80.45,25.45,48.9,29.15,89.2,24.05,55.65,94.55,19.75,89.1,107.75,50.95,20.25,58.35,19.85,25.05,68.7,109.95,20.85,85.35,50.15,50.3,60.0,20.35,24.8,65.05,50.35,93.8,20.05,20.65,66.8,75.55,74.6,20.5,79.8,20.35,54.6,111.6,43.95,90.6,24.2,58.6,64.35,19.5,66.7,80.4,19.3,44.75,68.6,20.55,50.05,25.25,20.5,61.15,40.3,20.35,95.1,92.85,100.6,20.1,89.7,49.65,110.25,98.2,90.1,44.0,19.65,113.3,90.6,20.1,20.2,100.05,49.9,79.2,95.25,19.7,23.3,90.95,59.8,34.2,25.6,25.15,19.65,58.4,25.05,19.05,70.65,19.15,92.2,107.75,104.7,108.65,19.05,19.35,101.1,20.0,103.1,81.05,102.6,19.0,85.6,58.75,108.75,20.4,103.85,86.05,67.45,55.45,84.2,81.7,100.85,114.45,64.0,55.7,59.45,35.9,26.0,80.55,84.0,51.65,105.75,96.6,19.5,71.0,111.15,20.05,79.35,25.25,35.45,92.7,19.35,49.4,70.9,75.4,104.4,74.95,25.4,20.25,107.95,96.65,20.35,54.7,88.15,78.95,19.35,25.75,73.1,50.75,95.0,104.1,55.55,21.1,20.15,115.55,19.5,75.4,84.35,72.1,84.8,26.2,105.35,85.3,44.8,19.7,89.95,25.25,108.75,35.2,19.3,20.1,63.9,54.9,20.05,65.65,39.35,20.05,92.4,25.6,19.45,105.9,89.85,65.15,69.7,19.95,53.45,58.55,79.95,55.0,78.85,94.45,49.2,73.55,111.95,89.3,59.1,53.0,80.65,60.85,79.65,89.85,90.0,24.55,20.0,24.25,81.95,98.6,25.25,85.3,45.85,85.5,19.4,116.05,85.9,99.15,20.1,19.5,49.3,19.55,24.3,44.45,79.35,103.2,44.4,79.2,20.65,20.4,60.5,81.85,80.1,19.4,80.55,81.05,79.55,90.35,104.0,85.15,46.25,79.15,72.95,66.6,35.5,70.1,24.95,19.35,109.15,94.4,94.0,95.1,110.8,78.5,110.75,49.05,63.1,45.4,19.75,99.2,99.0,48.75,95.65,58.0,99.25,60.3,100.75,70.45,86.8,71.0,20.05,82.15,19.85,76.55,109.05,19.4,55.65,33.15,44.45,19.5,19.3,90.0,111.05,24.55,104.4,74.55,104.05,84.2,25.05,20.05,40.1,50.55,20.3,20.35,24.15,20.5,94.4,61.5,75.2,20.65,94.9,104.25,36.0,70.6,80.4,70.4,113.65,19.9,93.0,20.25,99.15,66.25,91.0,104.35,85.0,94.9,115.15,20.2,95.3,20.1,114.85,69.65,20.0,20.5,90.1,80.05,85.1,50.7,61.9,20.4,19.8,108.4,74.7,19.35,19.75,19.85,54.8,89.6,94.6,39.2,102.6,20.25,56.8,53.8,64.55,101.4,25.7,75.45,72.1,84.75,64.05,75.2,19.75,19.7,19.65,74.3,111.65,73.65,95.0,76.0,44.3,97.8,20.65,44.8,25.0,47.85,79.3,90.65,20.4,73.6,110.8,70.2,86.8,95.7,25.75,24.3,54.9,78.45,54.6,104.35,55.1,20.0,101.0,109.45,64.2,76.1,20.6,103.2,30.2,64.55,24.7,63.7,19.95,84.05,20.7,75.4,53.45,19.5,94.8,105.05,23.3,24.15,21.15,91.05,19.55,73.45,100.1,45.4,61.35,65.5,50.6,70.45,30.4,111.5,20.1,19.75,19.3,20.35,19.7,109.3,44.6,101.4,96.55,43.8,40.25,19.8,49.0,76.1,107.5,19.55,72.75,20.85,101.75,49.65,19.4,111.75,23.65,84.3,46.1,56.45,19.65,20.25,76.15,19.45,108.0,19.9,88.85,76.95,24.8,104.9,98.1,20.45,100.05,81.3,44.75,88.8,110.5,19.9,80.3,99.65,98.9,19.65,89.45,20.3,55.7,66.15,58.2,20.05,33.6,79.55,20.55,108.05,101.45,25.75,79.55,100.9,25.05,105.35,20.75,53.65,25.2,51.65,71.1,25.7,86.1,20.05,19.6,48.95,54.85,56.9,84.2,19.8,109.55,20.5,82.65,20.35,24.0,50.15,56.3,20.15,103.7,74.2,100.15,89.2,43.35,29.1,53.1,111.3,61.9,36.0,58.95,104.95,19.45,110.3,80.35,85.45,20.15,83.4,20.5,19.95,80.3,108.55,69.35,25.3,100.3,74.75,54.95,20.55,19.8,99.75,105.1,25.1,26.8,101.35,88.45,54.55,20.05,20.05,19.4,19.9,19.45,95.05,71.45,95.25,29.8,81.4,45.0,19.8,103.9,45.9,103.65,19.9,45.9,75.35,49.7,68.3,19.4,56.15,73.0,59.55,95.85,19.15,24.7,89.65,19.55,83.65,105.1,85.95,40.9,19.9,102.65,74.2,19.45,75.75,104.9,86.9,45.2,21.3,79.85,19.35,80.8,69.8,101.05,19.55,44.55,84.05,70.4,20.6,24.95,34.85,90.6,80.55,84.75,69.95,83.45,19.7,100.55,68.95,88.7,20.2,104.05,94.65,20.7,59.9,110.1,94.05,103.05,79.2,64.8,33.45,64.15,84.45,20.85,50.9,85.3,85.95,25.95,18.8,51.4,60.5,69.45,78.75,94.7,91.95,90.05,59.05,95.4,19.75,104.9,93.5,74.55,84.7,90.85,69.95,110.05,92.0,86.15,24.9,40.05,71.05,103.95,74.2,95.15,103.65,20.7,20.0,20.65,75.3,33.75,70.8,111.2,75.1,25.0,74.85,20.05,66.15,20.2,19.9,60.65,34.8,81.25,24.6,73.8,58.55,55.25,25.15,69.2,19.9,93.8,55.9,25.85,99.65,20.4,82.3,89.85,19.7,19.75,19.9,29.8,19.65,77.15,92.0,103.1,25.55,79.0,60.95,20.3,74.15,94.75,100.7,107.65,20.0,50.1,19.95,54.3,84.45,55.8,20.25,81.25,25.8,24.05,20.3,52.15,79.15,25.6,80.55,19.55,97.75,98.0,64.4,64.8,93.25,19.6,88.05,24.95,90.05,20.5,19.25,46.3,90.05,65.85,100.15,92.55,53.75,86.45,101.15,104.95,20.15,55.3,19.7,64.2,109.95,19.65,64.95,19.75,51.05,105.65,19.95,20.25,80.7,84.05,20.25,84.6,105.0,105.1,111.25,75.25,70.9,59.45,54.25,98.55,21.0,25.35,93.7,89.1,51.1,69.35,89.0,91.55,79.95,81.0,99.0,70.3,20.05,20.1,110.1,20.2,43.6,24.05,100.3,45.65,29.45,44.7,113.8,116.6,79.75,86.1,25.45,84.7,19.15,56.3,19.6,60.0,45.25,19.45,69.1,19.6,83.7,25.4,25.5,111.4,72.6,34.6,66.1,85.5,34.4,19.3,64.05,19.2,98.85,79.3,50.8,93.5,78.1,19.5,92.0,95.6,96.9,104.65,96.9,94.55,97.25,54.1,20.2,49.55,80.1,99.5,54.1,102.65,19.75,54.25,19.85,105.55,19.95,83.55,85.45,76.1,24.5,21.25,19.2,19.7,106.3,24.85,104.1,18.8,23.85,50.15,94.1,115.15,60.0,89.55,60.5,59.9,63.55,80.75,109.0,20.05,94.4,79.2,74.6,45.25,55.7,103.75,24.85,79.55,71.45,79.45,54.35,19.5,89.1,89.55,77.35,24.4,60.4,76.9,55.5,45.2,19.7,86.05,20.95,94.95,74.6,69.1,20.0,20.3,20.75,24.2,89.75,69.5,92.4,69.1,70.3,45.65,74.0,34.95,25.25,57.5,80.25,54.3,79.7,24.7,19.55,74.1,84.05,60.25,70.5,19.15,70.8,80.45,26.2,19.95,111.3,90.55,70.0,99.95,38.5,109.55,55.3,112.6,26.1,49.7,75.5,19.3,99.3,19.4,52.3,20.65,19.9,70.95,77.75,67.45,85.1,83.6,98.35,19.45,26.9,24.0,30.4,104.8,20.0,74.05,62.65,49.85,45.55,45.9,105.25,84.35,90.95,75.1,49.55,94.7,84.8,18.85,55.05,24.2,110.3,75.9,111.55,74.6,98.9,99.05,44.4,20.35,20.4,20.45,35.1,95.6,104.45,54.25,60.0,50.05,109.2,24.45,109.25,19.35,54.45,49.9,19.95,64.1,101.8,80.85,38.8,20.05,43.8,86.5,59.9,60.6,44.8,19.9,115.1,97.0,20.75,19.7,36.25,88.6,19.2,88.65,113.25,108.1,74.3,20.5,39.7,115.15,20.65,19.85,19.95,19.45,116.6,24.4,63.05,31.2,106.5,38.55,19.65,25.5,82.5,69.7,74.45,65.35,53.65,99.15,85.2,20.55,84.5,78.9,101.15,49.3,20.45,91.7,70.7,19.75,18.95,83.85,19.8,19.6,54.8,20.45,19.55,114.0,20.4,25.7,61.2,110.35,75.35,85.55,51.1,91.25,84.85,35.35,60.95,20.2,54.65,40.05,19.45,20.65,20.45,100.75,107.0,108.8,19.2,109.05,24.85,20.1,90.7,20.2,19.55,20.15,93.2,76.05,68.55,24.6,19.65,106.85,26.05,50.0,116.55,75.55,67.25,86.2,43.95,55.7,18.8,94.75,20.0,44.35,117.6,25.35,24.5,50.95,24.95,19.7,109.5,24.85,35.0,96.35,80.75,19.65,35.5,20.9,66.2,95.65,78.9,105.75,64.65,80.45,106.1,19.65,84.9,113.05,55.5,25.6,71.25,115.25,36.15,25.9,82.85,49.45,40.55,114.05,39.9,53.4,24.7,73.55,97.05,75.7,80.1,41.95,19.4,61.4,70.45,25.55,86.25,71.75,85.7,49.5,50.05,19.75,103.65,39.7,25.7,19.75,84.3,45.1,95.2,54.8,68.75,59.6,95.05,78.8,75.4,80.6,65.2,24.95,44.05,116.45,75.05,92.3,24.9,76.4,65.25,19.2,19.9,19.3,20.6,20.15,20.85,19.7,85.75,20.35,19.4,75.6,60.85,19.8,49.75,78.95,91.55,81.75,61.55,64.0,86.7,96.85,106.6,50.35,61.35,44.95,20.8,108.9,20.15,24.1,19.85,50.4,94.25,50.25,70.3,35.4,49.8,105.25,99.0,20.25,107.45,82.5,78.55,96.2,45.45,103.05,20.95,49.5,70.4,94.6,51.05,93.5,73.35,87.55,20.0,74.85,65.55,76.2,95.0,60.8,19.7,74.95,78.75,20.65,103.8,84.65,65.65,53.6,51.6,59.55,68.75,75.55,89.15,35.75,24.1,110.8,106.8,24.5,88.05,75.85,99.7,104.0,50.55,100.85,39.9,60.9,76.25,90.75,89.7,81.0,64.45,44.45,44.6,97.45,19.1,25.6,24.45,109.55,25.1,34.0,88.0,19.8,90.05,91.35,70.7,103.05,70.35,51.55,105.4,24.75,60.0,96.65,25.25,24.45,33.6,102.9,20.25,25.7,106.35,64.85,49.95,66.65,73.0,25.65,19.2,79.95,24.5,20.0,82.15,102.05,93.25,66.25,51.0,45.0,89.35,88.9,19.95,81.0,54.75,24.85,117.2,64.95,19.85,39.1,69.55,82.3,20.05,79.4,72.6,103.45,19.55,81.15,75.4,20.55,114.9,75.15,35.75,29.8,19.35,49.85,25.4,50.3,19.8,54.85,20.0,105.55,55.8,55.55,59.3,108.2,94.3,64.95,25.8,19.75,54.6,69.7,74.35,108.95,49.85,88.9,20.05,75.6,36.65,20.15,19.55,100.2,24.9,25.75,75.75,44.75,116.25,114.05,90.8,20.5,105.25,65.0,54.9,105.5,94.95,114.75,20.25,106.05,85.55,19.85,20.15,89.8,24.8,79.2,61.8,99.35,50.15,90.25,19.35,49.15,25.45,75.7,36.25,24.75,60.15,99.3,71.3,74.35,50.65,19.5,43.9,19.6,101.15,49.6,25.0,44.5,89.8,77.8,60.0,48.65,52.55,98.15,19.2,110.55,104.8,74.05,69.7,56.15,20.4,19.6,103.95,57.65,59.7,69.1,35.75,59.45,75.5,80.7,20.25,25.95,88.85,54.8,80.45,44.65,105.85,24.6,76.15,88.4,19.05,95.15,25.15,85.05,20.25,45.55,24.95,43.45,74.75,59.45,57.95,101.35,19.75,82.65,68.7,58.9,24.65,96.55,109.1,63.25,20.4,43.75,19.35,68.75,49.15,91.55,24.7,24.25,53.6,44.65,19.9,50.05,81.45,66.5,20.1,110.8,91.0,88.95,20.45,20.4,26.25,78.65,110.25,19.95,62.85,88.4,20.35,18.95,88.85,61.0,19.95,19.3,19.5,70.35,81.25,95.95,45.5,73.9,24.45,97.0,40.2,74.8,23.95,96.35,87.9,20.05,59.55,74.85,109.75,79.85,67.25,87.6,89.9,101.9,46.2,55.6,70.95,107.6,86.9,19.8,98.7,99.85,95.55,79.2,19.55,19.95,20.2,19.6,75.9,89.75,49.35,19.6,45.2,25.85,25.6,20.0,64.4,33.6,20.0,99.7,107.05,20.0,79.6,35.8,91.95,19.65,86.65,95.4,70.35,55.55,60.7,20.25,20.15,72.1,79.8,80.15,95.4,19.3,79.0,75.65,19.6,75.4,105.7,80.1,94.1,82.05,19.45,74.75,19.05,30.25,110.1,23.55,20.15,82.7,24.4,20.05,19.8,65.1,20.25,29.6,19.45,20.8,20.2,113.65,20.65,62.15,89.9,90.25,25.15,19.3,104.9,103.4,19.85,25.15,89.6,20.1,103.75,81.7,20.25,43.7,72.1,74.8,83.3,110.6,51.8,79.95,112.4,24.1,103.15,83.85,49.8,25.0,41.9,100.15,104.75,89.35,73.25,85.05,89.15,73.85,59.5,55.5,73.75,20.0,116.25,80.9,47.6,64.65,75.75,20.7,92.15,19.6,34.55,25.25,20.45,101.3,87.1,71.5,61.45,19.35,25.45,80.2,70.9,70.7,89.85,109.7,84.6,68.95,90.45,73.5,65.8,49.2,91.45,56.25,95.5,71.95,19.1,20.65,19.9,99.9,59.45,37.7,66.15,59.55,97.7,74.9,49.2,26.25,20.0,20.35,65.6,64.4,19.85,63.7,84.4,74.65,34.3,24.15,20.85,65.2,69.6,102.7,20.0,25.1,95.9,20.75,55.3,84.3,76.1,100.45,29.45,93.85,20.35,84.2,20.7,54.2,54.35,19.95,96.1,84.25,19.4,85.6,24.5,66.3,84.85,75.85,81.3,18.9,110.05,70.7,84.1,75.9,106.8,113.65,20.2,75.55,69.2,25.5,45.0,75.0,106.7,105.05,106.0,20.35,83.55,61.4,53.65,19.75,19.9,20.25,54.2,108.45,50.3,80.05,104.65,24.45,83.4,64.9,55.35,20.65,100.05,91.15,56.35,19.65,56.8,53.6,67.2,25.6,84.3,89.9,105.1,95.0,70.1,75.7,75.3,20.45,40.6,46.0,65.2,86.45,105.5,72.0,90.4,45.8,29.35,114.5,50.65,89.4,71.05,109.15,93.0,19.95,94.75,75.1,19.95,19.7,74.35,92.9,95.15,104.55,94.85,98.05,55.05,110.2,85.35,49.9,29.65,20.9,44.6,106.35,94.3,108.5,94.75,35.8,19.85,65.55,108.95,64.2,19.95,105.4,78.85,75.15,20.55,66.9,20.3,61.3,112.75,95.1,69.5,19.25,74.0,104.75,96.75,60.05,83.3,94.45,25.25,90.65,89.7,34.05,24.8,74.3,85.9,64.35,87.2,55.5,80.6,48.75,67.95,91.0,20.3,90.8,24.7,84.85,24.0,91.05,19.0,100.3,85.75,46.35,98.8,19.85,74.45,74.95,59.65,87.55,20.35,79.85,35.45,90.35,90.15,90.25,24.8,54.6,20.25,20.85,97.95,73.15,79.15,94.3,64.8,100.65,105.6,104.8,78.5,87.8,97.75,20.1,24.55,81.15,101.4,95.5,111.65,55.8,48.7,62.8,19.95,50.95,92.85,19.65,98.05,24.6,51.0,61.35,79.15,75.8,79.85,114.6,25.75,20.85,90.55,96.9,73.45,77.35,99.05,25.1,94.1,107.45,44.85,61.45,90.65,105.5,80.2,20.25,19.4,89.55,25.05,24.2,56.05,64.6,24.45,105.15,65.65,45.85,50.3,104.5,83.4,20.75,114.35,104.45,91.05,20.05,95.1,50.9,19.8,45.55,63.85,45.05,76.3,80.6,19.7,50.9,70.95,74.65,55.3,51.35,74.6,24.55,90.45,77.9,54.2,59.65,89.15,86.0,59.8,94.55,105.2,70.35,24.25,19.7,94.3,49.8,65.2,53.45,100.3,75.9,24.45,115.75,80.5,101.1,64.45,80.65,94.3,19.3,19.6,19.95,38.9,95.7,20.1,60.9,21.0,107.05,93.2,85.9,82.0,19.7,49.4,66.05,55.25,90.25,20.15,24.9,111.15,54.75,20.15,44.0,85.9,74.75,70.5,20.15,44.4,30.2,19.25,25.7,54.7,20.75,69.9,56.4,20.45,19.95,24.95,104.9,24.8,19.65,20.35,80.65,20.3,65.45,105.7,109.2,56.95,89.15,99.25,54.05,54.65,83.15,25.45,80.35,69.95,49.5,19.3,69.85,25.0,78.15,84.35,64.9,53.1,19.95,25.4,19.5,89.1,20.1,84.1,101.55,64.5,106.35,52.1,40.35,84.3,19.85,105.9,19.7,99.0,81.15,46.0,86.2,49.85,86.1,75.75,19.85,48.15,98.35,89.55,25.1,106.1,75.65,100.65,73.35,104.1,82.45,91.25,90.35,86.75,90.7,99.65,103.15,19.45,70.1,35.9,24.65,35.4,24.0,82.9,50.55,82.55,19.6,69.7,80.85,91.65,20.15,99.05,104.15,55.35,19.85,90.8,19.7,33.45,104.45,118.6,79.45,97.55,25.55,81.0,59.9,64.9,64.05,78.95,107.95,69.75,58.75,84.45,20.35,20.45,50.25,20.15,59.5,49.4,100.65,73.5,19.3,84.75,24.6,68.75,59.85,21.0,59.1,110.8,19.5,104.4,67.8,106.05,19.75,20.55,101.25,64.15,80.4,100.3,51.3,68.45,19.9,64.4,96.95,89.1,68.75,60.2,75.35,58.85,74.55,68.25,50.0,58.45,20.1,24.45,70.85,88.6,20.3,20.05,20.05,20.2,25.4,106.65,89.2,20.5,44.45,19.15,60.75,18.85,20.25,19.8,44.45,20.05,88.05,75.25,34.25,25.1,89.85,94.35,19.75,81.8,70.05,105.6,89.3,94.5,20.15,19.5,75.0,90.15,19.3,115.8,79.15,71.8,69.0,19.35,19.8,20.55,20.05,73.55,72.8,20.25,76.25,81.5,84.75,75.3,94.2,96.5,26.3,56.1,54.9,109.6,105.35,49.25,73.05,84.3,66.4,107.5,20.95,104.35,29.75,19.35,105.25,108.5,24.55,46.6,89.7,19.95,87.35,63.7,92.55,87.1,108.35,95.15,91.1,26.5,105.0,74.75,19.35,118.6,57.6,86.25,20.05,61.15,25.3,104.45,19.8,20.45,69.9,98.15,89.05,94.35,29.9,20.15,115.8,55.45,25.15,81.0,20.65,19.15,29.05,61.45,25.2,25.65,110.85,75.65,54.65,97.2,19.6,19.6,59.8,19.75,56.55,105.4,105.35,106.5,19.15,19.85,70.2,19.9,57.2,52.85,111.05,20.25,49.75,95.1,70.15,70.45,24.75,81.2,19.25,19.65,68.15,98.85,79.2,54.45,24.9,20.05,80.7,99.5,56.25,19.3,39.5,65.5,100.45,38.25,79.95,83.0,35.75,90.15,19.75,45.85,53.95,44.85,59.6,20.2,20.3,35.2,23.4,53.65,44.8,94.05,20.05,45.8,44.15,20.05,58.25,87.15,25.35,85.45,53.95,19.85,64.7,111.35,74.3,20.5,66.25,94.65,30.75,78.75,97.95,55.5,24.3,24.75,19.6,46.3,20.25,81.15,54.65,99.35,109.8,92.6,75.6,26.1,100.25,76.0,19.9,63.9,43.85,99.7,95.7,99.7,19.6,75.4,59.45,20.65,99.5,79.7,52.0,20.5,89.3,95.9,99.9,96.6,95.1,94.95,44.95,95.2,20.4,80.6,84.4,68.1,71.1,64.75,104.15,50.8,23.5,90.8,81.1,62.8,19.7,54.75,20.4,95.75,89.85,90.05,20.25,49.05,76.9,98.0,25.55,19.95,25.55,69.95,79.1,24.9,109.65,58.2,110.5,93.35,55.25,109.25,19.7,59.6,94.8,69.35,110.0,31.65,78.9,86.4,73.8,20.55,104.3,81.15,24.9,19.9,25.05,55.45,19.85,94.75,41.35,88.8,104.1,80.5,73.55,108.3,87.25,63.15,68.15,19.5,89.05,25.3,64.25,65.65,104.1,19.95,106.15,20.2,99.1,73.0,56.15,20.7,55.3,61.05,24.95,83.8,104.55,89.4,55.65,79.5,83.25,81.0,20.75,82.85,19.25,78.6,69.6,53.7,82.75,92.7,84.1,68.95,80.7,64.5,114.7,20.95,25.0,80.7,54.95,87.95,100.5,69.85,25.25,106.6,20.2,20.15,84.9,54.25,20.5,76.5,70.5,19.9,19.45,85.3,112.2,100.55,36.1,51.3,24.55,26.0,90.7,20.65,80.0,50.7,101.35,59.45,58.6,63.4,19.55,66.4,90.45,18.8,26.45,24.8,81.0,25.25,19.4,45.4,108.3,54.95,94.55,20.8,50.75,38.9,79.0,25.0,57.75,23.95,60.8,30.85,21.25,80.9,20.05,24.9,76.05,69.65,98.65,97.95,85.7,20.6,95.2,19.1,74.8,79.15,69.5,54.6,93.4,20.4,45.3,19.55,94.65,108.1,56.2,20.35,76.95,55.2,106.65,43.05,74.65,55.0,104.4,61.05,25.1,109.2,69.45,58.65,25.0,104.3,81.85,20.85,60.45,60.6,20.0,20.35,29.45,20.75,65.55,51.25,99.45,50.95,83.25,85.45,83.2,96.6,30.5,97.1,78.85,110.45,20.15,117.15,43.85,26.3,64.9,19.9,114.35,83.55,30.55,29.5,75.25,89.35,79.2,20.35,25.2,59.5,51.25,70.8,20.95,109.8,84.95,69.95,55.6,101.3,86.45,60.4,20.5,20.4,51.35,88.7,45.9,50.0,70.05,114.1,29.75,64.85,97.0,85.3,45.25,108.1,20.05,89.45,85.9,81.95,56.15,104.15,96.0,20.95,19.45,80.7,94.9,85.95,108.95,20.0,105.05,105.3,19.85,23.55,84.8,54.0,90.5,80.3,25.1,91.5,19.7,103.65,54.5,80.9,25.35,19.4,59.75,26.0,103.2,25.25,20.4,35.65,74.8,50.6,59.0,55.8,80.85,49.4,25.55,90.7,104.6,19.5,104.85,39.65,24.65,25.0,107.25,44.9,91.1,97.05,18.25,66.15,21.05,94.0,19.6,105.0,20.3,95.1,84.8,50.2,100.4,19.45,75.2,100.8,65.5,20.55,74.9,24.65,113.1,55.05,74.05,96.1,55.3,52.5,79.6,20.45,76.1,58.35,67.45,97.0,19.4,85.75,50.7,69.5,105.25,20.9,90.1,73.85,68.05,89.65,53.75,79.3,89.45,84.95,117.35,89.6,34.3,54.3,90.65,84.85,26.0,33.6,89.75,80.2,114.95,55.7,21.2,20.9,80.45,20.55,25.1,19.7,56.05,59.95,48.95,58.95,20.55,79.95,80.35,72.95,44.35,75.95,20.45,88.55,24.05,40.2,101.9,81.55,45.0,56.35,90.1,20.0,19.7,25.2,19.2,20.85,20.2,54.3,79.3,92.9,98.7,69.0,110.6,112.55,106.15,55.9,54.25,85.45,102.1,99.4,25.3,50.55,19.1,24.1,20.45,95.7,80.75,24.25,90.1,115.1,20.1,59.8,78.3,75.5,49.65,89.55,59.6,19.7,44.1,110.9,89.25,64.65,20.2,104.0,66.4,85.4,40.2,70.2,103.15,20.0,106.4,79.85,65.3,50.85,55.8,111.95,19.55,99.0,20.05,78.1,20.35,40.6,35.0,74.15,35.15,95.0,20.25,74.55,24.4,38.1,20.05,20.05,26.45,71.9,83.7,48.6,99.4,73.7,64.85,60.7,25.75,71.7,89.25,45.45,47.05,65.85,19.85,24.65,95.0,78.9,72.8,53.8,78.95,80.05,54.55,111.45,59.85,108.1,102.85,71.35,20.15,69.5,60.5,20.45,62.25,105.3,70.35,79.4,59.3,85.1,19.75,69.15,93.15,23.85,71.6,78.65,89.55,19.8,19.2,68.4,78.5,76.15,49.85,114.95,103.85,101.15,65.25,95.5,19.3,54.3,19.55,69.2,104.95,20.6,70.2,104.3,19.5,70.3,20.85,94.8,25.75,59.1,102.4,34.0,84.0,19.0,87.65,19.55,20.9,20.45,44.45,111.5,69.85,54.5,77.4,103.75,89.2,45.15,112.25,20.45,20.1,93.9,20.45,45.05,94.45,100.2,43.7,20.0,89.05,80.5,19.9,50.95,53.3,78.85,19.65,19.25,70.2,19.85,19.4,84.4,86.6,19.15,20.7,59.75,20.2,19.55,49.75,100.75,59.25,64.3,19.6,20.5,70.35,40.55,93.05,40.3,69.8,20.1,19.5,80.85,19.5,45.05,50.7,34.2,23.6,83.25,65.6,64.95,50.95,20.25,75.85,23.9,80.0,114.45,64.45,79.75,24.4,18.8,95.5,100.2,55.2,30.25,100.65,70.15,55.0,45.25,90.55,84.8,94.9,66.75,91.3,74.8,93.6,91.15,57.55,20.6,89.8,111.8,79.85,19.6,29.25,93.35,103.5,95.9,80.95,19.65,90.95,20.6,80.55,49.8,73.85,109.75,19.85,60.25,90.4,25.45,69.95,86.1,20.05,70.35,18.95,61.1,72.9,24.15,86.7,18.8,26.0,92.95,38.55,20.55,73.8,51.55,69.1,24.05,89.85,69.75,86.4,56.25,89.0,20.3,105.05,84.6,110.5,67.45,44.8,19.95,74.1,19.65,25.15,89.85,20.05,109.4,25.15,20.05,105.05,108.25,19.55,45.65,25.7,20.8,79.6,19.95,70.15,79.05,110.15,79.85,118.75,84.7,104.05,74.7,110.2,89.25,91.25,70.15,84.9,100.75,29.85,69.15,50.6,20.25,85.15,59.6,48.7,24.0,19.6,19.55,19.6,110.45,49.85,50.25,19.8,95.0,24.4,19.55,87.1,26.35,75.0,19.45,74.1,85.9,85.65,30.1,19.7,95.65,59.1,20.05,59.75,20.05,38.5,29.35,44.1,19.9,79.75,79.25,100.55,19.35,19.85,20.35,19.5,80.1,84.25,86.55,87.7,113.75,103.95,100.55,40.65,20.35,92.55,56.3,61.05,55.7,20.15,78.55,79.95,19.9,89.85,24.3,54.5,73.05,65.0,89.95,72.95,20.5,78.0,19.8,20.0,20.45,19.7,61.9,93.3,24.7,84.9,100.5,20.55,68.6,106.4,19.65,105.2,60.95,19.5,44.5,19.75,98.65,55.0,113.6,30.05,48.8,35.75,55.85,101.3,60.65,64.2,45.35,40.55,19.7,20.85,95.1,60.95,63.8,56.75,81.5,20.1,75.15,60.35,65.2,19.3,20.15,94.2,105.2,50.75,42.3,66.05,69.65,68.35,25.7,48.7,74.15,84.05,20.0,49.7,20.35,96.6,20.3,20.2,40.55,20.4,90.45,107.7,74.5,80.65,96.55,76.4,78.8,59.8,53.75,19.65,75.0,93.8,29.05,19.75,68.65,98.7,86.55,64.45,74.5,80.2,110.0,59.05,19.55,54.9,88.55,20.05,60.15,48.8,19.8,44.55,19.9,100.9,42.4,44.9,85.6,48.25,80.4,76.45,54.6,101.05,64.2,64.35,24.85,73.25,65.9,59.75,94.0,116.1,69.3,81.3,19.3,90.6,81.0,114.3,104.4,19.55,64.75,21.45,34.7,85.85,89.85,99.45,19.4,39.1,80.35,66.3,88.4,54.5,70.7,18.95,19.9,84.5,90.95,91.7,103.1,20.7,19.6,74.6,24.9,94.8,39.2,83.25,75.1,85.65,65.25,56.1,25.0,25.15,81.2,80.6,20.45,21.2,20.1,25.05,110.5,19.65,90.25,115.5,116.5,70.85,56.6,19.6,76.85,107.4,24.25,115.05,59.85,103.95,84.25,89.25,68.75,60.25,71.1,108.5,25.45,19.55,21.15,38.6,20.2,60.2,81.35,49.45,54.75,90.05,105.35,86.55,49.85,99.1,99.65,21.1,35.7,31.1,34.25,111.15,19.85,19.5,79.3,44.0,20.0,113.95,94.05,104.05,100.35,24.75,45.25,56.2,76.75,69.9,25.25,111.8,63.95,88.85,79.8,60.0,75.1,106.3,50.55,56.1,40.7,101.5,69.55,104.5,49.25,84.9,20.05,85.95,103.0,19.75,19.65,80.6,81.85,49.8,22.95,19.6,73.15,19.85,106.8,97.7,35.65,66.85,94.1,20.6,56.75,23.75,93.55,30.4,56.55,19.7,20.9,94.8,44.55,60.3,71.4,20.5,90.8,90.95,51.35,20.65,19.9,93.25,80.45,80.9,83.2,60.35,20.25,20.3,64.8,49.2,77.3,114.55,26.0,54.85,80.0,90.35,108.75,20.0,100.4,55.75,86.4,25.0,60.25,61.0,69.15,73.3,56.7,25.0,45.35,89.45,20.5,51.2,79.05,59.75,19.95,26.45,24.85,19.45,44.65,39.15,84.7,21.1,19.4,59.9,53.85,34.65,116.05,20.45,68.9,115.55,107.45,90.4,21.05,93.15,70.5,95.7,24.15,19.85,47.95,41.15,24.65,94.4,19.4,76.45,70.6,110.45,75.5,73.6,61.3,104.15,50.8,19.85,59.95,20.05,53.15,39.95,75.15,20.15,40.65,69.75,104.65,71.1,26.4,78.45,66.5,50.1,81.65,19.45,80.3,41.1,45.0,24.35,86.05,100.3,101.15,20.3,59.4,100.6,20.05,20.25,56.75,84.5,19.45,19.5,84.7,55.7,69.4,100.9,20.65,86.65,65.6,62.5,25.25,90.05,82.95,54.2,19.4,90.65,79.5,92.2,95.3,20.7,103.9,78.45,20.55,20.0,25.6,50.05,24.1,39.85,115.05,44.45,78.7,19.6,24.25,18.8,94.9,104.6,55.1,99.65,74.35,79.4,67.8,115.55,76.05,80.55,108.95,55.65,90.4,55.15,20.1,19.75,59.8,20.35,115.8,19.5,25.75,106.45,20.05,73.5,77.4,80.05,20.8,96.75,63.85,70.55,104.5,20.45,112.35,19.8,90.95,106.0,107.2,84.8,19.5,54.45,60.0,19.75,19.65,20.2,35.0,75.6,50.55,20.3,64.95,74.65,111.1,24.7,25.6,64.95,94.35,19.55,115.75,25.3,74.05,20.3,25.4,73.6,64.05,20.7,90.75,66.05,60.05,24.8,78.9,116.75,69.8,75.2,99.8,20.15,95.9,40.15,81.95,55.0,90.55,74.3,46.35,79.5,54.15,74.65,100.45,44.75,84.4,69.5,53.75,113.4,92.9,45.55,47.85,30.5,105.45,90.65,58.75,20.65,74.0,69.05,88.0,75.55,51.25,20.45,83.8,44.8,43.55,110.2,87.3,100.0,44.9,19.85,24.85,82.85,103.3,19.55,44.0,77.55,69.05,20.75,35.8,74.25,81.9,85.95,59.7,54.95,50.2,20.4,24.3,67.7,20.35,84.0,35.05,41.1,20.5,25.25,19.35,19.9,20.05,24.8,19.8,89.9,92.0,20.1,95.35,19.5,44.95,49.8,69.2,20.55,79.1,99.65,25.4,74.3,105.85,64.3,74.85,19.8,24.65,19.2,47.4,90.4,79.0,99.8,61.35,49.05,65.5,29.75,84.05,107.5,49.2,40.35,25.65,100.55,86.45,25.4,104.45,80.45,54.1,109.1,58.4,83.45,110.65,20.6,64.5,60.2,91.25,109.4,71.05,111.6,19.25,23.8,20.35,19.95,49.55,84.55,115.1,90.2,73.85,19.1,25.2,84.35,59.45,116.25,79.85,39.1,84.4,54.0,20.6,19.9,49.55,44.25,115.05,25.0,19.9,35.55,109.2,20.05,101.75,55.3,24.95,95.65,65.6,20.85,21.2,95.65,71.55,107.7,19.85,19.65,110.75,19.35,99.3,55.95,76.75,20.45,19.45,25.25,94.8,44.95,104.45,20.15,24.3,95.0,55.9,20.55,25.1,20.75,19.45,50.45,19.65,73.75,20.15,116.1,102.1,62.1,78.0,100.5,105.25,118.65,74.1,66.9,69.05,18.85,61.65,56.0,69.15,53.5,20.15,105.75,84.35,49.45,79.9,45.55,64.75,40.75,78.8,25.05,100.2,79.3,20.85,108.2,107.45,19.1,75.5,20.75,19.15,81.5,61.55,109.4,89.2,88.75,65.8,94.4,94.6,56.4,78.85,26.3,20.6,26.05,20.15,75.35,59.95,110.15,86.1,39.45,102.1,100.75,20.25,20.8,77.2,25.0,58.35,69.25,24.85,94.2,100.15,48.8,54.4,19.4,54.15,19.75,79.8,53.55,26.1,82.45,70.55,65.65,81.0,96.1,51.1,85.05,20.3,114.0,59.85,95.8,103.6,98.7,86.35,19.7,84.7,19.2,106.9,78.95,47.85,79.6,68.85,19.35,55.15,25.55,52.7,19.65,80.25,25.0,104.3,48.85,84.15,104.15,74.75,19.6,20.9,70.35,24.1,20.45,84.35,79.7,54.05,67.45,84.95,65.4,44.0,61.4,88.8,90.5,85.25,19.75,82.5,23.75,100.15,35.1,113.65,65.1,45.6,20.0,75.1,67.05,20.3,20.1,113.65,54.65,70.15,83.2,24.6,109.1,95.4,64.1,90.7,43.95,45.25,70.15,96.85,20.2,91.35,84.5,115.5,55.3,29.8,19.6,20.9,84.8,61.25,101.9,43.55,66.25,110.8,54.85,74.85,25.3,85.95,54.65,19.3,90.3,44.8,89.55,25.3,110.9,66.4,78.8,110.7,58.35,58.9,72.35,94.1,24.4,64.1,19.8,24.35,70.55,20.7,20.1,19.85,59.85,50.0,19.25,50.05,19.85,82.65,90.65,44.15,69.95,89.15,95.95,19.5,94.0,20.6,48.85,24.6,74.45,98.9,91.5,100.25,110.5,105.15,54.55,55.75,89.0,19.95,90.15,19.6,18.75,25.1,102.5,70.8,86.1,19.1,20.05,65.25,85.2,19.85,83.15,19.05,85.1,19.05,90.35,82.0,89.65,71.0,59.0,113.15,80.15,80.7,92.3,112.9,59.8,75.35,20.1,79.5,109.25,69.2,89.75,60.9,95.3,75.05,40.65,95.95,51.0,19.2,64.75,79.4,80.05,19.1,51.7,19.65,59.2,20.25,40.3,70.15,20.0,96.35,20.75,20.55,81.7,72.45,75.3,56.25,19.95,87.75,84.1,19.25,20.65,19.9,51.2,80.95,80.35,96.1,24.7,102.6,19.75,81.05,90.45,75.0,88.95,54.45,54.5,106.75,31.05,19.2,69.55,99.25,98.65,29.9,25.4,25.1,91.15,54.45,24.8,34.8,70.5,20.0,105.4,45.0,19.9,92.45,44.85,79.25,24.45,20.15,70.05,70.2,69.0,43.9,70.6,19.25,20.45,55.45,70.55,20.55,20.2,19.8,103.25,19.7,88.5,29.15,19.4,19.25,50.4,58.6,70.25,114.1,24.9,20.5,60.6,80.0,69.05,92.15,49.15,19.65,24.65,25.05,115.65,107.35,24.7,54.35,24.5,62.55,40.4,80.8,84.6,109.7,88.2,88.15,90.15,50.25,116.15,80.1,94.5,65.5,20.0,69.15,44.8,99.0,54.15,45.4,20.55,20.15,85.85,94.9,61.4,97.2,25.85,70.3,60.3,72.8,99.4,19.0,81.9,117.5,87.95,89.55,25.1,113.45,20.85,44.25,30.15,48.6,20.5,38.85,67.4,29.9,65.6,81.4,49.95,18.4,19.35,69.5,66.0,98.6,20.4,79.85,84.8,95.45,93.4,88.65,92.0,80.15,59.15,61.75,113.2,63.55,116.95,19.95,95.3,85.0,58.2,24.35,69.95,39.7,61.95,21.1,69.3,75.8,20.0,19.8,109.55,66.85,20.2,83.85,19.5,25.0,20.35,72.25,104.25,71.85,55.45,106.5,80.85,20.0,101.1,51.15,50.0,97.1,19.2,26.1,40.45,74.35,57.2,107.9,79.2,19.75,19.95,100.9,56.85,20.35,108.05,25.35,109.75,20.75,20.05,53.15,67.65,44.65,60.0,54.1,85.8,46.35,60.05,25.55,55.8,24.4,114.3,73.15,91.35,53.5,95.85,96.8,106.15,19.85,78.35,84.1,94.3,103.8,95.3,90.15,118.2,76.8,104.6,49.85,20.4,54.4,55.0,20.35,97.2,84.45,19.7,99.55,72.1,75.7,85.65,18.7,20.3,25.25,60.8,80.8,103.95,106.7,20.05,24.4,19.9,68.8,19.7,108.9,19.25,54.65,94.0,99.15,19.75,18.9,84.95,94.05,55.15,50.3,67.85,59.0],\"x0\":\" \",\"xaxis\":\"x\",\"y0\":\" \",\"yaxis\":\"y\",\"type\":\"box\"},{\"alignmentgroup\":\"True\",\"hovertemplate\":\"abandono=1\\u003cbr\\u003ecargo_mensual=%{x}\\u003cextra\\u003e\\u003c\\u002fextra\\u003e\",\"legendgroup\":\"1\",\"marker\":{\"color\":\"#EF553B\"},\"name\":\"1\",\"notched\":false,\"offsetgroup\":\"1\",\"orientation\":\"h\",\"showlegend\":true,\"x\":[73.9,98.0,83.9,62.7,25.1,94.1,20.35,30.5,49.25,104.5,95.0,19.85,99.75,84.35,111.2,40.2,73.85,101.35,86.25,89.75,80.2,19.85,94.7,70.9,54.2,105.5,85.25,84.35,115.55,25.3,105.1,84.8,85.85,47.15,75.9,85.55,93.35,81.05,75.2,85.65,72.9,74.9,19.75,21.05,103.7,95.45,101.15,96.1,99.15,88.8,80.55,99.85,45.35,48.55,100.2,94.7,70.1,97.9,69.95,81.35,106.3,89.3,102.1,98.9,84.9,108.15,34.7,90.6,88.25,85.8,60.3,74.4,70.45,93.85,101.9,74.4,101.5,95.75,44.4,25.5,20.9,90.1,45.3,83.8,73.0,77.85,96.75,69.5,79.7,79.9,88.3,75.55,71.1,70.45,20.15,54.2,70.75,102.35,85.0,75.65,85.45,95.5,78.6,25.9,95.55,83.3,49.85,100.15,46.35,19.75,89.0,25.25,25.05,47.85,75.2,74.9,45.55,41.9,67.5,90.05,76.5,84.05,95.6,102.95,80.35,104.4,98.05,25.8,69.25,101.1,95.0,70.75,72.45,83.2,110.0,94.85,85.65,101.7,74.55,61.65,74.9,74.45,100.0,79.9,55.65,50.05,82.3,25.05,109.5,95.85,19.3,88.35,34.7,100.5,39.0,55.1,70.85,81.45,34.7,49.15,40.65,35.55,85.45,64.4,82.4,53.85,102.25,79.55,84.6,85.4,103.95,101.15,19.5,101.25,45.7,104.3,99.5,104.15,83.75,75.25,74.65,100.25,80.7,98.7,80.3,73.65,98.15,96.2,70.8,89.55,99.45,49.4,20.1,20.0,96.5,24.8,74.95,19.55,70.85,19.8,70.25,25.15,69.9,20.15,85.05,98.75,69.75,69.1,19.6,76.65,95.05,89.85,105.95,55.0,53.9,70.65,29.85,85.7,108.75,74.95,79.95,83.9,91.1,73.6,59.5,48.35,49.65,19.0,49.6,105.95,90.45,20.1,54.4,99.95,54.3,75.75,96.8,96.55,85.35,43.65,88.85,79.9,78.55,106.1,75.5,30.3,98.4,55.0,24.25,86.05,103.4,20.05,70.3,66.35,94.3,20.05,91.05,74.05,105.9,89.3,74.55,30.6,115.65,69.15,95.25,80.0,19.8,98.5,73.85,89.1,98.5,102.1,94.5,20.2,25.7,45.85,106.45,89.4,74.65,89.75,96.25,62.05,84.15,114.2,82.0,84.05,94.0,78.75,99.95,19.65,90.45,60.1,112.95,51.5,99.5,45.35,80.0,75.35,76.4,95.0,75.35,45.15,75.9,33.55,89.8,84.7,83.0,94.55,93.8,95.45,49.65,89.65,79.4,78.3,59.8,80.85,101.75,89.5,109.75,19.45,93.5,70.55,35.25,55.35,79.55,25.2,95.9,89.15,48.6,46.0,69.55,74.2,103.7,70.15,70.0,39.3,98.4,74.35,80.85,104.4,89.95,90.8,89.25,106.1,89.4,72.85,70.5,79.25,86.5,20.15,45.3,20.4,78.95,89.05,46.0,73.0,75.05,79.75,109.5,75.5,20.5,99.5,81.95,33.5,99.55,84.3,74.6,99.0,79.3,106.7,49.05,102.95,90.4,94.65,95.8,70.4,86.5,69.75,76.45,89.55,69.25,45.6,89.2,51.2,73.9,67.95,35.45,50.7,89.8,70.95,45.65,68.65,61.15,99.2,79.75,75.3,105.2,96.0,40.1,79.2,85.9,85.3,84.85,84.8,50.8,51.0,45.15,19.4,93.9,55.2,50.85,95.55,103.25,105.85,70.2,99.6,74.3,75.1,117.45,33.9,89.45,19.9,80.3,70.1,19.7,94.85,103.3,80.25,104.7,84.75,104.1,44.35,84.85,100.15,53.5,49.35,80.45,70.15,111.95,110.15,34.7,101.05,54.45,98.25,70.3,98.1,55.8,92.5,91.0,101.85,83.75,70.0,19.55,35.1,44.55,98.15,69.55,79.5,75.45,99.25,76.45,93.7,94.1,24.05,70.2,99.5,69.0,24.75,30.5,70.05,77.15,100.15,81.0,70.15,50.9,100.05,60.05,69.6,48.55,79.5,85.05,94.25,74.45,100.2,84.95,111.3,95.35,19.75,25.15,91.1,84.45,91.7,89.1,85.35,73.85,46.0,93.85,94.0,49.55,105.65,90.75,45.25,80.55,99.9,95.2,77.65,74.7,83.05,78.05,39.1,60.45,50.15,70.25,45.55,45.05,108.05,84.1,20.65,93.15,46.05,99.8,87.25,68.65,89.55,55.85,85.8,89.2,80.5,79.25,80.6,89.3,84.85,20.25,70.3,107.5,117.8,34.0,55.95,55.9,76.65,94.2,98.25,65.25,24.4,50.6,80.8,85.3,80.85,20.2,78.85,45.4,80.35,45.15,100.6,94.4,74.45,94.0,73.55,74.8,89.5,99.2,104.9,98.8,94.2,96.75,81.7,86.15,89.9,44.95,34.7,94.85,85.8,95.2,102.6,55.4,69.95,88.8,73.75,75.9,43.95,111.6,35.45,87.4,78.1,104.3,49.05,86.85,90.95,85.2,44.85,85.35,94.45,88.35,49.15,20.1,96.0,70.0,45.85,71.35,100.25,91.7,100.6,110.0,84.4,84.75,95.25,75.25,70.4,94.45,83.95,82.0,74.5,31.0,70.25,85.55,78.45,88.2,106.0,95.65,75.05,28.6,76.4,85.55,76.0,45.7,95.45,95.75,106.1,50.6,109.8,49.95,110.45,48.35,92.35,94.35,86.6,89.4,70.9,94.85,105.5,100.25,91.3,69.1,57.55,65.7,105.25,71.0,108.85,51.55,69.35,99.95,45.3,100.0,74.5,70.05,96.3,19.95,65.3,75.85,64.75,69.5,85.3,29.6,86.2,83.35,74.4,99.05,109.15,44.85,55.0,95.65,85.95,106.9,100.2,71.0,75.3,89.9,95.6,94.7,55.35,54.9,101.25,53.85,51.0,46.2,80.6,84.1,30.4,71.0,50.8,104.65,90.0,20.4,74.25,84.05,74.15,69.1,70.95,88.35,82.85,96.2,82.35,74.6,67.75,35.05,88.15,44.15,71.8,106.35,104.05,74.7,100.6,36.45,100.65,95.05,23.45,69.95,89.15,20.55,103.85,33.65,99.8,79.85,34.25,85.2,105.0,85.3,74.95,45.65,53.65,70.75,110.35,69.1,95.0,59.85,70.0,109.25,59.2,19.9,101.35,83.9,71.05,45.1,94.25,105.65,99.25,74.95,44.55,50.9,49.55,106.15,94.1,50.25,91.3,92.5,109.9,69.7,99.5,78.25,74.65,98.5,30.9,96.5,54.75,104.2,100.75,71.15,44.85,20.25,80.4,104.15,94.25,74.4,80.0,69.55,89.5,74.25,94.65,35.4,86.85,19.85,85.35,81.3,92.1,89.05,19.65,66.5,78.45,88.3,95.25,55.2,94.45,45.1,20.35,55.8,44.95,79.15,20.25,90.05,74.9,99.15,45.85,79.65,85.35,56.25,108.45,20.5,74.35,80.1,74.75,79.85,86.25,101.3,79.65,93.9,98.9,50.75,75.8,34.5,90.6,70.65,54.35,55.0,79.7,114.5,44.4,85.15,90.9,94.45,20.55,104.05,63.6,74.3,78.05,74.5,104.4,93.85,36.85,44.65,101.0,85.75,74.3,105.55,19.85,84.3,55.3,105.05,20.25,72.25,69.7,74.95,74.4,69.8,57.15,70.0,84.75,101.1,80.2,19.25,80.05,72.65,85.2,69.65,102.95,90.05,91.85,107.35,44.05,80.25,55.15,56.15,75.8,73.75,79.1,105.3,19.6,29.7,24.9,101.25,98.5,69.85,90.4,104.75,81.1,30.45,93.85,39.3,85.15,70.4,79.4,80.5,55.95,73.85,102.8,95.15,62.05,19.3,45.0,52.2,45.05,57.45,88.55,54.55,55.25,70.1,69.25,84.8,100.3,79.6,84.8,24.75,98.35,20.5,50.1,84.6,70.4,19.45,70.4,65.0,59.9,20.2,110.85,99.5,81.0,60.0,103.25,19.9,99.55,68.95,79.9,44.7,79.15,81.0,100.2,80.15,79.15,84.45,100.6,84.8,86.05,96.05,94.65,86.0,76.5,44.9,104.0,44.1,69.65,90.35,20.0,69.75,19.8,19.95,20.15,98.65,19.35,41.6,79.35,94.6,86.55,104.55,53.4,84.5,69.65,58.6,53.55,19.25,88.95,85.95,48.7,101.4,44.6,94.55,75.35,109.65,29.5,82.45,69.35,44.75,70.7,20.05,50.15,20.6,105.35,75.35,50.75,50.8,45.3,39.05,109.45,91.5,110.75,45.95,73.5,105.95,69.8,103.7,98.55,29.65,19.95,58.5,75.8,25.2,90.85,66.25,46.0,95.1,40.05,69.5,85.7,75.7,30.1,39.65,55.05,104.4,80.85,86.55,29.4,112.95,74.7,94.5,24.45,113.15,80.85,69.6,85.55,90.85,105.1,104.05,59.3,49.4,100.25,101.55,80.35,85.95,87.15,94.95,20.2,84.4,79.8,94.65,88.7,85.25,70.6,35.75,93.9,106.35,84.0,104.2,80.3,79.6,98.8,99.8,101.45,89.15,108.4,91.85,79.5,102.0,81.1,103.3,74.8,106.0,25.3,99.3,60.4,24.35,66.4,55.1,80.25,87.45,103.95,19.25,100.1,19.9,94.2,103.9,84.5,99.05,77.75,69.75,69.85,45.3,79.2,75.3,96.15,94.6,85.35,101.3,75.15,84.3,19.75,70.0,100.75,24.45,85.45,94.1,19.4,20.95,89.5,95.1,36.5,95.5,24.25,96.2,39.5,60.15,40.4,83.6,20.35,20.0,45.4,45.05,94.4,54.55,93.4,79.85,80.85,92.5,106.5,35.2,68.85,19.4,90.6,70.35,83.85,100.95,69.8,75.45,76.95,88.9,31.35,84.2,69.9,55.9,99.95,69.4,95.05,84.6,50.15,75.0,54.15,74.2,56.25,85.45,79.35,89.65,104.4,70.1,70.6,83.65,61.45,83.55,94.7,74.35,96.15,79.05,70.3,96.1,97.1,56.65,80.5,80.8,89.15,83.15,70.45,74.4,100.95,101.1,25.1,90.25,54.2,54.15,69.7,84.85,80.15,88.45,102.45,92.55,94.5,97.95,79.25,19.1,84.95,45.65,71.55,19.65,44.35,24.1,79.9,69.75,70.3,84.5,83.35,78.3,108.15,80.1,58.6,99.45,55.15,73.25,69.0,85.0,28.45,35.0,73.9,94.4,86.2,90.5,73.9,79.35,79.45,49.9,104.05,78.9,54.45,29.95,90.2,19.35,100.85,95.15,80.5,85.25,72.15,40.15,88.4,74.15,86.45,95.6,74.9,96.0,24.8,78.8,77.85,70.1,107.95,73.6,97.65,107.4,55.55,79.05,102.8,45.15,89.4,68.5,74.75,105.95,85.4,79.7,87.25,69.35,80.8,99.35,86.0,90.6,105.0,94.7,69.6,73.55,105.0,93.3,20.8,29.95,99.7,49.35,79.2,49.95,88.05,44.45,88.95,19.3,73.95,109.55,50.5,100.55,19.7,79.55,55.7,49.2,85.35,70.0,103.75,103.85,99.8,70.3,104.75,111.95,104.6,74.4,55.25,98.55,85.5,102.0,50.55,78.95,91.65,43.3,74.9,87.55,91.25,70.05,105.0,85.0,21.0,104.5,81.7,19.85,106.95,98.3,106.6,89.6,96.65,75.6,23.9,60.05,98.75,100.0,19.75,95.65,20.1,99.25,48.95,78.55,84.8,91.65,104.25,75.75,96.55,105.75,50.65,74.9,99.15,76.35,51.75,71.3,80.0,89.05,99.0,42.9,76.0,80.4,87.05,44.4,20.85,86.3,79.5,108.65,68.95,74.9,61.6,84.4,25.1,93.85,99.05,100.45,45.95,105.4,101.9,45.3,106.25,79.4,98.75,25.4,103.35,68.25,84.5,104.4,75.75,79.85,45.25,85.7,103.0,69.95,90.5,74.5,102.45,79.0,69.25,105.5,94.9,100.8,94.2,88.45,101.35,74.85,19.75,48.75,99.75,25.3,85.2,85.6,50.45,54.35,69.65,90.0,41.15,90.55,113.2,90.55,98.1,82.0,108.6,90.15,90.8,74.65,45.75,70.2,47.8,70.3,35.15,89.45,81.5,71.0,49.55,75.45,20.9,99.45,64.65,48.75,89.35,95.7,90.85,100.0,85.65,79.15,80.65,74.3,84.65,86.1,45.4,73.2,96.05,84.25,76.1,69.65,65.4,95.25,96.25,100.55,55.3,19.5,93.2,80.6,45.3,74.9,76.05,50.15,54.85,43.3,44.6,46.3,79.6,75.8,76.4,106.15,73.75,84.45,51.8,44.6,54.75,49.9,76.5,78.95,110.9,79.0,48.8,100.7,70.15,69.2,44.15,69.6,80.45,45.0,65.45,80.15,104.1,81.0,82.05,41.05,75.2,40.1,91.05,51.05,105.9,29.7,80.65,106.05,50.45,103.45,50.4,86.65,99.4,99.7,77.95,24.95,24.1,75.55,106.6,45.8,85.2,20.2,46.0,20.15,44.65,95.15,20.15,59.0,19.6,35.9,84.3,42.6,100.85,36.45,104.8,20.55,80.3,69.4,75.1,85.15,62.3,24.8,98.7,94.75,24.5,79.2,44.3,97.35,90.55,19.6,75.0,69.95,50.75,80.2,94.75,99.45,75.3,42.35,71.35,70.55,19.5,79.65,84.45,69.65,85.25,94.25,74.75,35.1,20.3,89.75,45.1,74.35,80.2,95.45,72.2,105.65,106.4,79.65,93.85,75.4,80.55,97.85,93.7,89.95,50.25,80.75,75.5,118.35,43.75,79.25,45.3,96.4,64.7,77.0,25.2,24.45,103.75,97.8,50.45,93.2,55.0,20.2,107.55,19.65,86.3,89.8,49.25,95.35,74.4,50.65,74.35,101.0,69.6,71.65,84.9,77.95,95.9,100.05,60.05,95.65,91.4,83.55,101.35,75.7,83.75,99.85,76.05,80.45,56.7,73.65,89.35,69.05,73.85,100.8,24.75,85.6,75.35,77.5,49.75,89.85,79.1,92.45,85.3,50.6,86.6,95.6,49.1,94.25,84.2,59.75,104.65,53.95,79.4,104.7,100.05,78.95,74.4,79.7,71.65,29.65,106.0,30.2,75.0,59.4,74.4,76.25,74.4,94.2,91.15,31.05,40.0,89.5,78.95,43.25,93.8,79.0,100.55,64.7,44.2,90.6,39.65,90.1,99.85,23.15,83.8,55.15,81.25,103.4,75.1,99.55,80.05,56.15,70.7,84.95,100.5,96.65,106.55,80.65,86.45,105.7,60.35,49.15,101.95,29.2,93.8,30.35,89.7,83.3,84.6,106.4,79.65,78.65,94.8,98.6,84.55,56.5,79.6,50.35,25.25,89.7,79.55,93.55,18.95,50.35,74.05,48.95,69.35,90.7,116.2,30.75,96.6,50.55,95.25,19.4,111.1,105.3,81.0,108.55,85.45,55.7,45.7,85.45,89.5,24.45,100.45,113.6,90.2,79.9,98.7,90.8,19.45,85.15,93.55,95.9,75.15,54.45,70.75,104.85,94.4,24.6,78.85,70.7,47.95,76.45,111.25,75.55,94.45,98.6,62.65,54.7,74.95,85.0,74.4,74.95,94.0,79.95,99.65,74.25,79.75,18.85,100.35,109.55,84.5,80.6,70.15,40.65,80.45,74.7,70.15,95.5,104.8,88.35,99.1,87.1,89.95,76.2,97.35,44.7,86.8,50.4,78.9,59.45,71.15,84.65,90.0,93.55,79.35,95.15,40.2,100.05,90.1,29.7,89.8,53.75,70.1,91.4,81.0,51.25,89.6,70.45,106.75,94.4,69.55,65.2,101.4,94.05,104.95,85.0,89.45,91.85,81.15,50.8,100.05,106.1,94.4,105.2,49.25,40.3,100.5,74.95,80.25,96.05,106.75,70.75,90.85,69.2,53.95,49.4,98.3,73.5,94.4,77.5,75.3,103.45,69.9,96.7,48.55,75.2,69.0,45.7,89.55,110.85,78.5,80.5,90.8,74.1,110.1,104.7,55.0,86.0,104.2,80.95,78.45,100.3,74.3,80.3,94.55,25.05,93.85,80.45,91.75,75.3,95.1,74.4,79.45,96.8,83.85,70.15,20.95,85.1],\"x0\":\" \",\"xaxis\":\"x\",\"y0\":\" \",\"yaxis\":\"y\",\"type\":\"box\"}],                        {\"template\":{\"data\":{\"histogram2dcontour\":[{\"type\":\"histogram2dcontour\",\"colorbar\":{\"outlinewidth\":0,\"ticks\":\"\"},\"colorscale\":[[0.0,\"#0d0887\"],[0.1111111111111111,\"#46039f\"],[0.2222222222222222,\"#7201a8\"],[0.3333333333333333,\"#9c179e\"],[0.4444444444444444,\"#bd3786\"],[0.5555555555555556,\"#d8576b\"],[0.6666666666666666,\"#ed7953\"],[0.7777777777777778,\"#fb9f3a\"],[0.8888888888888888,\"#fdca26\"],[1.0,\"#f0f921\"]]}],\"choropleth\":[{\"type\":\"choropleth\",\"colorbar\":{\"outlinewidth\":0,\"ticks\":\"\"}}],\"histogram2d\":[{\"type\":\"histogram2d\",\"colorbar\":{\"outlinewidth\":0,\"ticks\":\"\"},\"colorscale\":[[0.0,\"#0d0887\"],[0.1111111111111111,\"#46039f\"],[0.2222222222222222,\"#7201a8\"],[0.3333333333333333,\"#9c179e\"],[0.4444444444444444,\"#bd3786\"],[0.5555555555555556,\"#d8576b\"],[0.6666666666666666,\"#ed7953\"],[0.7777777777777778,\"#fb9f3a\"],[0.8888888888888888,\"#fdca26\"],[1.0,\"#f0f921\"]]}],\"heatmap\":[{\"type\":\"heatmap\",\"colorbar\":{\"outlinewidth\":0,\"ticks\":\"\"},\"colorscale\":[[0.0,\"#0d0887\"],[0.1111111111111111,\"#46039f\"],[0.2222222222222222,\"#7201a8\"],[0.3333333333333333,\"#9c179e\"],[0.4444444444444444,\"#bd3786\"],[0.5555555555555556,\"#d8576b\"],[0.6666666666666666,\"#ed7953\"],[0.7777777777777778,\"#fb9f3a\"],[0.8888888888888888,\"#fdca26\"],[1.0,\"#f0f921\"]]}],\"heatmapgl\":[{\"type\":\"heatmapgl\",\"colorbar\":{\"outlinewidth\":0,\"ticks\":\"\"},\"colorscale\":[[0.0,\"#0d0887\"],[0.1111111111111111,\"#46039f\"],[0.2222222222222222,\"#7201a8\"],[0.3333333333333333,\"#9c179e\"],[0.4444444444444444,\"#bd3786\"],[0.5555555555555556,\"#d8576b\"],[0.6666666666666666,\"#ed7953\"],[0.7777777777777778,\"#fb9f3a\"],[0.8888888888888888,\"#fdca26\"],[1.0,\"#f0f921\"]]}],\"contourcarpet\":[{\"type\":\"contourcarpet\",\"colorbar\":{\"outlinewidth\":0,\"ticks\":\"\"}}],\"contour\":[{\"type\":\"contour\",\"colorbar\":{\"outlinewidth\":0,\"ticks\":\"\"},\"colorscale\":[[0.0,\"#0d0887\"],[0.1111111111111111,\"#46039f\"],[0.2222222222222222,\"#7201a8\"],[0.3333333333333333,\"#9c179e\"],[0.4444444444444444,\"#bd3786\"],[0.5555555555555556,\"#d8576b\"],[0.6666666666666666,\"#ed7953\"],[0.7777777777777778,\"#fb9f3a\"],[0.8888888888888888,\"#fdca26\"],[1.0,\"#f0f921\"]]}],\"surface\":[{\"type\":\"surface\",\"colorbar\":{\"outlinewidth\":0,\"ticks\":\"\"},\"colorscale\":[[0.0,\"#0d0887\"],[0.1111111111111111,\"#46039f\"],[0.2222222222222222,\"#7201a8\"],[0.3333333333333333,\"#9c179e\"],[0.4444444444444444,\"#bd3786\"],[0.5555555555555556,\"#d8576b\"],[0.6666666666666666,\"#ed7953\"],[0.7777777777777778,\"#fb9f3a\"],[0.8888888888888888,\"#fdca26\"],[1.0,\"#f0f921\"]]}],\"mesh3d\":[{\"type\":\"mesh3d\",\"colorbar\":{\"outlinewidth\":0,\"ticks\":\"\"}}],\"scatter\":[{\"fillpattern\":{\"fillmode\":\"overlay\",\"size\":10,\"solidity\":0.2},\"type\":\"scatter\"}],\"parcoords\":[{\"type\":\"parcoords\",\"line\":{\"colorbar\":{\"outlinewidth\":0,\"ticks\":\"\"}}}],\"scatterpolargl\":[{\"type\":\"scatterpolargl\",\"marker\":{\"colorbar\":{\"outlinewidth\":0,\"ticks\":\"\"}}}],\"bar\":[{\"error_x\":{\"color\":\"#2a3f5f\"},\"error_y\":{\"color\":\"#2a3f5f\"},\"marker\":{\"line\":{\"color\":\"#E5ECF6\",\"width\":0.5},\"pattern\":{\"fillmode\":\"overlay\",\"size\":10,\"solidity\":0.2}},\"type\":\"bar\"}],\"scattergeo\":[{\"type\":\"scattergeo\",\"marker\":{\"colorbar\":{\"outlinewidth\":0,\"ticks\":\"\"}}}],\"scatterpolar\":[{\"type\":\"scatterpolar\",\"marker\":{\"colorbar\":{\"outlinewidth\":0,\"ticks\":\"\"}}}],\"histogram\":[{\"marker\":{\"pattern\":{\"fillmode\":\"overlay\",\"size\":10,\"solidity\":0.2}},\"type\":\"histogram\"}],\"scattergl\":[{\"type\":\"scattergl\",\"marker\":{\"colorbar\":{\"outlinewidth\":0,\"ticks\":\"\"}}}],\"scatter3d\":[{\"type\":\"scatter3d\",\"line\":{\"colorbar\":{\"outlinewidth\":0,\"ticks\":\"\"}},\"marker\":{\"colorbar\":{\"outlinewidth\":0,\"ticks\":\"\"}}}],\"scattermapbox\":[{\"type\":\"scattermapbox\",\"marker\":{\"colorbar\":{\"outlinewidth\":0,\"ticks\":\"\"}}}],\"scatterternary\":[{\"type\":\"scatterternary\",\"marker\":{\"colorbar\":{\"outlinewidth\":0,\"ticks\":\"\"}}}],\"scattercarpet\":[{\"type\":\"scattercarpet\",\"marker\":{\"colorbar\":{\"outlinewidth\":0,\"ticks\":\"\"}}}],\"carpet\":[{\"aaxis\":{\"endlinecolor\":\"#2a3f5f\",\"gridcolor\":\"white\",\"linecolor\":\"white\",\"minorgridcolor\":\"white\",\"startlinecolor\":\"#2a3f5f\"},\"baxis\":{\"endlinecolor\":\"#2a3f5f\",\"gridcolor\":\"white\",\"linecolor\":\"white\",\"minorgridcolor\":\"white\",\"startlinecolor\":\"#2a3f5f\"},\"type\":\"carpet\"}],\"table\":[{\"cells\":{\"fill\":{\"color\":\"#EBF0F8\"},\"line\":{\"color\":\"white\"}},\"header\":{\"fill\":{\"color\":\"#C8D4E3\"},\"line\":{\"color\":\"white\"}},\"type\":\"table\"}],\"barpolar\":[{\"marker\":{\"line\":{\"color\":\"#E5ECF6\",\"width\":0.5},\"pattern\":{\"fillmode\":\"overlay\",\"size\":10,\"solidity\":0.2}},\"type\":\"barpolar\"}],\"pie\":[{\"automargin\":true,\"type\":\"pie\"}]},\"layout\":{\"autotypenumbers\":\"strict\",\"colorway\":[\"#636efa\",\"#EF553B\",\"#00cc96\",\"#ab63fa\",\"#FFA15A\",\"#19d3f3\",\"#FF6692\",\"#B6E880\",\"#FF97FF\",\"#FECB52\"],\"font\":{\"color\":\"#2a3f5f\"},\"hovermode\":\"closest\",\"hoverlabel\":{\"align\":\"left\"},\"paper_bgcolor\":\"white\",\"plot_bgcolor\":\"#E5ECF6\",\"polar\":{\"bgcolor\":\"#E5ECF6\",\"angularaxis\":{\"gridcolor\":\"white\",\"linecolor\":\"white\",\"ticks\":\"\"},\"radialaxis\":{\"gridcolor\":\"white\",\"linecolor\":\"white\",\"ticks\":\"\"}},\"ternary\":{\"bgcolor\":\"#E5ECF6\",\"aaxis\":{\"gridcolor\":\"white\",\"linecolor\":\"white\",\"ticks\":\"\"},\"baxis\":{\"gridcolor\":\"white\",\"linecolor\":\"white\",\"ticks\":\"\"},\"caxis\":{\"gridcolor\":\"white\",\"linecolor\":\"white\",\"ticks\":\"\"}},\"coloraxis\":{\"colorbar\":{\"outlinewidth\":0,\"ticks\":\"\"}},\"colorscale\":{\"sequential\":[[0.0,\"#0d0887\"],[0.1111111111111111,\"#46039f\"],[0.2222222222222222,\"#7201a8\"],[0.3333333333333333,\"#9c179e\"],[0.4444444444444444,\"#bd3786\"],[0.5555555555555556,\"#d8576b\"],[0.6666666666666666,\"#ed7953\"],[0.7777777777777778,\"#fb9f3a\"],[0.8888888888888888,\"#fdca26\"],[1.0,\"#f0f921\"]],\"sequentialminus\":[[0.0,\"#0d0887\"],[0.1111111111111111,\"#46039f\"],[0.2222222222222222,\"#7201a8\"],[0.3333333333333333,\"#9c179e\"],[0.4444444444444444,\"#bd3786\"],[0.5555555555555556,\"#d8576b\"],[0.6666666666666666,\"#ed7953\"],[0.7777777777777778,\"#fb9f3a\"],[0.8888888888888888,\"#fdca26\"],[1.0,\"#f0f921\"]],\"diverging\":[[0,\"#8e0152\"],[0.1,\"#c51b7d\"],[0.2,\"#de77ae\"],[0.3,\"#f1b6da\"],[0.4,\"#fde0ef\"],[0.5,\"#f7f7f7\"],[0.6,\"#e6f5d0\"],[0.7,\"#b8e186\"],[0.8,\"#7fbc41\"],[0.9,\"#4d9221\"],[1,\"#276419\"]]},\"xaxis\":{\"gridcolor\":\"white\",\"linecolor\":\"white\",\"ticks\":\"\",\"title\":{\"standoff\":15},\"zerolinecolor\":\"white\",\"automargin\":true,\"zerolinewidth\":2},\"yaxis\":{\"gridcolor\":\"white\",\"linecolor\":\"white\",\"ticks\":\"\",\"title\":{\"standoff\":15},\"zerolinecolor\":\"white\",\"automargin\":true,\"zerolinewidth\":2},\"scene\":{\"xaxis\":{\"backgroundcolor\":\"#E5ECF6\",\"gridcolor\":\"white\",\"linecolor\":\"white\",\"showbackground\":true,\"ticks\":\"\",\"zerolinecolor\":\"white\",\"gridwidth\":2},\"yaxis\":{\"backgroundcolor\":\"#E5ECF6\",\"gridcolor\":\"white\",\"linecolor\":\"white\",\"showbackground\":true,\"ticks\":\"\",\"zerolinecolor\":\"white\",\"gridwidth\":2},\"zaxis\":{\"backgroundcolor\":\"#E5ECF6\",\"gridcolor\":\"white\",\"linecolor\":\"white\",\"showbackground\":true,\"ticks\":\"\",\"zerolinecolor\":\"white\",\"gridwidth\":2}},\"shapedefaults\":{\"line\":{\"color\":\"#2a3f5f\"}},\"annotationdefaults\":{\"arrowcolor\":\"#2a3f5f\",\"arrowhead\":0,\"arrowwidth\":1},\"geo\":{\"bgcolor\":\"white\",\"landcolor\":\"#E5ECF6\",\"subunitcolor\":\"white\",\"showland\":true,\"showlakes\":true,\"lakecolor\":\"white\"},\"title\":{\"x\":0.05},\"mapbox\":{\"style\":\"light\"}}},\"xaxis\":{\"anchor\":\"y\",\"domain\":[0.0,1.0],\"title\":{\"text\":\"cargo_mensual\"}},\"yaxis\":{\"anchor\":\"x\",\"domain\":[0.0,1.0]},\"legend\":{\"title\":{\"text\":\"abandono\"},\"tracegroupgap\":0},\"margin\":{\"t\":60},\"boxmode\":\"group\"},                        {\"responsive\": true}                    ).then(function(){\n",
              "                            \n",
              "var gd = document.getElementById('d2e125cb-8420-4fbe-9a5d-6b75cea73b89');\n",
              "var x = new MutationObserver(function (mutations, observer) {{\n",
              "        var display = window.getComputedStyle(gd).display;\n",
              "        if (!display || display === 'none') {{\n",
              "            console.log([gd, 'removed!']);\n",
              "            Plotly.purge(gd);\n",
              "            observer.disconnect();\n",
              "        }}\n",
              "}});\n",
              "\n",
              "// Listen for the removal of the full notebook cells\n",
              "var notebookContainer = gd.closest('#notebook-container');\n",
              "if (notebookContainer) {{\n",
              "    x.observe(notebookContainer, {childList: true});\n",
              "}}\n",
              "\n",
              "// Listen for the clearing of the current output cell\n",
              "var outputEl = gd.closest('.output');\n",
              "if (outputEl) {{\n",
              "    x.observe(outputEl, {childList: true});\n",
              "}}\n",
              "\n",
              "                        })                };                            </script>        </div>\n",
              "</body>\n",
              "</html>"
            ]
          },
          "metadata": {}
        }
      ]
    },
    {
      "cell_type": "code",
      "source": [
        "px.box(datos, x = 'cargo_total', color = 'abandono')"
      ],
      "metadata": {
        "colab": {
          "base_uri": "https://localhost:8080/",
          "height": 542
        },
        "id": "Ma0g0DtXG0UO",
        "outputId": "5d5dc3ac-9ce8-4bbc-8dde-ca8879b6fdf4"
      },
      "execution_count": 604,
      "outputs": [
        {
          "output_type": "display_data",
          "data": {
            "text/html": [
              "<html>\n",
              "<head><meta charset=\"utf-8\" /></head>\n",
              "<body>\n",
              "    <div>            <script src=\"https://cdnjs.cloudflare.com/ajax/libs/mathjax/2.7.5/MathJax.js?config=TeX-AMS-MML_SVG\"></script><script type=\"text/javascript\">if (window.MathJax && window.MathJax.Hub && window.MathJax.Hub.Config) {window.MathJax.Hub.Config({SVG: {font: \"STIX-Web\"}});}</script>                <script type=\"text/javascript\">window.PlotlyConfig = {MathJaxConfig: 'local'};</script>\n",
              "        <script charset=\"utf-8\" src=\"https://cdn.plot.ly/plotly-2.35.2.min.js\"></script>                <div id=\"ee636789-0f92-475d-aae5-0f592a97bb09\" class=\"plotly-graph-div\" style=\"height:525px; width:100%;\"></div>            <script type=\"text/javascript\">                                    window.PLOTLYENV=window.PLOTLYENV || {};                                    if (document.getElementById(\"ee636789-0f92-475d-aae5-0f592a97bb09\")) {                    Plotly.newPlot(                        \"ee636789-0f92-475d-aae5-0f592a97bb09\",                        [{\"alignmentgroup\":\"True\",\"hovertemplate\":\"abandono=0\\u003cbr\\u003ecargo_total=%{x}\\u003cextra\\u003e\\u003c\\u002fextra\\u003e\",\"legendgroup\":\"0\",\"marker\":{\"color\":\"#636efa\"},\"name\":\"0\",\"notched\":false,\"offsetgroup\":\"0\",\"orientation\":\"h\",\"showlegend\":true,\"x\":[593.3,542.4,571.45,7904.25,5377.8,340.35,5957.9,2460.55,8456.75,351.5,7261.25,2560.1,6849.4,1993.2,72.1,1306.3,1849.95,57.2,5656.75,1090.6,471.85,1396.9,3247.55,900.9,7942.15,1343.4,825.4,1070.15,4959.6,5597.65,224.5,1929.0,2078.95,630.6,1611.0,1242.45,6316.2,727.85,3532.0,44.3,2607.6,5567.55,3767.4,3673.6,314.55,1888.45,529.8,7308.95,6252.7,2878.55,1212.1,8182.85,2861.45,1442.2,4145.9,3645.5,187.75,2193.65,1748.9,5526.75,1147.0,6747.35,865.05,5976.9,3268.05,7634.25,190.5,2401.05,511.25,3949.15,8496.7,470.2,1564.4,1847.55,3694.7,58.0,4017.45,6825.65,8309.55,605.45,1972.35,33.7,844.45,2111.3,633.85,5848.6,6471.85,864.2,6049.5,198.1,1098.85,4039.3,2438.6,7113.75,576.65,219.5,273.4,2555.05,165.5,89.3,235.05,1144.6,4908.25,2298.9,3789.2,4765.0,2196.3,5405.8,6339.3,3847.6,6733.0,19.7,50.1,6140.85,3870.3,7624.2,4354.45,3431.75,2045.55,268.45,3486.65,1389.6,1522.7,6717.9,8058.55,538.5,5102.35,465.7,475.1,3364.55,1234.8,355.9,1510.3,1982.6,4524.05,318.1,1231.85,2554.0,4684.3,614.45,2531.8,86.05,402.6,326.65,7382.85,422.6,6046.1,178.8,314.6,322.9,888.75,973.35,168.6,5424.25,121.25,6982.5,3835.55,6157.6,3462.1,4390.25,5360.75,2424.5,4854.3,320.45,426.65,521.9,5706.3,471.7,4539.6,830.25,6263.8,1742.5,1468.75,3382.3,46.35,1992.2,373.0,50.15,1414.45,122.7,3366.05,1271.8,7965.95,5398.6,3343.15,198.7,5897.4,2511.55,1398.6,967.85,7589.8,1790.15,44.4,1284.2,3474.2,1430.95,7542.25,1709.1,1421.9,6526.65,2674.15,170.5,3175.85,4297.95,4036.0,4428.45,295.95,4947.55,447.9,516.3,1850.65,749.25,237.65,4707.1,5714.2,1294.6,3753.2,3263.9,2139.1,5042.75,1036.0,6431.05,2404.85,2651.1,5538.35,200.2,450.4,5435.0,1334.5,67.1,503.25,1460.85,2807.1,6312.9,2715.3,1743.05,1784.5,4735.35,2010.95,996.45,1715.1,225.75,3721.9,5943.65,477.6,1119.35,1558.7,1712.9,1397.65,917.45,135.75,1087.7,6029.0,2278.75,2799.0,459.95,5755.8,442.6,2566.3,2962.0,7882.5,4378.9,4052.4,4140.1,8165.1,563.05,4191.45,1857.75,113.1,235.8,3974.7,931.55,4048.95,957.1,521.8,5430.65,1626.4,3058.15,1916.2,6590.8,438.9,2960.1,653.9,4630.2,5867.0,1374.9,3930.55,317.75,2072.75,743.05,1837.9,3168.75,252.0,5960.5,1540.35,3894.4,837.5,1534.05,4542.35,3600.65,1013.2,1401.4,8071.05,1028.9,84.2,1005.7,5029.05,299.05,1126.75,6069.25,48.45,558.8,1776.45,2921.75,1493.75,214.4,293.85,1359.45,4263.45,1323.7,2985.25,3942.45,105.5,1292.2,7285.7,2874.45,3435.6,629.35,6687.85,20.25,20.45,2970.8,54.65,4479.2,8543.25,5682.25,4025.6,1818.9,4433.3,67.55,4335.2,1312.45,3437.45,4613.95,576.95,1278.8,5212.65,902.25,2157.5,5625.55,715.0,3704.15,1596.6,3348.1,6743.55,6287.3,2679.7,1090.65,1270.25,225.65,3952.45,7422.1,3562.5,2898.95,6224.8,5327.25,528.45,4738.3,141.1,76.65,1537.85,3409.1,4575.35,4798.4,1882.55,723.35,4122.65,1125.6,1446.8,1529.65,7238.6,330.25,1108.8,319.85,1401.15,7332.4,6668.05,1809.35,639.45,321.05,993.15,1832.4,3877.65,382.2,4323.35,4135.0,44.2,75.5,1077.05,2310.2,4442.75,1372.45,689.0,302.45,1871.15,1396.25,531.55,7984.15,5958.85,578.5,4138.9,564.65,2168.9,1250.1,3442.8,1461.15,955.15,4483.95,7581.5,265.3,414.1,345.9,7039.45,7222.75,392.65,6605.55,2067.0,39.25,4096.9,1111.2,4922.4,4237.5,4872.2,1509.8,113.5,343.45,5673.7,3527.3,5794.45,730.1,1376.5,8349.45,7987.6,201.95,4860.85,4713.4,4226.7,1346.3,1799.3,5294.6,19.55,118.25,1011.8,160.85,5538.8,2606.35,5299.65,1029.8,875.55,718.1,2369.3,4122.9,4107.25,1623.4,432.25,5060.9,244.8,497.3,4298.45,6700.05,5290.45,1296.15,196.35,677.05,19.65,1641.8,5011.15,2312.55,98.5,2337.45,1285.8,2036.55,1758.9,5824.75,140.4,3975.9,953.65,344.2,5264.3,6690.75,136.75,19.05,572.85,6703.5,5116.6,962.25,4317.35,3342.0,1815.65,5886.85,2917.65,5333.35,6479.4,4663.4,414.95,1266.35,7993.3,139.75,1493.55,876.15,646.05,780.25,27.55,1397.3,7726.35,391.7,7035.6,5953.0,6480.9,19.85,505.45,1443.65,5935.1,1267.0,472.65,82.85,1740.8,4421.95,1442.65,743.5,4261.2,5040.2,601.25,494.05,7611.55,7234.8,5515.45,428.45,223.15,2264.5,5971.25,4859.25,2455.05,1083.0,19.25,3723.65,20.35,836.35,711.15,1802.15,2998.0,808.95,6780.1,3801.7,1978.65,3471.1,3804.4,2106.05,605.25,1756.2,6145.2,407.05,1389.85,7266.95,19.85,4164.4,2198.9,3090.05,475.25,4475.9,5811.8,1309.0,2708.2,19.75,321.4,7932.5,3023.55,7337.55,1463.45,1263.05,5168.1,1672.35,5869.4,1139.2,3686.05,2423.4,990.3,2509.25,3491.55,383.65,69.25,1347.15,5597.65,3778.85,2462.55,19.65,294.45,695.75,690.5,4513.65,1255.1,939.8,3948.45,244.85,1067.65,5450.7,202.25,4964.7,1901.05,4304.0,663.55,3846.75,745.3,184.05,400.0,1218.25,160.05,6637.9,1570.7,7396.15,209.9,1035.5,389.25,1759.55,1538.6,1025.05,292.4,2169.4,1229.1,303.7,86.05,2857.6,768.45,2780.6,5662.25,3958.2,5129.3,4758.8,860.85,599.25,2200.7,332.65,3011.65,7962.2,1482.3,741.0,7379.8,6152.4,1685.9,1636.95,1240.8,1648.45,3842.6,564.4,6841.3,1024.65,2187.15,3344.1,4079.55,913.3,959.9,7767.25,5832.0,6944.5,370.5,189.95,1342.15,5762.95,7323.15,3119.9,190.25,83.3,812.4,2839.95,128.6,324.8,5731.85,1029.35,6654.1,8220.4,1957.1,1374.35,688.5,68.8,349.8,483.3,4858.7,683.25,5437.1,678.75,7344.45,4408.45,0.0,1133.7,2283.3,1536.75,1430.05,1248.9,147.55,130.55,1588.75,818.45,95.85,3670.5,1224.05,487.05,264.8,1272.05,712.25,5969.85,445.3,1087.45,1360.25,579.4,49.9,52.0,6077.75,515.75,5706.2,3181.8,2619.15,19.0,5669.5,5731.4,260.9,1072.6,2603.1,454.05,653.15,459.6,357.15,7031.3,6225.4,1949.4,7548.6,75.1,2066.0,49.9,4627.8,208.45,4144.8,1258.15,581.7,60.65,1548.65,6936.85,4520.15,49.95,3512.5,3972.25,490.55,43.8,8404.9,2815.25,2936.25,4631.7,8477.7,702.05,5445.95,4616.1,220.8,573.05,5186.0,3371.0,912.0,1462.6,4189.7,2070.75,2961.4,553.0,49.9,1096.65,266.6,6066.55,1927.3,4977.2,6994.6,224.85,6375.2,3205.6,3211.9,1087.25,869.9,1663.5,4895.1,468.35,344.5,220.35,226.2,6333.4,6392.85,5598.0,1028.75,220.65,7511.9,1637.3,4839.15,1379.6,531.15,1506.4,4983.05,524.35,4200.25,137.6,1614.9,3834.4,19.55,554.25,85.0,709.5,202.15,398.55,1789.65,207.35,70.25,98.35,3217.65,6424.7,7002.95,1110.05,450.9,5348.65,3629.2,19.2,3810.55,1291.35,5336.35,7930.55,202.25,481.1,1652.1,3756.4,492.0,849.9,893.0,6856.95,947.75,3970.4,1143.8,1286.05,6521.9,301.55,3638.25,3169.55,1108.0,1618.2,4126.35,2348.45,948.9,4614.55,2553.7,1068.15,19.3,82.7,6081.4,411.45,1815.3,2665.0,5121.75,300.7,152.6,6567.9,780.2,75.35,4564.9,3561.15,1938.9,791.15,40.25,746.75,460.2,369.6,147.75,1269.1,2516.2,1697.7,411.75,3062.45,1247.75,6562.9,682.1,38.45,8333.95,187.35,5498.8,2289.9,261.3,125.95,867.1,38.15,654.5,4911.05,2000.2,1336.65,5737.6,134.75,3527.0,29.15,2383.6,1709.15,1653.85,6078.75,1311.6,5411.65,4882.8,2610.65,439.75,4214.25,854.8,949.85,1416.2,7852.4,272.35,1961.6,50.15,355.1,487.75,178.7,1514.85,1427.55,1277.5,2939.8,91.45,1057.0,4689.15,2680.15,74.6,402.85,4526.85,617.35,617.85,7099.0,43.95,5817.45,914.6,2224.5,1558.65,19.5,579.0,2937.65,360.35,333.65,2877.05,96.1,2743.45,1841.2,1502.25,61.15,1794.8,422.7,6683.4,5305.05,3270.25,620.55,4952.95,2409.9,7279.35,7015.9,90.1,44.0,1335.2,5032.25,6441.85,184.4,1192.3,2090.25,1441.95,4016.3,1021.55,415.9,797.1,6468.6,3808.2,256.6,514.75,702.0,779.25,964.9,1873.7,157.65,3545.05,501.35,6474.45,6332.75,6333.8,4903.2,201.7,1292.65,4674.4,141.6,970.45,81.05,6296.75,348.8,1601.5,2203.1,6871.7,107.6,4946.05,308.1,1801.1,1477.65,5324.5,2548.65,4847.35,8100.55,370.25,55.7,1884.65,35.9,1654.85,4847.05,5329.55,2838.55,7322.5,6827.5,805.2,2080.1,6953.4,902.0,1835.3,1728.2,1391.65,1556.85,1153.25,232.55,4911.35,533.05,4133.95,151.75,25.4,20.25,318.6,1588.25,697.65,1178.75,6148.45,5730.15,275.9,1654.75,4144.9,50.75,3008.15,3121.1,1405.3,21.1,536.35,8312.4,835.5,1380.4,609.65,4194.85,5917.55,1077.5,3688.6,420.45,2983.65,263.65,1682.4,1733.15,5431.9,1463.7,1192.7,562.6,2635.0,1505.15,95.55,3566.7,2395.05,406.05,6786.1,1888.25,674.55,7521.95,6293.45,4681.75,1490.4,1303.25,119.5,1718.95,1043.4,1885.15,3126.85,6921.7,3580.95,3349.1,8033.1,6388.65,1011.05,3656.25,5330.2,2003.6,1928.7,5125.75,3371.75,1331.05,886.4,1077.95,2070.05,5581.05,25.25,5560.0,1246.4,791.7,19.4,8297.5,6110.75,1956.4,1079.45,162.15,1233.25,883.35,132.25,792.15,5753.25,7362.9,263.05,5401.9,1218.45,20.4,3145.15,3141.7,2603.3,415.4,2471.6,5135.35,5810.9,767.9,6363.45,4461.85,3121.4,79.15,4953.25,979.5,249.55,70.1,1222.25,278.85,7789.6,4914.9,5438.95,4060.55,6840.95,571.05,7751.7,49.05,4685.55,45.4,624.15,7213.75,6017.9,179.85,5088.4,1734.5,4920.8,2448.5,5985.0,4300.45,1940.8,4386.2,741.5,5784.3,52.0,2065.4,7108.2,61.05,3880.05,444.75,1183.8,403.15,144.95,2024.1,7321.05,1203.95,6692.65,233.65,3416.85,4299.75,1171.5,388.6,857.75,2832.75,41.2,531.6,812.5,1191.4,4014.6,2722.2,3254.35,134.05,3848.0,6812.95,1382.9,3231.05,4981.15,2044.75,7939.25,19.9,2248.05,208.0,5720.95,546.45,3180.5,6578.55,5607.75,4422.95,8349.7,735.9,5817.7,279.5,8317.95,3442.15,61.7,1177.95,6310.9,3019.1,4657.95,3088.75,2924.05,42.9,1119.9,7719.5,74.7,847.25,208.25,1434.1,3465.7,1633.0,5948.7,849.9,4009.2,109.8,1074.65,651.55,4250.1,6841.05,1937.4,3545.1,3886.05,2613.4,733.95,775.3,19.75,395.6,169.75,74.3,7943.45,1642.75,2852.4,2215.25,2666.75,5458.8,20.65,169.65,1498.35,1886.4,2484.0,2989.6,84.75,2316.85,7882.25,760.05,1975.85,1451.1,1864.2,821.6,2614.1,3126.45,1803.7,6339.45,1466.1,0.0,7085.5,6572.85,2106.3,2093.4,1093.0,5873.75,469.65,4504.9,24.7,2763.35,19.95,186.05,1492.1,3865.45,3053.0,128.6,4535.85,6744.25,1623.15,1498.85,1419.4,4370.75,19.55,2661.1,4378.35,1593.1,3874.1,3801.3,1073.3,70.45,1621.35,4915.15,100.35,989.05,259.65,20.35,509.3,7782.85,641.25,3143.65,1901.65,540.95,1564.05,1414.65,49.0,4818.8,7713.55,1240.15,2447.45,72.0,7069.3,2553.35,1284.2,7511.3,1416.75,5289.05,130.15,3985.35,38.8,717.95,4929.55,600.25,5760.65,19.9,929.45,4543.95,1600.95,7559.55,2510.7,20.45,4834.0,3190.65,44.75,3340.55,6139.5,173.15,324.2,6951.15,5780.7,978.0,2807.65,20.3,335.65,3199.0,469.25,417.0,2117.2,718.55,99.45,7118.9,2948.6,25.75,958.25,5448.6,1629.2,3540.65,20.75,1939.35,387.9,524.5,213.35,25.7,3551.65,163.6,1387.45,273.25,2191.7,2560.1,5986.55,641.35,3608.0,104.3,1470.05,122.0,226.55,50.15,2364.0,419.9,4730.6,4805.65,908.55,3251.3,371.4,688.0,1901.25,7567.2,0.0,780.15,601.6,5222.35,270.2,6997.3,253.8,6028.95,238.15,83.4,76.95,927.1,4896.35,7616.0,341.6,1748.55,4222.95,238.1,1348.5,1357.1,475.2,5608.4,5376.4,611.45,733.55,3334.9,2130.55,1362.85,923.1,20.05,1023.95,543.0,921.3,1679.4,5025.85,3314.15,220.45,3775.85,865.85,572.2,6449.15,199.75,3988.5,57.4,693.45,3161.4,1218.25,4378.8,1363.25,1439.35,2471.25,59.55,5016.25,124.4,24.7,5308.7,19.55,5733.4,3634.8,1215.65,1383.6,666.0,7550.3,140.1,227.45,5388.15,5913.95,6194.1,1841.9,1041.8,4786.1,309.25,3132.75,146.65,6770.5,1462.05,44.55,6052.25,154.8,233.9,1468.9,1267.2,3358.65,1406.65,1651.95,69.95,3147.15,0.0,5514.95,2038.7,6501.35,140.95,5566.4,4312.5,112.75,788.35,4469.1,5483.9,5153.5,3593.8,1166.7,1175.85,4254.1,4959.15,473.9,2333.85,781.4,2107.15,1801.9,18.8,96.8,3870.0,477.05,995.35,5468.95,3301.05,5965.95,1253.5,293.15,1375.4,7732.65,2341.55,3015.75,5991.05,6470.1,220.45,7430.75,6632.75,5883.85,467.7,2799.75,1524.85,2964.8,1993.25,2395.7,5676.65,39.85,377.55,158.95,2263.4,1009.25,3478.15,7530.8,2658.8,1584.8,572.45,20.05,2522.4,50.6,601.55,196.9,113.95,4620.4,190.1,4003.85,3503.5,1924.1,331.85,944.65,283.75,4539.35,3848.8,25.85,5941.05,478.75,5815.15,248.4,113.5,246.7,942.95,94.4,228.65,1759.4,6474.4,6595.0,1336.1,929.3,134.6,20.3,1387.0,1691.9,6018.65,7082.85,810.3,910.45,82.9,1296.8,5899.85,274.35,0.0,4639.45,1911.5,1230.9,467.15,2583.75,4018.55,485.9,188.1,294.5,6991.6,6218.45,253.0,1175.6,6669.45,189.45,6425.65,1718.35,4137.2,1198.8,48.35,2546.85,3097.0,3928.3,5409.75,4779.45,3196.0,5175.3,3741.85,6236.75,930.9,501.2,1415.85,3009.5,3782.4,478.1,1339.8,313.4,3635.15,6844.5,268.4,890.35,239.45,2909.95,61.45,2088.05,2007.25,6631.85,7511.65,576.7,4677.1,1507.0,2538.2,2031.95,1107.2,0.0,5860.7,6352.4,1269.6,261.65,5898.6,5963.95,2727.3,3533.6,7061.65,132.4,264.55,296.15,7746.7,20.2,2748.7,1301.9,5244.45,747.2,1459.35,276.5,7845.8,8337.45,4438.2,4890.5,1813.35,5893.9,343.45,401.5,1441.65,1682.05,74.2,1378.45,2093.9,678.8,2633.3,153.3,1121.05,1183.05,154.3,813.45,1912.15,5696.6,592.75,1447.9,3886.85,19.2,3145.9,2414.55,1386.8,4747.5,1122.4,413.0,266.8,1273.3,2085.45,7288.4,6314.35,1173.55,7133.1,1992.85,55.7,393.45,2211.8,5890.0,889.0,4108.15,210.65,447.75,1158.85,7405.5,109.6,1329.15,2509.95,257.6,343.6,711.9,19.2,675.6,5487.0,1013.6,5135.15,251.25,625.65,2058.5,6302.8,8250.0,2548.55,6448.85,3121.45,3043.6,1381.8,4116.9,7661.8,75.45,4295.35,2497.2,239.05,45.25,2237.55,5969.95,788.05,151.75,371.6,145.15,1426.45,272.0,1620.8,5231.2,5550.1,24.4,2640.55,5023.0,227.35,2065.15,730.4,3865.6,495.15,1760.25,3720.35,435.0,1396.0,1160.75,499.4,609.05,552.65,1071.4,2349.8,1083.7,676.15,985.05,4868.4,610.2,1006.9,3265.95,3439.0,1546.3,5743.3,467.15,620.75,5222.3,134.05,3282.75,294.2,1177.05,4859.95,3398.9,954.9,1189.9,7985.9,6239.05,1732.6,2292.75,2763.0,7920.7,55.3,8126.65,980.35,1167.8,2324.7,504.2,4209.95,358.05,3765.05,155.9,400.3,4741.45,4266.4,3252.0,4600.95,5959.3,4889.2,165.35,1250.85,269.65,938.65,6597.25,416.45,3496.3,4375.8,3210.35,45.55,505.95,5576.3,1938.05,6652.45,5013.0,2077.95,5430.35,3958.85,867.3,55.05,1445.2,7966.9,1373.05,5720.35,4368.95,1064.95,3554.6,348.15,20.35,482.8,42.45,101.1,2595.25,7349.35,583.0,3316.1,1523.4,6741.15,1681.6,7082.5,1031.7,87.3,2782.4,416.4,504.05,1752.45,1445.95,603.0,1201.65,592.65,5882.75,3505.1,1297.8,559.2,1389.35,6993.65,1334.45,20.75,1051.9,1151.05,6201.95,776.25,5321.25,7895.15,5839.3,4698.05,1035.7,710.05,8078.1,93.55,193.05,1377.7,19.45,7049.5,253.9,1067.05,926.2,5621.85,156.1,92.05,1821.8,4179.1,516.15,1261.35,1424.4,3784.0,6875.35,2184.6,1252.0,3906.7,2976.95,6067.4,49.3,106.9,3479.05,129.2,19.75,1031.1,4307.1,304.6,561.15,1291.3,242.4,122.9,8175.9,20.4,1714.55,2021.2,7246.15,1114.55,5251.75,1232.9,2483.65,2048.8,1317.95,4119.4,65.95,3632.0,162.45,246.25,150.0,254.5,6674.65,6152.3,7082.45,908.15,7508.55,1583.5,670.35,1781.35,1277.75,1079.65,456.85,6506.15,2747.2,564.35,1279.0,19.65,7677.4,565.75,1474.9,8152.3,4707.85,4234.15,893.2,85.1,795.15,56.0,5276.1,20.0,927.15,8308.9,1715.15,761.95,3521.7,280.4,340.35,7854.9,1901.0,35.0,6766.95,1321.3,31.2,552.7,247.0,4692.55,1640.0,299.75,4228.55,3735.45,3162.65,7848.5,358.15,5785.65,7869.05,767.55,1784.9,71.25,6758.45,2434.45,1216.6,5776.45,799.0,1390.85,8289.2,2796.35,3579.15,571.75,693.3,4385.05,4676.7,336.15,2965.75,1496.45,4310.35,5165.7,1714.95,770.5,4374.55,256.75,1265.65,2029.05,19.75,4747.85,1932.75,1110.5,39.3,5997.1,2049.05,4563.0,452.8,4447.55,3509.4,3944.5,1641.3,1643.55,2244.95,4543.15,894.3,44.05,8013.55,202.9,6719.9,1680.25,838.7,3791.6,1123.65,1355.1,1414.8,20.6,117.95,467.5,168.9,5688.45,695.85,525.55,661.55,111.4,1388.45,3069.45,2862.55,5511.65,2028.8,1093.2,1910.75,5309.5,5219.65,5893.95,1411.35,3766.2,926.25,20.8,2809.05,432.5,1551.6,138.85,1580.1,6849.75,152.3,220.4,1412.4,2398.4,7291.75,6375.8,401.95,7576.7,4828.05,522.95,639.7,141.7,5364.8,267.35,49.5,2406.1,5025.8,1815.0,4619.55,0.0,6463.15,275.7,2181.75,4807.45,981.45,3591.25,2042.05,1301.1,212.4,3682.45,417.5,3470.8,5683.6,4322.85,1315.35,1442.0,4103.9,3815.4,2054.4,574.35,2492.25,73.1,3836.3,7623.2,1497.9,801.3,854.45,4747.2,7039.05,244.75,399.25,2020.9,1785.65,4154.55,174.75,4304.5,4085.75,4528.0,2181.55,44.6,6253.0,1007.8,901.25,1066.15,6118.95,1672.15,442.45,5986.45,196.75,1862.9,5764.7,2511.95,5925.75,4124.65,1295.4,6713.2,1769.6,3273.95,5580.8,25.25,1718.2,435.45,6989.7,535.35,826.1,6751.35,1336.8,107.1,520.95,5163.0,1887.0,19.2,174.45,46.4,38.0,4904.85,3452.55,5774.55,3330.1,286.8,298.7,89.35,6000.1,1322.85,1923.85,445.85,955.75,8035.95,547.8,19.85,1096.6,521.35,5980.55,96.8,5071.9,4084.35,1539.8,1080.55,784.45,1189.4,1403.1,7843.55,3822.45,389.8,786.5,295.55,3370.2,1710.9,846.8,198.25,370.4,218.55,7195.35,300.4,551.3,2209.15,2203.7,1818.3,4546.0,1563.95,498.1,1125.2,3023.65,533.6,5718.2,1336.15,4968.0,337.9,1395.05,1315.0,982.95,161.15,5038.45,24.9,0.0,4284.65,44.75,3899.05,8468.2,3023.85,365.8,7173.15,2879.9,2549.1,7544.0,2142.8,7842.3,71.2,4510.8,408.5,63.0,84.5,4667.0,321.7,943.85,750.1,6856.45,1655.35,5629.15,433.75,1237.3,84.2,554.05,374.0,1836.9,2421.6,918.75,157.75,4453.3,1905.4,239.75,278.4,331.6,6383.9,962.9,1510.5,1307.8,5629.55,1358.6,1259.35,235.2,0.0,4993.4,903.7,7610.1,3886.45,600.15,135.2,291.45,251.65,763.1,6423.0,992.7,1414.2,3255.35,1022.5,2136.9,2424.45,5676.0,854.9,1444.05,1594.75,731.3,3375.9,1156.55,5826.65,973.95,645.8,2191.15,761.85,5000.05,1509.9,999.8,172.35,84.4,1165.9,345.5,1129.35,3157.0,3042.25,6164.7,78.3,1185.0,4070.95,2813.05,1710.15,500.1,4454.25,3342.45,181.8,405.7,212.3,3482.85,649.4,1540.05,1174.35,1724.15,2879.2,369.15,550.1,2911.5,1671.6,2762.75,318.6,7245.9,1859.5,3027.65,471.55,905.55,1988.05,3950.85,7467.55,433.5,3419.5,788.6,20.35,613.95,3000.25,3283.05,1244.8,602.9,1026.35,1201.65,580.1,1745.5,285.2,3958.25,1088.25,6430.9,711.95,5315.8,1713.1,3915.4,1500.5,20.05,2016.3,4456.35,7758.9,4861.45,832.3,2724.25,6457.15,5265.5,2431.95,580.8,3250.45,6912.7,4939.25,342.3,6858.9,1992.55,3930.6,1742.45,61.05,170.9,34.75,967.9,1549.75,6367.2,3321.35,390.4,45.2,1872.2,917.15,540.05,316.9,550.35,417.65,4634.35,2172.05,599.3,4024.2,363.15,6614.9,100.9,6094.25,4445.3,3454.6,55.55,2234.55,144.35,804.85,5016.65,5034.05,194.55,5812.0,890.5,1902.0,302.35,727.8,5480.25,6816.95,4693.2,4107.3,2570.2,232.1,144.8,637.55,368.85,6705.7,1173.35,20.15,5831.2,1417.9,94.15,457.3,2586.0,174.7,346.45,159.2,635.9,387.4,7714.65,1020.75,2215.45,2723.15,743.75,99.95,185.2,7537.5,5236.4,1326.35,476.8,2901.8,1326.25,7346.2,1820.9,835.5,2696.55,2495.15,2971.7,6042.7,7210.85,1023.85,1267.95,8046.85,439.2,6792.45,5588.8,1971.15,1849.2,1875.25,6643.5,5841.35,567.8,4054.2,3355.65,413.25,196.4,130.5,3166.9,956.65,185.4,7862.25,4557.5,3377.8,3665.55,4264.25,828.85,3875.4,300.4,362.6,555.4,790.0,5779.6,713.6,4576.3,3751.15,1033.0,809.25,5714.2,1964.6,3770.0,4287.2,7898.45,84.6,4858.7,5044.8,1905.7,1679.65,1498.55,171.45,969.85,181.65,923.85,780.1,330.6,199.45,6241.35,1611.65,2288.7,4392.5,1646.45,3410.0,2659.45,1701.65,605.9,817.95,1458.1,1010.0,195.65,535.05,4464.8,5969.3,2308.6,577.15,1402.25,720.05,3687.85,207.4,5138.1,40.9,382.8,6503.2,1118.8,3983.6,2281.6,1054.8,3096.9,1983.15,4733.1,335.95,5956.85,762.45,3623.95,1647.0,243.65,4391.45,1968.1,1061.6,4902.8,270.15,1923.5,3645.6,647.5,2272.8,347.65,5686.4,70.7,3187.65,866.4,5914.4,8182.75,273.25,75.55,477.55,1281.25,1228.65,1908.35,7009.5,6914.95,4532.3,191.1,2570.2,1864.65,1355.45,265.75,45.75,36.8,3838.2,7076.35,217.1,4042.2,6889.8,1493.1,4149.45,685.55,920.5,20.65,6034.85,168.5,1381.2,921.55,3112.05,3237.05,4671.7,1673.4,2357.75,6342.7,5083.55,3440.25,141.65,3876.2,244.1,638.55,2588.95,2424.05,3512.15,3574.5,2686.05,4284.2,4494.65,45.8,216.45,8331.95,3221.25,4869.5,2168.15,6557.75,870.25,59.25,3653.0,1212.85,1311.75,406.95,4759.55,2768.35,6770.85,2239.4,335.75,3082.1,2030.75,7467.5,2896.6,1410.25,90.05,202.3,681.4,7261.75,3460.95,8003.8,759.55,1782.0,470.0,237.2,7875.0,143.65,47.7,6989.45,1600.25,3772.65,945.7,4370.25,755.4,3346.8,8192.6,865.1,653.25,617.65,3919.15,6536.5,5206.55,3994.05,5894.5,3923.8,274.7,5199.8,3165.6,1113.95,1476.25,1952.25,2196.45,2053.05,4345.0,934.15,4348.1,48.75,4664.15,2626.15,595.05,6511.8,149.05,2633.4,1664.3,2871.5,78.9,6603.8,2146.5,3353.4,3959.15,810.45,3510.3,2149.05,2536.55,4884.85,929.2,4308.25,1958.95,6325.25,6716.45,6369.45,1024.7,3423.5,493.95,1071.6,5936.55,3088.25,827.7,3893.6,4719.75,4917.75,6068.65,7470.1,874.2,2621.75,5043.2,936.85,1750.7,5224.5,6176.6,3418.2,8022.85,2651.2,2495.2,418.3,907.05,605.75,5980.75,270.6,3990.6,1266.4,1381.8,4193.4,3566.6,4415.75,5234.95,8100.25,755.6,1539.75,2929.75,4473.45,5329.0,5396.25,5295.7,1789.9,5475.9,7047.5,1442.6,2302.35,367.95,6487.2,4297.6,158.35,1346.2,1021.75,125.5,24.2,1522.65,174.2,1513.6,7555.0,4664.5,105.6,908.75,3778.0,4113.7,452.2,7665.8,7459.0,6293.75,678.2,2162.6,2298.55,272.95,3027.25,4174.35,523.1,2404.15,4946.7,180.7,3281.65,4555.2,383.65,875.35,262.3,548.9,1719.15,5229.8,2351.45,1739.6,638.95,1057.55,1164.05,1130.85,3851.45,7386.05,139.25,838.5,258.35,5610.15,1049.05,3965.05,1461.45,5200.8,1375.6,1431.65,8443.7,1336.9,6994.8,4641.1,5542.55,3953.15,772.4,851.2,373.5,2719.2,4976.15,533.9,2033.85,697.7,7142.5,2157.3,5595.3,5999.85,419.4,3251.85,3021.45,55.25,6385.95,353.65,1174.8,4507.15,438.05,682.15,44.0,2199.05,2453.3,829.3,1046.2,265.8,1453.1,375.25,734.6,235.05,844.45,69.9,234.85,775.6,257.0,1261.45,6891.45,223.9,19.65,35.1,2209.75,1131.5,554.45,7472.15,7049.75,1889.5,4245.55,5846.65,2375.2,482.25,2033.05,1866.45,1058.1,143.9,312.7,228.75,515.45,1802.55,765.15,1302.65,3795.45,2459.8,68.2,949.8,178.85,1879.25,644.5,1737.45,5070.4,177.4,4849.1,670.65,1187.05,4916.4,1039.45,6401.25,130.25,5038.15,2640.55,492.1,3339.05,865.75,2723.75,777.3,1253.65,2032.3,6929.4,2259.35,1725.0,7657.4,5411.4,5189.75,5154.5,7412.25,5646.6,4013.8,6563.4,1410.25,2845.15,4220.35,6895.5,369.05,3238.4,973.65,1766.75,978.6,24.0,880.05,610.75,5832.65,93.45,3729.6,0.0,3954.1,68.45,6416.7,1299.1,2633.95,146.6,6397.6,1253.8,1500.25,5481.25,7365.7,5502.55,6669.05,1898.1,3846.35,1654.7,697.25,3902.6,494.95,313.6,1545.4,3038.55,6033.1,938.95,150.75,2023.55,260.7,530.05,408.25,7334.05,5357.75,1304.8,2839.45,592.65,3808.0,3103.25,1210.3,4134.7,7553.6,1215.1,5232.9,4804.65,7554.05,757.95,57.4,5301.1,1274.45,5717.85,3541.4,419.35,4014.0,1115.6,3035.35,5432.2,5618.3,1689.45,1834.15,2243.9,1215.45,1170.5,1114.85,892.7,1955.4,655.3,1730.65,4973.4,2888.7,475.1,1386.9,552.9,123.65,1782.05,5174.35,4040.2,38.25,44.45,515.75,2893.4,163.2,20.25,607.7,2773.9,415.1,6520.8,888.65,163.55,1857.85,3161.2,5563.65,1567.0,4534.45,657.5,7112.15,2823.0,2979.2,1411.2,19.5,4213.9,3128.8,593.2,8424.9,5536.5,3472.05,147.8,683.75,587.7,654.55,42.7,4764.0,930.05,865.0,684.85,5553.25,1816.75,1702.9,1608.15,1392.25,1245.05,1033.9,3045.75,7854.15,1559.25,97.0,1959.5,1537.9,2245.4,7853.7,109.5,2271.85,96.85,219.35,7609.75,6880.85,1160.45,87.9,6588.95,862.4,4473.0,2188.5,4039.0,6230.1,3726.15,3532.85,2198.3,1698.55,7578.05,2282.95,779.2,7990.05,1367.75,1340.1,267.0,4017.45,1474.35,2184.85,695.05,20.45,4615.9,4116.8,6254.45,5703.0,29.9,802.35,8476.5,2966.95,1940.85,4976.15,716.4,638.0,44.75,4131.2,1798.9,440.2,3204.4,399.45,1830.1,5129.45,314.45,299.4,2343.85,899.45,118.25,6998.95,7240.65,7397.0,998.1,1433.8,2894.55,527.5,1423.35,1498.65,7107.0,488.25,2535.55,3691.2,194.2,849.1,1234.6,3292.3,331.35,436.9,4808.7,3089.6,2854.95,3674.95,1595.5,505.9,2193.0,5861.75,2419.55,279.3,1082.75,4919.7,3414.65,1755.35,4819.75,5243.05,830.8,6237.05,19.75,45.85,2215.4,2564.95,2094.9,382.2,275.4,607.3,1429.65,404.35,2104.55,518.75,1198.05,436.2,44.15,669.45,3975.7,2274.1,25.35,6300.85,3888.65,119.3,4746.05,6519.75,4166.35,759.35,2907.35,6079.0,1489.3,426.35,7114.25,2627.35,100.2,1859.1,55.25,46.3,814.75,4126.2,3134.7,6347.55,6109.65,1579.7,402.5,692.55,4753.85,1783.6,164.6,3334.95,2751.0,6330.4,4729.75,1566.75,1170.55,1322.55,357.6,958.1,6841.45,497.6,2884.9,77.6,4192.15,2234.95,7251.7,6424.25,2326.05,5791.85,996.85,6671.7,1226.45,5460.2,4484.05,2479.25,5224.95,877.35,7365.3,202.3,173.0,6302.85,2619.25,62.8,117.8,1406.9,609.1,6511.25,5844.65,2627.2,186.15,2265.0,5522.7,5270.6,1867.7,19.95,507.4,3871.85,1783.75,1195.25,7880.25,1045.25,7752.05,5386.5,1620.2,7707.7,216.2,2970.3,4690.65,4653.25,7138.65,389.95,3771.5,6172.0,704.3,1070.25,6613.65,2545.75,505.95,1363.45,852.7,4179.2,1049.6,422.4,107.25,5903.15,5645.8,232.35,2094.65,4586.15,6328.7,816.8,2656.3,96.85,6185.8,1554.9,1024.0,3047.15,7447.7,107.05,6411.25,20.2,3877.95,5265.2,3487.95,57.5,238.5,1540.2,1288.0,163.7,6779.05,6376.55,2688.85,795.65,4089.45,4985.9,485.2,2320.8,855.1,1846.65,1394.55,521.0,417.75,5968.4,6129.65,593.85,5617.95,1929.95,7849.85,683.25,789.2,374.8,1916.0,6365.35,7030.65,4003.0,186.3,7244.7,20.2,91.4,1398.25,1221.55,255.5,1155.6,2201.75,510.8,754.5,6129.2,5031.85,2878.75,1971.5,411.6,1657.4,1638.7,2835.5,109.3,624.6,350.35,7110.75,780.85,3068.6,348.8,543.8,831.75,2117.25,294.95,911.6,615.35,3084.9,566.5,1110.35,80.95,7679.65,3772.5,3365.4,469.65,688.2,664.4,2576.8,78.25,1282.85,1216.35,3603.45,394.1,204.55,1152.8,679.0,847.8,5436.45,1043.3,2537.0,4917.9,3778.1,690.25,4285.8,19.1,3548.3,2531.4,1752.65,934.8,2979.3,20.4,45.3,1086.75,1285.05,5067.45,1567.55,1354.4,5289.8,864.55,1672.1,2208.05,966.25,340.4,4904.2,2018.4,789.55,7878.3,1614.05,4145.25,1501.75,6725.3,1810.85,892.15,1440.75,1156.35,1209.25,92.75,161.45,1185.95,4361.55,612.1,5623.7,123.05,308.05,6227.5,2032.3,2684.35,167.2,184.15,1043.8,3327.05,341.35,8529.5,43.85,1688.9,716.1,19.9,5791.1,6093.3,30.55,1423.05,2344.5,1686.85,5420.65,150.6,245.15,3389.25,2151.6,4448.8,1270.55,4860.35,5150.55,1205.5,2016.45,1794.65,5950.2,3953.7,290.55,231.45,3244.4,6301.7,1332.4,1003.05,302.6,7132.15,301.9,2908.2,7104.2,1219.85,2933.95,7181.95,845.25,6435.25,2220.1,1181.75,931.9,7303.05,6109.75,20.95,1195.95,1614.2,4615.25,5931.75,4025.5,63.6,7171.7,550.6,1267.05,1723.95,5598.3,2440.25,2595.85,4995.35,1097.15,3236.35,386.5,7634.8,2301.15,4932.5,723.3,958.15,3624.35,684.05,5744.35,1211.65,854.9,1025.15,1821.2,1288.75,114.15,1941.5,356.1,611.65,467.85,5586.45,6819.45,106.8,3887.25,1798.65,1171.3,1260.7,6033.3,111.05,964.35,4692.95,534.7,1874.45,262.05,1505.45,61.35,7297.75,246.7,5064.85,1990.5,109.25,5749.8,1208.6,4300.8,3437.5,573.15,1432.55,136.05,1620.45,8248.5,608.15,678.45,3646.8,1530.6,1208.15,5461.45,34.8,5264.25,3756.45,2731.0,3021.3,641.15,6223.8,50.7,1199.4,4997.5,1493.2,4549.45,3122.4,4158.25,2623.65,648.65,3902.45,4577.75,4984.85,8436.25,3488.15,1004.75,54.3,5931.0,5459.2,1776.0,33.6,5496.9,384.25,8196.4,259.4,1238.65,454.0,137.1,184.95,1275.6,1379.8,1553.2,1848.8,955.6,2789.7,33.6,4362.05,5589.3,5265.55,768.05,3273.8,943.0,6306.5,1764.75,1525.35,1667.25,4509.5,2689.35,2391.15,816.8,109.2,1140.05,1787.35,156.85,1327.4,1412.65,2317.1,2015.8,1337.45,4920.55,2669.45,6586.85,7806.5,7475.1,238.5,773.2,6029.9,7149.35,7168.25,1672.35,235.65,1001.5,1734.65,357.0,2338.35,3208.65,1732.95,2656.7,7008.15,43.15,3457.45,1033.95,637.4,305.55,3729.75,2754.0,625.05,2369.7,7922.75,2210.2,2347.85,1027.25,7028.5,2019.8,3297.0,1478.85,280.35,4594.65,417.7,4040.65,1387.35,3512.9,466.6,154.55,7795.95,608.5,4744.35,1263.9,864.85,1359.5,1494.5,135.75,741.4,1051.05,6602.9,1566.9,1215.8,203.95,970.4,218.5,20.05,1914.5,3173.35,6096.9,422.3,5059.75,4885.85,950.75,1597.4,882.55,1497.05,4652.4,1233.15,3263.6,4097.05,1128.1,1830.05,3605.6,1348.95,3249.4,283.95,2647.2,1345.65,825.1,5315.1,3590.2,7774.05,6976.75,2847.2,405.6,3418.2,3694.45,162.3,612.95,1275.65,2552.9,4238.45,3274.35,3662.25,1124.2,235.0,6368.2,1672.1,4230.25,1663.75,5012.35,1311.3,702.9,4855.35,5602.25,1992.95,617.15,7711.25,2215.0,6638.35,1441.8,6153.85,755.5,2390.45,124.45,4671.65,7544.3,827.3,834.7,7188.5,798.2,1706.45,62.9,1563.9,1686.15,772.85,6444.05,1505.35,5714.25,73.45,2766.4,819.95,20.9,527.35,2188.45,5703.25,199.85,54.5,4155.95,4188.4,5500.6,45.15,8041.65,250.8,486.05,1743.9,1297.35,2462.6,5073.1,2688.45,2618.3,268.45,1886.25,2088.45,323.15,229.4,2296.25,876.75,19.65,1103.25,1046.5,996.95,19.4,1936.85,6350.5,19.15,587.1,4069.9,20.2,99.6,49.75,1313.25,436.6,445.95,411.15,696.8,120.25,590.35,6735.05,1630.4,377.85,589.25,1222.65,2204.35,159.35,1790.6,214.55,1782.0,89.05,4949.1,2313.8,493.65,307.6,129.15,724.65,97.5,3769.7,8375.05,1867.6,769.1,24.4,279.2,6707.15,198.5,1058.1,63.75,2415.95,123.8,1165.55,155.35,6404.0,3626.35,273.2,4760.3,4965.0,1438.05,2404.1,4862.5,161.45,541.5,6510.45,5809.75,887.35,1134.25,226.95,3092.0,6548.65,827.45,4859.1,1008.7,4236.6,116.6,80.55,49.8,3581.4,4900.65,717.5,662.95,5099.15,958.45,2657.55,3861.45,1423.65,70.35,326.8,3357.9,5139.65,1505.9,6179.35,255.55,1796.55,3415.25,280.0,1252.85,4616.05,106.2,3168.0,1559.15,6697.35,1729.35,5442.05,1454.25,1288.3,1356.3,5163.3,1017.35,7455.45,4508.65,220.45,58.3,5031.0,68.35,412.6,4925.35,265.45,7031.45,25.15,358.5,6004.85,5431.4,520.55,323.45,251.6,1411.9,5589.45,936.7,886.7,5730.7,7998.8,2001.0,8672.45,5711.05,6590.5,3187.65,4972.1,89.25,6589.6,4224.7,3369.05,2793.55,29.85,2275.1,1653.45,538.2,979.05,3739.8,3008.55,1183.05,686.95,19.55,1416.5,8058.85,1520.1,2221.55,1468.75,4368.85,1413.0,280.85,4735.2,378.6,1573.95,19.45,3833.95,3729.75,4824.45,810.85,111.65,5471.75,369.25,520.1,3450.15,1016.7,330.8,381.2,2413.05,33.7,4217.8,5731.85,3895.35,1263.85,0.0,1092.35,226.8,5585.4,3539.25,1857.25,1725.95,6561.25,7556.9,2830.45,1547.35,176.3,1614.7,628.65,3478.75,3171.6,1337.5,1843.05,2684.85,153.95,3091.75,1643.25,3778.2,4688.65,3363.8,5974.3,3829.75,1424.9,3824.2,726.1,20.0,237.3,1341.5,2647.1,6398.05,1810.55,5264.5,2599.95,1205.05,1108.6,7251.9,19.65,5637.85,4549.05,150.35,90.05,1344.5,7129.45,3094.05,6292.7,1529.45,297.35,961.4,857.8,2974.5,743.3,3627.3,45.35,1325.85,94.45,60.65,6843.15,629.55,3007.25,1304.85,3107.3,232.4,3480.35,4138.7,4784.45,54.7,130.5,5895.45,4599.15,50.75,1840.75,574.5,921.4,1299.8,1188.2,1421.75,1345.75,4326.8,49.65,1081.25,393.15,2877.95,20.3,684.4,217.5,275.7,5825.5,7320.9,217.45,4807.35,2263.45,3966.3,3597.5,3641.5,1857.3,494.9,1778.5,1261.0,129.6,19.75,1493.2,4525.8,1066.9,4720.0,4674.55,3581.6,6668.35,1882.8,1007.9,3725.5,6362.35,85.5,3077.0,720.1,1436.95,220.75,19.9,5552.05,146.4,839.65,1868.4,1293.8,5727.15,1117.55,1242.25,5594.0,475.0,352.65,434.8,1195.75,660.05,4265.0,4905.75,7839.85,1813.1,3541.1,19.3,1020.2,1683.7,8244.3,6721.6,1218.65,4039.5,705.45,383.55,3003.55,244.45,3109.9,460.25,1982.1,1747.2,1559.45,5798.3,568.2,553.4,110.15,1292.6,6130.85,5930.05,6075.9,4889.3,83.75,397.0,1797.75,1859.2,3565.65,1838.15,1611.15,1151.55,659.45,3529.95,2386.85,332.5,1683.6,4965.1,5708.2,330.8,222.65,39.8,369.1,5835.5,708.8,3838.75,8425.15,6382.55,4738.85,2379.1,422.5,4275.75,7748.75,1424.6,8016.6,2341.5,5231.3,4589.85,487.05,4888.2,4055.5,71.1,6991.9,1699.15,1245.6,306.05,2345.55,20.2,563.5,4060.9,1031.4,3425.35,4931.8,3465.05,5632.55,49.85,6496.15,7181.25,490.65,2545.7,419.7,828.2,7737.55,183.15,225.85,2427.1,659.35,211.95,6891.4,811.65,7413.55,5681.1,1777.6,428.7,1093.4,4541.9,3883.3,1108.2,5443.65,2737.05,6132.7,1001.2,2193.2,1013.35,7565.35,565.35,946.95,449.3,906.85,284.9,3684.95,255.6,6065.3,1090.1,514.6,5166.2,311.6,451.55,4299.95,5924.4,1734.2,1014.25,125.0,2730.85,51.6,5347.95,6869.7,425.1,458.1,701.3,1286.0,3708.4,1679.25,3055.5,82.15,3952.65,452.55,689.35,6859.05,44.55,4109.0,4487.3,79.05,4921.2,2897.95,2075.1,1022.95,533.5,6688.95,1137.05,1714.95,6126.1,1404.65,20.25,470.6,4732.35,571.15,5498.2,8306.05,2006.95,916.15,1706.45,434.5,7493.05,833.55,4303.65,266.95,6058.95,1004.35,1258.35,2130.45,2490.15,828.05,1652.95,1738.9,2540.1,5692.65,1500.95,498.25,5552.5,3996.8,1399.35,1110.05,1871.85,1336.35,322.5,2692.75,392.5,385.55,997.75,287.85,3399.85,246.6,6925.9,20.45,1370.35,8425.3,7658.3,356.65,21.05,5253.95,597.9,1184.0,800.3,1328.35,47.95,1700.9,1138.8,2638.1,168.65,4519.5,70.6,7982.5,5229.45,3522.65,249.4,2494.65,463.6,144.15,3921.1,299.3,1930.9,1023.75,525.0,785.75,947.4,3557.7,2964.0,4299.2,314.95,5682.25,4811.6,484.05,3618.7,1225.65,5017.7,1597.05,45.0,1423.85,6309.65,6754.35,3956.7,1079.05,1952.8,5611.7,284.3,174.65,245.15,5193.2,19.45,1193.55,6185.15,3131.8,3058.3,6733.15,835.15,2208.75,250.1,4136.4,394.85,5817.0,4903.15,1423.15,93.4,6322.1,5196.1,2568.15,5567.45,1032.05,6767.1,3373.4,1305.95,198.6,1790.35,50.05,861.85,1434.6,8405.0,369.3,1495.1,356.15,914.4,1094.35,3616.25,6885.75,1253.15,5497.05,5237.4,5528.9,842.25,7159.05,2227.8,1411.65,7111.3,2421.75,2820.65,3673.15,401.85,806.95,3246.45,707.5,8332.15,1147.85,1345.85,6300.15,1102.4,632.2,206.15,1112.3,1521.2,3403.4,4264.6,3420.5,5068.05,20.45,7388.45,19.8,1612.2,4178.65,7317.1,6141.65,19.5,1893.5,2768.65,294.9,351.55,746.05,1782.4,535.55,3260.1,749.35,4523.25,3090.65,6555.2,1642.75,548.8,4551.5,3921.3,19.55,8399.15,454.65,2802.3,31.9,313.0,232.5,4492.9,20.7,512.25,1652.4,4176.7,1424.2,3650.35,8277.05,1221.65,3901.25,4391.25,163.7,6954.15,1626.05,5601.4,771.95,6130.95,4018.35,672.7,1264.2,101.65,4869.35,7159.7,148.05,6096.45,1800.05,2790.65,8164.1,3379.25,2062.15,2356.75,118.4,5916.95,3974.15,1696.2,654.85,74.0,1958.45,6161.9,2425.4,51.25,1042.65,4331.4,44.8,1011.5,7689.8,6055.55,3320.6,44.9,1188.25,62.0,319.6,6518.35,839.4,44.0,5574.35,1793.25,1123.15,1316.9,3089.1,2078.55,858.6,1825.5,568.85,668.85,184.1,1778.7,2882.25,41.85,424.75,1620.25,2258.25,429.55,101.9,1319.95,357.7,20.05,1874.3,1378.75,2433.5,6585.2,85.1,6382.0,1167.6,3085.35,49.8,4982.5,583.3,5564.85,6311.2,1797.1,74.3,6725.5,3410.6,708.2,350.1,1574.5,532.1,3177.25,4063.0,4801.1,5985.75,3645.5,593.05,564.35,790.7,966.55,3242.5,103.7,1677.85,1388.0,7325.1,2538.05,546.85,4863.85,2429.1,3794.5,6393.65,4113.15,3887.85,8065.65,1298.7,1985.15,3582.4,2964.05,7281.6,1837.7,8012.75,1237.65,903.8,689.75,1004.5,475.7,3713.95,7334.05,6297.65,401.3,529.5,987.95,1745.2,3043.7,8564.75,3320.75,2779.5,5746.75,1055.9,754.0,329.75,49.55,313.45,7133.45,25.0,868.1,1309.15,7711.45,951.55,1669.4,108.65,1364.75,6744.2,4566.5,435.25,52.05,4664.2,2427.35,7919.8,784.25,1161.75,7053.35,867.3,2513.5,1082.8,5233.25,255.35,340.85,1573.05,3131.55,44.95,4162.05,970.85,1261.7,5535.8,157.55,469.85,930.95,452.35,1303.5,765.45,411.25,1756.6,20.15,8310.55,6688.1,2096.1,851.8,2673.45,6823.4,8477.6,74.1,4577.9,651.5,18.85,1393.6,764.55,488.65,3035.8,387.7,7629.85,3858.05,2907.55,3313.4,2108.35,3617.1,359.4,3460.3,152.95,7209.0,2570.0,161.65,7840.6,5680.9,53.05,2018.1,739.9,537.35,162.55,1581.95,7227.45,3645.75,1885.15,4068.0,6126.15,2283.15,2928.5,5763.15,1763.55,926.0,1856.4,777.35,4729.3,1406.0,7881.2,5215.25,2021.35,6538.45,4669.2,873.4,1212.25,2753.8,1505.05,740.55,4447.75,493.4,999.9,1415.0,664.4,1249.25,50.6,3116.15,19.75,4914.8,53.55,225.55,5555.3,2419.0,3094.65,5750.0,6001.45,2092.9,1391.15,20.3,8093.15,2603.95,5655.45,1806.35,2249.1,4267.15,1274.05,5878.9,37.2,3756.45,2034.25,1190.5,5515.8,2958.95,601.6,1319.85,372.45,3019.7,116.85,493.4,1753.0,4451.85,736.8,1821.95,4495.65,827.05,1012.4,1146.05,3533.6,587.4,781.25,3571.6,4786.15,2959.8,2443.3,1443.65,2774.55,44.0,4059.85,4805.3,4318.35,6083.1,284.35,5215.1,424.5,4459.8,770.4,8124.2,4754.3,45.6,935.9,5064.45,4309.55,246.3,1078.75,8166.8,189.1,735.5,1130.0,86.35,5647.95,2025.1,4326.25,3413.25,2007.85,3139.8,4480.7,1235.55,83.75,6697.2,4845.4,8312.75,2654.05,2134.3,717.3,518.3,1203.9,729.95,2681.15,335.4,1533.8,6640.7,355.1,485.25,1673.8,6151.9,1665.2,486.2,5194.05,176.2,6373.1,116.95,8240.85,2727.8,2006.1,4428.6,1346.9,3857.1,4991.5,2322.85,1601.2,2460.35,309.4,1654.6,1943.9,73.05,223.6,1070.5,3483.45,1750.85,19.25,288.35,739.35,5919.35,3882.3,1931.3,320.4,3990.75,5036.9,470.2,5757.2,581.85,631.4,1678.05,221.1,6838.6,1400.3,6689.0,7069.25,4730.9,2236.2,446.8,6293.2,756.4,4554.85,197.4,53.15,1790.8,4904.25,1207.0,6045.9,19.1,237.7,4478.85,2151.6,943.1,2848.45,990.45,6155.4,461.3,3419.3,2083.1,3161.6,5012.1,1654.45,7953.25,5600.15,5705.05,5731.45,8061.5,824.85,5437.75,190.25,5661.7,6841.4,4872.35,6595.9,551.95,6273.4,786.3,970.55,4456.65,581.7,161.95,4804.75,4820.55,2835.9,1268.85,3005.8,928.4,1191.2,1048.45,92.5,931.75,1149.65,3190.25,700.45,252.75,2212.55,2156.25,720.45,1765.95,253.8,1242.2,5979.7,679.8,595.5,1356.7,51.2,4233.95,5375.15,6019.35,465.85,897.75,483.15,4747.65,6565.85,658.1,1161.75,1588.7,2076.05,7283.25,1126.35,1054.75,4459.15,6549.45,6962.85,92.25,1620.2,171.0,3369.25,3687.75,324.15,1980.3,1165.6,879.8,6794.75,89.75,1022.6,6460.55,2479.05,2911.8,1385.85,989.05,70.05,70.2,2441.7,3097.2,70.6,412.55,82.85,2444.25,433.95,1013.05,507.9,813.3,7074.4,1275.85,3645.05,110.05,19.4,677.9,137.25,2723.4,229.7,8086.4,49.7,1328.15,3297.0,241.3,653.95,6056.9,295.65,973.1,471.35,963.95,5125.5,7051.95,1519.0,117.05,1816.2,2796.45,1842.7,5728.55,4449.75,8129.3,4159.45,3973.2,4916.95,2997.45,3946.9,398.55,4156.8,616.9,32.7,3649.6,2230.85,5969.3,701.05,214.75,20.55,826.0,4793.8,360.55,815.55,6910.3,788.55,144.0,2511.3,2333.05,5025.0,918.7,3219.75,8670.1,522.35,6038.55,79.8,5317.8,450.65,2276.1,927.65,48.6,20.5,1025.15,3306.85,1388.75,339.9,3213.75,587.45,1057.85,307.0,2625.25,4891.5,5311.85,63.15,797.25,2309.55,6223.3,5822.3,2683.2,6782.15,1790.65,336.7,3024.15,3914.05,4014.2,8594.4,147.5,2192.9,5484.4,3810.8,150.85,562.7,692.35,1070.7,937.1,153.8,1615.1,1374.2,465.45,7887.25,4748.7,845.6,3532.25,1050.5,316.2,45.3,2575.45,6860.6,3827.9,55.45,4282.4,5727.45,666.75,4016.2,1275.7,2919.85,4016.75,239.0,1851.45,1912.85,74.35,223.75,7475.85,4590.35,309.35,310.6,7459.05,1861.1,673.2,7806.6,566.1,8075.35,418.25,470.2,1183.2,2339.3,472.25,4264.0,1373.0,2440.25,1662.05,3845.45,672.2,1327.85,24.4,7383.7,1305.95,2896.55,3517.9,2475.35,1826.7,6256.2,916.0,3211.2,5981.65,1948.35,4327.5,3275.15,2044.95,8547.15,5468.45,2180.55,552.1,94.5,1516.6,2473.95,215.25,5611.75,1287.85,804.25,6668.0,2658.4,5060.85,2664.3,383.65,487.95,1559.3,4263.4,457.1,7517.7,7382.25,20.05,1725.4,367.55,4111.35,129.55,3625.2,1372.9,1517.5,4871.45,6171.2,856.5,18.9,4018.05,633.45,742.9,92.75,4627.65,3707.6],\"x0\":\" \",\"xaxis\":\"x\",\"y0\":\" \",\"yaxis\":\"y\",\"type\":\"box\"},{\"alignmentgroup\":\"True\",\"hovertemplate\":\"abandono=1\\u003cbr\\u003ecargo_total=%{x}\\u003cextra\\u003e\\u003c\\u002fextra\\u003e\",\"legendgroup\":\"1\",\"marker\":{\"color\":\"#EF553B\"},\"name\":\"1\",\"notched\":false,\"offsetgroup\":\"1\",\"orientation\":\"h\",\"showlegend\":true,\"x\":[280.85,1237.85,267.4,2791.5,25.1,1215.6,76.35,30.5,91.1,4036.85,1120.3,19.85,99.75,4059.35,2317.1,1448.8,511.25,1553.95,181.65,1052.4,80.2,63.75,2362.1,70.9,1152.7,6205.5,855.3,474.9,8127.6,676.35,1582.75,371.9,167.3,223.15,75.9,85.55,1444.65,2227.1,1929.35,181.5,651.4,2303.35,58.85,113.85,5036.3,95.45,842.9,453.4,6010.05,2274.35,80.55,2331.3,89.5,48.55,6851.65,740.3,70.1,315.3,330.15,233.7,4443.45,577.6,5885.4,2911.3,3067.2,3432.9,34.7,1943.2,1460.65,272.2,3563.8,139.4,70.45,5574.75,3545.35,229.55,5373.1,5742.9,44.4,215.2,20.9,2598.95,2145.0,1900.25,3001.2,3365.85,5238.9,69.5,79.7,343.95,2467.75,349.65,71.1,70.45,390.85,308.25,70.75,3626.1,2624.25,1146.65,4874.7,829.1,5356.45,135.0,2510.2,1845.9,365.55,6283.3,667.7,1052.35,1820.45,25.25,25.05,3147.5,3678.3,2068.55,402.6,840.1,1544.05,2169.8,162.45,1095.3,1555.65,6886.25,3825.85,2157.95,713.0,25.8,69.25,1504.05,95.0,154.85,4653.85,1060.6,4874.8,5000.2,338.9,364.55,622.9,713.75,321.75,74.45,5509.3,741.7,1400.55,179.35,82.3,56.35,7534.65,197.7,19.3,262.05,296.1,918.6,679.85,154.65,70.85,2122.05,62.25,2550.9,328.95,35.55,4517.25,2088.75,1592.35,259.8,1359.0,723.4,865.55,425.9,5639.05,385.9,31.55,2754.45,45.7,5278.15,1056.95,7689.95,247.25,242.0,544.55,3527.6,788.8,5812.6,526.7,1463.5,1230.25,3183.4,70.8,89.55,7007.6,874.8,20.1,137.6,492.55,24.8,825.7,19.55,70.85,229.6,2868.05,1327.15,69.9,20.15,85.05,1587.55,69.75,69.1,59.75,1313.55,4504.55,1424.95,1348.9,3092.65,834.15,70.65,75.6,169.8,7156.2,74.95,857.2,3233.6,1135.7,520.0,415.95,1067.15,267.35,233.55,114.7,5341.8,1266.1,20.1,114.1,3186.65,195.3,655.9,5283.95,6581.9,1375.15,526.95,372.45,79.9,149.55,2249.95,220.6,1380.1,5149.5,757.1,24.25,834.1,6603.0,20.05,70.3,740.8,424.45,164.85,289.1,1565.7,334.65,89.3,824.75,856.35,7968.85,69.15,5464.65,80.0,58.15,1058.25,4092.85,89.1,1037.75,1068.85,2659.4,20.2,25.7,81.0,6145.85,1095.65,703.55,608.8,4990.25,62.05,2585.95,7723.9,1127.2,333.55,773.65,412.1,1132.75,655.85,593.45,60.1,1384.75,900.5,6822.15,141.5,4242.35,2636.05,160.8,2497.2,338.1,45.15,143.35,1445.3,502.6,832.05,5685.8,1899.65,3124.5,1752.55,49.65,1208.35,244.65,2564.3,727.8,751.65,4273.45,477.7,6110.2,19.45,362.2,3309.25,35.25,449.75,79.55,25.2,2745.2,1496.9,48.6,221.7,69.55,74.2,5071.05,70.15,70.0,1637.4,4187.75,834.2,866.45,242.8,6143.15,1951.0,1907.85,5082.8,2001.5,688.65,70.5,1111.65,582.5,20.15,45.3,20.4,1101.85,1448.6,46.0,73.0,256.25,164.5,7674.55,1893.95,20.5,6710.5,81.95,600.0,1131.2,84.3,74.6,1301.7,523.15,1253.9,2076.2,2496.7,168.2,3624.3,3036.75,204.7,1808.7,324.6,503.6,185.55,418.4,45.6,2698.35,1561.5,2217.15,350.3,106.85,151.3,1129.1,1767.35,45.65,261.25,1422.05,3754.6,1111.85,989.45,4822.85,1062.1,293.3,1742.75,1269.55,4045.65,84.85,546.95,50.8,354.05,438.4,289.3,6579.05,55.2,239.55,3692.85,6017.65,2239.65,115.95,347.65,1096.25,270.7,5438.9,298.45,1430.25,19.9,3058.65,3913.3,342.4,890.6,2890.65,1861.5,4134.85,3050.15,541.9,81.25,523.5,6413.65,53.5,219.65,583.45,916.75,4534.9,6448.05,329.8,2391.8,1127.35,560.6,70.3,1060.2,2109.35,452.7,531.0,4086.3,3273.55,740.0,658.95,68.75,174.3,567.45,69.55,79.5,158.4,3777.15,1233.4,6585.35,5638.3,24.05,237.95,3762.0,506.9,66.95,208.7,266.9,77.15,1164.3,340.85,70.15,225.6,6871.9,3229.65,69.6,201.0,2180.55,746.5,669.0,1145.7,420.2,2169.75,7482.1,898.35,145.0,25.15,455.3,2467.1,2758.15,2368.4,758.6,926.25,181.6,1625.65,181.7,49.55,6903.1,90.75,85.5,184.1,6137.0,930.4,714.15,165.4,1258.3,78.05,971.3,3184.25,762.25,331.9,597.0,45.05,7532.15,4348.65,38.7,2231.05,80.35,4259.3,1258.6,68.65,3856.75,937.5,1727.5,346.2,80.5,79.25,155.8,4016.85,3303.05,20.25,2416.55,6873.75,8684.8,853.0,1157.05,2184.35,333.6,777.3,5508.35,1994.3,36.55,50.6,332.45,424.15,1400.85,20.2,1772.25,518.9,307.4,98.5,1060.2,1607.2,74.45,1078.9,145.4,321.9,573.3,4062.2,3351.55,5617.75,193.8,6125.4,858.6,2745.7,89.9,431.0,1604.5,953.45,85.8,292.85,4213.35,55.4,69.95,88.8,545.15,357.75,43.95,6876.05,35.45,5918.8,947.3,2867.75,91.1,156.35,5453.4,627.4,2572.95,489.45,5124.6,1222.8,270.8,20.1,174.8,347.4,45.85,71.35,100.25,91.7,5069.65,7611.85,4116.15,264.85,5427.05,3017.65,1214.05,742.95,2254.2,1425.45,609.9,95.05,70.25,851.75,330.05,1775.8,7723.7,3759.05,75.05,973.55,76.4,5084.65,1130.85,198.0,3474.05,573.75,2847.4,155.35,3587.25,49.95,3655.45,810.7,2602.9,6341.45,1281.0,1132.35,273.0,462.8,829.55,2387.75,1094.5,1474.75,3046.4,134.35,6786.4,71.0,6287.25,765.5,69.35,547.65,2651.2,1534.75,606.55,70.05,1426.75,19.95,4759.75,256.6,2345.2,1498.2,2661.1,79.45,1270.2,2757.85,74.4,2952.85,6941.2,435.4,55.0,778.1,3110.1,1364.3,1369.8,672.55,75.3,2806.9,644.35,1914.9,165.2,54.9,1457.25,108.15,305.95,46.2,319.15,3021.6,78.65,914.0,288.05,6219.6,190.05,930.45,74.25,2781.85,3229.4,69.1,137.95,88.35,460.25,1222.05,1852.85,74.6,116.65,35.05,1390.6,92.65,1167.8,3520.75,6890.0,74.7,5746.15,36.45,5688.05,1290.0,23.45,529.5,89.15,20.55,5017.9,137.85,673.25,2404.15,139.35,602.55,7133.25,2917.5,1710.45,191.05,696.35,146.9,5893.15,69.1,655.5,59.85,1144.5,8109.8,59.2,19.9,1218.55,497.55,3444.85,45.1,4867.95,443.9,2186.4,1834.95,480.6,50.9,1210.4,3152.5,2804.45,2203.65,91.3,3473.4,669.45,560.85,2369.05,1490.95,521.1,3004.15,59.05,3436.1,54.75,3243.45,1129.75,563.65,893.55,178.5,224.05,5743.05,1973.75,74.4,3182.95,69.55,863.1,639.65,2104.55,1077.5,220.95,108.05,4338.6,416.3,729.95,1169.35,164.3,2728.6,2435.15,273.75,4424.2,528.35,498.1,45.1,33.2,55.8,85.15,317.25,20.25,368.1,469.8,465.05,45.85,2365.15,1463.45,389.1,7176.55,20.5,74.35,679.3,706.6,1471.75,587.1,4113.1,251.75,5029.2,1120.95,50.75,5293.95,279.25,1660.0,142.35,54.35,55.0,5293.4,4527.45,44.4,503.6,1259.0,1511.2,51.15,2470.1,155.65,1863.8,2135.5,74.5,2200.25,196.75,108.7,74.9,4680.05,470.95,940.35,6281.45,35.9,3588.4,196.15,5624.85,327.45,2568.55,69.7,815.5,434.1,69.8,2250.65,153.05,1350.15,6039.9,146.05,112.3,830.7,1194.3,474.8,69.65,7101.5,4547.25,1574.45,5118.95,483.7,846.0,1193.05,2499.3,246.3,325.45,246.5,545.2,19.6,91.7,1334.0,2440.15,2514.5,69.85,2178.6,5510.65,81.1,226.45,635.6,2111.45,3030.6,147.15,1156.1,502.85,734.35,1284.2,2110.15,1789.25,118.3,19.3,96.45,52.2,770.6,990.85,179.25,2978.3,1715.65,70.1,1554.0,906.85,5614.45,195.05,3862.55,24.75,2515.3,20.5,50.1,360.1,70.4,19.45,281.0,663.05,2816.65,20.2,5275.8,5961.1,371.65,60.0,5037.55,19.9,3734.25,68.95,324.3,93.7,1676.95,818.05,2983.8,2265.25,1520.9,1058.6,819.4,2043.45,86.05,4399.5,2649.15,86.0,2868.15,44.9,7250.15,44.1,69.65,2238.5,20.0,2347.9,19.8,214.75,20.15,2862.75,126.05,470.6,661.25,94.6,2697.4,5794.65,188.7,453.75,220.1,939.7,53.55,180.3,355.2,381.3,340.25,3496.3,80.55,2724.6,75.35,5551.15,255.25,4350.1,451.1,270.95,140.7,20.05,50.15,20.6,323.25,75.35,2011.4,3027.4,45.3,669.85,6144.55,242.95,4687.9,45.95,791.75,2655.25,69.8,3467.0,1008.55,291.4,19.95,539.85,160.75,102.5,90.85,620.55,193.6,95.1,880.2,69.5,85.7,75.7,1131.3,733.35,102.75,3409.6,1008.7,649.65,221.9,6465.0,74.7,3105.55,86.6,7856.0,80.85,131.65,187.45,3186.7,7548.1,1133.65,3014.65,184.4,1064.65,298.35,2596.15,2628.6,183.75,178.1,20.2,732.5,973.45,4812.75,1761.45,3132.75,70.6,35.75,486.85,3549.25,613.4,5568.35,2483.05,79.6,3475.55,442.85,101.45,2257.75,7318.2,257.05,868.5,6529.25,576.65,2012.7,4820.15,6547.7,77.75,2431.35,272.15,41.85,94.55,113.35,80.25,2874.15,7446.9,19.25,5440.9,19.9,1046.1,2254.2,916.9,4853.75,4458.15,69.75,69.85,45.3,172.85,75.3,1529.2,279.55,754.65,2812.2,216.75,1855.65,297.3,70.0,2095.0,482.8,85.45,1782.4,374.5,20.95,161.5,180.25,1032.0,1115.15,96.05,4718.25,210.75,60.15,77.15,404.2,77.5,288.05,45.4,45.05,857.25,494.05,5435.6,152.45,302.75,934.1,7348.8,108.95,1970.5,19.4,90.6,139.05,2716.3,1875.55,134.7,75.45,228.4,454.15,31.35,519.15,69.9,365.35,1931.75,69.4,4888.7,1115.2,168.15,999.45,2319.8,1133.9,56.25,1505.85,79.35,1761.05,1081.45,467.55,70.6,1465.75,229.55,680.05,1687.95,334.8,3019.25,79.05,738.2,4364.1,3706.95,654.85,2088.8,713.1,2277.65,446.05,1470.95,2276.95,329.95,3744.05,25.1,2755.35,3937.45,1240.25,316.9,415.55,80.15,1422.1,6615.15,1515.1,575.45,384.5,267.6,19.1,1378.25,45.65,71.55,19.65,44.35,259.8,260.9,144.55,235.5,4254.85,4065.0,909.25,4600.7,217.55,1502.65,919.4,1206.05,131.05,994.8,85.0,131.05,553.0,3160.55,5610.25,178.7,1910.6,2405.05,1730.35,2587.7,130.1,7262.0,2384.15,2854.55,29.95,1776.55,1099.6,819.55,997.65,896.9,1734.5,794.25,130.75,3912.9,811.8,3029.1,95.6,74.9,2122.45,24.8,78.8,299.2,659.65,5293.2,73.6,3207.55,5121.3,2342.2,434.5,2660.2,416.45,1539.45,68.5,229.5,6975.25,401.1,586.05,3941.7,69.35,80.8,4749.15,165.45,6056.15,294.45,673.1,69.6,73.55,4026.4,93.3,1021.8,248.95,2967.35,3515.25,79.2,810.2,4367.35,44.45,2291.2,28.3,2524.45,5124.55,50.5,1415.55,19.7,79.55,55.7,216.9,2530.4,2416.1,6383.35,5485.5,4872.45,70.3,4323.45,6418.9,4759.85,215.8,2139.2,1842.8,4042.3,1145.35,50.55,378.4,1301.0,43.3,541.15,3078.1,2351.8,346.4,5426.85,3969.4,21.0,5921.35,81.7,64.55,5785.5,6859.5,6428.4,6127.6,1244.5,1758.6,300.8,1616.15,4533.7,1888.65,19.75,95.65,221.35,665.45,48.95,1422.65,84.8,365.4,2433.9,75.75,3580.3,2710.25,50.65,1107.25,3615.6,76.35,201.1,1389.2,412.5,2177.45,287.4,42.9,76.0,3605.2,762.1,44.4,20.85,3266.0,4370.25,6937.95,119.75,74.9,1174.35,556.35,712.85,170.85,3395.8,1622.45,45.95,5643.4,5549.4,45.3,6979.8,205.05,2407.3,399.6,847.3,2171.15,84.5,6405.0,606.25,2015.35,3264.45,3171.15,4414.3,69.95,1201.15,74.5,102.45,143.65,69.25,6985.65,1048.85,100.8,167.5,370.65,780.5,156.4,19.75,442.2,1836.25,25.3,3969.35,813.85,50.45,2460.15,69.65,1993.8,132.2,90.55,4689.5,90.55,396.3,184.65,7690.9,987.95,455.5,301.4,45.75,4481.0,92.45,208.85,99.75,853.1,1329.2,71.0,878.35,480.75,20.9,1200.15,994.55,633.4,631.85,4816.7,4515.85,4211.55,321.65,79.15,633.3,1178.25,84.65,1235.55,418.8,1441.1,1148.1,3264.5,1712.7,145.15,2498.4,3959.35,512.45,6215.35,324.25,19.5,1573.7,415.55,45.3,147.15,231.8,115.1,104.2,123.65,260.8,46.3,79.6,75.8,151.8,4512.7,871.4,1059.55,2541.25,97.1,1338.15,49.9,837.95,2839.65,7432.05,522.95,1054.6,4541.2,2497.35,69.2,44.15,69.6,3201.55,127.1,937.6,385.0,7040.85,1917.1,4029.95,2452.7,3198.6,40.1,2954.5,415.05,6396.45,438.25,144.15,6981.35,50.45,3066.45,1527.5,856.65,1742.95,1238.45,305.55,100.4,409.9,166.3,1934.45,45.8,1553.9,20.2,84.5,156.25,44.65,196.9,20.15,1254.7,35.85,35.9,1308.4,72.4,4740.0,93.7,3046.05,20.55,80.3,69.4,552.95,2555.9,2354.8,24.8,293.65,889.9,740.3,3233.85,134.5,2119.5,2282.55,19.6,632.95,69.95,712.75,1217.25,2293.6,4138.05,1147.45,1716.45,71.35,70.55,146.3,79.65,762.5,69.65,2287.25,1483.25,799.65,446.1,20.3,5769.6,45.1,265.35,181.1,396.1,305.55,4284.8,2483.5,604.7,93.85,1747.85,5265.1,1105.4,4154.8,2625.55,593.75,159.45,438.0,7804.15,903.6,793.55,196.95,1581.2,941.0,237.75,25.2,47.5,3361.05,4913.3,50.45,2931.0,1046.5,20.2,4533.9,19.65,1180.95,914.3,90.35,660.9,306.6,151.3,74.35,4388.4,69.6,71.65,764.95,3384.0,2448.75,3480.0,1236.15,167.3,449.75,477.55,2317.1,189.2,2070.6,990.9,318.9,5224.35,113.55,73.65,461.7,318.5,1424.5,1308.1,692.1,1345.55,1025.95,1625.0,331.3,2165.05,79.1,6440.25,264.8,249.95,86.6,4783.5,679.55,3217.55,4146.05,2934.3,2542.45,2375.4,5154.6,7220.35,4871.05,927.35,299.7,165.0,71.65,118.5,6441.4,30.2,209.1,1023.9,1692.6,2841.55,527.9,4186.3,2995.45,347.25,223.45,2196.15,78.95,219.0,4750.95,303.15,4398.15,1093.1,403.35,90.6,39.65,521.3,1776.95,245.2,1029.75,159.15,585.95,7372.65,75.1,3204.65,80.05,168.15,141.45,668.4,3653.35,1162.85,5763.3,1451.9,830.85,2979.5,2896.4,169.05,700.85,309.1,3019.5,1359.7,2187.55,803.3,84.6,5127.95,152.7,78.65,4837.6,2933.2,646.85,235.1,2718.3,50.35,58.9,1047.7,79.55,536.4,185.6,237.25,872.65,1880.85,191.35,1597.25,7752.3,805.1,291.9,50.55,1233.65,1182.55,6014.85,7299.65,389.6,5610.7,1451.6,899.8,45.7,85.45,676.7,24.45,4941.8,4594.95,1454.15,3326.2,973.25,2361.8,19.45,1139.2,2264.05,1777.9,496.9,706.85,450.8,1531.4,94.4,24.6,292.8,151.65,305.1,76.45,5916.45,413.65,2653.65,1704.95,2274.9,169.45,308.7,85.0,896.75,2869.85,94.0,79.95,820.5,210.3,159.4,18.85,1358.85,4830.25,662.65,2656.5,3715.65,933.3,950.2,74.7,268.35,4627.85,4131.95,1639.3,1426.4,341.45,1178.4,76.2,3457.9,44.7,620.35,206.6,2447.95,892.65,71.15,3541.35,1527.35,93.55,79.35,1779.95,40.2,6254.2,1612.75,29.7,2335.3,608.0,551.35,193.6,1312.15,51.25,365.65,2597.6,6252.9,2838.7,222.3,1043.35,4528.0,2866.45,2566.5,2642.05,240.45,5940.85,952.3,50.8,3046.15,5769.75,1617.5,4400.75,49.25,1172.95,514.0,1036.75,144.55,1740.7,4056.75,1974.8,90.85,69.2,53.95,106.55,923.5,73.5,387.2,3807.35,75.3,3994.45,69.9,2082.95,501.0,2576.2,1149.65,45.7,3474.45,7491.75,242.05,463.05,809.75,228.0,1043.3,4346.4,2010.55,1532.45,1743.5,171.15,78.45,832.35,74.3,250.05,3640.45,25.05,2381.55,1072.0,865.8,75.3,307.4,1074.3,3013.05,2030.3,790.15,70.15,85.5,1873.7],\"x0\":\" \",\"xaxis\":\"x\",\"y0\":\" \",\"yaxis\":\"y\",\"type\":\"box\"}],                        {\"template\":{\"data\":{\"histogram2dcontour\":[{\"type\":\"histogram2dcontour\",\"colorbar\":{\"outlinewidth\":0,\"ticks\":\"\"},\"colorscale\":[[0.0,\"#0d0887\"],[0.1111111111111111,\"#46039f\"],[0.2222222222222222,\"#7201a8\"],[0.3333333333333333,\"#9c179e\"],[0.4444444444444444,\"#bd3786\"],[0.5555555555555556,\"#d8576b\"],[0.6666666666666666,\"#ed7953\"],[0.7777777777777778,\"#fb9f3a\"],[0.8888888888888888,\"#fdca26\"],[1.0,\"#f0f921\"]]}],\"choropleth\":[{\"type\":\"choropleth\",\"colorbar\":{\"outlinewidth\":0,\"ticks\":\"\"}}],\"histogram2d\":[{\"type\":\"histogram2d\",\"colorbar\":{\"outlinewidth\":0,\"ticks\":\"\"},\"colorscale\":[[0.0,\"#0d0887\"],[0.1111111111111111,\"#46039f\"],[0.2222222222222222,\"#7201a8\"],[0.3333333333333333,\"#9c179e\"],[0.4444444444444444,\"#bd3786\"],[0.5555555555555556,\"#d8576b\"],[0.6666666666666666,\"#ed7953\"],[0.7777777777777778,\"#fb9f3a\"],[0.8888888888888888,\"#fdca26\"],[1.0,\"#f0f921\"]]}],\"heatmap\":[{\"type\":\"heatmap\",\"colorbar\":{\"outlinewidth\":0,\"ticks\":\"\"},\"colorscale\":[[0.0,\"#0d0887\"],[0.1111111111111111,\"#46039f\"],[0.2222222222222222,\"#7201a8\"],[0.3333333333333333,\"#9c179e\"],[0.4444444444444444,\"#bd3786\"],[0.5555555555555556,\"#d8576b\"],[0.6666666666666666,\"#ed7953\"],[0.7777777777777778,\"#fb9f3a\"],[0.8888888888888888,\"#fdca26\"],[1.0,\"#f0f921\"]]}],\"heatmapgl\":[{\"type\":\"heatmapgl\",\"colorbar\":{\"outlinewidth\":0,\"ticks\":\"\"},\"colorscale\":[[0.0,\"#0d0887\"],[0.1111111111111111,\"#46039f\"],[0.2222222222222222,\"#7201a8\"],[0.3333333333333333,\"#9c179e\"],[0.4444444444444444,\"#bd3786\"],[0.5555555555555556,\"#d8576b\"],[0.6666666666666666,\"#ed7953\"],[0.7777777777777778,\"#fb9f3a\"],[0.8888888888888888,\"#fdca26\"],[1.0,\"#f0f921\"]]}],\"contourcarpet\":[{\"type\":\"contourcarpet\",\"colorbar\":{\"outlinewidth\":0,\"ticks\":\"\"}}],\"contour\":[{\"type\":\"contour\",\"colorbar\":{\"outlinewidth\":0,\"ticks\":\"\"},\"colorscale\":[[0.0,\"#0d0887\"],[0.1111111111111111,\"#46039f\"],[0.2222222222222222,\"#7201a8\"],[0.3333333333333333,\"#9c179e\"],[0.4444444444444444,\"#bd3786\"],[0.5555555555555556,\"#d8576b\"],[0.6666666666666666,\"#ed7953\"],[0.7777777777777778,\"#fb9f3a\"],[0.8888888888888888,\"#fdca26\"],[1.0,\"#f0f921\"]]}],\"surface\":[{\"type\":\"surface\",\"colorbar\":{\"outlinewidth\":0,\"ticks\":\"\"},\"colorscale\":[[0.0,\"#0d0887\"],[0.1111111111111111,\"#46039f\"],[0.2222222222222222,\"#7201a8\"],[0.3333333333333333,\"#9c179e\"],[0.4444444444444444,\"#bd3786\"],[0.5555555555555556,\"#d8576b\"],[0.6666666666666666,\"#ed7953\"],[0.7777777777777778,\"#fb9f3a\"],[0.8888888888888888,\"#fdca26\"],[1.0,\"#f0f921\"]]}],\"mesh3d\":[{\"type\":\"mesh3d\",\"colorbar\":{\"outlinewidth\":0,\"ticks\":\"\"}}],\"scatter\":[{\"fillpattern\":{\"fillmode\":\"overlay\",\"size\":10,\"solidity\":0.2},\"type\":\"scatter\"}],\"parcoords\":[{\"type\":\"parcoords\",\"line\":{\"colorbar\":{\"outlinewidth\":0,\"ticks\":\"\"}}}],\"scatterpolargl\":[{\"type\":\"scatterpolargl\",\"marker\":{\"colorbar\":{\"outlinewidth\":0,\"ticks\":\"\"}}}],\"bar\":[{\"error_x\":{\"color\":\"#2a3f5f\"},\"error_y\":{\"color\":\"#2a3f5f\"},\"marker\":{\"line\":{\"color\":\"#E5ECF6\",\"width\":0.5},\"pattern\":{\"fillmode\":\"overlay\",\"size\":10,\"solidity\":0.2}},\"type\":\"bar\"}],\"scattergeo\":[{\"type\":\"scattergeo\",\"marker\":{\"colorbar\":{\"outlinewidth\":0,\"ticks\":\"\"}}}],\"scatterpolar\":[{\"type\":\"scatterpolar\",\"marker\":{\"colorbar\":{\"outlinewidth\":0,\"ticks\":\"\"}}}],\"histogram\":[{\"marker\":{\"pattern\":{\"fillmode\":\"overlay\",\"size\":10,\"solidity\":0.2}},\"type\":\"histogram\"}],\"scattergl\":[{\"type\":\"scattergl\",\"marker\":{\"colorbar\":{\"outlinewidth\":0,\"ticks\":\"\"}}}],\"scatter3d\":[{\"type\":\"scatter3d\",\"line\":{\"colorbar\":{\"outlinewidth\":0,\"ticks\":\"\"}},\"marker\":{\"colorbar\":{\"outlinewidth\":0,\"ticks\":\"\"}}}],\"scattermapbox\":[{\"type\":\"scattermapbox\",\"marker\":{\"colorbar\":{\"outlinewidth\":0,\"ticks\":\"\"}}}],\"scatterternary\":[{\"type\":\"scatterternary\",\"marker\":{\"colorbar\":{\"outlinewidth\":0,\"ticks\":\"\"}}}],\"scattercarpet\":[{\"type\":\"scattercarpet\",\"marker\":{\"colorbar\":{\"outlinewidth\":0,\"ticks\":\"\"}}}],\"carpet\":[{\"aaxis\":{\"endlinecolor\":\"#2a3f5f\",\"gridcolor\":\"white\",\"linecolor\":\"white\",\"minorgridcolor\":\"white\",\"startlinecolor\":\"#2a3f5f\"},\"baxis\":{\"endlinecolor\":\"#2a3f5f\",\"gridcolor\":\"white\",\"linecolor\":\"white\",\"minorgridcolor\":\"white\",\"startlinecolor\":\"#2a3f5f\"},\"type\":\"carpet\"}],\"table\":[{\"cells\":{\"fill\":{\"color\":\"#EBF0F8\"},\"line\":{\"color\":\"white\"}},\"header\":{\"fill\":{\"color\":\"#C8D4E3\"},\"line\":{\"color\":\"white\"}},\"type\":\"table\"}],\"barpolar\":[{\"marker\":{\"line\":{\"color\":\"#E5ECF6\",\"width\":0.5},\"pattern\":{\"fillmode\":\"overlay\",\"size\":10,\"solidity\":0.2}},\"type\":\"barpolar\"}],\"pie\":[{\"automargin\":true,\"type\":\"pie\"}]},\"layout\":{\"autotypenumbers\":\"strict\",\"colorway\":[\"#636efa\",\"#EF553B\",\"#00cc96\",\"#ab63fa\",\"#FFA15A\",\"#19d3f3\",\"#FF6692\",\"#B6E880\",\"#FF97FF\",\"#FECB52\"],\"font\":{\"color\":\"#2a3f5f\"},\"hovermode\":\"closest\",\"hoverlabel\":{\"align\":\"left\"},\"paper_bgcolor\":\"white\",\"plot_bgcolor\":\"#E5ECF6\",\"polar\":{\"bgcolor\":\"#E5ECF6\",\"angularaxis\":{\"gridcolor\":\"white\",\"linecolor\":\"white\",\"ticks\":\"\"},\"radialaxis\":{\"gridcolor\":\"white\",\"linecolor\":\"white\",\"ticks\":\"\"}},\"ternary\":{\"bgcolor\":\"#E5ECF6\",\"aaxis\":{\"gridcolor\":\"white\",\"linecolor\":\"white\",\"ticks\":\"\"},\"baxis\":{\"gridcolor\":\"white\",\"linecolor\":\"white\",\"ticks\":\"\"},\"caxis\":{\"gridcolor\":\"white\",\"linecolor\":\"white\",\"ticks\":\"\"}},\"coloraxis\":{\"colorbar\":{\"outlinewidth\":0,\"ticks\":\"\"}},\"colorscale\":{\"sequential\":[[0.0,\"#0d0887\"],[0.1111111111111111,\"#46039f\"],[0.2222222222222222,\"#7201a8\"],[0.3333333333333333,\"#9c179e\"],[0.4444444444444444,\"#bd3786\"],[0.5555555555555556,\"#d8576b\"],[0.6666666666666666,\"#ed7953\"],[0.7777777777777778,\"#fb9f3a\"],[0.8888888888888888,\"#fdca26\"],[1.0,\"#f0f921\"]],\"sequentialminus\":[[0.0,\"#0d0887\"],[0.1111111111111111,\"#46039f\"],[0.2222222222222222,\"#7201a8\"],[0.3333333333333333,\"#9c179e\"],[0.4444444444444444,\"#bd3786\"],[0.5555555555555556,\"#d8576b\"],[0.6666666666666666,\"#ed7953\"],[0.7777777777777778,\"#fb9f3a\"],[0.8888888888888888,\"#fdca26\"],[1.0,\"#f0f921\"]],\"diverging\":[[0,\"#8e0152\"],[0.1,\"#c51b7d\"],[0.2,\"#de77ae\"],[0.3,\"#f1b6da\"],[0.4,\"#fde0ef\"],[0.5,\"#f7f7f7\"],[0.6,\"#e6f5d0\"],[0.7,\"#b8e186\"],[0.8,\"#7fbc41\"],[0.9,\"#4d9221\"],[1,\"#276419\"]]},\"xaxis\":{\"gridcolor\":\"white\",\"linecolor\":\"white\",\"ticks\":\"\",\"title\":{\"standoff\":15},\"zerolinecolor\":\"white\",\"automargin\":true,\"zerolinewidth\":2},\"yaxis\":{\"gridcolor\":\"white\",\"linecolor\":\"white\",\"ticks\":\"\",\"title\":{\"standoff\":15},\"zerolinecolor\":\"white\",\"automargin\":true,\"zerolinewidth\":2},\"scene\":{\"xaxis\":{\"backgroundcolor\":\"#E5ECF6\",\"gridcolor\":\"white\",\"linecolor\":\"white\",\"showbackground\":true,\"ticks\":\"\",\"zerolinecolor\":\"white\",\"gridwidth\":2},\"yaxis\":{\"backgroundcolor\":\"#E5ECF6\",\"gridcolor\":\"white\",\"linecolor\":\"white\",\"showbackground\":true,\"ticks\":\"\",\"zerolinecolor\":\"white\",\"gridwidth\":2},\"zaxis\":{\"backgroundcolor\":\"#E5ECF6\",\"gridcolor\":\"white\",\"linecolor\":\"white\",\"showbackground\":true,\"ticks\":\"\",\"zerolinecolor\":\"white\",\"gridwidth\":2}},\"shapedefaults\":{\"line\":{\"color\":\"#2a3f5f\"}},\"annotationdefaults\":{\"arrowcolor\":\"#2a3f5f\",\"arrowhead\":0,\"arrowwidth\":1},\"geo\":{\"bgcolor\":\"white\",\"landcolor\":\"#E5ECF6\",\"subunitcolor\":\"white\",\"showland\":true,\"showlakes\":true,\"lakecolor\":\"white\"},\"title\":{\"x\":0.05},\"mapbox\":{\"style\":\"light\"}}},\"xaxis\":{\"anchor\":\"y\",\"domain\":[0.0,1.0],\"title\":{\"text\":\"cargo_total\"}},\"yaxis\":{\"anchor\":\"x\",\"domain\":[0.0,1.0]},\"legend\":{\"title\":{\"text\":\"abandono\"},\"tracegroupgap\":0},\"margin\":{\"t\":60},\"boxmode\":\"group\"},                        {\"responsive\": true}                    ).then(function(){\n",
              "                            \n",
              "var gd = document.getElementById('ee636789-0f92-475d-aae5-0f592a97bb09');\n",
              "var x = new MutationObserver(function (mutations, observer) {{\n",
              "        var display = window.getComputedStyle(gd).display;\n",
              "        if (!display || display === 'none') {{\n",
              "            console.log([gd, 'removed!']);\n",
              "            Plotly.purge(gd);\n",
              "            observer.disconnect();\n",
              "        }}\n",
              "}});\n",
              "\n",
              "// Listen for the removal of the full notebook cells\n",
              "var notebookContainer = gd.closest('#notebook-container');\n",
              "if (notebookContainer) {{\n",
              "    x.observe(notebookContainer, {childList: true});\n",
              "}}\n",
              "\n",
              "// Listen for the clearing of the current output cell\n",
              "var outputEl = gd.closest('.output');\n",
              "if (outputEl) {{\n",
              "    x.observe(outputEl, {childList: true});\n",
              "}}\n",
              "\n",
              "                        })                };                            </script>        </div>\n",
              "</body>\n",
              "</html>"
            ]
          },
          "metadata": {}
        }
      ]
    },
    {
      "cell_type": "markdown",
      "source": [
        "# Análisis de correlación y selección de variables."
      ],
      "metadata": {
        "id": "pn24qp7VXH96"
      }
    },
    {
      "cell_type": "code",
      "source": [
        "# Importar biblioteca\n",
        "from sklearn.compose import make_column_transformer\n",
        "from sklearn.preprocessing import OneHotEncoder\n",
        "from sklearn.preprocessing import LabelEncoder\n",
        "from sklearn.model_selection import train_test_split"
      ],
      "metadata": {
        "id": "DBlqkzcAMDqG"
      },
      "execution_count": 605,
      "outputs": []
    },
    {
      "cell_type": "code",
      "source": [
        "#separación de los datos entre variables explicativas y variable objetivo\n",
        "X = datos.drop('abandono', axis = 1)\n",
        "y = datos['abandono']"
      ],
      "metadata": {
        "id": "PH7iuNvAIo2D"
      },
      "execution_count": 606,
      "outputs": []
    },
    {
      "cell_type": "code",
      "source": [
        "#transformación de las variables categóricas\n",
        "one_hot = make_column_transformer((\n",
        "    OneHotEncoder(drop = 'if_binary'),\n",
        "    ['tipo_internet','tipo_contrato', 'metodo_pago']\n",
        "),\n",
        "    remainder = 'passthrough',\n",
        "    sparse_threshold=0)"
      ],
      "metadata": {
        "id": "6W0QzYyWHVzW"
      },
      "execution_count": 607,
      "outputs": []
    },
    {
      "cell_type": "code",
      "source": [
        "#visualizar los datos transformados\n",
        "columnas = X.columns\n",
        "X = one_hot.fit_transform(X)\n",
        "one_hot.get_feature_names_out(columnas)"
      ],
      "metadata": {
        "colab": {
          "base_uri": "https://localhost:8080/"
        },
        "id": "zbLE19cUH45G",
        "outputId": "eb24994d-e294-487c-ab04-935276308eb0"
      },
      "execution_count": 608,
      "outputs": [
        {
          "output_type": "execute_result",
          "data": {
            "text/plain": [
              "array(['onehotencoder__tipo_internet_DSL',\n",
              "       'onehotencoder__tipo_internet_Fiber optic',\n",
              "       'onehotencoder__tipo_internet_No',\n",
              "       'onehotencoder__tipo_contrato_Anual_1',\n",
              "       'onehotencoder__tipo_contrato_Anual_2',\n",
              "       'onehotencoder__tipo_contrato_Mensual',\n",
              "       'onehotencoder__metodo_pago_Cheque',\n",
              "       'onehotencoder__metodo_pago_Cheque_electrónico',\n",
              "       'onehotencoder__metodo_pago_Tarjeta',\n",
              "       'onehotencoder__metodo_pago_Transferencia', 'remainder__es_hombre',\n",
              "       'remainder__es_adulto_mayor', 'remainder__tiene_pareja',\n",
              "       'remainder__tiene_dependientes', 'remainder__meses_contrato',\n",
              "       'remainder__tiene_telefono', 'remainder__tiene_varias_lineas',\n",
              "       'remainder__seguridad_online', 'remainder__respaldo_online',\n",
              "       'remainder__proteccion_dispositivo', 'remainder__soporte_tecnico',\n",
              "       'remainder__tiene_tv', 'remainder__tiene_peliculas',\n",
              "       'remainder__factura_online', 'remainder__cargo_mensual',\n",
              "       'remainder__cargo_total'], dtype=object)"
            ]
          },
          "metadata": {},
          "execution_count": 608
        }
      ]
    },
    {
      "cell_type": "code",
      "source": [
        "#visualizar DataFrame\n",
        "pd.DataFrame(X, columns = one_hot.get_feature_names_out(columnas))"
      ],
      "metadata": {
        "colab": {
          "base_uri": "https://localhost:8080/",
          "height": 461
        },
        "id": "EVetZ86_JLPF",
        "outputId": "74b844f0-76e2-4e9f-f156-eaca3ebcb24a"
      },
      "execution_count": 609,
      "outputs": [
        {
          "output_type": "execute_result",
          "data": {
            "text/plain": [
              "      onehotencoder__tipo_internet_DSL  \\\n",
              "0                                  1.0   \n",
              "1                                  1.0   \n",
              "2                                  0.0   \n",
              "3                                  0.0   \n",
              "4                                  0.0   \n",
              "...                                ...   \n",
              "7038                               1.0   \n",
              "7039                               0.0   \n",
              "7040                               1.0   \n",
              "7041                               1.0   \n",
              "7042                               1.0   \n",
              "\n",
              "      onehotencoder__tipo_internet_Fiber optic  \\\n",
              "0                                          0.0   \n",
              "1                                          0.0   \n",
              "2                                          1.0   \n",
              "3                                          1.0   \n",
              "4                                          1.0   \n",
              "...                                        ...   \n",
              "7038                                       0.0   \n",
              "7039                                       1.0   \n",
              "7040                                       0.0   \n",
              "7041                                       0.0   \n",
              "7042                                       0.0   \n",
              "\n",
              "      onehotencoder__tipo_internet_No  onehotencoder__tipo_contrato_Anual_1  \\\n",
              "0                                 0.0                                   1.0   \n",
              "1                                 0.0                                   0.0   \n",
              "2                                 0.0                                   0.0   \n",
              "3                                 0.0                                   0.0   \n",
              "4                                 0.0                                   0.0   \n",
              "...                               ...                                   ...   \n",
              "7038                              0.0                                   1.0   \n",
              "7039                              0.0                                   0.0   \n",
              "7040                              0.0                                   0.0   \n",
              "7041                              0.0                                   0.0   \n",
              "7042                              0.0                                   0.0   \n",
              "\n",
              "      onehotencoder__tipo_contrato_Anual_2  \\\n",
              "0                                      0.0   \n",
              "1                                      0.0   \n",
              "2                                      0.0   \n",
              "3                                      0.0   \n",
              "4                                      0.0   \n",
              "...                                    ...   \n",
              "7038                                   0.0   \n",
              "7039                                   0.0   \n",
              "7040                                   0.0   \n",
              "7041                                   1.0   \n",
              "7042                                   1.0   \n",
              "\n",
              "      onehotencoder__tipo_contrato_Mensual  onehotencoder__metodo_pago_Cheque  \\\n",
              "0                                      0.0                                1.0   \n",
              "1                                      1.0                                1.0   \n",
              "2                                      1.0                                0.0   \n",
              "3                                      1.0                                0.0   \n",
              "4                                      1.0                                1.0   \n",
              "...                                    ...                                ...   \n",
              "7038                                   0.0                                1.0   \n",
              "7039                                   1.0                                0.0   \n",
              "7040                                   1.0                                1.0   \n",
              "7041                                   0.0                                1.0   \n",
              "7042                                   0.0                                0.0   \n",
              "\n",
              "      onehotencoder__metodo_pago_Cheque_electrónico  \\\n",
              "0                                               0.0   \n",
              "1                                               0.0   \n",
              "2                                               1.0   \n",
              "3                                               1.0   \n",
              "4                                               0.0   \n",
              "...                                             ...   \n",
              "7038                                            0.0   \n",
              "7039                                            1.0   \n",
              "7040                                            0.0   \n",
              "7041                                            0.0   \n",
              "7042                                            1.0   \n",
              "\n",
              "      onehotencoder__metodo_pago_Tarjeta  \\\n",
              "0                                    0.0   \n",
              "1                                    0.0   \n",
              "2                                    0.0   \n",
              "3                                    0.0   \n",
              "4                                    0.0   \n",
              "...                                  ...   \n",
              "7038                                 0.0   \n",
              "7039                                 0.0   \n",
              "7040                                 0.0   \n",
              "7041                                 0.0   \n",
              "7042                                 0.0   \n",
              "\n",
              "      onehotencoder__metodo_pago_Transferencia  ...  \\\n",
              "0                                          0.0  ...   \n",
              "1                                          0.0  ...   \n",
              "2                                          0.0  ...   \n",
              "3                                          0.0  ...   \n",
              "4                                          0.0  ...   \n",
              "...                                        ...  ...   \n",
              "7038                                       0.0  ...   \n",
              "7039                                       0.0  ...   \n",
              "7040                                       0.0  ...   \n",
              "7041                                       0.0  ...   \n",
              "7042                                       0.0  ...   \n",
              "\n",
              "      remainder__tiene_varias_lineas  remainder__seguridad_online  \\\n",
              "0                                0.0                          0.0   \n",
              "1                                1.0                          0.0   \n",
              "2                                0.0                          0.0   \n",
              "3                                0.0                          0.0   \n",
              "4                                0.0                          0.0   \n",
              "...                              ...                          ...   \n",
              "7038                             0.0                          1.0   \n",
              "7039                             1.0                          0.0   \n",
              "7040                             0.0                          0.0   \n",
              "7041                             0.0                          1.0   \n",
              "7042                             0.0                          1.0   \n",
              "\n",
              "      remainder__respaldo_online  remainder__proteccion_dispositivo  \\\n",
              "0                            1.0                                0.0   \n",
              "1                            0.0                                0.0   \n",
              "2                            0.0                                1.0   \n",
              "3                            1.0                                1.0   \n",
              "4                            0.0                                0.0   \n",
              "...                          ...                                ...   \n",
              "7038                         0.0                                0.0   \n",
              "7039                         0.0                                0.0   \n",
              "7040                         1.0                                0.0   \n",
              "7041                         0.0                                1.0   \n",
              "7042                         1.0                                1.0   \n",
              "\n",
              "      remainder__soporte_tecnico  remainder__tiene_tv  \\\n",
              "0                            1.0                  1.0   \n",
              "1                            0.0                  0.0   \n",
              "2                            0.0                  0.0   \n",
              "3                            0.0                  1.0   \n",
              "4                            1.0                  1.0   \n",
              "...                          ...                  ...   \n",
              "7038                         1.0                  0.0   \n",
              "7039                         0.0                  0.0   \n",
              "7040                         0.0                  0.0   \n",
              "7041                         1.0                  0.0   \n",
              "7042                         0.0                  1.0   \n",
              "\n",
              "      remainder__tiene_peliculas  remainder__factura_online  \\\n",
              "0                            0.0                        1.0   \n",
              "1                            1.0                        0.0   \n",
              "2                            0.0                        1.0   \n",
              "3                            1.0                        1.0   \n",
              "4                            0.0                        1.0   \n",
              "...                          ...                        ...   \n",
              "7038                         0.0                        0.0   \n",
              "7039                         1.0                        1.0   \n",
              "7040                         0.0                        1.0   \n",
              "7041                         1.0                        0.0   \n",
              "7042                         1.0                        0.0   \n",
              "\n",
              "      remainder__cargo_mensual  remainder__cargo_total  \n",
              "0                        65.60                  593.30  \n",
              "1                        59.90                  542.40  \n",
              "2                        73.90                  280.85  \n",
              "3                        98.00                 1237.85  \n",
              "4                        83.90                  267.40  \n",
              "...                        ...                     ...  \n",
              "7038                     55.15                  742.90  \n",
              "7039                     85.10                 1873.70  \n",
              "7040                     50.30                   92.75  \n",
              "7041                     67.85                 4627.65  \n",
              "7042                     59.00                 3707.60  \n",
              "\n",
              "[7043 rows x 26 columns]"
            ],
            "text/html": [
              "\n",
              "  <div id=\"df-d258b58d-2d9d-4359-adc9-274b81f97c32\" class=\"colab-df-container\">\n",
              "    <div>\n",
              "<style scoped>\n",
              "    .dataframe tbody tr th:only-of-type {\n",
              "        vertical-align: middle;\n",
              "    }\n",
              "\n",
              "    .dataframe tbody tr th {\n",
              "        vertical-align: top;\n",
              "    }\n",
              "\n",
              "    .dataframe thead th {\n",
              "        text-align: right;\n",
              "    }\n",
              "</style>\n",
              "<table border=\"1\" class=\"dataframe\">\n",
              "  <thead>\n",
              "    <tr style=\"text-align: right;\">\n",
              "      <th></th>\n",
              "      <th>onehotencoder__tipo_internet_DSL</th>\n",
              "      <th>onehotencoder__tipo_internet_Fiber optic</th>\n",
              "      <th>onehotencoder__tipo_internet_No</th>\n",
              "      <th>onehotencoder__tipo_contrato_Anual_1</th>\n",
              "      <th>onehotencoder__tipo_contrato_Anual_2</th>\n",
              "      <th>onehotencoder__tipo_contrato_Mensual</th>\n",
              "      <th>onehotencoder__metodo_pago_Cheque</th>\n",
              "      <th>onehotencoder__metodo_pago_Cheque_electrónico</th>\n",
              "      <th>onehotencoder__metodo_pago_Tarjeta</th>\n",
              "      <th>onehotencoder__metodo_pago_Transferencia</th>\n",
              "      <th>...</th>\n",
              "      <th>remainder__tiene_varias_lineas</th>\n",
              "      <th>remainder__seguridad_online</th>\n",
              "      <th>remainder__respaldo_online</th>\n",
              "      <th>remainder__proteccion_dispositivo</th>\n",
              "      <th>remainder__soporte_tecnico</th>\n",
              "      <th>remainder__tiene_tv</th>\n",
              "      <th>remainder__tiene_peliculas</th>\n",
              "      <th>remainder__factura_online</th>\n",
              "      <th>remainder__cargo_mensual</th>\n",
              "      <th>remainder__cargo_total</th>\n",
              "    </tr>\n",
              "  </thead>\n",
              "  <tbody>\n",
              "    <tr>\n",
              "      <th>0</th>\n",
              "      <td>1.0</td>\n",
              "      <td>0.0</td>\n",
              "      <td>0.0</td>\n",
              "      <td>1.0</td>\n",
              "      <td>0.0</td>\n",
              "      <td>0.0</td>\n",
              "      <td>1.0</td>\n",
              "      <td>0.0</td>\n",
              "      <td>0.0</td>\n",
              "      <td>0.0</td>\n",
              "      <td>...</td>\n",
              "      <td>0.0</td>\n",
              "      <td>0.0</td>\n",
              "      <td>1.0</td>\n",
              "      <td>0.0</td>\n",
              "      <td>1.0</td>\n",
              "      <td>1.0</td>\n",
              "      <td>0.0</td>\n",
              "      <td>1.0</td>\n",
              "      <td>65.60</td>\n",
              "      <td>593.30</td>\n",
              "    </tr>\n",
              "    <tr>\n",
              "      <th>1</th>\n",
              "      <td>1.0</td>\n",
              "      <td>0.0</td>\n",
              "      <td>0.0</td>\n",
              "      <td>0.0</td>\n",
              "      <td>0.0</td>\n",
              "      <td>1.0</td>\n",
              "      <td>1.0</td>\n",
              "      <td>0.0</td>\n",
              "      <td>0.0</td>\n",
              "      <td>0.0</td>\n",
              "      <td>...</td>\n",
              "      <td>1.0</td>\n",
              "      <td>0.0</td>\n",
              "      <td>0.0</td>\n",
              "      <td>0.0</td>\n",
              "      <td>0.0</td>\n",
              "      <td>0.0</td>\n",
              "      <td>1.0</td>\n",
              "      <td>0.0</td>\n",
              "      <td>59.90</td>\n",
              "      <td>542.40</td>\n",
              "    </tr>\n",
              "    <tr>\n",
              "      <th>2</th>\n",
              "      <td>0.0</td>\n",
              "      <td>1.0</td>\n",
              "      <td>0.0</td>\n",
              "      <td>0.0</td>\n",
              "      <td>0.0</td>\n",
              "      <td>1.0</td>\n",
              "      <td>0.0</td>\n",
              "      <td>1.0</td>\n",
              "      <td>0.0</td>\n",
              "      <td>0.0</td>\n",
              "      <td>...</td>\n",
              "      <td>0.0</td>\n",
              "      <td>0.0</td>\n",
              "      <td>0.0</td>\n",
              "      <td>1.0</td>\n",
              "      <td>0.0</td>\n",
              "      <td>0.0</td>\n",
              "      <td>0.0</td>\n",
              "      <td>1.0</td>\n",
              "      <td>73.90</td>\n",
              "      <td>280.85</td>\n",
              "    </tr>\n",
              "    <tr>\n",
              "      <th>3</th>\n",
              "      <td>0.0</td>\n",
              "      <td>1.0</td>\n",
              "      <td>0.0</td>\n",
              "      <td>0.0</td>\n",
              "      <td>0.0</td>\n",
              "      <td>1.0</td>\n",
              "      <td>0.0</td>\n",
              "      <td>1.0</td>\n",
              "      <td>0.0</td>\n",
              "      <td>0.0</td>\n",
              "      <td>...</td>\n",
              "      <td>0.0</td>\n",
              "      <td>0.0</td>\n",
              "      <td>1.0</td>\n",
              "      <td>1.0</td>\n",
              "      <td>0.0</td>\n",
              "      <td>1.0</td>\n",
              "      <td>1.0</td>\n",
              "      <td>1.0</td>\n",
              "      <td>98.00</td>\n",
              "      <td>1237.85</td>\n",
              "    </tr>\n",
              "    <tr>\n",
              "      <th>4</th>\n",
              "      <td>0.0</td>\n",
              "      <td>1.0</td>\n",
              "      <td>0.0</td>\n",
              "      <td>0.0</td>\n",
              "      <td>0.0</td>\n",
              "      <td>1.0</td>\n",
              "      <td>1.0</td>\n",
              "      <td>0.0</td>\n",
              "      <td>0.0</td>\n",
              "      <td>0.0</td>\n",
              "      <td>...</td>\n",
              "      <td>0.0</td>\n",
              "      <td>0.0</td>\n",
              "      <td>0.0</td>\n",
              "      <td>0.0</td>\n",
              "      <td>1.0</td>\n",
              "      <td>1.0</td>\n",
              "      <td>0.0</td>\n",
              "      <td>1.0</td>\n",
              "      <td>83.90</td>\n",
              "      <td>267.40</td>\n",
              "    </tr>\n",
              "    <tr>\n",
              "      <th>...</th>\n",
              "      <td>...</td>\n",
              "      <td>...</td>\n",
              "      <td>...</td>\n",
              "      <td>...</td>\n",
              "      <td>...</td>\n",
              "      <td>...</td>\n",
              "      <td>...</td>\n",
              "      <td>...</td>\n",
              "      <td>...</td>\n",
              "      <td>...</td>\n",
              "      <td>...</td>\n",
              "      <td>...</td>\n",
              "      <td>...</td>\n",
              "      <td>...</td>\n",
              "      <td>...</td>\n",
              "      <td>...</td>\n",
              "      <td>...</td>\n",
              "      <td>...</td>\n",
              "      <td>...</td>\n",
              "      <td>...</td>\n",
              "      <td>...</td>\n",
              "    </tr>\n",
              "    <tr>\n",
              "      <th>7038</th>\n",
              "      <td>1.0</td>\n",
              "      <td>0.0</td>\n",
              "      <td>0.0</td>\n",
              "      <td>1.0</td>\n",
              "      <td>0.0</td>\n",
              "      <td>0.0</td>\n",
              "      <td>1.0</td>\n",
              "      <td>0.0</td>\n",
              "      <td>0.0</td>\n",
              "      <td>0.0</td>\n",
              "      <td>...</td>\n",
              "      <td>0.0</td>\n",
              "      <td>1.0</td>\n",
              "      <td>0.0</td>\n",
              "      <td>0.0</td>\n",
              "      <td>1.0</td>\n",
              "      <td>0.0</td>\n",
              "      <td>0.0</td>\n",
              "      <td>0.0</td>\n",
              "      <td>55.15</td>\n",
              "      <td>742.90</td>\n",
              "    </tr>\n",
              "    <tr>\n",
              "      <th>7039</th>\n",
              "      <td>0.0</td>\n",
              "      <td>1.0</td>\n",
              "      <td>0.0</td>\n",
              "      <td>0.0</td>\n",
              "      <td>0.0</td>\n",
              "      <td>1.0</td>\n",
              "      <td>0.0</td>\n",
              "      <td>1.0</td>\n",
              "      <td>0.0</td>\n",
              "      <td>0.0</td>\n",
              "      <td>...</td>\n",
              "      <td>1.0</td>\n",
              "      <td>0.0</td>\n",
              "      <td>0.0</td>\n",
              "      <td>0.0</td>\n",
              "      <td>0.0</td>\n",
              "      <td>0.0</td>\n",
              "      <td>1.0</td>\n",
              "      <td>1.0</td>\n",
              "      <td>85.10</td>\n",
              "      <td>1873.70</td>\n",
              "    </tr>\n",
              "    <tr>\n",
              "      <th>7040</th>\n",
              "      <td>1.0</td>\n",
              "      <td>0.0</td>\n",
              "      <td>0.0</td>\n",
              "      <td>0.0</td>\n",
              "      <td>0.0</td>\n",
              "      <td>1.0</td>\n",
              "      <td>1.0</td>\n",
              "      <td>0.0</td>\n",
              "      <td>0.0</td>\n",
              "      <td>0.0</td>\n",
              "      <td>...</td>\n",
              "      <td>0.0</td>\n",
              "      <td>0.0</td>\n",
              "      <td>1.0</td>\n",
              "      <td>0.0</td>\n",
              "      <td>0.0</td>\n",
              "      <td>0.0</td>\n",
              "      <td>0.0</td>\n",
              "      <td>1.0</td>\n",
              "      <td>50.30</td>\n",
              "      <td>92.75</td>\n",
              "    </tr>\n",
              "    <tr>\n",
              "      <th>7041</th>\n",
              "      <td>1.0</td>\n",
              "      <td>0.0</td>\n",
              "      <td>0.0</td>\n",
              "      <td>0.0</td>\n",
              "      <td>1.0</td>\n",
              "      <td>0.0</td>\n",
              "      <td>1.0</td>\n",
              "      <td>0.0</td>\n",
              "      <td>0.0</td>\n",
              "      <td>0.0</td>\n",
              "      <td>...</td>\n",
              "      <td>0.0</td>\n",
              "      <td>1.0</td>\n",
              "      <td>0.0</td>\n",
              "      <td>1.0</td>\n",
              "      <td>1.0</td>\n",
              "      <td>0.0</td>\n",
              "      <td>1.0</td>\n",
              "      <td>0.0</td>\n",
              "      <td>67.85</td>\n",
              "      <td>4627.65</td>\n",
              "    </tr>\n",
              "    <tr>\n",
              "      <th>7042</th>\n",
              "      <td>1.0</td>\n",
              "      <td>0.0</td>\n",
              "      <td>0.0</td>\n",
              "      <td>0.0</td>\n",
              "      <td>1.0</td>\n",
              "      <td>0.0</td>\n",
              "      <td>0.0</td>\n",
              "      <td>1.0</td>\n",
              "      <td>0.0</td>\n",
              "      <td>0.0</td>\n",
              "      <td>...</td>\n",
              "      <td>0.0</td>\n",
              "      <td>1.0</td>\n",
              "      <td>1.0</td>\n",
              "      <td>1.0</td>\n",
              "      <td>0.0</td>\n",
              "      <td>1.0</td>\n",
              "      <td>1.0</td>\n",
              "      <td>0.0</td>\n",
              "      <td>59.00</td>\n",
              "      <td>3707.60</td>\n",
              "    </tr>\n",
              "  </tbody>\n",
              "</table>\n",
              "<p>7043 rows × 26 columns</p>\n",
              "</div>\n",
              "    <div class=\"colab-df-buttons\">\n",
              "\n",
              "  <div class=\"colab-df-container\">\n",
              "    <button class=\"colab-df-convert\" onclick=\"convertToInteractive('df-d258b58d-2d9d-4359-adc9-274b81f97c32')\"\n",
              "            title=\"Convert this dataframe to an interactive table.\"\n",
              "            style=\"display:none;\">\n",
              "\n",
              "  <svg xmlns=\"http://www.w3.org/2000/svg\" height=\"24px\" viewBox=\"0 -960 960 960\">\n",
              "    <path d=\"M120-120v-720h720v720H120Zm60-500h600v-160H180v160Zm220 220h160v-160H400v160Zm0 220h160v-160H400v160ZM180-400h160v-160H180v160Zm440 0h160v-160H620v160ZM180-180h160v-160H180v160Zm440 0h160v-160H620v160Z\"/>\n",
              "  </svg>\n",
              "    </button>\n",
              "\n",
              "  <style>\n",
              "    .colab-df-container {\n",
              "      display:flex;\n",
              "      gap: 12px;\n",
              "    }\n",
              "\n",
              "    .colab-df-convert {\n",
              "      background-color: #E8F0FE;\n",
              "      border: none;\n",
              "      border-radius: 50%;\n",
              "      cursor: pointer;\n",
              "      display: none;\n",
              "      fill: #1967D2;\n",
              "      height: 32px;\n",
              "      padding: 0 0 0 0;\n",
              "      width: 32px;\n",
              "    }\n",
              "\n",
              "    .colab-df-convert:hover {\n",
              "      background-color: #E2EBFA;\n",
              "      box-shadow: 0px 1px 2px rgba(60, 64, 67, 0.3), 0px 1px 3px 1px rgba(60, 64, 67, 0.15);\n",
              "      fill: #174EA6;\n",
              "    }\n",
              "\n",
              "    .colab-df-buttons div {\n",
              "      margin-bottom: 4px;\n",
              "    }\n",
              "\n",
              "    [theme=dark] .colab-df-convert {\n",
              "      background-color: #3B4455;\n",
              "      fill: #D2E3FC;\n",
              "    }\n",
              "\n",
              "    [theme=dark] .colab-df-convert:hover {\n",
              "      background-color: #434B5C;\n",
              "      box-shadow: 0px 1px 3px 1px rgba(0, 0, 0, 0.15);\n",
              "      filter: drop-shadow(0px 1px 2px rgba(0, 0, 0, 0.3));\n",
              "      fill: #FFFFFF;\n",
              "    }\n",
              "  </style>\n",
              "\n",
              "    <script>\n",
              "      const buttonEl =\n",
              "        document.querySelector('#df-d258b58d-2d9d-4359-adc9-274b81f97c32 button.colab-df-convert');\n",
              "      buttonEl.style.display =\n",
              "        google.colab.kernel.accessAllowed ? 'block' : 'none';\n",
              "\n",
              "      async function convertToInteractive(key) {\n",
              "        const element = document.querySelector('#df-d258b58d-2d9d-4359-adc9-274b81f97c32');\n",
              "        const dataTable =\n",
              "          await google.colab.kernel.invokeFunction('convertToInteractive',\n",
              "                                                    [key], {});\n",
              "        if (!dataTable) return;\n",
              "\n",
              "        const docLinkHtml = 'Like what you see? Visit the ' +\n",
              "          '<a target=\"_blank\" href=https://colab.research.google.com/notebooks/data_table.ipynb>data table notebook</a>'\n",
              "          + ' to learn more about interactive tables.';\n",
              "        element.innerHTML = '';\n",
              "        dataTable['output_type'] = 'display_data';\n",
              "        await google.colab.output.renderOutput(dataTable, element);\n",
              "        const docLink = document.createElement('div');\n",
              "        docLink.innerHTML = docLinkHtml;\n",
              "        element.appendChild(docLink);\n",
              "      }\n",
              "    </script>\n",
              "  </div>\n",
              "\n",
              "\n",
              "    <div id=\"df-b604ea8a-7cca-4961-b70a-86288e73c270\">\n",
              "      <button class=\"colab-df-quickchart\" onclick=\"quickchart('df-b604ea8a-7cca-4961-b70a-86288e73c270')\"\n",
              "                title=\"Suggest charts\"\n",
              "                style=\"display:none;\">\n",
              "\n",
              "<svg xmlns=\"http://www.w3.org/2000/svg\" height=\"24px\"viewBox=\"0 0 24 24\"\n",
              "     width=\"24px\">\n",
              "    <g>\n",
              "        <path d=\"M19 3H5c-1.1 0-2 .9-2 2v14c0 1.1.9 2 2 2h14c1.1 0 2-.9 2-2V5c0-1.1-.9-2-2-2zM9 17H7v-7h2v7zm4 0h-2V7h2v10zm4 0h-2v-4h2v4z\"/>\n",
              "    </g>\n",
              "</svg>\n",
              "      </button>\n",
              "\n",
              "<style>\n",
              "  .colab-df-quickchart {\n",
              "      --bg-color: #E8F0FE;\n",
              "      --fill-color: #1967D2;\n",
              "      --hover-bg-color: #E2EBFA;\n",
              "      --hover-fill-color: #174EA6;\n",
              "      --disabled-fill-color: #AAA;\n",
              "      --disabled-bg-color: #DDD;\n",
              "  }\n",
              "\n",
              "  [theme=dark] .colab-df-quickchart {\n",
              "      --bg-color: #3B4455;\n",
              "      --fill-color: #D2E3FC;\n",
              "      --hover-bg-color: #434B5C;\n",
              "      --hover-fill-color: #FFFFFF;\n",
              "      --disabled-bg-color: #3B4455;\n",
              "      --disabled-fill-color: #666;\n",
              "  }\n",
              "\n",
              "  .colab-df-quickchart {\n",
              "    background-color: var(--bg-color);\n",
              "    border: none;\n",
              "    border-radius: 50%;\n",
              "    cursor: pointer;\n",
              "    display: none;\n",
              "    fill: var(--fill-color);\n",
              "    height: 32px;\n",
              "    padding: 0;\n",
              "    width: 32px;\n",
              "  }\n",
              "\n",
              "  .colab-df-quickchart:hover {\n",
              "    background-color: var(--hover-bg-color);\n",
              "    box-shadow: 0 1px 2px rgba(60, 64, 67, 0.3), 0 1px 3px 1px rgba(60, 64, 67, 0.15);\n",
              "    fill: var(--button-hover-fill-color);\n",
              "  }\n",
              "\n",
              "  .colab-df-quickchart-complete:disabled,\n",
              "  .colab-df-quickchart-complete:disabled:hover {\n",
              "    background-color: var(--disabled-bg-color);\n",
              "    fill: var(--disabled-fill-color);\n",
              "    box-shadow: none;\n",
              "  }\n",
              "\n",
              "  .colab-df-spinner {\n",
              "    border: 2px solid var(--fill-color);\n",
              "    border-color: transparent;\n",
              "    border-bottom-color: var(--fill-color);\n",
              "    animation:\n",
              "      spin 1s steps(1) infinite;\n",
              "  }\n",
              "\n",
              "  @keyframes spin {\n",
              "    0% {\n",
              "      border-color: transparent;\n",
              "      border-bottom-color: var(--fill-color);\n",
              "      border-left-color: var(--fill-color);\n",
              "    }\n",
              "    20% {\n",
              "      border-color: transparent;\n",
              "      border-left-color: var(--fill-color);\n",
              "      border-top-color: var(--fill-color);\n",
              "    }\n",
              "    30% {\n",
              "      border-color: transparent;\n",
              "      border-left-color: var(--fill-color);\n",
              "      border-top-color: var(--fill-color);\n",
              "      border-right-color: var(--fill-color);\n",
              "    }\n",
              "    40% {\n",
              "      border-color: transparent;\n",
              "      border-right-color: var(--fill-color);\n",
              "      border-top-color: var(--fill-color);\n",
              "    }\n",
              "    60% {\n",
              "      border-color: transparent;\n",
              "      border-right-color: var(--fill-color);\n",
              "    }\n",
              "    80% {\n",
              "      border-color: transparent;\n",
              "      border-right-color: var(--fill-color);\n",
              "      border-bottom-color: var(--fill-color);\n",
              "    }\n",
              "    90% {\n",
              "      border-color: transparent;\n",
              "      border-bottom-color: var(--fill-color);\n",
              "    }\n",
              "  }\n",
              "</style>\n",
              "\n",
              "      <script>\n",
              "        async function quickchart(key) {\n",
              "          const quickchartButtonEl =\n",
              "            document.querySelector('#' + key + ' button');\n",
              "          quickchartButtonEl.disabled = true;  // To prevent multiple clicks.\n",
              "          quickchartButtonEl.classList.add('colab-df-spinner');\n",
              "          try {\n",
              "            const charts = await google.colab.kernel.invokeFunction(\n",
              "                'suggestCharts', [key], {});\n",
              "          } catch (error) {\n",
              "            console.error('Error during call to suggestCharts:', error);\n",
              "          }\n",
              "          quickchartButtonEl.classList.remove('colab-df-spinner');\n",
              "          quickchartButtonEl.classList.add('colab-df-quickchart-complete');\n",
              "        }\n",
              "        (() => {\n",
              "          let quickchartButtonEl =\n",
              "            document.querySelector('#df-b604ea8a-7cca-4961-b70a-86288e73c270 button');\n",
              "          quickchartButtonEl.style.display =\n",
              "            google.colab.kernel.accessAllowed ? 'block' : 'none';\n",
              "        })();\n",
              "      </script>\n",
              "    </div>\n",
              "\n",
              "    </div>\n",
              "  </div>\n"
            ],
            "application/vnd.google.colaboratory.intrinsic+json": {
              "type": "dataframe"
            }
          },
          "metadata": {},
          "execution_count": 609
        }
      ]
    },
    {
      "cell_type": "code",
      "source": [
        "#transformar variable objetivo\n",
        "\n",
        "label_encoder = LabelEncoder()\n",
        "y = label_encoder.fit_transform(y)"
      ],
      "metadata": {
        "id": "SCFmJ0IDJLUs"
      },
      "execution_count": 610,
      "outputs": []
    },
    {
      "cell_type": "markdown",
      "source": [
        "# Modelos de clasificación"
      ],
      "metadata": {
        "id": "4kMosAXPaGU8"
      }
    },
    {
      "cell_type": "code",
      "source": [
        "#Importar biblioteca para modelos\n",
        "from sklearn.dummy import DummyClassifier\n",
        "from sklearn.tree import DecisionTreeClassifier\n",
        "from sklearn.ensemble import RandomForestClassifier\n",
        "from sklearn.dummy import DummyRegressor\n",
        "from sklearn.model_selection import train_test_split\n",
        "from sklearn.preprocessing import MinMaxScaler\n",
        "from sklearn.neighbors import KNeighborsClassifier"
      ],
      "metadata": {
        "id": "N_TVWKJcJLXG"
      },
      "execution_count": 611,
      "outputs": []
    },
    {
      "cell_type": "code",
      "source": [
        "#separar el conjunto de datos entrenamiento y prueba\n",
        "#x_train, x_test, y_train, y_test = train_test_split(x, y, stratify = y,  random_state = 5)\n",
        "X, X_test, y, y_test = train_test_split(X, y, test_size=0.15,stratify=y,random_state=42)\n",
        "X_train, X_val, y_train, y_val = train_test_split(X, y, stratify=y, random_state=42)"
      ],
      "metadata": {
        "id": "jPZpq6IeJLZe"
      },
      "execution_count": 612,
      "outputs": []
    },
    {
      "cell_type": "markdown",
      "source": [
        "##Dummy"
      ],
      "metadata": {
        "id": "u53Xy9YOcnW5"
      }
    },
    {
      "cell_type": "code",
      "source": [
        "#ajustar modelo en datos de entrenamiento iniciar modelo y evaluar desempeño\n",
        "dummy = DummyClassifier()\n",
        "dummy.fit(X_train, y_train)\n",
        "print(f'Resultado de pruebas: {dummy.score(X_test, y_test)}')\n",
        "print(f'Precisión de entrenamiento: {dummy.score(X_train, y_train)}')\n",
        "print(f'Precisión de validación: {dummy.score(X_val, y_val)}')"
      ],
      "metadata": {
        "colab": {
          "base_uri": "https://localhost:8080/"
        },
        "id": "R0KsenLA_jIH",
        "outputId": "873a966f-f891-41ca-e4bc-6cb18eaa3990"
      },
      "execution_count": 613,
      "outputs": [
        {
          "output_type": "stream",
          "name": "stdout",
          "text": [
            "Resultado de pruebas: 0.7350993377483444\n",
            "Precisión de entrenamiento: 0.7344620182668746\n",
            "Precisión de validación: 0.7348029392117569\n"
          ]
        }
      ]
    },
    {
      "cell_type": "code",
      "source": [
        "from sklearn.metrics import mean_squared_error, mean_absolute_error, r2_score\n",
        "baseline = DummyRegressor()\n",
        "baseline.fit(X_train,y_train)\n",
        "\n",
        "y_pred_dummy = baseline.predict(X_test)\n",
        "\n",
        "def calcular_regresion(y_test,y_pred):\n",
        "  rmse = mean_squared_error(y_test,y_pred)\n",
        "  mae= mean_absolute_error(y_test,y_pred)\n",
        "  r2 = r2_score(y_test,y_pred)\n",
        "  metricas = {\n",
        "      'RMSE':round(rmse**(1/2),4),\n",
        "      'MAE': round(mae,4),\n",
        "      'R2': round(r2,4)\n",
        "  }\n",
        "  return metricas\n",
        "\n",
        "resultados_baseline = calcular_regresion(y_test, y_pred_dummy)\n",
        "resultados_baseline"
      ],
      "metadata": {
        "colab": {
          "base_uri": "https://localhost:8080/"
        },
        "id": "YHpf3jfIVgjT",
        "outputId": "3f9cd77a-2949-4c23-b996-32a2c66cc4fe"
      },
      "execution_count": 614,
      "outputs": [
        {
          "output_type": "execute_result",
          "data": {
            "text/plain": [
              "{'RMSE': 0.4413, 'MAE': 0.3898, 'R2': -0.0}"
            ]
          },
          "metadata": {},
          "execution_count": 614
        }
      ]
    },
    {
      "cell_type": "code",
      "source": [
        "from sklearn.model_selection import KFold, cross_validate\n",
        "\n",
        "scoring = {\n",
        "    'RMSE':'neg_root_mean_squared_error',\n",
        "    'MAE':'neg_mean_absolute_error',\n",
        "    'R2':'r2'\n",
        "}\n",
        "\n",
        "cv = KFold(n_splits=5,shuffle=True, random_state=42)\n",
        "cv_results = cross_validate(dummy, X_train, y_train, scoring=scoring, cv=cv)\n",
        "cv_results"
      ],
      "metadata": {
        "colab": {
          "base_uri": "https://localhost:8080/"
        },
        "id": "Exq0hGeJWFBm",
        "outputId": "5fb4d995-00ce-4a34-f577-425c157b999e"
      },
      "execution_count": 615,
      "outputs": [
        {
          "output_type": "execute_result",
          "data": {
            "text/plain": [
              "{'fit_time': array([0.00099277, 0.00080347, 0.00067139, 0.00075912, 0.00096416]),\n",
              " 'score_time': array([0.00193977, 0.00172949, 0.00174189, 0.00169063, 0.00309944]),\n",
              " 'test_RMSE': array([-0.49720824, -0.52763286, -0.53704628, -0.49044319, -0.52262096]),\n",
              " 'test_MAE': array([-0.24721604, -0.27839644, -0.28841871, -0.24053452, -0.27313266]),\n",
              " 'test_R2': array([-0.32840237, -0.38580247, -0.40532081, -0.31671554, -0.37576687])}"
            ]
          },
          "metadata": {},
          "execution_count": 615
        }
      ]
    },
    {
      "cell_type": "markdown",
      "source": [
        "##Árbol de Decisión"
      ],
      "metadata": {
        "id": "hGD-IUTScfSz"
      }
    },
    {
      "cell_type": "code",
      "source": [
        "#ajustar modelo en datos de entrenamiento iniciar modelo y evaluar desempeño\n",
        "arbol = DecisionTreeClassifier(max_depth = 4, random_state =42)\n",
        "arbol.fit(X_train, y_train)\n",
        "\n",
        "print(f'Resultado de pruebas: {arbol.score(X_test, y_test)}')\n",
        "print(f'Precisión de entrenamiento: {arbol.score(X_train, y_train)}')\n",
        "print(f'Precisión de validación: {arbol.score(X_val, y_val)}')"
      ],
      "metadata": {
        "colab": {
          "base_uri": "https://localhost:8080/"
        },
        "id": "QnNzqMWe_jNF",
        "outputId": "6c6f5b67-fb24-4f9a-be6a-3178e44c1fcb"
      },
      "execution_count": 616,
      "outputs": [
        {
          "output_type": "stream",
          "name": "stdout",
          "text": [
            "Resultado de pruebas: 0.7928098391674551\n",
            "Precisión de entrenamiento: 0.7972822454889731\n",
            "Precisión de validación: 0.7808951235804943\n"
          ]
        }
      ]
    },
    {
      "cell_type": "code",
      "source": [
        "ypred = arbol.predict(X_test)\n",
        "resultados_rf = calcular_regresion(y_test,ypred)\n",
        "resultados_rf"
      ],
      "metadata": {
        "colab": {
          "base_uri": "https://localhost:8080/"
        },
        "id": "ASpxib8oWsch",
        "outputId": "e54b6c84-f4e5-4a21-dff5-3a606fc14011"
      },
      "execution_count": 617,
      "outputs": [
        {
          "output_type": "execute_result",
          "data": {
            "text/plain": [
              "{'RMSE': 0.4552, 'MAE': 0.2072, 'R2': -0.064}"
            ]
          },
          "metadata": {},
          "execution_count": 617
        }
      ]
    },
    {
      "cell_type": "code",
      "source": [
        "from sklearn.model_selection import KFold, cross_validate\n",
        "\n",
        "scoring = {\n",
        "    'RMSE':'neg_root_mean_squared_error',\n",
        "    'MAE':'neg_mean_absolute_error',\n",
        "    'R2':'r2'\n",
        "}\n",
        "\n",
        "cv = KFold(n_splits=5,shuffle=True, random_state=42)\n",
        "cv_results = cross_validate(arbol, X_train, y_train, scoring=scoring, cv=cv)\n",
        "cv_results"
      ],
      "metadata": {
        "colab": {
          "base_uri": "https://localhost:8080/"
        },
        "id": "USO0ypCCYRRB",
        "outputId": "5dfa588d-fd32-43f6-bc78-142d977edf06"
      },
      "execution_count": 618,
      "outputs": [
        {
          "output_type": "execute_result",
          "data": {
            "text/plain": [
              "{'fit_time': array([0.00985456, 0.01036382, 0.0086937 , 0.01183105, 0.0096097 ]),\n",
              " 'score_time': array([0.00429296, 0.00226569, 0.00228405, 0.00232339, 0.0024209 ]),\n",
              " 'test_RMSE': array([-0.45388695, -0.46599273, -0.47895581, -0.47779188, -0.4662524 ]),\n",
              " 'test_MAE': array([-0.20601336, -0.21714922, -0.22939866, -0.22828508, -0.2173913 ]),\n",
              " 'test_R2': array([-0.10700197, -0.08092593, -0.11774551, -0.24966058, -0.09499812])}"
            ]
          },
          "metadata": {},
          "execution_count": 618
        }
      ]
    },
    {
      "cell_type": "markdown",
      "source": [
        "##Bosque Aleatorio"
      ],
      "metadata": {
        "id": "GsxeFbQPbKxs"
      }
    },
    {
      "cell_type": "code",
      "source": [
        "random = RandomForestClassifier(max_depth = 4, random_state=42)\n",
        "random.fit(X_train, y_train)\n",
        "\n",
        "print(f'Resultado de pruebas: {random.score(X_test, y_test)}')\n",
        "print(f'Precisión de entrenamiento: {random.score(X_train, y_train)}')\n",
        "print(f'Precisión de validación: {random.score(X_val, y_val)}')"
      ],
      "metadata": {
        "colab": {
          "base_uri": "https://localhost:8080/"
        },
        "id": "WjnVLTyqaqwk",
        "outputId": "161f4b56-72bf-4a8e-c83e-9046355fc580"
      },
      "execution_count": 619,
      "outputs": [
        {
          "output_type": "stream",
          "name": "stdout",
          "text": [
            "Resultado de pruebas: 0.7928098391674551\n",
            "Precisión de entrenamiento: 0.7968367119625752\n",
            "Precisión de validación: 0.7842351369405478\n"
          ]
        }
      ]
    },
    {
      "cell_type": "code",
      "source": [
        "ypred = random.predict(X_test)\n",
        "resultados_rf = calcular_regresion(y_test,ypred)\n",
        "resultados_rf"
      ],
      "metadata": {
        "colab": {
          "base_uri": "https://localhost:8080/"
        },
        "id": "O_eBoik6WXOm",
        "outputId": "c860ba6a-c4e4-4930-df5f-794395408af6"
      },
      "execution_count": 620,
      "outputs": [
        {
          "output_type": "execute_result",
          "data": {
            "text/plain": [
              "{'RMSE': 0.4552, 'MAE': 0.2072, 'R2': -0.064}"
            ]
          },
          "metadata": {},
          "execution_count": 620
        }
      ]
    },
    {
      "cell_type": "code",
      "source": [
        "from sklearn.model_selection import KFold, cross_validate\n",
        "\n",
        "scoring = {\n",
        "    'RMSE':'neg_root_mean_squared_error',\n",
        "    'MAE':'neg_mean_absolute_error',\n",
        "    'R2':'r2'\n",
        "}\n",
        "\n",
        "cv = KFold(n_splits=5,shuffle=True, random_state=42)\n",
        "cv_results = cross_validate(random, X_train, y_train, scoring=scoring, cv=cv)\n",
        "cv_results"
      ],
      "metadata": {
        "colab": {
          "base_uri": "https://localhost:8080/"
        },
        "id": "1-vzpFllYc2E",
        "outputId": "ec245ee2-4fd6-4712-8e24-ea918de95273"
      },
      "execution_count": 621,
      "outputs": [
        {
          "output_type": "execute_result",
          "data": {
            "text/plain": [
              "{'fit_time': array([0.26472592, 0.25699735, 0.25754213, 0.28259444, 0.24537683]),\n",
              " 'score_time': array([0.01262832, 0.01406264, 0.01241112, 0.01242018, 0.01259518]),\n",
              " 'test_RMSE': array([-0.42735005, -0.46718605, -0.46837634, -0.44396473, -0.46505535]),\n",
              " 'test_MAE': array([-0.18262806, -0.21826281, -0.21937639, -0.19710468, -0.21627648]),\n",
              " 'test_R2': array([ 0.01865771, -0.08646914, -0.06891197, -0.07897524, -0.08938275])}"
            ]
          },
          "metadata": {},
          "execution_count": 621
        }
      ]
    },
    {
      "cell_type": "markdown",
      "source": [
        "##Resumen modelos"
      ],
      "metadata": {
        "id": "MP0AHaLIg-pn"
      }
    },
    {
      "cell_type": "code",
      "source": [
        "print(f'La exactitud del modelo dummy aleatorio es: {dummy.score(X,y)}')\n",
        "print(f'La exactitud del modelo arbol aleatorio es: {arbol.score(X,y)}')\n",
        "print(f'La exactitud del modelo aleatorio aleatorio es: {random.score(X,y)}')"
      ],
      "metadata": {
        "colab": {
          "base_uri": "https://localhost:8080/"
        },
        "id": "guOD02QTarP5",
        "outputId": "ef0f0371-2e10-4746-dc35-6ae6b753b500"
      },
      "execution_count": 622,
      "outputs": [
        {
          "output_type": "stream",
          "name": "stdout",
          "text": [
            "La exactitud del modelo dummy aleatorio es: 0.7345472769796191\n",
            "La exactitud del modelo arbol aleatorio es: 0.7931840962245239\n",
            "La exactitud del modelo aleatorio aleatorio es: 0.7936852656197795\n"
          ]
        }
      ]
    },
    {
      "cell_type": "code",
      "source": [
        "from yellowbrick.classifier import ClassificationReport\n",
        "\n",
        "visualizer = ClassificationReport(dummy, classes=['Permanece', 'Abandona']);\n",
        "visualizer.fit(X_train, y_train)\n",
        "visualizer.score(X_test, y_test)\n",
        "visualizer.show()"
      ],
      "metadata": {
        "colab": {
          "base_uri": "https://localhost:8080/",
          "height": 638
        },
        "id": "wDsjMd8wW-Pq",
        "outputId": "23e63a63-d8ba-4ea7-9cf6-de72fa7e9fb9"
      },
      "execution_count": 623,
      "outputs": [
        {
          "output_type": "stream",
          "name": "stderr",
          "text": [
            "/usr/local/lib/python3.11/dist-packages/sklearn/metrics/_classification.py:1565: UndefinedMetricWarning:\n",
            "\n",
            "Precision is ill-defined and being set to 0.0 in labels with no predicted samples. Use `zero_division` parameter to control this behavior.\n",
            "\n"
          ]
        },
        {
          "output_type": "display_data",
          "data": {
            "text/plain": [
              "<Figure size 800x550 with 2 Axes>"
            ],
            "image/png": "[encoded data removed]"
          },
          "metadata": {}
        },
        {
          "output_type": "execute_result",
          "data": {
            "text/plain": [
              "<Axes: title={'center': 'DummyClassifier Classification Report'}>"
            ]
          },
          "metadata": {},
          "execution_count": 623
        }
      ]
    },
    {
      "cell_type": "code",
      "source": [
        "visualizer = ClassificationReport(arbol, classes=['Permanece', 'Abandona']);\n",
        "visualizer.fit(X_train, y_train)\n",
        "visualizer.score(X_test, y_test)\n",
        "visualizer.show()"
      ],
      "metadata": {
        "colab": {
          "base_uri": "https://localhost:8080/",
          "height": 568
        },
        "id": "k2NEeDmKXVDa",
        "outputId": "01cb3e7a-7fe4-4712-a5d4-f8d9336f1962"
      },
      "execution_count": 624,
      "outputs": [
        {
          "output_type": "display_data",
          "data": {
            "text/plain": [
              "<Figure size 800x550 with 2 Axes>"
            ],
            "image/png": "[encoded data removed]"
          },
          "metadata": {}
        },
        {
          "output_type": "execute_result",
          "data": {
            "text/plain": [
              "<Axes: title={'center': 'DecisionTreeClassifier Classification Report'}>"
            ]
          },
          "metadata": {},
          "execution_count": 624
        }
      ]
    },
    {
      "cell_type": "code",
      "source": [
        "visualizer = ClassificationReport(random, classes=['Permanece', 'Abandona']);\n",
        "visualizer.fit(X_train, y_train)\n",
        "visualizer.score(X_test, y_test)\n",
        "visualizer.show()"
      ],
      "metadata": {
        "colab": {
          "base_uri": "https://localhost:8080/",
          "height": 568
        },
        "id": "bAzOyT4fXi8a",
        "outputId": "9301ddd8-6e55-484f-991b-0705c2d1c9d7"
      },
      "execution_count": 625,
      "outputs": [
        {
          "output_type": "display_data",
          "data": {
            "text/plain": [
              "<Figure size 800x550 with 2 Axes>"
            ],
            "image/png": "[encoded data removed]"
          },
          "metadata": {}
        },
        {
          "output_type": "execute_result",
          "data": {
            "text/plain": [
              "<Axes: title={'center': 'RandomForestClassifier Classification Report'}>"
            ]
          },
          "metadata": {},
          "execution_count": 625
        }
      ]
    },
    {
      "cell_type": "markdown",
      "source": [
        "# Evaluación del rendimiento de los modelos con métricas."
      ],
      "metadata": {
        "id": "E7s8jKK9aUJJ"
      }
    },
    {
      "cell_type": "code",
      "source": [
        "from sklearn.metrics import confusion_matrix\n",
        "from sklearn.metrics import ConfusionMatrixDisplay\n",
        "from sklearn.metrics import accuracy_score, precision_score, recall_score, f1_score\n",
        "from sklearn.metrics import RocCurveDisplay\n",
        "from sklearn.metrics import PrecisionRecallDisplay\n",
        "from sklearn.metrics import classification_report\n",
        "from sklearn.model_selection import KFold, cross_validate\n",
        "from sklearn.model_selection import StratifiedKFold\n",
        "from imblearn.over_sampling import SMOTE\n",
        "from imblearn.pipeline import Pipeline as imbpipeline\n",
        "from imblearn.under_sampling import NearMiss\n",
        "\n",
        "import pickle"
      ],
      "metadata": {
        "id": "lsjCLDqUaXI4"
      },
      "execution_count": 716,
      "outputs": []
    },
    {
      "cell_type": "markdown",
      "source": [
        "##***Dummy***"
      ],
      "metadata": {
        "id": "tUMRKkVwrBQt"
      }
    },
    {
      "cell_type": "markdown",
      "source": [
        "###Matriz de confusión"
      ],
      "metadata": {
        "id": "KUo7_lCZ1DXQ"
      }
    },
    {
      "cell_type": "code",
      "source": [
        "y_previsto = dummy.predict(X_val)\n",
        "matriz_confusion = confusion_matrix(y_val,y_previsto)\n",
        "print(matriz_confusion)"
      ],
      "metadata": {
        "colab": {
          "base_uri": "https://localhost:8080/"
        },
        "id": "O9PRlTfaqsl-",
        "outputId": "643cf2db-f01d-4895-a991-b48e3f3e1c1b"
      },
      "execution_count": 640,
      "outputs": [
        {
          "output_type": "stream",
          "name": "stdout",
          "text": [
            "[[1100    0]\n",
            " [ 397    0]]\n"
          ]
        }
      ]
    },
    {
      "cell_type": "code",
      "source": [
        "visualizacion = ConfusionMatrixDisplay(confusion_matrix = matriz_confusion, display_labels=['Permanece','Abandona'])\n",
        "visualizacion.plot();"
      ],
      "metadata": {
        "colab": {
          "base_uri": "https://localhost:8080/",
          "height": 503
        },
        "id": "yl-gOzZfqstr",
        "outputId": "215eb657-cd7b-44d8-ff9e-2215206f1ecb"
      },
      "execution_count": 641,
      "outputs": [
        {
          "output_type": "display_data",
          "data": {
            "text/plain": [
              "<Figure size 800x550 with 2 Axes>"
            ],
            "image/png": "[encoded data removed]"
          },
          "metadata": {}
        }
      ]
    },
    {
      "cell_type": "code",
      "source": [
        "print(f'La precisión del modelo es: {precision_score(y_val,y_previsto)}')\n",
        "print(f'La sensibilidad (Recall) del modelo es: {recall_score(y_val,y_previsto)}')\n",
        "print(f'La exactitud (accuracy) del modelo es: {accuracy_score(y_val,y_previsto)}')\n",
        "print(f'El F1-score del modelo es: {f1_score(y_val,y_previsto)}')"
      ],
      "metadata": {
        "colab": {
          "base_uri": "https://localhost:8080/"
        },
        "id": "SziiP1oBrmtU",
        "outputId": "c353329d-65cc-4370-f161-cfa49ea80d5b"
      },
      "execution_count": 642,
      "outputs": [
        {
          "output_type": "stream",
          "name": "stdout",
          "text": [
            "La precisión del modelo es: 0.0\n",
            "La sensibilidad (Recall) del modelo es: 0.0\n",
            "La exactitud (accuracy) del modelo es: 0.7348029392117569\n",
            "El F1-score del modelo es: 0.0\n"
          ]
        },
        {
          "output_type": "stream",
          "name": "stderr",
          "text": [
            "/usr/local/lib/python3.11/dist-packages/sklearn/metrics/_classification.py:1565: UndefinedMetricWarning:\n",
            "\n",
            "Precision is ill-defined and being set to 0.0 due to no predicted samples. Use `zero_division` parameter to control this behavior.\n",
            "\n"
          ]
        }
      ]
    },
    {
      "cell_type": "markdown",
      "source": [
        "###Curva ROC"
      ],
      "metadata": {
        "id": "_25a9fGvyIWH"
      }
    },
    {
      "cell_type": "code",
      "source": [
        "RocCurveDisplay.from_predictions(y_val,y_previsto,name='Dummy');"
      ],
      "metadata": {
        "colab": {
          "base_uri": "https://localhost:8080/",
          "height": 505
        },
        "id": "2ibDNctvyMoq",
        "outputId": "03b90573-cfb1-4cc1-cd1b-cbe98480b4fe"
      },
      "execution_count": 643,
      "outputs": [
        {
          "output_type": "display_data",
          "data": {
            "text/plain": [
              "<Figure size 800x550 with 1 Axes>"
            ],
            "image/png": "[encoded data removed]"
          },
          "metadata": {}
        }
      ]
    },
    {
      "cell_type": "code",
      "source": [
        "from sklearn.metrics import roc_auc_score\n",
        "print(f'El área bajo la curva ROC es: {roc_auc_score(y_val,y_previsto)}')"
      ],
      "metadata": {
        "colab": {
          "base_uri": "https://localhost:8080/"
        },
        "id": "Z4peCsyRyPdx",
        "outputId": "14e19fb4-9255-4d2b-e2ba-5b62b7864fcd"
      },
      "execution_count": 644,
      "outputs": [
        {
          "output_type": "stream",
          "name": "stdout",
          "text": [
            "El área bajo la curva ROC es: 0.5\n"
          ]
        }
      ]
    },
    {
      "cell_type": "markdown",
      "source": [
        "###Curva de precisión x sensibilidad"
      ],
      "metadata": {
        "id": "mrNxdZ_CzAGp"
      }
    },
    {
      "cell_type": "code",
      "source": [
        "PrecisionRecallDisplay.from_predictions(y_val,y_previsto, name='Dummy');"
      ],
      "metadata": {
        "colab": {
          "base_uri": "https://localhost:8080/",
          "height": 505
        },
        "id": "s4idloFDzCCa",
        "outputId": "166b6906-02ca-4b43-97a0-939567ded3ed"
      },
      "execution_count": 645,
      "outputs": [
        {
          "output_type": "display_data",
          "data": {
            "text/plain": [
              "<Figure size 800x550 with 1 Axes>"
            ],
            "image/png": "[encoded data removed]"
          },
          "metadata": {}
        }
      ]
    },
    {
      "cell_type": "code",
      "source": [
        "from sklearn.metrics import average_precision_score"
      ],
      "metadata": {
        "id": "6NWJ4KzCzCFv"
      },
      "execution_count": 646,
      "outputs": []
    },
    {
      "cell_type": "code",
      "source": [
        "print(f'El score promedio de precision vs recall es: {average_precision_score(y_val,y_previsto)}')"
      ],
      "metadata": {
        "colab": {
          "base_uri": "https://localhost:8080/"
        },
        "id": "Ka3NX0yZzT1C",
        "outputId": "94b91dcf-a4e2-44df-d934-f147208c602b"
      },
      "execution_count": 647,
      "outputs": [
        {
          "output_type": "stream",
          "name": "stdout",
          "text": [
            "El score promedio de precision vs recall es: 0.2651970607882432\n"
          ]
        }
      ]
    },
    {
      "cell_type": "markdown",
      "source": [
        "###Informe de métricas"
      ],
      "metadata": {
        "id": "qD3M1tjqzyb7"
      }
    },
    {
      "cell_type": "code",
      "source": [
        "print(classification_report(y_val,y_previsto))"
      ],
      "metadata": {
        "colab": {
          "base_uri": "https://localhost:8080/"
        },
        "id": "BF2amCt6zT3l",
        "outputId": "eb6803bd-c64d-44d0-e62c-f22a9df51c90"
      },
      "execution_count": 648,
      "outputs": [
        {
          "output_type": "stream",
          "name": "stdout",
          "text": [
            "              precision    recall  f1-score   support\n",
            "\n",
            "           0       0.73      1.00      0.85      1100\n",
            "           1       0.00      0.00      0.00       397\n",
            "\n",
            "    accuracy                           0.73      1497\n",
            "   macro avg       0.37      0.50      0.42      1497\n",
            "weighted avg       0.54      0.73      0.62      1497\n",
            "\n"
          ]
        },
        {
          "output_type": "stream",
          "name": "stderr",
          "text": [
            "/usr/local/lib/python3.11/dist-packages/sklearn/metrics/_classification.py:1565: UndefinedMetricWarning:\n",
            "\n",
            "Precision is ill-defined and being set to 0.0 in labels with no predicted samples. Use `zero_division` parameter to control this behavior.\n",
            "\n",
            "/usr/local/lib/python3.11/dist-packages/sklearn/metrics/_classification.py:1565: UndefinedMetricWarning:\n",
            "\n",
            "Precision is ill-defined and being set to 0.0 in labels with no predicted samples. Use `zero_division` parameter to control this behavior.\n",
            "\n",
            "/usr/local/lib/python3.11/dist-packages/sklearn/metrics/_classification.py:1565: UndefinedMetricWarning:\n",
            "\n",
            "Precision is ill-defined and being set to 0.0 in labels with no predicted samples. Use `zero_division` parameter to control this behavior.\n",
            "\n"
          ]
        }
      ]
    },
    {
      "cell_type": "markdown",
      "source": [
        "###Validación cruzada"
      ],
      "metadata": {
        "id": "3JGoERFS5h3Q"
      }
    },
    {
      "cell_type": "code",
      "source": [
        "modelo = DummyClassifier()\n",
        "kf = KFold()\n",
        "cv_resultados =cross_validate(modelo,X,y,cv=kf)\n",
        "cv_resultados"
      ],
      "metadata": {
        "colab": {
          "base_uri": "https://localhost:8080/"
        },
        "id": "45MIRnNJz0hZ",
        "outputId": "f3639279-fb30-455a-ccc9-bf5ccfde2044"
      },
      "execution_count": 649,
      "outputs": [
        {
          "output_type": "execute_result",
          "data": {
            "text/plain": [
              "{'fit_time': array([0.00088882, 0.00076175, 0.0010643 , 0.00094628, 0.00109482]),\n",
              " 'score_time': array([0.00065875, 0.00068092, 0.00090814, 0.0013566 , 0.00088692]),\n",
              " 'test_score': array([0.75792988, 0.73433584, 0.73099415, 0.71345029, 0.73600668])}"
            ]
          },
          "metadata": {},
          "execution_count": 649
        }
      ]
    },
    {
      "cell_type": "code",
      "source": [
        "cv_resultados['test_score']"
      ],
      "metadata": {
        "id": "3yoJ6dYL6FWA",
        "colab": {
          "base_uri": "https://localhost:8080/"
        },
        "outputId": "f1a6c851-33b3-4a6f-e236-7b39ac25f5c0"
      },
      "execution_count": 650,
      "outputs": [
        {
          "output_type": "execute_result",
          "data": {
            "text/plain": [
              "array([0.75792988, 0.73433584, 0.73099415, 0.71345029, 0.73600668])"
            ]
          },
          "metadata": {},
          "execution_count": 650
        }
      ]
    },
    {
      "cell_type": "code",
      "source": [
        "promedio = cv_resultados['test_score'].mean()\n",
        "desvio_std = cv_resultados['test_score'].std()\n",
        "print(f'El promedio de la exactitud es de: {promedio}')\n",
        "print(f'El desvío típico es de: {desvio_std}')\n",
        "print(f'El intervalo de confianza es: [{promedio-2*desvio_std},{min(promedio+2*desvio_std,1)}]')"
      ],
      "metadata": {
        "id": "MACvrElx6FY4",
        "colab": {
          "base_uri": "https://localhost:8080/"
        },
        "outputId": "066295db-9cae-498b-9ff8-2b93a09c7455"
      },
      "execution_count": 651,
      "outputs": [
        {
          "output_type": "stream",
          "name": "stdout",
          "text": [
            "El promedio de la exactitud es de: 0.7345433701114221\n",
            "El desvío típico es de: 0.014188926826924407\n",
            "El intervalo de confianza es: [0.7061655164575733,0.7629212237652709]\n"
          ]
        }
      ]
    },
    {
      "cell_type": "markdown",
      "source": [
        "####Validación cruzada con sensibilidad"
      ],
      "metadata": {
        "id": "_jf-cLvoAqcE"
      }
    },
    {
      "cell_type": "code",
      "source": [
        "def intervalo_confianza(resultados):\n",
        "  promedio = resultados['test_score'].mean()\n",
        "  desvio_std = resultados['test_score'].std()\n",
        "  return f'El intervalo de confianza es: [{promedio-2*desvio_std},{min(promedio+2*desvio_std,1)}]'"
      ],
      "metadata": {
        "id": "GB-AQLio6Fa3"
      },
      "execution_count": 652,
      "outputs": []
    },
    {
      "cell_type": "code",
      "source": [
        "modelo = DummyClassifier()\n",
        "kf = KFold(n_splits=5, shuffle=True,random_state=42)\n",
        "cv_resultados =cross_validate(modelo,X,y,cv=kf,scoring='recall')\n",
        "cv_resultados"
      ],
      "metadata": {
        "id": "BOM8y6e1z0j6",
        "colab": {
          "base_uri": "https://localhost:8080/"
        },
        "outputId": "347c713a-f3f5-4307-ca5b-8bd86e4a2aa8"
      },
      "execution_count": 653,
      "outputs": [
        {
          "output_type": "execute_result",
          "data": {
            "text/plain": [
              "{'fit_time': array([0.00140047, 0.00084066, 0.00098729, 0.00078106, 0.00070286]),\n",
              " 'score_time': array([0.00261545, 0.00216842, 0.00212312, 0.00209165, 0.00210118]),\n",
              " 'test_score': array([0., 0., 0., 0., 0.])}"
            ]
          },
          "metadata": {},
          "execution_count": 653
        }
      ]
    },
    {
      "cell_type": "code",
      "source": [
        "intervalo_confianza(cv_resultados)"
      ],
      "metadata": {
        "colab": {
          "base_uri": "https://localhost:8080/",
          "height": 35
        },
        "id": "9SdHGN30Az1N",
        "outputId": "694e2bbe-b44d-4872-bc53-150ca503037a"
      },
      "execution_count": 654,
      "outputs": [
        {
          "output_type": "execute_result",
          "data": {
            "text/plain": [
              "'El intervalo de confianza es: [0.0,0.0]'"
            ],
            "application/vnd.google.colaboratory.intrinsic+json": {
              "type": "string"
            }
          },
          "metadata": {},
          "execution_count": 654
        }
      ]
    },
    {
      "cell_type": "markdown",
      "source": [
        "####Estratificando los datos"
      ],
      "metadata": {
        "id": "qF0-fIo7A54C"
      }
    },
    {
      "cell_type": "code",
      "source": [
        "datos['abandono'].value_counts(normalize=True)"
      ],
      "metadata": {
        "colab": {
          "base_uri": "https://localhost:8080/",
          "height": 178
        },
        "id": "2d5-l_ZeA0JW",
        "outputId": "736dea45-262d-4405-f35b-7c76bf74e527"
      },
      "execution_count": 655,
      "outputs": [
        {
          "output_type": "execute_result",
          "data": {
            "text/plain": [
              "abandono\n",
              "0    0.73463\n",
              "1    0.26537\n",
              "Name: proportion, dtype: float64"
            ],
            "text/html": [
              "<div>\n",
              "<style scoped>\n",
              "    .dataframe tbody tr th:only-of-type {\n",
              "        vertical-align: middle;\n",
              "    }\n",
              "\n",
              "    .dataframe tbody tr th {\n",
              "        vertical-align: top;\n",
              "    }\n",
              "\n",
              "    .dataframe thead th {\n",
              "        text-align: right;\n",
              "    }\n",
              "</style>\n",
              "<table border=\"1\" class=\"dataframe\">\n",
              "  <thead>\n",
              "    <tr style=\"text-align: right;\">\n",
              "      <th></th>\n",
              "      <th>proportion</th>\n",
              "    </tr>\n",
              "    <tr>\n",
              "      <th>abandono</th>\n",
              "      <th></th>\n",
              "    </tr>\n",
              "  </thead>\n",
              "  <tbody>\n",
              "    <tr>\n",
              "      <th>0</th>\n",
              "      <td>0.73463</td>\n",
              "    </tr>\n",
              "    <tr>\n",
              "      <th>1</th>\n",
              "      <td>0.26537</td>\n",
              "    </tr>\n",
              "  </tbody>\n",
              "</table>\n",
              "</div><br><label><b>dtype:</b> float64</label>"
            ]
          },
          "metadata": {},
          "execution_count": 655
        }
      ]
    },
    {
      "cell_type": "code",
      "source": [
        "modelo = DummyClassifier()\n",
        "skf = StratifiedKFold(n_splits=5, shuffle=True,random_state=42)\n",
        "cv_resultados =cross_validate(modelo,X,y,cv=skf,scoring='recall')\n",
        "\n",
        "intervalo_confianza(cv_resultados)"
      ],
      "metadata": {
        "colab": {
          "base_uri": "https://localhost:8080/",
          "height": 35
        },
        "id": "cTXcjzveBiXg",
        "outputId": "fbe12768-1cc4-49b5-b0ba-e068f365dba0"
      },
      "execution_count": 656,
      "outputs": [
        {
          "output_type": "execute_result",
          "data": {
            "text/plain": [
              "'El intervalo de confianza es: [0.0,0.0]'"
            ],
            "application/vnd.google.colaboratory.intrinsic+json": {
              "type": "string"
            }
          },
          "metadata": {},
          "execution_count": 656
        }
      ]
    },
    {
      "cell_type": "markdown",
      "source": [
        "###Balanceo de los datos"
      ],
      "metadata": {
        "id": "JkJVhk7UDeK4"
      }
    },
    {
      "cell_type": "markdown",
      "source": [
        "####Oversampling"
      ],
      "metadata": {
        "id": "vaAfjMAlKi4x"
      }
    },
    {
      "cell_type": "code",
      "source": [
        "oversampling = SMOTE()\n",
        "x_balanceada,y_balanceada = oversampling.fit_resample(X,y)"
      ],
      "metadata": {
        "id": "AWM4T_zBDgDZ"
      },
      "execution_count": 657,
      "outputs": []
    },
    {
      "cell_type": "code",
      "source": [
        "y_balanceada = pd.Series(y_balanceada)\n",
        "y_balanceada.value_counts(normalize=True)"
      ],
      "metadata": {
        "colab": {
          "base_uri": "https://localhost:8080/",
          "height": 147
        },
        "id": "qKaKhXK-DgGp",
        "outputId": "9e5fb4d7-b021-4b97-86d9-c0737f08440a"
      },
      "execution_count": 658,
      "outputs": [
        {
          "output_type": "execute_result",
          "data": {
            "text/plain": [
              "0    0.5\n",
              "1    0.5\n",
              "Name: proportion, dtype: float64"
            ],
            "text/html": [
              "<div>\n",
              "<style scoped>\n",
              "    .dataframe tbody tr th:only-of-type {\n",
              "        vertical-align: middle;\n",
              "    }\n",
              "\n",
              "    .dataframe tbody tr th {\n",
              "        vertical-align: top;\n",
              "    }\n",
              "\n",
              "    .dataframe thead th {\n",
              "        text-align: right;\n",
              "    }\n",
              "</style>\n",
              "<table border=\"1\" class=\"dataframe\">\n",
              "  <thead>\n",
              "    <tr style=\"text-align: right;\">\n",
              "      <th></th>\n",
              "      <th>proportion</th>\n",
              "    </tr>\n",
              "  </thead>\n",
              "  <tbody>\n",
              "    <tr>\n",
              "      <th>0</th>\n",
              "      <td>0.5</td>\n",
              "    </tr>\n",
              "    <tr>\n",
              "      <th>1</th>\n",
              "      <td>0.5</td>\n",
              "    </tr>\n",
              "  </tbody>\n",
              "</table>\n",
              "</div><br><label><b>dtype:</b> float64</label>"
            ]
          },
          "metadata": {},
          "execution_count": 658
        }
      ]
    },
    {
      "cell_type": "code",
      "source": [
        "modelo = DummyClassifier()\n",
        "skf = StratifiedKFold(n_splits=5, shuffle=True,random_state=42)\n",
        "cv_resultados =cross_validate(modelo,x_balanceada,y_balanceada,cv=skf,scoring='recall')\n",
        "intervalo_confianza(cv_resultados)"
      ],
      "metadata": {
        "colab": {
          "base_uri": "https://localhost:8080/",
          "height": 35
        },
        "id": "_yfBh_-rDgJz",
        "outputId": "64e5e049-f54f-49e7-fa2f-c8764373137b"
      },
      "execution_count": 659,
      "outputs": [
        {
          "output_type": "execute_result",
          "data": {
            "text/plain": [
              "'El intervalo de confianza es: [-0.5797958971132713,1]'"
            ],
            "application/vnd.google.colaboratory.intrinsic+json": {
              "type": "string"
            }
          },
          "metadata": {},
          "execution_count": 659
        }
      ]
    },
    {
      "cell_type": "markdown",
      "source": [
        "####Pipeline para validación"
      ],
      "metadata": {
        "id": "aP3azvtsEqXe"
      }
    },
    {
      "cell_type": "code",
      "source": [
        "modelo = DummyClassifier()\n",
        "pipeline = imbpipeline([('oversample',SMOTE()),('arbol',modelo)])\n",
        "skf = StratifiedKFold(n_splits=5, shuffle=True,random_state=42)\n",
        "cv_resultados =cross_validate(pipeline,X,y,cv=skf,scoring='recall')\n",
        "intervalo_confianza(cv_resultados)"
      ],
      "metadata": {
        "colab": {
          "base_uri": "https://localhost:8080/",
          "height": 35
        },
        "id": "pgXnOJaaEo_t",
        "outputId": "0b2596a4-34ca-4970-cfb7-d3e4ee50fe9f"
      },
      "execution_count": 660,
      "outputs": [
        {
          "output_type": "execute_result",
          "data": {
            "text/plain": [
              "'El intervalo de confianza es: [0.0,0.0]'"
            ],
            "application/vnd.google.colaboratory.intrinsic+json": {
              "type": "string"
            }
          },
          "metadata": {},
          "execution_count": 660
        }
      ]
    },
    {
      "cell_type": "markdown",
      "source": [
        "####Undersampling"
      ],
      "metadata": {
        "id": "4HHJeCrEE3CH"
      }
    },
    {
      "cell_type": "code",
      "source": [
        "modelo = DummyClassifier()\n",
        "pipeline = imbpipeline([('undersample',NearMiss(version = 3)),('arbol',modelo)])\n",
        "skf = StratifiedKFold(n_splits=5, shuffle=True,random_state=42)\n",
        "cv_resultados =cross_validate(pipeline,X,y,cv=skf,scoring='recall')\n",
        "\n",
        "intervalo_confianza(cv_resultados)\n"
      ],
      "metadata": {
        "colab": {
          "base_uri": "https://localhost:8080/",
          "height": 35
        },
        "id": "e5IcchE4EkFx",
        "outputId": "cd6940eb-bd9f-4a95-a7b8-642482fd8dc5"
      },
      "execution_count": 661,
      "outputs": [
        {
          "output_type": "execute_result",
          "data": {
            "text/plain": [
              "'El intervalo de confianza es: [0.0,0.0]'"
            ],
            "application/vnd.google.colaboratory.intrinsic+json": {
              "type": "string"
            }
          },
          "metadata": {},
          "execution_count": 661
        }
      ]
    },
    {
      "cell_type": "code",
      "source": [
        "undersample = NearMiss(version = 3)\n",
        "x_balanceada, y_balanceada = undersample.fit_resample(X,y)\n",
        "\n",
        "modelo = DummyClassifier()\n",
        "modelo.fit(x_balanceada,y_balanceada)\n",
        "y_previsto = modelo.predict(X_test)\n",
        "\n",
        "print(classification_report(y_test,y_previsto))\n",
        "ConfusionMatrixDisplay.from_predictions(y_test,y_previsto);"
      ],
      "metadata": {
        "colab": {
          "base_uri": "https://localhost:8080/",
          "height": 868
        },
        "id": "_PfDgBEyFHkZ",
        "outputId": "778e2261-a6b9-4f8c-e0b3-96ae3805ae00"
      },
      "execution_count": 662,
      "outputs": [
        {
          "output_type": "stream",
          "name": "stdout",
          "text": [
            "              precision    recall  f1-score   support\n",
            "\n",
            "           0       0.74      1.00      0.85       777\n",
            "           1       0.00      0.00      0.00       280\n",
            "\n",
            "    accuracy                           0.74      1057\n",
            "   macro avg       0.37      0.50      0.42      1057\n",
            "weighted avg       0.54      0.74      0.62      1057\n",
            "\n"
          ]
        },
        {
          "output_type": "stream",
          "name": "stderr",
          "text": [
            "/usr/local/lib/python3.11/dist-packages/sklearn/metrics/_classification.py:1565: UndefinedMetricWarning:\n",
            "\n",
            "Precision is ill-defined and being set to 0.0 in labels with no predicted samples. Use `zero_division` parameter to control this behavior.\n",
            "\n",
            "/usr/local/lib/python3.11/dist-packages/sklearn/metrics/_classification.py:1565: UndefinedMetricWarning:\n",
            "\n",
            "Precision is ill-defined and being set to 0.0 in labels with no predicted samples. Use `zero_division` parameter to control this behavior.\n",
            "\n",
            "/usr/local/lib/python3.11/dist-packages/sklearn/metrics/_classification.py:1565: UndefinedMetricWarning:\n",
            "\n",
            "Precision is ill-defined and being set to 0.0 in labels with no predicted samples. Use `zero_division` parameter to control this behavior.\n",
            "\n"
          ]
        },
        {
          "output_type": "display_data",
          "data": {
            "text/plain": [
              "<Figure size 800x550 with 2 Axes>"
            ],
            "image/png": "[encoded data removed]"
          },
          "metadata": {}
        }
      ]
    },
    {
      "cell_type": "markdown",
      "source": [
        "##***Arbol de Decision***"
      ],
      "metadata": {
        "id": "ffvNKExWrLaB"
      }
    },
    {
      "cell_type": "markdown",
      "source": [
        "###Matriz de confusión"
      ],
      "metadata": {
        "id": "FSbd8agK1KsD"
      }
    },
    {
      "cell_type": "code",
      "source": [
        "y_previsto = arbol.predict(X_val)\n",
        "matriz_confusion = confusion_matrix(y_val,y_previsto)\n",
        "print(matriz_confusion)"
      ],
      "metadata": {
        "colab": {
          "base_uri": "https://localhost:8080/"
        },
        "id": "VfWrjyMcqs2Q",
        "outputId": "75abe6fd-e25b-498e-c9df-461e67c14e59"
      },
      "execution_count": 663,
      "outputs": [
        {
          "output_type": "stream",
          "name": "stdout",
          "text": [
            "[[1012   88]\n",
            " [ 240  157]]\n"
          ]
        }
      ]
    },
    {
      "cell_type": "code",
      "source": [
        "visualizacion = ConfusionMatrixDisplay(confusion_matrix = matriz_confusion, display_labels=['Permanece','Abandona'])\n",
        "visualizacion.plot();"
      ],
      "metadata": {
        "colab": {
          "base_uri": "https://localhost:8080/",
          "height": 503
        },
        "id": "PaNIqcs_rSYb",
        "outputId": "ae5af8e8-51ca-4e2a-c03d-7f100efeb1ad"
      },
      "execution_count": 664,
      "outputs": [
        {
          "output_type": "display_data",
          "data": {
            "text/plain": [
              "<Figure size 800x550 with 2 Axes>"
            ],
            "image/png": "[encoded data removed]"
          },
          "metadata": {}
        }
      ]
    },
    {
      "cell_type": "code",
      "source": [
        "print(f'La precisión del modelo es: {precision_score(y_val,y_previsto)}')\n",
        "print(f'La sensibilidad (Recall) del modelo es: {recall_score(y_val,y_previsto)}')\n",
        "print(f'La exactitud (accuracy) del modelo es: {accuracy_score(y_val,y_previsto)}')\n",
        "print(f'El F1-score del modelo es: {f1_score(y_val,y_previsto)}')"
      ],
      "metadata": {
        "colab": {
          "base_uri": "https://localhost:8080/"
        },
        "id": "VfQnkgNVxkz6",
        "outputId": "94f8daa4-9365-4f14-8a57-1172570757d1"
      },
      "execution_count": 665,
      "outputs": [
        {
          "output_type": "stream",
          "name": "stdout",
          "text": [
            "La precisión del modelo es: 0.6408163265306123\n",
            "La sensibilidad (Recall) del modelo es: 0.3954659949622166\n",
            "La exactitud (accuracy) del modelo es: 0.7808951235804943\n",
            "El F1-score del modelo es: 0.48909657320872274\n"
          ]
        }
      ]
    },
    {
      "cell_type": "markdown",
      "source": [
        "###Curva ROC"
      ],
      "metadata": {
        "id": "lQO6HKrByl8G"
      }
    },
    {
      "cell_type": "code",
      "source": [
        "RocCurveDisplay.from_predictions(y_val,y_previsto,name='Arbol');"
      ],
      "metadata": {
        "colab": {
          "base_uri": "https://localhost:8080/",
          "height": 505
        },
        "id": "gPprIUEzyxN1",
        "outputId": "30be06db-bc7f-4608-8275-e53e84e13af3"
      },
      "execution_count": 666,
      "outputs": [
        {
          "output_type": "display_data",
          "data": {
            "text/plain": [
              "<Figure size 800x550 with 1 Axes>"
            ],
            "image/png": "[encoded data removed]"
          },
          "metadata": {}
        }
      ]
    },
    {
      "cell_type": "code",
      "source": [
        "from sklearn.metrics import roc_auc_score\n",
        "print(f'El área bajo la curva ROC es: {roc_auc_score(y_val,y_previsto)}')"
      ],
      "metadata": {
        "colab": {
          "base_uri": "https://localhost:8080/"
        },
        "id": "lG6LMhG_yxjb",
        "outputId": "0bc007c7-fc1a-4c0b-f0ab-f0a829fcf5d6"
      },
      "execution_count": 667,
      "outputs": [
        {
          "output_type": "stream",
          "name": "stdout",
          "text": [
            "El área bajo la curva ROC es: 0.6577329974811083\n"
          ]
        }
      ]
    },
    {
      "cell_type": "markdown",
      "source": [
        "###Curva de precisión x sensibilidad"
      ],
      "metadata": {
        "id": "7I7rg_QxzDUN"
      }
    },
    {
      "cell_type": "code",
      "source": [
        "PrecisionRecallDisplay.from_predictions(y_val,y_previsto, name='Árbol de Decisión');"
      ],
      "metadata": {
        "colab": {
          "base_uri": "https://localhost:8080/",
          "height": 505
        },
        "id": "wGvyvkowzDyc",
        "outputId": "5e32e532-c544-4f82-e1c6-f27c46dd6795"
      },
      "execution_count": 668,
      "outputs": [
        {
          "output_type": "display_data",
          "data": {
            "text/plain": [
              "<Figure size 800x550 with 1 Axes>"
            ],
            "image/png": "[encoded data removed]"
          },
          "metadata": {}
        }
      ]
    },
    {
      "cell_type": "code",
      "source": [
        "from sklearn.metrics import average_precision_score"
      ],
      "metadata": {
        "id": "uOXWcueBzD1B"
      },
      "execution_count": 669,
      "outputs": []
    },
    {
      "cell_type": "code",
      "source": [
        "print(f'El score promedio de precision vs recall es: {average_precision_score(y_val,y_previsto)}')"
      ],
      "metadata": {
        "colab": {
          "base_uri": "https://localhost:8080/"
        },
        "id": "R64pjLiKzS9q",
        "outputId": "4f418150-0181-4834-9c76-afda6daabbe8"
      },
      "execution_count": 670,
      "outputs": [
        {
          "output_type": "stream",
          "name": "stdout",
          "text": [
            "El score promedio de precision vs recall es: 0.41374170744202643\n"
          ]
        }
      ]
    },
    {
      "cell_type": "markdown",
      "source": [
        "###Informe de métricas"
      ],
      "metadata": {
        "id": "Y-Tl6TDaz2HC"
      }
    },
    {
      "cell_type": "code",
      "source": [
        "print(classification_report(y_val,y_previsto))"
      ],
      "metadata": {
        "colab": {
          "base_uri": "https://localhost:8080/"
        },
        "id": "PPlUI2kVz2rP",
        "outputId": "8172dda1-3600-4956-a06c-2096206ee401"
      },
      "execution_count": 671,
      "outputs": [
        {
          "output_type": "stream",
          "name": "stdout",
          "text": [
            "              precision    recall  f1-score   support\n",
            "\n",
            "           0       0.81      0.92      0.86      1100\n",
            "           1       0.64      0.40      0.49       397\n",
            "\n",
            "    accuracy                           0.78      1497\n",
            "   macro avg       0.72      0.66      0.67      1497\n",
            "weighted avg       0.76      0.78      0.76      1497\n",
            "\n"
          ]
        }
      ]
    },
    {
      "cell_type": "markdown",
      "source": [
        "###Validación cruzada"
      ],
      "metadata": {
        "id": "8-PKcMfY5evg"
      }
    },
    {
      "cell_type": "code",
      "source": [
        "modelo = DecisionTreeClassifier()\n",
        "kf = KFold()\n",
        "cv_resultados =cross_validate(modelo,X,y,cv=kf)\n",
        "cv_resultados"
      ],
      "metadata": {
        "id": "oj6KrbQVz2tz",
        "colab": {
          "base_uri": "https://localhost:8080/"
        },
        "outputId": "9df64c7d-aeed-402f-8581-cd8aa2881665"
      },
      "execution_count": 672,
      "outputs": [
        {
          "output_type": "execute_result",
          "data": {
            "text/plain": [
              "{'fit_time': array([0.03291845, 0.02702522, 0.02752137, 0.04061389, 0.02773619]),\n",
              " 'score_time': array([0.00125337, 0.00140214, 0.00177765, 0.00126529, 0.00150514]),\n",
              " 'test_score': array([0.73038397, 0.72431078, 0.72263993, 0.73684211, 0.74519632])}"
            ]
          },
          "metadata": {},
          "execution_count": 672
        }
      ]
    },
    {
      "cell_type": "code",
      "source": [
        "cv_resultados['test_score']"
      ],
      "metadata": {
        "id": "mgsrhnSxzTAU",
        "colab": {
          "base_uri": "https://localhost:8080/"
        },
        "outputId": "c66e95db-759b-40cf-ed8d-5d2ba202d9bf"
      },
      "execution_count": 673,
      "outputs": [
        {
          "output_type": "execute_result",
          "data": {
            "text/plain": [
              "array([0.73038397, 0.72431078, 0.72263993, 0.73684211, 0.74519632])"
            ]
          },
          "metadata": {},
          "execution_count": 673
        }
      ]
    },
    {
      "cell_type": "code",
      "source": [
        "promedio = cv_resultados['test_score'].mean()\n",
        "desvio_std = cv_resultados['test_score'].std()\n",
        "print(f'El promedio de la exactitud es de: {promedio}')\n",
        "print(f'El desvío típico es de: {desvio_std}')\n",
        "print(f'El intervalo de confianza es: [{promedio-2*desvio_std},{min(promedio+2*desvio_std,1)}]')"
      ],
      "metadata": {
        "colab": {
          "base_uri": "https://localhost:8080/"
        },
        "id": "6R849yJtAOZw",
        "outputId": "03549cd4-c6c7-440b-86ed-48689a14403b"
      },
      "execution_count": 674,
      "outputs": [
        {
          "output_type": "stream",
          "name": "stdout",
          "text": [
            "El promedio de la exactitud es de: 0.7318746225608541\n",
            "El desvío típico es de: 0.008328948330580822\n",
            "El intervalo de confianza es: [0.7152167258996924,0.7485325192220158]\n"
          ]
        }
      ]
    },
    {
      "cell_type": "markdown",
      "source": [
        "####Validación cruzada con sensibilidad"
      ],
      "metadata": {
        "id": "mLh6n49zFueN"
      }
    },
    {
      "cell_type": "code",
      "source": [
        "def intervalo_confianza(resultados):\n",
        "  promedio = resultados['test_score'].mean()\n",
        "  desvio_std = resultados['test_score'].std()\n",
        "  return f'El intervalo de confianza es: [{promedio-2*desvio_std},{min(promedio+2*desvio_std,1)}]'\n",
        "\n",
        "modelo = DecisionTreeClassifier(max_depth=10)\n",
        "kf = KFold(n_splits=5, shuffle=True,random_state=42)\n",
        "cv_resultados =cross_validate(modelo,X,y,cv=kf,scoring='recall')\n",
        "cv_resultados"
      ],
      "metadata": {
        "colab": {
          "base_uri": "https://localhost:8080/"
        },
        "id": "RnQmULatFtlY",
        "outputId": "283c9954-546b-4bda-d78f-72e31dfbf16d"
      },
      "execution_count": 675,
      "outputs": [
        {
          "output_type": "execute_result",
          "data": {
            "text/plain": [
              "{'fit_time': array([0.02391219, 0.02331471, 0.02247477, 0.02336454, 0.0223105 ]),\n",
              " 'score_time': array([0.00308228, 0.00286078, 0.00351906, 0.00289798, 0.00281143]),\n",
              " 'test_score': array([0.53943218, 0.45045045, 0.54983923, 0.5224359 , 0.53481013])}"
            ]
          },
          "metadata": {},
          "execution_count": 675
        }
      ]
    },
    {
      "cell_type": "code",
      "source": [
        "intervalo_confianza(cv_resultados)"
      ],
      "metadata": {
        "colab": {
          "base_uri": "https://localhost:8080/",
          "height": 35
        },
        "id": "47TxQh3RAOge",
        "outputId": "e0fe59cd-4f3e-40cc-cc25-ff65aa2d22ff"
      },
      "execution_count": 676,
      "outputs": [
        {
          "output_type": "execute_result",
          "data": {
            "text/plain": [
              "'El intervalo de confianza es: [0.4482398629966482,0.590547288771591]'"
            ],
            "application/vnd.google.colaboratory.intrinsic+json": {
              "type": "string"
            }
          },
          "metadata": {},
          "execution_count": 676
        }
      ]
    },
    {
      "cell_type": "markdown",
      "source": [
        "####Estratificando los datos"
      ],
      "metadata": {
        "id": "yTvCYRYoF63f"
      }
    },
    {
      "cell_type": "code",
      "source": [
        "datos['abandono'].value_counts(normalize=True)"
      ],
      "metadata": {
        "colab": {
          "base_uri": "https://localhost:8080/",
          "height": 178
        },
        "id": "sSlP8crFAOja",
        "outputId": "8b87cc08-6c9e-4947-c7a7-645f535d8bbb"
      },
      "execution_count": 677,
      "outputs": [
        {
          "output_type": "execute_result",
          "data": {
            "text/plain": [
              "abandono\n",
              "0    0.73463\n",
              "1    0.26537\n",
              "Name: proportion, dtype: float64"
            ],
            "text/html": [
              "<div>\n",
              "<style scoped>\n",
              "    .dataframe tbody tr th:only-of-type {\n",
              "        vertical-align: middle;\n",
              "    }\n",
              "\n",
              "    .dataframe tbody tr th {\n",
              "        vertical-align: top;\n",
              "    }\n",
              "\n",
              "    .dataframe thead th {\n",
              "        text-align: right;\n",
              "    }\n",
              "</style>\n",
              "<table border=\"1\" class=\"dataframe\">\n",
              "  <thead>\n",
              "    <tr style=\"text-align: right;\">\n",
              "      <th></th>\n",
              "      <th>proportion</th>\n",
              "    </tr>\n",
              "    <tr>\n",
              "      <th>abandono</th>\n",
              "      <th></th>\n",
              "    </tr>\n",
              "  </thead>\n",
              "  <tbody>\n",
              "    <tr>\n",
              "      <th>0</th>\n",
              "      <td>0.73463</td>\n",
              "    </tr>\n",
              "    <tr>\n",
              "      <th>1</th>\n",
              "      <td>0.26537</td>\n",
              "    </tr>\n",
              "  </tbody>\n",
              "</table>\n",
              "</div><br><label><b>dtype:</b> float64</label>"
            ]
          },
          "metadata": {},
          "execution_count": 677
        }
      ]
    },
    {
      "cell_type": "code",
      "source": [
        "modelo = DecisionTreeClassifier(max_depth=10)\n",
        "skf = StratifiedKFold(n_splits=5, shuffle=True,random_state=42)\n",
        "cv_resultados =cross_validate(modelo,X,y,cv=skf,scoring='recall')\n",
        "intervalo_confianza(cv_resultados)"
      ],
      "metadata": {
        "colab": {
          "base_uri": "https://localhost:8080/",
          "height": 35
        },
        "id": "iEVqnDELAOln",
        "outputId": "7f902b60-4b82-4e62-8c5b-773500622015"
      },
      "execution_count": 678,
      "outputs": [
        {
          "output_type": "execute_result",
          "data": {
            "text/plain": [
              "'El intervalo de confianza es: [0.4530580247152632,0.5325142626485843]'"
            ],
            "application/vnd.google.colaboratory.intrinsic+json": {
              "type": "string"
            }
          },
          "metadata": {},
          "execution_count": 678
        }
      ]
    },
    {
      "cell_type": "markdown",
      "source": [
        "###Balanceo de los datos"
      ],
      "metadata": {
        "id": "ei_GTuPOGLjg"
      }
    },
    {
      "cell_type": "markdown",
      "source": [
        "####Oversampling"
      ],
      "metadata": {
        "id": "gWObV8k-GSD1"
      }
    },
    {
      "cell_type": "code",
      "source": [
        "oversampling = SMOTE()\n",
        "x_balanceada,y_balanceada = oversampling.fit_resample(X,y)\n",
        "y_balanceada = pd.Series(y_balanceada)\n",
        "y_balanceada.value_counts(normalize=True)"
      ],
      "metadata": {
        "colab": {
          "base_uri": "https://localhost:8080/",
          "height": 147
        },
        "id": "fQZq4EL1GPir",
        "outputId": "dcb842f5-1172-499e-b989-28b8fbc94c8c"
      },
      "execution_count": 679,
      "outputs": [
        {
          "output_type": "execute_result",
          "data": {
            "text/plain": [
              "0    0.5\n",
              "1    0.5\n",
              "Name: proportion, dtype: float64"
            ],
            "text/html": [
              "<div>\n",
              "<style scoped>\n",
              "    .dataframe tbody tr th:only-of-type {\n",
              "        vertical-align: middle;\n",
              "    }\n",
              "\n",
              "    .dataframe tbody tr th {\n",
              "        vertical-align: top;\n",
              "    }\n",
              "\n",
              "    .dataframe thead th {\n",
              "        text-align: right;\n",
              "    }\n",
              "</style>\n",
              "<table border=\"1\" class=\"dataframe\">\n",
              "  <thead>\n",
              "    <tr style=\"text-align: right;\">\n",
              "      <th></th>\n",
              "      <th>proportion</th>\n",
              "    </tr>\n",
              "  </thead>\n",
              "  <tbody>\n",
              "    <tr>\n",
              "      <th>0</th>\n",
              "      <td>0.5</td>\n",
              "    </tr>\n",
              "    <tr>\n",
              "      <th>1</th>\n",
              "      <td>0.5</td>\n",
              "    </tr>\n",
              "  </tbody>\n",
              "</table>\n",
              "</div><br><label><b>dtype:</b> float64</label>"
            ]
          },
          "metadata": {},
          "execution_count": 679
        }
      ]
    },
    {
      "cell_type": "code",
      "source": [
        "modelo = DecisionTreeClassifier(max_depth=10)\n",
        "skf = StratifiedKFold(n_splits=5, shuffle=True,random_state=42)\n",
        "cv_resultados =cross_validate(modelo,x_balanceada,y_balanceada,cv=skf,scoring='recall')\n",
        "intervalo_confianza(cv_resultados)"
      ],
      "metadata": {
        "colab": {
          "base_uri": "https://localhost:8080/",
          "height": 35
        },
        "id": "cPRstJwjGPlf",
        "outputId": "5be73b9c-4a58-4556-9216-de6d0232af84"
      },
      "execution_count": 680,
      "outputs": [
        {
          "output_type": "execute_result",
          "data": {
            "text/plain": [
              "'El intervalo de confianza es: [0.798749961681312,0.863297819888654]'"
            ],
            "application/vnd.google.colaboratory.intrinsic+json": {
              "type": "string"
            }
          },
          "metadata": {},
          "execution_count": 680
        }
      ]
    },
    {
      "cell_type": "markdown",
      "source": [
        "####Pipeline para validación"
      ],
      "metadata": {
        "id": "oN7ONTnrGmIm"
      }
    },
    {
      "cell_type": "code",
      "source": [
        "modelo = DecisionTreeClassifier(max_depth=10)\n",
        "pipeline = imbpipeline([('oversample',SMOTE()),('arbol',modelo)])\n",
        "\n",
        "skf = StratifiedKFold(n_splits=5, shuffle=True,random_state=42)\n",
        "cv_resultados =cross_validate(pipeline,X,y,cv=skf,scoring='recall')\n",
        "\n",
        "intervalo_confianza(cv_resultados)"
      ],
      "metadata": {
        "colab": {
          "base_uri": "https://localhost:8080/",
          "height": 35
        },
        "id": "-Wdeq9x1GPoK",
        "outputId": "e9b52bfc-621c-4263-d831-147e87d955d5"
      },
      "execution_count": 681,
      "outputs": [
        {
          "output_type": "execute_result",
          "data": {
            "text/plain": [
              "'El intervalo de confianza es: [0.5229500436335925,0.6527101353240092]'"
            ],
            "application/vnd.google.colaboratory.intrinsic+json": {
              "type": "string"
            }
          },
          "metadata": {},
          "execution_count": 681
        }
      ]
    },
    {
      "cell_type": "markdown",
      "source": [
        "####Undersampling"
      ],
      "metadata": {
        "id": "eJSCixorGxbb"
      }
    },
    {
      "cell_type": "code",
      "source": [
        "modelo = DecisionTreeClassifier(max_depth=10)\n",
        "pipeline = imbpipeline([('undersample',NearMiss(version = 3)),('arbol',modelo)])\n",
        "skf = StratifiedKFold(n_splits=5, shuffle=True,random_state=42)\n",
        "cv_resultados =cross_validate(pipeline,X,y,cv=skf,scoring='recall')\n",
        "\n",
        "intervalo_confianza(cv_resultados)"
      ],
      "metadata": {
        "colab": {
          "base_uri": "https://localhost:8080/",
          "height": 35
        },
        "id": "3c6egQYTGPqc",
        "outputId": "b1decb10-f056-429b-a12d-4f8a865d04a9"
      },
      "execution_count": 682,
      "outputs": [
        {
          "output_type": "execute_result",
          "data": {
            "text/plain": [
              "'El intervalo de confianza es: [0.6286446112716589,0.6866620173020369]'"
            ],
            "application/vnd.google.colaboratory.intrinsic+json": {
              "type": "string"
            }
          },
          "metadata": {},
          "execution_count": 682
        }
      ]
    },
    {
      "cell_type": "code",
      "source": [
        "##Probar el modelo\n",
        "undersample = NearMiss(version = 3)\n",
        "x_balanceada, y_balanceada = undersample.fit_resample(X,y)\n",
        "\n",
        "modelo = DecisionTreeClassifier(max_depth=10)\n",
        "modelo.fit(x_balanceada,y_balanceada)\n",
        "y_previsto = modelo.predict(X_test)\n",
        "\n",
        "print(classification_report(y_test,y_previsto))\n",
        "ConfusionMatrixDisplay.from_predictions(y_test,y_previsto);"
      ],
      "metadata": {
        "colab": {
          "base_uri": "https://localhost:8080/",
          "height": 663
        },
        "id": "3LnRH8VCG38R",
        "outputId": "a7473556-3aa3-4351-c1f5-8e20707a3363"
      },
      "execution_count": 683,
      "outputs": [
        {
          "output_type": "stream",
          "name": "stdout",
          "text": [
            "              precision    recall  f1-score   support\n",
            "\n",
            "           0       0.83      0.71      0.76       777\n",
            "           1       0.42      0.59      0.49       280\n",
            "\n",
            "    accuracy                           0.68      1057\n",
            "   macro avg       0.62      0.65      0.63      1057\n",
            "weighted avg       0.72      0.68      0.69      1057\n",
            "\n"
          ]
        },
        {
          "output_type": "display_data",
          "data": {
            "text/plain": [
              "<Figure size 800x550 with 2 Axes>"
            ],
            "image/png": "[encoded data removed]"
          },
          "metadata": {}
        }
      ]
    },
    {
      "cell_type": "markdown",
      "source": [
        "##Bosque Aleatorio"
      ],
      "metadata": {
        "id": "_i7sRqZxrF3C"
      }
    },
    {
      "cell_type": "markdown",
      "source": [
        "###Matriz de confusión"
      ],
      "metadata": {
        "id": "xnt_xZu-1LsX"
      }
    },
    {
      "cell_type": "code",
      "source": [
        "y_previsto = random.predict(X_val)\n",
        "matriz_confusion = confusion_matrix(y_val,y_previsto)\n",
        "print(matriz_confusion)"
      ],
      "metadata": {
        "colab": {
          "base_uri": "https://localhost:8080/"
        },
        "id": "FsuJUsm4aXLj",
        "outputId": "1ab0173f-3c6e-4a84-8021-64559afc39e3"
      },
      "execution_count": 684,
      "outputs": [
        {
          "output_type": "stream",
          "name": "stdout",
          "text": [
            "[[1034   66]\n",
            " [ 257  140]]\n"
          ]
        }
      ]
    },
    {
      "cell_type": "code",
      "source": [
        "visualizacion = ConfusionMatrixDisplay(confusion_matrix = matriz_confusion, display_labels=['Permanece','Abandona'])\n",
        "visualizacion.plot();"
      ],
      "metadata": {
        "colab": {
          "base_uri": "https://localhost:8080/",
          "height": 503
        },
        "id": "kuU6x9uShzGR",
        "outputId": "7d65b67a-03d6-4dd9-f78f-cd07cd41c743"
      },
      "execution_count": 685,
      "outputs": [
        {
          "output_type": "display_data",
          "data": {
            "text/plain": [
              "<Figure size 800x550 with 2 Axes>"
            ],
            "image/png": "[encoded data removed]"
          },
          "metadata": {}
        }
      ]
    },
    {
      "cell_type": "code",
      "source": [
        "print(f'La precisión del modelo es: {precision_score(y_val,y_previsto)}')\n",
        "print(f'La sensibilidad (Recall) del modelo es: {recall_score(y_val,y_previsto)}')\n",
        "print(f'La exactitud (accuracy) del modelo es: {accuracy_score(y_val,y_previsto)}')\n",
        "print(f'El F1-score del modelo es: {f1_score(y_val,y_previsto)}')"
      ],
      "metadata": {
        "colab": {
          "base_uri": "https://localhost:8080/"
        },
        "id": "DPBviY0Nxn-N",
        "outputId": "fea698b8-1b4e-4104-b834-0927df3d1085"
      },
      "execution_count": 686,
      "outputs": [
        {
          "output_type": "stream",
          "name": "stdout",
          "text": [
            "La precisión del modelo es: 0.6796116504854369\n",
            "La sensibilidad (Recall) del modelo es: 0.3526448362720403\n",
            "La exactitud (accuracy) del modelo es: 0.7842351369405478\n",
            "El F1-score del modelo es: 0.46434494195688225\n"
          ]
        }
      ]
    },
    {
      "cell_type": "markdown",
      "source": [
        "###Curva ROC"
      ],
      "metadata": {
        "id": "3m5LeNQwyoIg"
      }
    },
    {
      "cell_type": "code",
      "source": [
        "RocCurveDisplay.from_predictions(y_val,y_previsto,name='Random');"
      ],
      "metadata": {
        "colab": {
          "base_uri": "https://localhost:8080/",
          "height": 505
        },
        "id": "QB7qg-23yr-s",
        "outputId": "2e670060-9852-469d-d01d-f51f6e8b137a"
      },
      "execution_count": 687,
      "outputs": [
        {
          "output_type": "display_data",
          "data": {
            "text/plain": [
              "<Figure size 800x550 with 1 Axes>"
            ],
            "image/png": "[encoded data removed]"
          },
          "metadata": {}
        }
      ]
    },
    {
      "cell_type": "code",
      "source": [
        "from sklearn.metrics import roc_auc_score\n",
        "print(f'El área bajo la curva ROC es: {roc_auc_score(y_val,y_previsto)}')"
      ],
      "metadata": {
        "colab": {
          "base_uri": "https://localhost:8080/"
        },
        "id": "GdyCEa2OytJ4",
        "outputId": "6d7e83a4-2f39-43f0-c47d-55bea94502e5"
      },
      "execution_count": 688,
      "outputs": [
        {
          "output_type": "stream",
          "name": "stdout",
          "text": [
            "El área bajo la curva ROC es: 0.6463224181360201\n"
          ]
        }
      ]
    },
    {
      "cell_type": "markdown",
      "source": [
        "###Curva de precisión x sensibilidad"
      ],
      "metadata": {
        "id": "oEr2YeiOzFAn"
      }
    },
    {
      "cell_type": "code",
      "source": [
        "PrecisionRecallDisplay.from_predictions(y_val,y_previsto, name='Árbol de Decisión');"
      ],
      "metadata": {
        "colab": {
          "base_uri": "https://localhost:8080/",
          "height": 505
        },
        "id": "kxOFRqaDzFY1",
        "outputId": "ec009a51-8ab6-46a3-cc58-ce46b4950ce1"
      },
      "execution_count": 689,
      "outputs": [
        {
          "output_type": "display_data",
          "data": {
            "text/plain": [
              "<Figure size 800x550 with 1 Axes>"
            ],
            "image/png": "[encoded data removed]"
          },
          "metadata": {}
        }
      ]
    },
    {
      "cell_type": "code",
      "source": [
        "from sklearn.metrics import average_precision_score"
      ],
      "metadata": {
        "id": "wPZ-v0gDzFbY"
      },
      "execution_count": 690,
      "outputs": []
    },
    {
      "cell_type": "code",
      "source": [
        "print(f'El score promedio de precision vs recall es: {average_precision_score(y_val,y_previsto)}')"
      ],
      "metadata": {
        "colab": {
          "base_uri": "https://localhost:8080/"
        },
        "id": "90AiMuWMzWz8",
        "outputId": "b9565a17-2a7a-4d0f-97d2-3f8c71b541ef"
      },
      "execution_count": 691,
      "outputs": [
        {
          "output_type": "stream",
          "name": "stdout",
          "text": [
            "El score promedio de precision vs recall es: 0.41133822592075486\n"
          ]
        }
      ]
    },
    {
      "cell_type": "markdown",
      "source": [
        "###Informe de métricas"
      ],
      "metadata": {
        "id": "RcAr0QyLz4Vy"
      }
    },
    {
      "cell_type": "code",
      "source": [
        "print(classification_report(y_val,y_previsto))"
      ],
      "metadata": {
        "colab": {
          "base_uri": "https://localhost:8080/"
        },
        "id": "-f7PCb9fz4pW",
        "outputId": "22398adf-3d1f-417b-c315-2ed3f920bd46"
      },
      "execution_count": 692,
      "outputs": [
        {
          "output_type": "stream",
          "name": "stdout",
          "text": [
            "              precision    recall  f1-score   support\n",
            "\n",
            "           0       0.80      0.94      0.86      1100\n",
            "           1       0.68      0.35      0.46       397\n",
            "\n",
            "    accuracy                           0.78      1497\n",
            "   macro avg       0.74      0.65      0.66      1497\n",
            "weighted avg       0.77      0.78      0.76      1497\n",
            "\n"
          ]
        }
      ]
    },
    {
      "cell_type": "markdown",
      "source": [
        "###Validación cruzada"
      ],
      "metadata": {
        "id": "4fnlW7qx5jdG"
      }
    },
    {
      "cell_type": "code",
      "source": [
        "modelo = RandomForestClassifier(max_depth=10)\n",
        "kf = KFold(n_splits=5, shuffle=True,random_state=42)\n",
        "cv_resultados =cross_validate(modelo,X,y,cv=kf)\n",
        "cv_resultados"
      ],
      "metadata": {
        "id": "gif-OdxNz4r-",
        "colab": {
          "base_uri": "https://localhost:8080/"
        },
        "outputId": "7f334e3f-6d1d-4802-922a-bf75bf0e882c"
      },
      "execution_count": 693,
      "outputs": [
        {
          "output_type": "execute_result",
          "data": {
            "text/plain": [
              "{'fit_time': array([0.49598861, 0.49531889, 0.50389385, 0.51441145, 0.50930309]),\n",
              " 'score_time': array([0.01995897, 0.02142072, 0.01996374, 0.02275157, 0.03208661]),\n",
              " 'test_score': array([0.80300501, 0.80701754, 0.81537176, 0.8053467 , 0.78780284])}"
            ]
          },
          "metadata": {},
          "execution_count": 693
        }
      ]
    },
    {
      "cell_type": "code",
      "source": [
        "cv_resultados['test_score']"
      ],
      "metadata": {
        "colab": {
          "base_uri": "https://localhost:8080/"
        },
        "id": "WL_qZmejHdZV",
        "outputId": "edfeea05-d507-4f16-deca-a9c06771bc08"
      },
      "execution_count": 694,
      "outputs": [
        {
          "output_type": "execute_result",
          "data": {
            "text/plain": [
              "array([0.80300501, 0.80701754, 0.81537176, 0.8053467 , 0.78780284])"
            ]
          },
          "metadata": {},
          "execution_count": 694
        }
      ]
    },
    {
      "cell_type": "code",
      "source": [
        "promedio = cv_resultados['test_score'].mean()\n",
        "desvio_std = cv_resultados['test_score'].std()\n",
        "print(f'El promedio de la exactitud es de: {promedio}')\n",
        "print(f'El desvío típico es de: {desvio_std}')\n",
        "print(f'El intervalo de confianza es: [{promedio-2*desvio_std},{min(promedio+2*desvio_std,1)}]')"
      ],
      "metadata": {
        "colab": {
          "base_uri": "https://localhost:8080/"
        },
        "id": "2r_S2m8CHdb2",
        "outputId": "9b4eb286-ec0c-425d-e062-f454dd61ed8d"
      },
      "execution_count": 695,
      "outputs": [
        {
          "output_type": "stream",
          "name": "stdout",
          "text": [
            "El promedio de la exactitud es de: 0.8037087710930079\n",
            "El desvío típico es de: 0.008979421750642314\n",
            "El intervalo de confianza es: [0.7857499275917232,0.8216676145942925]\n"
          ]
        }
      ]
    },
    {
      "cell_type": "markdown",
      "source": [
        "####Validación cruzada con sensibilidad"
      ],
      "metadata": {
        "id": "lN_sS1chHkPk"
      }
    },
    {
      "cell_type": "code",
      "source": [
        "def intervalo_confianza(resultados):\n",
        "  promedio = resultados['test_score'].mean()\n",
        "  desvio_std = resultados['test_score'].std()\n",
        "  return f'El intervalo de confianza es: [{promedio-2*desvio_std},{min(promedio+2*desvio_std,1)}]'\n",
        "\n",
        "modelo = RandomForestClassifier(max_depth=10)\n",
        "kf = KFold(n_splits=5, shuffle=True,random_state=42)\n",
        "cv_resultados =cross_validate(modelo,X,y,cv=kf,scoring='recall')\n",
        "cv_resultados"
      ],
      "metadata": {
        "colab": {
          "base_uri": "https://localhost:8080/"
        },
        "id": "3B7T5rKTHdei",
        "outputId": "c842bf93-a6f9-4819-ab68-acb72bf5c48d"
      },
      "execution_count": 696,
      "outputs": [
        {
          "output_type": "execute_result",
          "data": {
            "text/plain": [
              "{'fit_time': array([0.75473356, 0.74614549, 0.79785347, 0.55048299, 0.49057603]),\n",
              " 'score_time': array([0.0291431 , 0.0407331 , 0.03227806, 0.02192998, 0.0223937 ]),\n",
              " 'test_score': array([0.54574132, 0.5045045 , 0.49839228, 0.54166667, 0.53797468])}"
            ]
          },
          "metadata": {},
          "execution_count": 696
        }
      ]
    },
    {
      "cell_type": "code",
      "source": [
        "intervalo_confianza(cv_resultados)"
      ],
      "metadata": {
        "colab": {
          "base_uri": "https://localhost:8080/",
          "height": 35
        },
        "id": "BftYiTDFHo4U",
        "outputId": "fbaa1974-cb12-42f0-a325-ff99de8e549b"
      },
      "execution_count": 697,
      "outputs": [
        {
          "output_type": "execute_result",
          "data": {
            "text/plain": [
              "'El intervalo de confianza es: [0.4856338214367505,0.5656779636011734]'"
            ],
            "application/vnd.google.colaboratory.intrinsic+json": {
              "type": "string"
            }
          },
          "metadata": {},
          "execution_count": 697
        }
      ]
    },
    {
      "cell_type": "markdown",
      "source": [
        "####Estratificando los datos"
      ],
      "metadata": {
        "id": "9gpQzEp3H4Mv"
      }
    },
    {
      "cell_type": "code",
      "source": [
        "datos['abandono'].value_counts(normalize=True)"
      ],
      "metadata": {
        "colab": {
          "base_uri": "https://localhost:8080/",
          "height": 178
        },
        "id": "Khw4Bi2CIADq",
        "outputId": "47e39af6-a06e-4437-c0fa-356b52f3db98"
      },
      "execution_count": 698,
      "outputs": [
        {
          "output_type": "execute_result",
          "data": {
            "text/plain": [
              "abandono\n",
              "0    0.73463\n",
              "1    0.26537\n",
              "Name: proportion, dtype: float64"
            ],
            "text/html": [
              "<div>\n",
              "<style scoped>\n",
              "    .dataframe tbody tr th:only-of-type {\n",
              "        vertical-align: middle;\n",
              "    }\n",
              "\n",
              "    .dataframe tbody tr th {\n",
              "        vertical-align: top;\n",
              "    }\n",
              "\n",
              "    .dataframe thead th {\n",
              "        text-align: right;\n",
              "    }\n",
              "</style>\n",
              "<table border=\"1\" class=\"dataframe\">\n",
              "  <thead>\n",
              "    <tr style=\"text-align: right;\">\n",
              "      <th></th>\n",
              "      <th>proportion</th>\n",
              "    </tr>\n",
              "    <tr>\n",
              "      <th>abandono</th>\n",
              "      <th></th>\n",
              "    </tr>\n",
              "  </thead>\n",
              "  <tbody>\n",
              "    <tr>\n",
              "      <th>0</th>\n",
              "      <td>0.73463</td>\n",
              "    </tr>\n",
              "    <tr>\n",
              "      <th>1</th>\n",
              "      <td>0.26537</td>\n",
              "    </tr>\n",
              "  </tbody>\n",
              "</table>\n",
              "</div><br><label><b>dtype:</b> float64</label>"
            ]
          },
          "metadata": {},
          "execution_count": 698
        }
      ]
    },
    {
      "cell_type": "code",
      "source": [
        "modelo = RandomForestClassifier(max_depth=10)\n",
        "skf = StratifiedKFold(n_splits=5, shuffle=True,random_state=42)\n",
        "cv_resultados =cross_validate(modelo,X,y,cv=skf,scoring='recall')\n",
        "\n",
        "intervalo_confianza(cv_resultados)\n",
        ""
      ],
      "metadata": {
        "colab": {
          "base_uri": "https://localhost:8080/",
          "height": 35
        },
        "id": "4h9tyU_0IAGI",
        "outputId": "2fe2b4bb-8b0c-486f-9f05-30345cd8b26e"
      },
      "execution_count": 699,
      "outputs": [
        {
          "output_type": "execute_result",
          "data": {
            "text/plain": [
              "'El intervalo de confianza es: [0.4570658893312518,0.5926890855710356]'"
            ],
            "application/vnd.google.colaboratory.intrinsic+json": {
              "type": "string"
            }
          },
          "metadata": {},
          "execution_count": 699
        }
      ]
    },
    {
      "cell_type": "markdown",
      "source": [
        "###Balanceo de los datos"
      ],
      "metadata": {
        "id": "Cd7svQvPIOmc"
      }
    },
    {
      "cell_type": "markdown",
      "source": [
        "####Oversampling"
      ],
      "metadata": {
        "id": "CeZktfwhKnkr"
      }
    },
    {
      "cell_type": "code",
      "source": [
        "oversampling = SMOTE()\n",
        "x_balanceada,y_balanceada = oversampling.fit_resample(X,y)\n",
        "y_balanceada = pd.Series(y_balanceada)\n",
        "y_balanceada.value_counts(normalize=True)"
      ],
      "metadata": {
        "id": "bAKN3UL6aYtl",
        "colab": {
          "base_uri": "https://localhost:8080/",
          "height": 147
        },
        "outputId": "a2292836-c485-4295-f078-0053ce8d2169"
      },
      "execution_count": 700,
      "outputs": [
        {
          "output_type": "execute_result",
          "data": {
            "text/plain": [
              "0    0.5\n",
              "1    0.5\n",
              "Name: proportion, dtype: float64"
            ],
            "text/html": [
              "<div>\n",
              "<style scoped>\n",
              "    .dataframe tbody tr th:only-of-type {\n",
              "        vertical-align: middle;\n",
              "    }\n",
              "\n",
              "    .dataframe tbody tr th {\n",
              "        vertical-align: top;\n",
              "    }\n",
              "\n",
              "    .dataframe thead th {\n",
              "        text-align: right;\n",
              "    }\n",
              "</style>\n",
              "<table border=\"1\" class=\"dataframe\">\n",
              "  <thead>\n",
              "    <tr style=\"text-align: right;\">\n",
              "      <th></th>\n",
              "      <th>proportion</th>\n",
              "    </tr>\n",
              "  </thead>\n",
              "  <tbody>\n",
              "    <tr>\n",
              "      <th>0</th>\n",
              "      <td>0.5</td>\n",
              "    </tr>\n",
              "    <tr>\n",
              "      <th>1</th>\n",
              "      <td>0.5</td>\n",
              "    </tr>\n",
              "  </tbody>\n",
              "</table>\n",
              "</div><br><label><b>dtype:</b> float64</label>"
            ]
          },
          "metadata": {},
          "execution_count": 700
        }
      ]
    },
    {
      "cell_type": "code",
      "source": [
        "modelo = RandomForestClassifier(max_depth=10)\n",
        "skf = StratifiedKFold(n_splits=5, shuffle=True,random_state=42)\n",
        "cv_resultados =cross_validate(modelo,x_balanceada,y_balanceada,cv=skf,scoring='recall')\n",
        "intervalo_confianza(cv_resultados)"
      ],
      "metadata": {
        "id": "Gi-idQTzaYwd",
        "colab": {
          "base_uri": "https://localhost:8080/",
          "height": 35
        },
        "outputId": "2a440e9c-f39b-483b-f7ea-cae9fb0713b7"
      },
      "execution_count": 701,
      "outputs": [
        {
          "output_type": "execute_result",
          "data": {
            "text/plain": [
              "'El intervalo de confianza es: [0.8591603207507122,0.8811215077734372]'"
            ],
            "application/vnd.google.colaboratory.intrinsic+json": {
              "type": "string"
            }
          },
          "metadata": {},
          "execution_count": 701
        }
      ]
    },
    {
      "cell_type": "markdown",
      "source": [
        "####Pipeline para validación"
      ],
      "metadata": {
        "id": "IiYtzgg0IqPZ"
      }
    },
    {
      "cell_type": "code",
      "source": [
        "modelo = RandomForestClassifier(max_depth=10)\n",
        "pipeline = imbpipeline([('oversample',SMOTE()),('arbol',modelo)])\n",
        "\n",
        "skf = StratifiedKFold(n_splits=5, shuffle=True,random_state=42)\n",
        "cv_resultados =cross_validate(pipeline,X,y,cv=skf,scoring='recall')\n",
        "\n",
        "intervalo_confianza(cv_resultados)"
      ],
      "metadata": {
        "colab": {
          "base_uri": "https://localhost:8080/",
          "height": 35
        },
        "id": "jdVD69mDIAIw",
        "outputId": "d6640607-ecb8-45fb-a769-c0243843b92e"
      },
      "execution_count": 702,
      "outputs": [
        {
          "output_type": "execute_result",
          "data": {
            "text/plain": [
              "'El intervalo de confianza es: [0.5841396386819012,0.684641981459757]'"
            ],
            "application/vnd.google.colaboratory.intrinsic+json": {
              "type": "string"
            }
          },
          "metadata": {},
          "execution_count": 702
        }
      ]
    },
    {
      "cell_type": "markdown",
      "source": [
        "####Undersampling"
      ],
      "metadata": {
        "id": "evGMiVYiI1u0"
      }
    },
    {
      "cell_type": "code",
      "source": [
        "modelo = RandomForestClassifier(max_depth=10)\n",
        "pipeline = imbpipeline([('undersample',NearMiss(version = 3)),('arbol',modelo)])\n",
        "skf = StratifiedKFold(n_splits=5, shuffle=True,random_state=42)\n",
        "cv_resultados =cross_validate(pipeline,X,y,cv=skf,scoring='recall')\n",
        "\n",
        "intervalo_confianza(cv_resultados)"
      ],
      "metadata": {
        "colab": {
          "base_uri": "https://localhost:8080/",
          "height": 35
        },
        "id": "RlXbY-QiIsw_",
        "outputId": "feb13749-ef9c-40d0-afa3-8a09eb43706e"
      },
      "execution_count": 703,
      "outputs": [
        {
          "output_type": "execute_result",
          "data": {
            "text/plain": [
              "'El intervalo de confianza es: [0.6644378025946241,0.7175870768768359]'"
            ],
            "application/vnd.google.colaboratory.intrinsic+json": {
              "type": "string"
            }
          },
          "metadata": {},
          "execution_count": 703
        }
      ]
    },
    {
      "cell_type": "code",
      "source": [
        "## Probar el modelo\n",
        "undersample = NearMiss(version = 3)\n",
        "x_balanceada, y_balanceada = undersample.fit_resample(X,y)\n",
        "\n",
        "\n",
        "modelo = RandomForestClassifier(max_depth=10)\n",
        "modelo.fit(x_balanceada,y_balanceada)\n",
        "y_previsto = modelo.predict(X_test)\n",
        "\n",
        "print(classification_report(y_test,y_previsto))\n",
        "ConfusionMatrixDisplay.from_predictions(y_test,y_previsto);\n"
      ],
      "metadata": {
        "colab": {
          "base_uri": "https://localhost:8080/",
          "height": 660
        },
        "id": "n-o7oQHsIszc",
        "outputId": "b8d72466-bfb1-4fa2-883f-2481878eccc6"
      },
      "execution_count": 704,
      "outputs": [
        {
          "output_type": "stream",
          "name": "stdout",
          "text": [
            "              precision    recall  f1-score   support\n",
            "\n",
            "           0       0.87      0.78      0.82       777\n",
            "           1       0.52      0.67      0.59       280\n",
            "\n",
            "    accuracy                           0.75      1057\n",
            "   macro avg       0.69      0.72      0.70      1057\n",
            "weighted avg       0.78      0.75      0.76      1057\n",
            "\n"
          ]
        },
        {
          "output_type": "display_data",
          "data": {
            "text/plain": [
              "<Figure size 800x550 with 2 Axes>"
            ],
            "image/png": "[encoded data removed]"
          },
          "metadata": {}
        }
      ]
    },
    {
      "cell_type": "markdown",
      "source": [
        "#Interpretación de los resultados, incluyendo la importancia de las variables."
      ],
      "metadata": {
        "id": "E39hFS-zaXVs"
      }
    },
    {
      "cell_type": "code",
      "source": [
        "from sklearn.ensemble import RandomForestClassifier\n",
        "from sklearn.metrics import classification_report, accuracy_score\n",
        "from sklearn.ensemble import RandomForestRegressor\n",
        "from sklearn.metrics import mean_squared_error, mean_absolute_error, r2_score\n",
        "from sklearn.model_selection import GridSearchCV"
      ],
      "metadata": {
        "id": "V_u_ZOhpaekB"
      },
      "execution_count": null,
      "outputs": []
    },
    {
      "cell_type": "code",
      "source": [
        "importances = random.feature_importances_\n",
        "feature_importances = pd.DataFrame({'Features':one_hot.get_feature_names_out(columnas),'Importances':(importances*100).round(2)}).sort_values('Importances',ascending=False)\n",
        "feature_importances"
      ],
      "metadata": {
        "colab": {
          "base_uri": "https://localhost:8080/",
          "height": 865
        },
        "id": "mOAfVRCvYmlK",
        "outputId": "8ec76b00-ef14-44e6-f136-c33ad25accce"
      },
      "execution_count": 705,
      "outputs": [
        {
          "output_type": "execute_result",
          "data": {
            "text/plain": [
              "                                         Features  Importances\n",
              "5            onehotencoder__tipo_contrato_Mensual        29.08\n",
              "14                      remainder__meses_contrato        15.95\n",
              "1        onehotencoder__tipo_internet_Fiber optic        11.29\n",
              "25                         remainder__cargo_total         9.60\n",
              "7   onehotencoder__metodo_pago_Cheque_electrónico         7.35\n",
              "4            onehotencoder__tipo_contrato_Anual_2         7.35\n",
              "24                       remainder__cargo_mensual         4.49\n",
              "2                 onehotencoder__tipo_internet_No         3.41\n",
              "3            onehotencoder__tipo_contrato_Anual_1         2.17\n",
              "23                      remainder__factura_online         1.69\n",
              "20                     remainder__soporte_tecnico         1.65\n",
              "0                onehotencoder__tipo_internet_DSL         1.44\n",
              "17                    remainder__seguridad_online         1.26\n",
              "11                     remainder__es_adulto_mayor         0.49\n",
              "13                  remainder__tiene_dependientes         0.46\n",
              "22                     remainder__tiene_peliculas         0.38\n",
              "12                        remainder__tiene_pareja         0.33\n",
              "18                     remainder__respaldo_online         0.25\n",
              "6               onehotencoder__metodo_pago_Cheque         0.24\n",
              "8              onehotencoder__metodo_pago_Tarjeta         0.23\n",
              "21                            remainder__tiene_tv         0.22\n",
              "9        onehotencoder__metodo_pago_Transferencia         0.21\n",
              "16                 remainder__tiene_varias_lineas         0.18\n",
              "19              remainder__proteccion_dispositivo         0.14\n",
              "15                      remainder__tiene_telefono         0.12\n",
              "10                           remainder__es_hombre         0.04"
            ],
            "text/html": [
              "\n",
              "  <div id=\"df-147ee4f1-440a-45ba-9092-c908fcdf2d5d\" class=\"colab-df-container\">\n",
              "    <div>\n",
              "<style scoped>\n",
              "    .dataframe tbody tr th:only-of-type {\n",
              "        vertical-align: middle;\n",
              "    }\n",
              "\n",
              "    .dataframe tbody tr th {\n",
              "        vertical-align: top;\n",
              "    }\n",
              "\n",
              "    .dataframe thead th {\n",
              "        text-align: right;\n",
              "    }\n",
              "</style>\n",
              "<table border=\"1\" class=\"dataframe\">\n",
              "  <thead>\n",
              "    <tr style=\"text-align: right;\">\n",
              "      <th></th>\n",
              "      <th>Features</th>\n",
              "      <th>Importances</th>\n",
              "    </tr>\n",
              "  </thead>\n",
              "  <tbody>\n",
              "    <tr>\n",
              "      <th>5</th>\n",
              "      <td>onehotencoder__tipo_contrato_Mensual</td>\n",
              "      <td>29.08</td>\n",
              "    </tr>\n",
              "    <tr>\n",
              "      <th>14</th>\n",
              "      <td>remainder__meses_contrato</td>\n",
              "      <td>15.95</td>\n",
              "    </tr>\n",
              "    <tr>\n",
              "      <th>1</th>\n",
              "      <td>onehotencoder__tipo_internet_Fiber optic</td>\n",
              "      <td>11.29</td>\n",
              "    </tr>\n",
              "    <tr>\n",
              "      <th>25</th>\n",
              "      <td>remainder__cargo_total</td>\n",
              "      <td>9.60</td>\n",
              "    </tr>\n",
              "    <tr>\n",
              "      <th>7</th>\n",
              "      <td>onehotencoder__metodo_pago_Cheque_electrónico</td>\n",
              "      <td>7.35</td>\n",
              "    </tr>\n",
              "    <tr>\n",
              "      <th>4</th>\n",
              "      <td>onehotencoder__tipo_contrato_Anual_2</td>\n",
              "      <td>7.35</td>\n",
              "    </tr>\n",
              "    <tr>\n",
              "      <th>24</th>\n",
              "      <td>remainder__cargo_mensual</td>\n",
              "      <td>4.49</td>\n",
              "    </tr>\n",
              "    <tr>\n",
              "      <th>2</th>\n",
              "      <td>onehotencoder__tipo_internet_No</td>\n",
              "      <td>3.41</td>\n",
              "    </tr>\n",
              "    <tr>\n",
              "      <th>3</th>\n",
              "      <td>onehotencoder__tipo_contrato_Anual_1</td>\n",
              "      <td>2.17</td>\n",
              "    </tr>\n",
              "    <tr>\n",
              "      <th>23</th>\n",
              "      <td>remainder__factura_online</td>\n",
              "      <td>1.69</td>\n",
              "    </tr>\n",
              "    <tr>\n",
              "      <th>20</th>\n",
              "      <td>remainder__soporte_tecnico</td>\n",
              "      <td>1.65</td>\n",
              "    </tr>\n",
              "    <tr>\n",
              "      <th>0</th>\n",
              "      <td>onehotencoder__tipo_internet_DSL</td>\n",
              "      <td>1.44</td>\n",
              "    </tr>\n",
              "    <tr>\n",
              "      <th>17</th>\n",
              "      <td>remainder__seguridad_online</td>\n",
              "      <td>1.26</td>\n",
              "    </tr>\n",
              "    <tr>\n",
              "      <th>11</th>\n",
              "      <td>remainder__es_adulto_mayor</td>\n",
              "      <td>0.49</td>\n",
              "    </tr>\n",
              "    <tr>\n",
              "      <th>13</th>\n",
              "      <td>remainder__tiene_dependientes</td>\n",
              "      <td>0.46</td>\n",
              "    </tr>\n",
              "    <tr>\n",
              "      <th>22</th>\n",
              "      <td>remainder__tiene_peliculas</td>\n",
              "      <td>0.38</td>\n",
              "    </tr>\n",
              "    <tr>\n",
              "      <th>12</th>\n",
              "      <td>remainder__tiene_pareja</td>\n",
              "      <td>0.33</td>\n",
              "    </tr>\n",
              "    <tr>\n",
              "      <th>18</th>\n",
              "      <td>remainder__respaldo_online</td>\n",
              "      <td>0.25</td>\n",
              "    </tr>\n",
              "    <tr>\n",
              "      <th>6</th>\n",
              "      <td>onehotencoder__metodo_pago_Cheque</td>\n",
              "      <td>0.24</td>\n",
              "    </tr>\n",
              "    <tr>\n",
              "      <th>8</th>\n",
              "      <td>onehotencoder__metodo_pago_Tarjeta</td>\n",
              "      <td>0.23</td>\n",
              "    </tr>\n",
              "    <tr>\n",
              "      <th>21</th>\n",
              "      <td>remainder__tiene_tv</td>\n",
              "      <td>0.22</td>\n",
              "    </tr>\n",
              "    <tr>\n",
              "      <th>9</th>\n",
              "      <td>onehotencoder__metodo_pago_Transferencia</td>\n",
              "      <td>0.21</td>\n",
              "    </tr>\n",
              "    <tr>\n",
              "      <th>16</th>\n",
              "      <td>remainder__tiene_varias_lineas</td>\n",
              "      <td>0.18</td>\n",
              "    </tr>\n",
              "    <tr>\n",
              "      <th>19</th>\n",
              "      <td>remainder__proteccion_dispositivo</td>\n",
              "      <td>0.14</td>\n",
              "    </tr>\n",
              "    <tr>\n",
              "      <th>15</th>\n",
              "      <td>remainder__tiene_telefono</td>\n",
              "      <td>0.12</td>\n",
              "    </tr>\n",
              "    <tr>\n",
              "      <th>10</th>\n",
              "      <td>remainder__es_hombre</td>\n",
              "      <td>0.04</td>\n",
              "    </tr>\n",
              "  </tbody>\n",
              "</table>\n",
              "</div>\n",
              "    <div class=\"colab-df-buttons\">\n",
              "\n",
              "  <div class=\"colab-df-container\">\n",
              "    <button class=\"colab-df-convert\" onclick=\"convertToInteractive('df-147ee4f1-440a-45ba-9092-c908fcdf2d5d')\"\n",
              "            title=\"Convert this dataframe to an interactive table.\"\n",
              "            style=\"display:none;\">\n",
              "\n",
              "  <svg xmlns=\"http://www.w3.org/2000/svg\" height=\"24px\" viewBox=\"0 -960 960 960\">\n",
              "    <path d=\"M120-120v-720h720v720H120Zm60-500h600v-160H180v160Zm220 220h160v-160H400v160Zm0 220h160v-160H400v160ZM180-400h160v-160H180v160Zm440 0h160v-160H620v160ZM180-180h160v-160H180v160Zm440 0h160v-160H620v160Z\"/>\n",
              "  </svg>\n",
              "    </button>\n",
              "\n",
              "  <style>\n",
              "    .colab-df-container {\n",
              "      display:flex;\n",
              "      gap: 12px;\n",
              "    }\n",
              "\n",
              "    .colab-df-convert {\n",
              "      background-color: #E8F0FE;\n",
              "      border: none;\n",
              "      border-radius: 50%;\n",
              "      cursor: pointer;\n",
              "      display: none;\n",
              "      fill: #1967D2;\n",
              "      height: 32px;\n",
              "      padding: 0 0 0 0;\n",
              "      width: 32px;\n",
              "    }\n",
              "\n",
              "    .colab-df-convert:hover {\n",
              "      background-color: #E2EBFA;\n",
              "      box-shadow: 0px 1px 2px rgba(60, 64, 67, 0.3), 0px 1px 3px 1px rgba(60, 64, 67, 0.15);\n",
              "      fill: #174EA6;\n",
              "    }\n",
              "\n",
              "    .colab-df-buttons div {\n",
              "      margin-bottom: 4px;\n",
              "    }\n",
              "\n",
              "    [theme=dark] .colab-df-convert {\n",
              "      background-color: #3B4455;\n",
              "      fill: #D2E3FC;\n",
              "    }\n",
              "\n",
              "    [theme=dark] .colab-df-convert:hover {\n",
              "      background-color: #434B5C;\n",
              "      box-shadow: 0px 1px 3px 1px rgba(0, 0, 0, 0.15);\n",
              "      filter: drop-shadow(0px 1px 2px rgba(0, 0, 0, 0.3));\n",
              "      fill: #FFFFFF;\n",
              "    }\n",
              "  </style>\n",
              "\n",
              "    <script>\n",
              "      const buttonEl =\n",
              "        document.querySelector('#df-147ee4f1-440a-45ba-9092-c908fcdf2d5d button.colab-df-convert');\n",
              "      buttonEl.style.display =\n",
              "        google.colab.kernel.accessAllowed ? 'block' : 'none';\n",
              "\n",
              "      async function convertToInteractive(key) {\n",
              "        const element = document.querySelector('#df-147ee4f1-440a-45ba-9092-c908fcdf2d5d');\n",
              "        const dataTable =\n",
              "          await google.colab.kernel.invokeFunction('convertToInteractive',\n",
              "                                                    [key], {});\n",
              "        if (!dataTable) return;\n",
              "\n",
              "        const docLinkHtml = 'Like what you see? Visit the ' +\n",
              "          '<a target=\"_blank\" href=https://colab.research.google.com/notebooks/data_table.ipynb>data table notebook</a>'\n",
              "          + ' to learn more about interactive tables.';\n",
              "        element.innerHTML = '';\n",
              "        dataTable['output_type'] = 'display_data';\n",
              "        await google.colab.output.renderOutput(dataTable, element);\n",
              "        const docLink = document.createElement('div');\n",
              "        docLink.innerHTML = docLinkHtml;\n",
              "        element.appendChild(docLink);\n",
              "      }\n",
              "    </script>\n",
              "  </div>\n",
              "\n",
              "\n",
              "    <div id=\"df-c1f14f08-59e5-43f7-ab88-8027117ac8bb\">\n",
              "      <button class=\"colab-df-quickchart\" onclick=\"quickchart('df-c1f14f08-59e5-43f7-ab88-8027117ac8bb')\"\n",
              "                title=\"Suggest charts\"\n",
              "                style=\"display:none;\">\n",
              "\n",
              "<svg xmlns=\"http://www.w3.org/2000/svg\" height=\"24px\"viewBox=\"0 0 24 24\"\n",
              "     width=\"24px\">\n",
              "    <g>\n",
              "        <path d=\"M19 3H5c-1.1 0-2 .9-2 2v14c0 1.1.9 2 2 2h14c1.1 0 2-.9 2-2V5c0-1.1-.9-2-2-2zM9 17H7v-7h2v7zm4 0h-2V7h2v10zm4 0h-2v-4h2v4z\"/>\n",
              "    </g>\n",
              "</svg>\n",
              "      </button>\n",
              "\n",
              "<style>\n",
              "  .colab-df-quickchart {\n",
              "      --bg-color: #E8F0FE;\n",
              "      --fill-color: #1967D2;\n",
              "      --hover-bg-color: #E2EBFA;\n",
              "      --hover-fill-color: #174EA6;\n",
              "      --disabled-fill-color: #AAA;\n",
              "      --disabled-bg-color: #DDD;\n",
              "  }\n",
              "\n",
              "  [theme=dark] .colab-df-quickchart {\n",
              "      --bg-color: #3B4455;\n",
              "      --fill-color: #D2E3FC;\n",
              "      --hover-bg-color: #434B5C;\n",
              "      --hover-fill-color: #FFFFFF;\n",
              "      --disabled-bg-color: #3B4455;\n",
              "      --disabled-fill-color: #666;\n",
              "  }\n",
              "\n",
              "  .colab-df-quickchart {\n",
              "    background-color: var(--bg-color);\n",
              "    border: none;\n",
              "    border-radius: 50%;\n",
              "    cursor: pointer;\n",
              "    display: none;\n",
              "    fill: var(--fill-color);\n",
              "    height: 32px;\n",
              "    padding: 0;\n",
              "    width: 32px;\n",
              "  }\n",
              "\n",
              "  .colab-df-quickchart:hover {\n",
              "    background-color: var(--hover-bg-color);\n",
              "    box-shadow: 0 1px 2px rgba(60, 64, 67, 0.3), 0 1px 3px 1px rgba(60, 64, 67, 0.15);\n",
              "    fill: var(--button-hover-fill-color);\n",
              "  }\n",
              "\n",
              "  .colab-df-quickchart-complete:disabled,\n",
              "  .colab-df-quickchart-complete:disabled:hover {\n",
              "    background-color: var(--disabled-bg-color);\n",
              "    fill: var(--disabled-fill-color);\n",
              "    box-shadow: none;\n",
              "  }\n",
              "\n",
              "  .colab-df-spinner {\n",
              "    border: 2px solid var(--fill-color);\n",
              "    border-color: transparent;\n",
              "    border-bottom-color: var(--fill-color);\n",
              "    animation:\n",
              "      spin 1s steps(1) infinite;\n",
              "  }\n",
              "\n",
              "  @keyframes spin {\n",
              "    0% {\n",
              "      border-color: transparent;\n",
              "      border-bottom-color: var(--fill-color);\n",
              "      border-left-color: var(--fill-color);\n",
              "    }\n",
              "    20% {\n",
              "      border-color: transparent;\n",
              "      border-left-color: var(--fill-color);\n",
              "      border-top-color: var(--fill-color);\n",
              "    }\n",
              "    30% {\n",
              "      border-color: transparent;\n",
              "      border-left-color: var(--fill-color);\n",
              "      border-top-color: var(--fill-color);\n",
              "      border-right-color: var(--fill-color);\n",
              "    }\n",
              "    40% {\n",
              "      border-color: transparent;\n",
              "      border-right-color: var(--fill-color);\n",
              "      border-top-color: var(--fill-color);\n",
              "    }\n",
              "    60% {\n",
              "      border-color: transparent;\n",
              "      border-right-color: var(--fill-color);\n",
              "    }\n",
              "    80% {\n",
              "      border-color: transparent;\n",
              "      border-right-color: var(--fill-color);\n",
              "      border-bottom-color: var(--fill-color);\n",
              "    }\n",
              "    90% {\n",
              "      border-color: transparent;\n",
              "      border-bottom-color: var(--fill-color);\n",
              "    }\n",
              "  }\n",
              "</style>\n",
              "\n",
              "      <script>\n",
              "        async function quickchart(key) {\n",
              "          const quickchartButtonEl =\n",
              "            document.querySelector('#' + key + ' button');\n",
              "          quickchartButtonEl.disabled = true;  // To prevent multiple clicks.\n",
              "          quickchartButtonEl.classList.add('colab-df-spinner');\n",
              "          try {\n",
              "            const charts = await google.colab.kernel.invokeFunction(\n",
              "                'suggestCharts', [key], {});\n",
              "          } catch (error) {\n",
              "            console.error('Error during call to suggestCharts:', error);\n",
              "          }\n",
              "          quickchartButtonEl.classList.remove('colab-df-spinner');\n",
              "          quickchartButtonEl.classList.add('colab-df-quickchart-complete');\n",
              "        }\n",
              "        (() => {\n",
              "          let quickchartButtonEl =\n",
              "            document.querySelector('#df-c1f14f08-59e5-43f7-ab88-8027117ac8bb button');\n",
              "          quickchartButtonEl.style.display =\n",
              "            google.colab.kernel.accessAllowed ? 'block' : 'none';\n",
              "        })();\n",
              "      </script>\n",
              "    </div>\n",
              "\n",
              "  <div id=\"id_b3186d71-d27a-4798-973f-761bdaf56f57\">\n",
              "    <style>\n",
              "      .colab-df-generate {\n",
              "        background-color: #E8F0FE;\n",
              "        border: none;\n",
              "        border-radius: 50%;\n",
              "        cursor: pointer;\n",
              "        display: none;\n",
              "        fill: #1967D2;\n",
              "        height: 32px;\n",
              "        padding: 0 0 0 0;\n",
              "        width: 32px;\n",
              "      }\n",
              "\n",
              "      .colab-df-generate:hover {\n",
              "        background-color: #E2EBFA;\n",
              "        box-shadow: 0px 1px 2px rgba(60, 64, 67, 0.3), 0px 1px 3px 1px rgba(60, 64, 67, 0.15);\n",
              "        fill: #174EA6;\n",
              "      }\n",
              "\n",
              "      [theme=dark] .colab-df-generate {\n",
              "        background-color: #3B4455;\n",
              "        fill: #D2E3FC;\n",
              "      }\n",
              "\n",
              "      [theme=dark] .colab-df-generate:hover {\n",
              "        background-color: #434B5C;\n",
              "        box-shadow: 0px 1px 3px 1px rgba(0, 0, 0, 0.15);\n",
              "        filter: drop-shadow(0px 1px 2px rgba(0, 0, 0, 0.3));\n",
              "        fill: #FFFFFF;\n",
              "      }\n",
              "    </style>\n",
              "    <button class=\"colab-df-generate\" onclick=\"generateWithVariable('feature_importances')\"\n",
              "            title=\"Generate code using this dataframe.\"\n",
              "            style=\"display:none;\">\n",
              "\n",
              "  <svg xmlns=\"http://www.w3.org/2000/svg\" height=\"24px\"viewBox=\"0 0 24 24\"\n",
              "       width=\"24px\">\n",
              "    <path d=\"M7,19H8.4L18.45,9,17,7.55,7,17.6ZM5,21V16.75L18.45,3.32a2,2,0,0,1,2.83,0l1.4,1.43a1.91,1.91,0,0,1,.58,1.4,1.91,1.91,0,0,1-.58,1.4L9.25,21ZM18.45,9,17,7.55Zm-12,3A5.31,5.31,0,0,0,4.9,8.1,5.31,5.31,0,0,0,1,6.5,5.31,5.31,0,0,0,4.9,4.9,5.31,5.31,0,0,0,6.5,1,5.31,5.31,0,0,0,8.1,4.9,5.31,5.31,0,0,0,12,6.5,5.46,5.46,0,0,0,6.5,12Z\"/>\n",
              "  </svg>\n",
              "    </button>\n",
              "    <script>\n",
              "      (() => {\n",
              "      const buttonEl =\n",
              "        document.querySelector('#id_b3186d71-d27a-4798-973f-761bdaf56f57 button.colab-df-generate');\n",
              "      buttonEl.style.display =\n",
              "        google.colab.kernel.accessAllowed ? 'block' : 'none';\n",
              "\n",
              "      buttonEl.onclick = () => {\n",
              "        google.colab.notebook.generateWithVariable('feature_importances');\n",
              "      }\n",
              "      })();\n",
              "    </script>\n",
              "  </div>\n",
              "\n",
              "    </div>\n",
              "  </div>\n"
            ],
            "application/vnd.google.colaboratory.intrinsic+json": {
              "type": "dataframe",
              "variable_name": "feature_importances",
              "summary": "{\n  \"name\": \"feature_importances\",\n  \"rows\": 26,\n  \"fields\": [\n    {\n      \"column\": \"Features\",\n      \"properties\": {\n        \"dtype\": \"string\",\n        \"num_unique_values\": 26,\n        \"samples\": [\n          \"onehotencoder__tipo_contrato_Anual_1\",\n          \"remainder__tiene_pareja\",\n          \"onehotencoder__tipo_contrato_Mensual\"\n        ],\n        \"semantic_type\": \"\",\n        \"description\": \"\"\n      }\n    },\n    {\n      \"column\": \"Importances\",\n      \"properties\": {\n        \"dtype\": \"number\",\n        \"std\": 6.602194040911411,\n        \"min\": 0.04,\n        \"max\": 29.08,\n        \"num_unique_values\": 25,\n        \"samples\": [\n          1.69,\n          0.25,\n          29.08\n        ],\n        \"semantic_type\": \"\",\n        \"description\": \"\"\n      }\n    }\n  ]\n}"
            }
          },
          "metadata": {},
          "execution_count": 705
        }
      ]
    },
    {
      "cell_type": "code",
      "source": [
        "resultados = pd.DataFrame(index=['Accuracy'])\n",
        "model_features = RandomForestClassifier(max_depth=5,random_state=42)\n",
        "ct_features = [i if i != 0 else 1 for i in range(0,len(feature_importances)+1,5)]\n",
        "\n",
        "X_train_df = pd.DataFrame(X_train, columns=one_hot.get_feature_names_out(columnas))\n",
        "X_test_df = pd.DataFrame(X_test, columns=one_hot.get_feature_names_out(columnas))\n",
        "\n",
        "for i in ct_features:\n",
        "  selected_features = feature_importances['Features'].values[:i]\n",
        "  X_train_sel = X_train_df[selected_features]\n",
        "  X_test_sel = X_test_df[selected_features]\n",
        "  model_features.fit(X_train_sel, y_train)\n",
        "  y_pred = model_features.predict(X_test_sel)\n",
        "  resultados[i] = [accuracy_score(y_test, y_pred)]\n",
        "\n",
        "resultados"
      ],
      "metadata": {
        "colab": {
          "base_uri": "https://localhost:8080/",
          "height": 89
        },
        "id": "5_TZNeC3ZFsy",
        "outputId": "bc49d5e8-da4a-4294-fc75-db9c61d56d8f"
      },
      "execution_count": 706,
      "outputs": [
        {
          "output_type": "execute_result",
          "data": {
            "text/plain": [
              "                1         5         10        15       20       25\n",
              "Accuracy  0.735099  0.787133  0.789026  0.793756  0.79281  0.79281"
            ],
            "text/html": [
              "\n",
              "  <div id=\"df-aa79d3de-27ec-4925-a34f-f58759d35aa8\" class=\"colab-df-container\">\n",
              "    <div>\n",
              "<style scoped>\n",
              "    .dataframe tbody tr th:only-of-type {\n",
              "        vertical-align: middle;\n",
              "    }\n",
              "\n",
              "    .dataframe tbody tr th {\n",
              "        vertical-align: top;\n",
              "    }\n",
              "\n",
              "    .dataframe thead th {\n",
              "        text-align: right;\n",
              "    }\n",
              "</style>\n",
              "<table border=\"1\" class=\"dataframe\">\n",
              "  <thead>\n",
              "    <tr style=\"text-align: right;\">\n",
              "      <th></th>\n",
              "      <th>1</th>\n",
              "      <th>5</th>\n",
              "      <th>10</th>\n",
              "      <th>15</th>\n",
              "      <th>20</th>\n",
              "      <th>25</th>\n",
              "    </tr>\n",
              "  </thead>\n",
              "  <tbody>\n",
              "    <tr>\n",
              "      <th>Accuracy</th>\n",
              "      <td>0.735099</td>\n",
              "      <td>0.787133</td>\n",
              "      <td>0.789026</td>\n",
              "      <td>0.793756</td>\n",
              "      <td>0.79281</td>\n",
              "      <td>0.79281</td>\n",
              "    </tr>\n",
              "  </tbody>\n",
              "</table>\n",
              "</div>\n",
              "    <div class=\"colab-df-buttons\">\n",
              "\n",
              "  <div class=\"colab-df-container\">\n",
              "    <button class=\"colab-df-convert\" onclick=\"convertToInteractive('df-aa79d3de-27ec-4925-a34f-f58759d35aa8')\"\n",
              "            title=\"Convert this dataframe to an interactive table.\"\n",
              "            style=\"display:none;\">\n",
              "\n",
              "  <svg xmlns=\"http://www.w3.org/2000/svg\" height=\"24px\" viewBox=\"0 -960 960 960\">\n",
              "    <path d=\"M120-120v-720h720v720H120Zm60-500h600v-160H180v160Zm220 220h160v-160H400v160Zm0 220h160v-160H400v160ZM180-400h160v-160H180v160Zm440 0h160v-160H620v160ZM180-180h160v-160H180v160Zm440 0h160v-160H620v160Z\"/>\n",
              "  </svg>\n",
              "    </button>\n",
              "\n",
              "  <style>\n",
              "    .colab-df-container {\n",
              "      display:flex;\n",
              "      gap: 12px;\n",
              "    }\n",
              "\n",
              "    .colab-df-convert {\n",
              "      background-color: #E8F0FE;\n",
              "      border: none;\n",
              "      border-radius: 50%;\n",
              "      cursor: pointer;\n",
              "      display: none;\n",
              "      fill: #1967D2;\n",
              "      height: 32px;\n",
              "      padding: 0 0 0 0;\n",
              "      width: 32px;\n",
              "    }\n",
              "\n",
              "    .colab-df-convert:hover {\n",
              "      background-color: #E2EBFA;\n",
              "      box-shadow: 0px 1px 2px rgba(60, 64, 67, 0.3), 0px 1px 3px 1px rgba(60, 64, 67, 0.15);\n",
              "      fill: #174EA6;\n",
              "    }\n",
              "\n",
              "    .colab-df-buttons div {\n",
              "      margin-bottom: 4px;\n",
              "    }\n",
              "\n",
              "    [theme=dark] .colab-df-convert {\n",
              "      background-color: #3B4455;\n",
              "      fill: #D2E3FC;\n",
              "    }\n",
              "\n",
              "    [theme=dark] .colab-df-convert:hover {\n",
              "      background-color: #434B5C;\n",
              "      box-shadow: 0px 1px 3px 1px rgba(0, 0, 0, 0.15);\n",
              "      filter: drop-shadow(0px 1px 2px rgba(0, 0, 0, 0.3));\n",
              "      fill: #FFFFFF;\n",
              "    }\n",
              "  </style>\n",
              "\n",
              "    <script>\n",
              "      const buttonEl =\n",
              "        document.querySelector('#df-aa79d3de-27ec-4925-a34f-f58759d35aa8 button.colab-df-convert');\n",
              "      buttonEl.style.display =\n",
              "        google.colab.kernel.accessAllowed ? 'block' : 'none';\n",
              "\n",
              "      async function convertToInteractive(key) {\n",
              "        const element = document.querySelector('#df-aa79d3de-27ec-4925-a34f-f58759d35aa8');\n",
              "        const dataTable =\n",
              "          await google.colab.kernel.invokeFunction('convertToInteractive',\n",
              "                                                    [key], {});\n",
              "        if (!dataTable) return;\n",
              "\n",
              "        const docLinkHtml = 'Like what you see? Visit the ' +\n",
              "          '<a target=\"_blank\" href=https://colab.research.google.com/notebooks/data_table.ipynb>data table notebook</a>'\n",
              "          + ' to learn more about interactive tables.';\n",
              "        element.innerHTML = '';\n",
              "        dataTable['output_type'] = 'display_data';\n",
              "        await google.colab.output.renderOutput(dataTable, element);\n",
              "        const docLink = document.createElement('div');\n",
              "        docLink.innerHTML = docLinkHtml;\n",
              "        element.appendChild(docLink);\n",
              "      }\n",
              "    </script>\n",
              "  </div>\n",
              "\n",
              "\n",
              "  <div id=\"id_7827e63f-b154-4b03-80f6-302adef418a2\">\n",
              "    <style>\n",
              "      .colab-df-generate {\n",
              "        background-color: #E8F0FE;\n",
              "        border: none;\n",
              "        border-radius: 50%;\n",
              "        cursor: pointer;\n",
              "        display: none;\n",
              "        fill: #1967D2;\n",
              "        height: 32px;\n",
              "        padding: 0 0 0 0;\n",
              "        width: 32px;\n",
              "      }\n",
              "\n",
              "      .colab-df-generate:hover {\n",
              "        background-color: #E2EBFA;\n",
              "        box-shadow: 0px 1px 2px rgba(60, 64, 67, 0.3), 0px 1px 3px 1px rgba(60, 64, 67, 0.15);\n",
              "        fill: #174EA6;\n",
              "      }\n",
              "\n",
              "      [theme=dark] .colab-df-generate {\n",
              "        background-color: #3B4455;\n",
              "        fill: #D2E3FC;\n",
              "      }\n",
              "\n",
              "      [theme=dark] .colab-df-generate:hover {\n",
              "        background-color: #434B5C;\n",
              "        box-shadow: 0px 1px 3px 1px rgba(0, 0, 0, 0.15);\n",
              "        filter: drop-shadow(0px 1px 2px rgba(0, 0, 0, 0.3));\n",
              "        fill: #FFFFFF;\n",
              "      }\n",
              "    </style>\n",
              "    <button class=\"colab-df-generate\" onclick=\"generateWithVariable('resultados')\"\n",
              "            title=\"Generate code using this dataframe.\"\n",
              "            style=\"display:none;\">\n",
              "\n",
              "  <svg xmlns=\"http://www.w3.org/2000/svg\" height=\"24px\"viewBox=\"0 0 24 24\"\n",
              "       width=\"24px\">\n",
              "    <path d=\"M7,19H8.4L18.45,9,17,7.55,7,17.6ZM5,21V16.75L18.45,3.32a2,2,0,0,1,2.83,0l1.4,1.43a1.91,1.91,0,0,1,.58,1.4,1.91,1.91,0,0,1-.58,1.4L9.25,21ZM18.45,9,17,7.55Zm-12,3A5.31,5.31,0,0,0,4.9,8.1,5.31,5.31,0,0,0,1,6.5,5.31,5.31,0,0,0,4.9,4.9,5.31,5.31,0,0,0,6.5,1,5.31,5.31,0,0,0,8.1,4.9,5.31,5.31,0,0,0,12,6.5,5.46,5.46,0,0,0,6.5,12Z\"/>\n",
              "  </svg>\n",
              "    </button>\n",
              "    <script>\n",
              "      (() => {\n",
              "      const buttonEl =\n",
              "        document.querySelector('#id_7827e63f-b154-4b03-80f6-302adef418a2 button.colab-df-generate');\n",
              "      buttonEl.style.display =\n",
              "        google.colab.kernel.accessAllowed ? 'block' : 'none';\n",
              "\n",
              "      buttonEl.onclick = () => {\n",
              "        google.colab.notebook.generateWithVariable('resultados');\n",
              "      }\n",
              "      })();\n",
              "    </script>\n",
              "  </div>\n",
              "\n",
              "    </div>\n",
              "  </div>\n"
            ],
            "application/vnd.google.colaboratory.intrinsic+json": {
              "type": "dataframe",
              "variable_name": "resultados",
              "summary": "{\n  \"name\": \"resultados\",\n  \"rows\": 1,\n  \"fields\": [\n    {\n      \"column\": 1,\n      \"properties\": {\n        \"dtype\": \"number\",\n        \"std\": null,\n        \"min\": 0.7350993377483444,\n        \"max\": 0.7350993377483444,\n        \"num_unique_values\": 1,\n        \"samples\": [\n          0.7350993377483444\n        ],\n        \"semantic_type\": \"\",\n        \"description\": \"\"\n      }\n    },\n    {\n      \"column\": 5,\n      \"properties\": {\n        \"dtype\": \"number\",\n        \"std\": null,\n        \"min\": 0.7871333964049196,\n        \"max\": 0.7871333964049196,\n        \"num_unique_values\": 1,\n        \"samples\": [\n          0.7871333964049196\n        ],\n        \"semantic_type\": \"\",\n        \"description\": \"\"\n      }\n    },\n    {\n      \"column\": 10,\n      \"properties\": {\n        \"dtype\": \"number\",\n        \"std\": null,\n        \"min\": 0.7890255439924314,\n        \"max\": 0.7890255439924314,\n        \"num_unique_values\": 1,\n        \"samples\": [\n          0.7890255439924314\n        ],\n        \"semantic_type\": \"\",\n        \"description\": \"\"\n      }\n    },\n    {\n      \"column\": 15,\n      \"properties\": {\n        \"dtype\": \"number\",\n        \"std\": null,\n        \"min\": 0.793755912961211,\n        \"max\": 0.793755912961211,\n        \"num_unique_values\": 1,\n        \"samples\": [\n          0.793755912961211\n        ],\n        \"semantic_type\": \"\",\n        \"description\": \"\"\n      }\n    },\n    {\n      \"column\": 20,\n      \"properties\": {\n        \"dtype\": \"number\",\n        \"std\": null,\n        \"min\": 0.7928098391674551,\n        \"max\": 0.7928098391674551,\n        \"num_unique_values\": 1,\n        \"samples\": [\n          0.7928098391674551\n        ],\n        \"semantic_type\": \"\",\n        \"description\": \"\"\n      }\n    },\n    {\n      \"column\": 25,\n      \"properties\": {\n        \"dtype\": \"number\",\n        \"std\": null,\n        \"min\": 0.7928098391674551,\n        \"max\": 0.7928098391674551,\n        \"num_unique_values\": 1,\n        \"samples\": [\n          0.7928098391674551\n        ],\n        \"semantic_type\": \"\",\n        \"description\": \"\"\n      }\n    }\n  ]\n}"
            }
          },
          "metadata": {},
          "execution_count": 706
        }
      ]
    },
    {
      "cell_type": "code",
      "source": [
        "resultados = pd.DataFrame(index=['RMSE','MAE','R2'])\n",
        "model_features = RandomForestRegressor(max_depth=5,random_state=42)\n",
        "ct_features = range(10,16)\n",
        "\n",
        "X_train_df = pd.DataFrame(X_train, columns=one_hot.get_feature_names_out(columnas))\n",
        "X_test_df = pd.DataFrame(X_test, columns=one_hot.get_feature_names_out(columnas))\n",
        "\n",
        "for i in ct_features:\n",
        "  selected_features = feature_importances['Features'].values[:i]\n",
        "  X_train_sel = X_train_df[selected_features]\n",
        "  X_test_sel = X_test_df[selected_features]\n",
        "  model_features.fit(X_train_sel, y_train)\n",
        "  y_pred = model_features.predict(X_test_sel)\n",
        "  metricas = calcular_regresion(y_test,y_pred)\n",
        "  resultados[i] = list(metricas.values())\n",
        "\n",
        "resultados"
      ],
      "metadata": {
        "colab": {
          "base_uri": "https://localhost:8080/",
          "height": 143
        },
        "id": "cS5toB0JYmnu",
        "outputId": "f27575cf-283d-4b17-89b9-472fa72ff837"
      },
      "execution_count": 707,
      "outputs": [
        {
          "output_type": "execute_result",
          "data": {
            "text/plain": [
              "          10      11      12      13      14      15\n",
              "RMSE  0.3757  0.3754  0.3754  0.3750  0.3749  0.3749\n",
              "MAE   0.2774  0.2770  0.2770  0.2768  0.2771  0.2771\n",
              "R2    0.2750  0.2763  0.2764  0.2777  0.2782  0.2783"
            ],
            "text/html": [
              "\n",
              "  <div id=\"df-7a0ed694-a6c6-43cd-9cbc-37084d116fdf\" class=\"colab-df-container\">\n",
              "    <div>\n",
              "<style scoped>\n",
              "    .dataframe tbody tr th:only-of-type {\n",
              "        vertical-align: middle;\n",
              "    }\n",
              "\n",
              "    .dataframe tbody tr th {\n",
              "        vertical-align: top;\n",
              "    }\n",
              "\n",
              "    .dataframe thead th {\n",
              "        text-align: right;\n",
              "    }\n",
              "</style>\n",
              "<table border=\"1\" class=\"dataframe\">\n",
              "  <thead>\n",
              "    <tr style=\"text-align: right;\">\n",
              "      <th></th>\n",
              "      <th>10</th>\n",
              "      <th>11</th>\n",
              "      <th>12</th>\n",
              "      <th>13</th>\n",
              "      <th>14</th>\n",
              "      <th>15</th>\n",
              "    </tr>\n",
              "  </thead>\n",
              "  <tbody>\n",
              "    <tr>\n",
              "      <th>RMSE</th>\n",
              "      <td>0.3757</td>\n",
              "      <td>0.3754</td>\n",
              "      <td>0.3754</td>\n",
              "      <td>0.3750</td>\n",
              "      <td>0.3749</td>\n",
              "      <td>0.3749</td>\n",
              "    </tr>\n",
              "    <tr>\n",
              "      <th>MAE</th>\n",
              "      <td>0.2774</td>\n",
              "      <td>0.2770</td>\n",
              "      <td>0.2770</td>\n",
              "      <td>0.2768</td>\n",
              "      <td>0.2771</td>\n",
              "      <td>0.2771</td>\n",
              "    </tr>\n",
              "    <tr>\n",
              "      <th>R2</th>\n",
              "      <td>0.2750</td>\n",
              "      <td>0.2763</td>\n",
              "      <td>0.2764</td>\n",
              "      <td>0.2777</td>\n",
              "      <td>0.2782</td>\n",
              "      <td>0.2783</td>\n",
              "    </tr>\n",
              "  </tbody>\n",
              "</table>\n",
              "</div>\n",
              "    <div class=\"colab-df-buttons\">\n",
              "\n",
              "  <div class=\"colab-df-container\">\n",
              "    <button class=\"colab-df-convert\" onclick=\"convertToInteractive('df-7a0ed694-a6c6-43cd-9cbc-37084d116fdf')\"\n",
              "            title=\"Convert this dataframe to an interactive table.\"\n",
              "            style=\"display:none;\">\n",
              "\n",
              "  <svg xmlns=\"http://www.w3.org/2000/svg\" height=\"24px\" viewBox=\"0 -960 960 960\">\n",
              "    <path d=\"M120-120v-720h720v720H120Zm60-500h600v-160H180v160Zm220 220h160v-160H400v160Zm0 220h160v-160H400v160ZM180-400h160v-160H180v160Zm440 0h160v-160H620v160ZM180-180h160v-160H180v160Zm440 0h160v-160H620v160Z\"/>\n",
              "  </svg>\n",
              "    </button>\n",
              "\n",
              "  <style>\n",
              "    .colab-df-container {\n",
              "      display:flex;\n",
              "      gap: 12px;\n",
              "    }\n",
              "\n",
              "    .colab-df-convert {\n",
              "      background-color: #E8F0FE;\n",
              "      border: none;\n",
              "      border-radius: 50%;\n",
              "      cursor: pointer;\n",
              "      display: none;\n",
              "      fill: #1967D2;\n",
              "      height: 32px;\n",
              "      padding: 0 0 0 0;\n",
              "      width: 32px;\n",
              "    }\n",
              "\n",
              "    .colab-df-convert:hover {\n",
              "      background-color: #E2EBFA;\n",
              "      box-shadow: 0px 1px 2px rgba(60, 64, 67, 0.3), 0px 1px 3px 1px rgba(60, 64, 67, 0.15);\n",
              "      fill: #174EA6;\n",
              "    }\n",
              "\n",
              "    .colab-df-buttons div {\n",
              "      margin-bottom: 4px;\n",
              "    }\n",
              "\n",
              "    [theme=dark] .colab-df-convert {\n",
              "      background-color: #3B4455;\n",
              "      fill: #D2E3FC;\n",
              "    }\n",
              "\n",
              "    [theme=dark] .colab-df-convert:hover {\n",
              "      background-color: #434B5C;\n",
              "      box-shadow: 0px 1px 3px 1px rgba(0, 0, 0, 0.15);\n",
              "      filter: drop-shadow(0px 1px 2px rgba(0, 0, 0, 0.3));\n",
              "      fill: #FFFFFF;\n",
              "    }\n",
              "  </style>\n",
              "\n",
              "    <script>\n",
              "      const buttonEl =\n",
              "        document.querySelector('#df-7a0ed694-a6c6-43cd-9cbc-37084d116fdf button.colab-df-convert');\n",
              "      buttonEl.style.display =\n",
              "        google.colab.kernel.accessAllowed ? 'block' : 'none';\n",
              "\n",
              "      async function convertToInteractive(key) {\n",
              "        const element = document.querySelector('#df-7a0ed694-a6c6-43cd-9cbc-37084d116fdf');\n",
              "        const dataTable =\n",
              "          await google.colab.kernel.invokeFunction('convertToInteractive',\n",
              "                                                    [key], {});\n",
              "        if (!dataTable) return;\n",
              "\n",
              "        const docLinkHtml = 'Like what you see? Visit the ' +\n",
              "          '<a target=\"_blank\" href=https://colab.research.google.com/notebooks/data_table.ipynb>data table notebook</a>'\n",
              "          + ' to learn more about interactive tables.';\n",
              "        element.innerHTML = '';\n",
              "        dataTable['output_type'] = 'display_data';\n",
              "        await google.colab.output.renderOutput(dataTable, element);\n",
              "        const docLink = document.createElement('div');\n",
              "        docLink.innerHTML = docLinkHtml;\n",
              "        element.appendChild(docLink);\n",
              "      }\n",
              "    </script>\n",
              "  </div>\n",
              "\n",
              "\n",
              "    <div id=\"df-fcf5d188-ed42-46dc-9672-b0af4c75685e\">\n",
              "      <button class=\"colab-df-quickchart\" onclick=\"quickchart('df-fcf5d188-ed42-46dc-9672-b0af4c75685e')\"\n",
              "                title=\"Suggest charts\"\n",
              "                style=\"display:none;\">\n",
              "\n",
              "<svg xmlns=\"http://www.w3.org/2000/svg\" height=\"24px\"viewBox=\"0 0 24 24\"\n",
              "     width=\"24px\">\n",
              "    <g>\n",
              "        <path d=\"M19 3H5c-1.1 0-2 .9-2 2v14c0 1.1.9 2 2 2h14c1.1 0 2-.9 2-2V5c0-1.1-.9-2-2-2zM9 17H7v-7h2v7zm4 0h-2V7h2v10zm4 0h-2v-4h2v4z\"/>\n",
              "    </g>\n",
              "</svg>\n",
              "      </button>\n",
              "\n",
              "<style>\n",
              "  .colab-df-quickchart {\n",
              "      --bg-color: #E8F0FE;\n",
              "      --fill-color: #1967D2;\n",
              "      --hover-bg-color: #E2EBFA;\n",
              "      --hover-fill-color: #174EA6;\n",
              "      --disabled-fill-color: #AAA;\n",
              "      --disabled-bg-color: #DDD;\n",
              "  }\n",
              "\n",
              "  [theme=dark] .colab-df-quickchart {\n",
              "      --bg-color: #3B4455;\n",
              "      --fill-color: #D2E3FC;\n",
              "      --hover-bg-color: #434B5C;\n",
              "      --hover-fill-color: #FFFFFF;\n",
              "      --disabled-bg-color: #3B4455;\n",
              "      --disabled-fill-color: #666;\n",
              "  }\n",
              "\n",
              "  .colab-df-quickchart {\n",
              "    background-color: var(--bg-color);\n",
              "    border: none;\n",
              "    border-radius: 50%;\n",
              "    cursor: pointer;\n",
              "    display: none;\n",
              "    fill: var(--fill-color);\n",
              "    height: 32px;\n",
              "    padding: 0;\n",
              "    width: 32px;\n",
              "  }\n",
              "\n",
              "  .colab-df-quickchart:hover {\n",
              "    background-color: var(--hover-bg-color);\n",
              "    box-shadow: 0 1px 2px rgba(60, 64, 67, 0.3), 0 1px 3px 1px rgba(60, 64, 67, 0.15);\n",
              "    fill: var(--button-hover-fill-color);\n",
              "  }\n",
              "\n",
              "  .colab-df-quickchart-complete:disabled,\n",
              "  .colab-df-quickchart-complete:disabled:hover {\n",
              "    background-color: var(--disabled-bg-color);\n",
              "    fill: var(--disabled-fill-color);\n",
              "    box-shadow: none;\n",
              "  }\n",
              "\n",
              "  .colab-df-spinner {\n",
              "    border: 2px solid var(--fill-color);\n",
              "    border-color: transparent;\n",
              "    border-bottom-color: var(--fill-color);\n",
              "    animation:\n",
              "      spin 1s steps(1) infinite;\n",
              "  }\n",
              "\n",
              "  @keyframes spin {\n",
              "    0% {\n",
              "      border-color: transparent;\n",
              "      border-bottom-color: var(--fill-color);\n",
              "      border-left-color: var(--fill-color);\n",
              "    }\n",
              "    20% {\n",
              "      border-color: transparent;\n",
              "      border-left-color: var(--fill-color);\n",
              "      border-top-color: var(--fill-color);\n",
              "    }\n",
              "    30% {\n",
              "      border-color: transparent;\n",
              "      border-left-color: var(--fill-color);\n",
              "      border-top-color: var(--fill-color);\n",
              "      border-right-color: var(--fill-color);\n",
              "    }\n",
              "    40% {\n",
              "      border-color: transparent;\n",
              "      border-right-color: var(--fill-color);\n",
              "      border-top-color: var(--fill-color);\n",
              "    }\n",
              "    60% {\n",
              "      border-color: transparent;\n",
              "      border-right-color: var(--fill-color);\n",
              "    }\n",
              "    80% {\n",
              "      border-color: transparent;\n",
              "      border-right-color: var(--fill-color);\n",
              "      border-bottom-color: var(--fill-color);\n",
              "    }\n",
              "    90% {\n",
              "      border-color: transparent;\n",
              "      border-bottom-color: var(--fill-color);\n",
              "    }\n",
              "  }\n",
              "</style>\n",
              "\n",
              "      <script>\n",
              "        async function quickchart(key) {\n",
              "          const quickchartButtonEl =\n",
              "            document.querySelector('#' + key + ' button');\n",
              "          quickchartButtonEl.disabled = true;  // To prevent multiple clicks.\n",
              "          quickchartButtonEl.classList.add('colab-df-spinner');\n",
              "          try {\n",
              "            const charts = await google.colab.kernel.invokeFunction(\n",
              "                'suggestCharts', [key], {});\n",
              "          } catch (error) {\n",
              "            console.error('Error during call to suggestCharts:', error);\n",
              "          }\n",
              "          quickchartButtonEl.classList.remove('colab-df-spinner');\n",
              "          quickchartButtonEl.classList.add('colab-df-quickchart-complete');\n",
              "        }\n",
              "        (() => {\n",
              "          let quickchartButtonEl =\n",
              "            document.querySelector('#df-fcf5d188-ed42-46dc-9672-b0af4c75685e button');\n",
              "          quickchartButtonEl.style.display =\n",
              "            google.colab.kernel.accessAllowed ? 'block' : 'none';\n",
              "        })();\n",
              "      </script>\n",
              "    </div>\n",
              "\n",
              "  <div id=\"id_c42ec845-d2ed-4b08-b238-cd7aa92f17a6\">\n",
              "    <style>\n",
              "      .colab-df-generate {\n",
              "        background-color: #E8F0FE;\n",
              "        border: none;\n",
              "        border-radius: 50%;\n",
              "        cursor: pointer;\n",
              "        display: none;\n",
              "        fill: #1967D2;\n",
              "        height: 32px;\n",
              "        padding: 0 0 0 0;\n",
              "        width: 32px;\n",
              "      }\n",
              "\n",
              "      .colab-df-generate:hover {\n",
              "        background-color: #E2EBFA;\n",
              "        box-shadow: 0px 1px 2px rgba(60, 64, 67, 0.3), 0px 1px 3px 1px rgba(60, 64, 67, 0.15);\n",
              "        fill: #174EA6;\n",
              "      }\n",
              "\n",
              "      [theme=dark] .colab-df-generate {\n",
              "        background-color: #3B4455;\n",
              "        fill: #D2E3FC;\n",
              "      }\n",
              "\n",
              "      [theme=dark] .colab-df-generate:hover {\n",
              "        background-color: #434B5C;\n",
              "        box-shadow: 0px 1px 3px 1px rgba(0, 0, 0, 0.15);\n",
              "        filter: drop-shadow(0px 1px 2px rgba(0, 0, 0, 0.3));\n",
              "        fill: #FFFFFF;\n",
              "      }\n",
              "    </style>\n",
              "    <button class=\"colab-df-generate\" onclick=\"generateWithVariable('resultados')\"\n",
              "            title=\"Generate code using this dataframe.\"\n",
              "            style=\"display:none;\">\n",
              "\n",
              "  <svg xmlns=\"http://www.w3.org/2000/svg\" height=\"24px\"viewBox=\"0 0 24 24\"\n",
              "       width=\"24px\">\n",
              "    <path d=\"M7,19H8.4L18.45,9,17,7.55,7,17.6ZM5,21V16.75L18.45,3.32a2,2,0,0,1,2.83,0l1.4,1.43a1.91,1.91,0,0,1,.58,1.4,1.91,1.91,0,0,1-.58,1.4L9.25,21ZM18.45,9,17,7.55Zm-12,3A5.31,5.31,0,0,0,4.9,8.1,5.31,5.31,0,0,0,1,6.5,5.31,5.31,0,0,0,4.9,4.9,5.31,5.31,0,0,0,6.5,1,5.31,5.31,0,0,0,8.1,4.9,5.31,5.31,0,0,0,12,6.5,5.46,5.46,0,0,0,6.5,12Z\"/>\n",
              "  </svg>\n",
              "    </button>\n",
              "    <script>\n",
              "      (() => {\n",
              "      const buttonEl =\n",
              "        document.querySelector('#id_c42ec845-d2ed-4b08-b238-cd7aa92f17a6 button.colab-df-generate');\n",
              "      buttonEl.style.display =\n",
              "        google.colab.kernel.accessAllowed ? 'block' : 'none';\n",
              "\n",
              "      buttonEl.onclick = () => {\n",
              "        google.colab.notebook.generateWithVariable('resultados');\n",
              "      }\n",
              "      })();\n",
              "    </script>\n",
              "  </div>\n",
              "\n",
              "    </div>\n",
              "  </div>\n"
            ],
            "application/vnd.google.colaboratory.intrinsic+json": {
              "type": "dataframe",
              "variable_name": "resultados",
              "summary": "{\n  \"name\": \"resultados\",\n  \"rows\": 3,\n  \"fields\": [\n    {\n      \"column\": 10,\n      \"properties\": {\n        \"dtype\": \"number\",\n        \"std\": 0.05745888385039629,\n        \"min\": 0.275,\n        \"max\": 0.3757,\n        \"num_unique_values\": 3,\n        \"samples\": [\n          0.3757,\n          0.2774,\n          0.275\n        ],\n        \"semantic_type\": \"\",\n        \"description\": \"\"\n      }\n    },\n    {\n      \"column\": 11,\n      \"properties\": {\n        \"dtype\": \"number\",\n        \"std\": 0.057014413382348625,\n        \"min\": 0.2763,\n        \"max\": 0.3754,\n        \"num_unique_values\": 3,\n        \"samples\": [\n          0.3754,\n          0.277,\n          0.2763\n        ],\n        \"semantic_type\": \"\",\n        \"description\": \"\"\n      }\n    },\n    {\n      \"column\": 12,\n      \"properties\": {\n        \"dtype\": \"number\",\n        \"std\": 0.056985261252362446,\n        \"min\": 0.2764,\n        \"max\": 0.3754,\n        \"num_unique_values\": 3,\n        \"samples\": [\n          0.3754,\n          0.277,\n          0.2764\n        ],\n        \"semantic_type\": \"\",\n        \"description\": \"\"\n      }\n    },\n    {\n      \"column\": 13,\n      \"properties\": {\n        \"dtype\": \"number\",\n        \"std\": 0.05643778285274266,\n        \"min\": 0.2768,\n        \"max\": 0.375,\n        \"num_unique_values\": 3,\n        \"samples\": [\n          0.375,\n          0.2768,\n          0.2777\n        ],\n        \"semantic_type\": \"\",\n        \"description\": \"\"\n      }\n    },\n    {\n      \"column\": 14,\n      \"properties\": {\n        \"dtype\": \"number\",\n        \"std\": 0.05615000742059909,\n        \"min\": 0.2771,\n        \"max\": 0.3749,\n        \"num_unique_values\": 3,\n        \"samples\": [\n          0.3749,\n          0.2771,\n          0.2782\n        ],\n        \"semantic_type\": \"\",\n        \"description\": \"\"\n      }\n    },\n    {\n      \"column\": 15,\n      \"properties\": {\n        \"dtype\": \"number\",\n        \"std\": 0.056121653575068514,\n        \"min\": 0.2771,\n        \"max\": 0.3749,\n        \"num_unique_values\": 3,\n        \"samples\": [\n          0.3749,\n          0.2771,\n          0.2783\n        ],\n        \"semantic_type\": \"\",\n        \"description\": \"\"\n      }\n    }\n  ]\n}"
            }
          },
          "metadata": {},
          "execution_count": 707
        }
      ]
    },
    {
      "cell_type": "code",
      "source": [
        "selected_features = feature_importances['Features'].values[:13]\n",
        "X_df = pd.DataFrame(X, columns=one_hot.get_feature_names_out(columnas))\n",
        "X_selected_features = X_df[selected_features]\n",
        "X_selected_features"
      ],
      "metadata": {
        "colab": {
          "base_uri": "https://localhost:8080/",
          "height": 461
        },
        "id": "bZh3hsbkYmqI",
        "outputId": "b72dbda7-0854-4732-8802-9434117094e4"
      },
      "execution_count": 708,
      "outputs": [
        {
          "output_type": "execute_result",
          "data": {
            "text/plain": [
              "      onehotencoder__tipo_contrato_Mensual  remainder__meses_contrato  \\\n",
              "0                                      0.0                        0.0   \n",
              "1                                      1.0                       30.0   \n",
              "2                                      0.0                       71.0   \n",
              "3                                      1.0                       25.0   \n",
              "4                                      1.0                       24.0   \n",
              "...                                    ...                        ...   \n",
              "5981                                   1.0                       33.0   \n",
              "5982                                   1.0                       14.0   \n",
              "5983                                   1.0                        3.0   \n",
              "5984                                   0.0                       24.0   \n",
              "5985                                   1.0                       10.0   \n",
              "\n",
              "      onehotencoder__tipo_internet_Fiber optic  remainder__cargo_total  \\\n",
              "0                                          0.0                    0.00   \n",
              "1                                          0.0                 2000.20   \n",
              "2                                          0.0                 5831.20   \n",
              "3                                          1.0                 2362.10   \n",
              "4                                          1.0                 2496.70   \n",
              "...                                        ...                     ...   \n",
              "5981                                       1.0                 3105.55   \n",
              "5982                                       1.0                 1178.40   \n",
              "5983                                       1.0                  272.20   \n",
              "5984                                       0.0                  571.75   \n",
              "5985                                       0.0                  222.65   \n",
              "\n",
              "      onehotencoder__metodo_pago_Cheque_electrónico  \\\n",
              "0                                               0.0   \n",
              "1                                               1.0   \n",
              "2                                               0.0   \n",
              "3                                               0.0   \n",
              "4                                               0.0   \n",
              "...                                             ...   \n",
              "5981                                            1.0   \n",
              "5982                                            1.0   \n",
              "5983                                            1.0   \n",
              "5984                                            0.0   \n",
              "5985                                            1.0   \n",
              "\n",
              "      onehotencoder__tipo_contrato_Anual_2  remainder__cargo_mensual  \\\n",
              "0                                      1.0                     52.55   \n",
              "1                                      0.0                     67.60   \n",
              "2                                      1.0                     82.70   \n",
              "3                                      0.0                     94.70   \n",
              "4                                      0.0                    102.95   \n",
              "...                                    ...                       ...   \n",
              "5981                                   0.0                     94.50   \n",
              "5982                                   0.0                     89.95   \n",
              "5983                                   0.0                     85.80   \n",
              "5984                                   1.0                     24.70   \n",
              "5985                                   0.0                     21.20   \n",
              "\n",
              "      onehotencoder__tipo_internet_No  onehotencoder__tipo_contrato_Anual_1  \\\n",
              "0                                 0.0                                   0.0   \n",
              "1                                 0.0                                   0.0   \n",
              "2                                 0.0                                   0.0   \n",
              "3                                 0.0                                   0.0   \n",
              "4                                 0.0                                   0.0   \n",
              "...                               ...                                   ...   \n",
              "5981                              0.0                                   0.0   \n",
              "5982                              0.0                                   0.0   \n",
              "5983                              0.0                                   0.0   \n",
              "5984                              1.0                                   0.0   \n",
              "5985                              1.0                                   0.0   \n",
              "\n",
              "      remainder__factura_online  remainder__soporte_tecnico  \\\n",
              "0                           1.0                         1.0   \n",
              "1                           0.0                         1.0   \n",
              "2                           1.0                         1.0   \n",
              "3                           1.0                         0.0   \n",
              "4                           1.0                         0.0   \n",
              "...                         ...                         ...   \n",
              "5981                        1.0                         0.0   \n",
              "5982                        1.0                         1.0   \n",
              "5983                        0.0                         1.0   \n",
              "5984                        0.0                         0.0   \n",
              "5985                        1.0                         0.0   \n",
              "\n",
              "      onehotencoder__tipo_internet_DSL  remainder__seguridad_online  \n",
              "0                                  1.0                          1.0  \n",
              "1                                  1.0                          1.0  \n",
              "2                                  1.0                          1.0  \n",
              "3                                  0.0                          0.0  \n",
              "4                                  0.0                          0.0  \n",
              "...                                ...                          ...  \n",
              "5981                               0.0                          0.0  \n",
              "5982                               0.0                          0.0  \n",
              "5983                               0.0                          0.0  \n",
              "5984                               0.0                          0.0  \n",
              "5985                               0.0                          0.0  \n",
              "\n",
              "[5986 rows x 13 columns]"
            ],
            "text/html": [
              "\n",
              "  <div id=\"df-2d02ea0c-199d-4c4b-9637-7f268259e016\" class=\"colab-df-container\">\n",
              "    <div>\n",
              "<style scoped>\n",
              "    .dataframe tbody tr th:only-of-type {\n",
              "        vertical-align: middle;\n",
              "    }\n",
              "\n",
              "    .dataframe tbody tr th {\n",
              "        vertical-align: top;\n",
              "    }\n",
              "\n",
              "    .dataframe thead th {\n",
              "        text-align: right;\n",
              "    }\n",
              "</style>\n",
              "<table border=\"1\" class=\"dataframe\">\n",
              "  <thead>\n",
              "    <tr style=\"text-align: right;\">\n",
              "      <th></th>\n",
              "      <th>onehotencoder__tipo_contrato_Mensual</th>\n",
              "      <th>remainder__meses_contrato</th>\n",
              "      <th>onehotencoder__tipo_internet_Fiber optic</th>\n",
              "      <th>remainder__cargo_total</th>\n",
              "      <th>onehotencoder__metodo_pago_Cheque_electrónico</th>\n",
              "      <th>onehotencoder__tipo_contrato_Anual_2</th>\n",
              "      <th>remainder__cargo_mensual</th>\n",
              "      <th>onehotencoder__tipo_internet_No</th>\n",
              "      <th>onehotencoder__tipo_contrato_Anual_1</th>\n",
              "      <th>remainder__factura_online</th>\n",
              "      <th>remainder__soporte_tecnico</th>\n",
              "      <th>onehotencoder__tipo_internet_DSL</th>\n",
              "      <th>remainder__seguridad_online</th>\n",
              "    </tr>\n",
              "  </thead>\n",
              "  <tbody>\n",
              "    <tr>\n",
              "      <th>0</th>\n",
              "      <td>0.0</td>\n",
              "      <td>0.0</td>\n",
              "      <td>0.0</td>\n",
              "      <td>0.00</td>\n",
              "      <td>0.0</td>\n",
              "      <td>1.0</td>\n",
              "      <td>52.55</td>\n",
              "      <td>0.0</td>\n",
              "      <td>0.0</td>\n",
              "      <td>1.0</td>\n",
              "      <td>1.0</td>\n",
              "      <td>1.0</td>\n",
              "      <td>1.0</td>\n",
              "    </tr>\n",
              "    <tr>\n",
              "      <th>1</th>\n",
              "      <td>1.0</td>\n",
              "      <td>30.0</td>\n",
              "      <td>0.0</td>\n",
              "      <td>2000.20</td>\n",
              "      <td>1.0</td>\n",
              "      <td>0.0</td>\n",
              "      <td>67.60</td>\n",
              "      <td>0.0</td>\n",
              "      <td>0.0</td>\n",
              "      <td>0.0</td>\n",
              "      <td>1.0</td>\n",
              "      <td>1.0</td>\n",
              "      <td>1.0</td>\n",
              "    </tr>\n",
              "    <tr>\n",
              "      <th>2</th>\n",
              "      <td>0.0</td>\n",
              "      <td>71.0</td>\n",
              "      <td>0.0</td>\n",
              "      <td>5831.20</td>\n",
              "      <td>0.0</td>\n",
              "      <td>1.0</td>\n",
              "      <td>82.70</td>\n",
              "      <td>0.0</td>\n",
              "      <td>0.0</td>\n",
              "      <td>1.0</td>\n",
              "      <td>1.0</td>\n",
              "      <td>1.0</td>\n",
              "      <td>1.0</td>\n",
              "    </tr>\n",
              "    <tr>\n",
              "      <th>3</th>\n",
              "      <td>1.0</td>\n",
              "      <td>25.0</td>\n",
              "      <td>1.0</td>\n",
              "      <td>2362.10</td>\n",
              "      <td>0.0</td>\n",
              "      <td>0.0</td>\n",
              "      <td>94.70</td>\n",
              "      <td>0.0</td>\n",
              "      <td>0.0</td>\n",
              "      <td>1.0</td>\n",
              "      <td>0.0</td>\n",
              "      <td>0.0</td>\n",
              "      <td>0.0</td>\n",
              "    </tr>\n",
              "    <tr>\n",
              "      <th>4</th>\n",
              "      <td>1.0</td>\n",
              "      <td>24.0</td>\n",
              "      <td>1.0</td>\n",
              "      <td>2496.70</td>\n",
              "      <td>0.0</td>\n",
              "      <td>0.0</td>\n",
              "      <td>102.95</td>\n",
              "      <td>0.0</td>\n",
              "      <td>0.0</td>\n",
              "      <td>1.0</td>\n",
              "      <td>0.0</td>\n",
              "      <td>0.0</td>\n",
              "      <td>0.0</td>\n",
              "    </tr>\n",
              "    <tr>\n",
              "      <th>...</th>\n",
              "      <td>...</td>\n",
              "      <td>...</td>\n",
              "      <td>...</td>\n",
              "      <td>...</td>\n",
              "      <td>...</td>\n",
              "      <td>...</td>\n",
              "      <td>...</td>\n",
              "      <td>...</td>\n",
              "      <td>...</td>\n",
              "      <td>...</td>\n",
              "      <td>...</td>\n",
              "      <td>...</td>\n",
              "      <td>...</td>\n",
              "    </tr>\n",
              "    <tr>\n",
              "      <th>5981</th>\n",
              "      <td>1.0</td>\n",
              "      <td>33.0</td>\n",
              "      <td>1.0</td>\n",
              "      <td>3105.55</td>\n",
              "      <td>1.0</td>\n",
              "      <td>0.0</td>\n",
              "      <td>94.50</td>\n",
              "      <td>0.0</td>\n",
              "      <td>0.0</td>\n",
              "      <td>1.0</td>\n",
              "      <td>0.0</td>\n",
              "      <td>0.0</td>\n",
              "      <td>0.0</td>\n",
              "    </tr>\n",
              "    <tr>\n",
              "      <th>5982</th>\n",
              "      <td>1.0</td>\n",
              "      <td>14.0</td>\n",
              "      <td>1.0</td>\n",
              "      <td>1178.40</td>\n",
              "      <td>1.0</td>\n",
              "      <td>0.0</td>\n",
              "      <td>89.95</td>\n",
              "      <td>0.0</td>\n",
              "      <td>0.0</td>\n",
              "      <td>1.0</td>\n",
              "      <td>1.0</td>\n",
              "      <td>0.0</td>\n",
              "      <td>0.0</td>\n",
              "    </tr>\n",
              "    <tr>\n",
              "      <th>5983</th>\n",
              "      <td>1.0</td>\n",
              "      <td>3.0</td>\n",
              "      <td>1.0</td>\n",
              "      <td>272.20</td>\n",
              "      <td>1.0</td>\n",
              "      <td>0.0</td>\n",
              "      <td>85.80</td>\n",
              "      <td>0.0</td>\n",
              "      <td>0.0</td>\n",
              "      <td>0.0</td>\n",
              "      <td>1.0</td>\n",
              "      <td>0.0</td>\n",
              "      <td>0.0</td>\n",
              "    </tr>\n",
              "    <tr>\n",
              "      <th>5984</th>\n",
              "      <td>0.0</td>\n",
              "      <td>24.0</td>\n",
              "      <td>0.0</td>\n",
              "      <td>571.75</td>\n",
              "      <td>0.0</td>\n",
              "      <td>1.0</td>\n",
              "      <td>24.70</td>\n",
              "      <td>1.0</td>\n",
              "      <td>0.0</td>\n",
              "      <td>0.0</td>\n",
              "      <td>0.0</td>\n",
              "      <td>0.0</td>\n",
              "      <td>0.0</td>\n",
              "    </tr>\n",
              "    <tr>\n",
              "      <th>5985</th>\n",
              "      <td>1.0</td>\n",
              "      <td>10.0</td>\n",
              "      <td>0.0</td>\n",
              "      <td>222.65</td>\n",
              "      <td>1.0</td>\n",
              "      <td>0.0</td>\n",
              "      <td>21.20</td>\n",
              "      <td>1.0</td>\n",
              "      <td>0.0</td>\n",
              "      <td>1.0</td>\n",
              "      <td>0.0</td>\n",
              "      <td>0.0</td>\n",
              "      <td>0.0</td>\n",
              "    </tr>\n",
              "  </tbody>\n",
              "</table>\n",
              "<p>5986 rows × 13 columns</p>\n",
              "</div>\n",
              "    <div class=\"colab-df-buttons\">\n",
              "\n",
              "  <div class=\"colab-df-container\">\n",
              "    <button class=\"colab-df-convert\" onclick=\"convertToInteractive('df-2d02ea0c-199d-4c4b-9637-7f268259e016')\"\n",
              "            title=\"Convert this dataframe to an interactive table.\"\n",
              "            style=\"display:none;\">\n",
              "\n",
              "  <svg xmlns=\"http://www.w3.org/2000/svg\" height=\"24px\" viewBox=\"0 -960 960 960\">\n",
              "    <path d=\"M120-120v-720h720v720H120Zm60-500h600v-160H180v160Zm220 220h160v-160H400v160Zm0 220h160v-160H400v160ZM180-400h160v-160H180v160Zm440 0h160v-160H620v160ZM180-180h160v-160H180v160Zm440 0h160v-160H620v160Z\"/>\n",
              "  </svg>\n",
              "    </button>\n",
              "\n",
              "  <style>\n",
              "    .colab-df-container {\n",
              "      display:flex;\n",
              "      gap: 12px;\n",
              "    }\n",
              "\n",
              "    .colab-df-convert {\n",
              "      background-color: #E8F0FE;\n",
              "      border: none;\n",
              "      border-radius: 50%;\n",
              "      cursor: pointer;\n",
              "      display: none;\n",
              "      fill: #1967D2;\n",
              "      height: 32px;\n",
              "      padding: 0 0 0 0;\n",
              "      width: 32px;\n",
              "    }\n",
              "\n",
              "    .colab-df-convert:hover {\n",
              "      background-color: #E2EBFA;\n",
              "      box-shadow: 0px 1px 2px rgba(60, 64, 67, 0.3), 0px 1px 3px 1px rgba(60, 64, 67, 0.15);\n",
              "      fill: #174EA6;\n",
              "    }\n",
              "\n",
              "    .colab-df-buttons div {\n",
              "      margin-bottom: 4px;\n",
              "    }\n",
              "\n",
              "    [theme=dark] .colab-df-convert {\n",
              "      background-color: #3B4455;\n",
              "      fill: #D2E3FC;\n",
              "    }\n",
              "\n",
              "    [theme=dark] .colab-df-convert:hover {\n",
              "      background-color: #434B5C;\n",
              "      box-shadow: 0px 1px 3px 1px rgba(0, 0, 0, 0.15);\n",
              "      filter: drop-shadow(0px 1px 2px rgba(0, 0, 0, 0.3));\n",
              "      fill: #FFFFFF;\n",
              "    }\n",
              "  </style>\n",
              "\n",
              "    <script>\n",
              "      const buttonEl =\n",
              "        document.querySelector('#df-2d02ea0c-199d-4c4b-9637-7f268259e016 button.colab-df-convert');\n",
              "      buttonEl.style.display =\n",
              "        google.colab.kernel.accessAllowed ? 'block' : 'none';\n",
              "\n",
              "      async function convertToInteractive(key) {\n",
              "        const element = document.querySelector('#df-2d02ea0c-199d-4c4b-9637-7f268259e016');\n",
              "        const dataTable =\n",
              "          await google.colab.kernel.invokeFunction('convertToInteractive',\n",
              "                                                    [key], {});\n",
              "        if (!dataTable) return;\n",
              "\n",
              "        const docLinkHtml = 'Like what you see? Visit the ' +\n",
              "          '<a target=\"_blank\" href=https://colab.research.google.com/notebooks/data_table.ipynb>data table notebook</a>'\n",
              "          + ' to learn more about interactive tables.';\n",
              "        element.innerHTML = '';\n",
              "        dataTable['output_type'] = 'display_data';\n",
              "        await google.colab.output.renderOutput(dataTable, element);\n",
              "        const docLink = document.createElement('div');\n",
              "        docLink.innerHTML = docLinkHtml;\n",
              "        element.appendChild(docLink);\n",
              "      }\n",
              "    </script>\n",
              "  </div>\n",
              "\n",
              "\n",
              "    <div id=\"df-806fcfc5-fa57-4930-8c19-9146710b472a\">\n",
              "      <button class=\"colab-df-quickchart\" onclick=\"quickchart('df-806fcfc5-fa57-4930-8c19-9146710b472a')\"\n",
              "                title=\"Suggest charts\"\n",
              "                style=\"display:none;\">\n",
              "\n",
              "<svg xmlns=\"http://www.w3.org/2000/svg\" height=\"24px\"viewBox=\"0 0 24 24\"\n",
              "     width=\"24px\">\n",
              "    <g>\n",
              "        <path d=\"M19 3H5c-1.1 0-2 .9-2 2v14c0 1.1.9 2 2 2h14c1.1 0 2-.9 2-2V5c0-1.1-.9-2-2-2zM9 17H7v-7h2v7zm4 0h-2V7h2v10zm4 0h-2v-4h2v4z\"/>\n",
              "    </g>\n",
              "</svg>\n",
              "      </button>\n",
              "\n",
              "<style>\n",
              "  .colab-df-quickchart {\n",
              "      --bg-color: #E8F0FE;\n",
              "      --fill-color: #1967D2;\n",
              "      --hover-bg-color: #E2EBFA;\n",
              "      --hover-fill-color: #174EA6;\n",
              "      --disabled-fill-color: #AAA;\n",
              "      --disabled-bg-color: #DDD;\n",
              "  }\n",
              "\n",
              "  [theme=dark] .colab-df-quickchart {\n",
              "      --bg-color: #3B4455;\n",
              "      --fill-color: #D2E3FC;\n",
              "      --hover-bg-color: #434B5C;\n",
              "      --hover-fill-color: #FFFFFF;\n",
              "      --disabled-bg-color: #3B4455;\n",
              "      --disabled-fill-color: #666;\n",
              "  }\n",
              "\n",
              "  .colab-df-quickchart {\n",
              "    background-color: var(--bg-color);\n",
              "    border: none;\n",
              "    border-radius: 50%;\n",
              "    cursor: pointer;\n",
              "    display: none;\n",
              "    fill: var(--fill-color);\n",
              "    height: 32px;\n",
              "    padding: 0;\n",
              "    width: 32px;\n",
              "  }\n",
              "\n",
              "  .colab-df-quickchart:hover {\n",
              "    background-color: var(--hover-bg-color);\n",
              "    box-shadow: 0 1px 2px rgba(60, 64, 67, 0.3), 0 1px 3px 1px rgba(60, 64, 67, 0.15);\n",
              "    fill: var(--button-hover-fill-color);\n",
              "  }\n",
              "\n",
              "  .colab-df-quickchart-complete:disabled,\n",
              "  .colab-df-quickchart-complete:disabled:hover {\n",
              "    background-color: var(--disabled-bg-color);\n",
              "    fill: var(--disabled-fill-color);\n",
              "    box-shadow: none;\n",
              "  }\n",
              "\n",
              "  .colab-df-spinner {\n",
              "    border: 2px solid var(--fill-color);\n",
              "    border-color: transparent;\n",
              "    border-bottom-color: var(--fill-color);\n",
              "    animation:\n",
              "      spin 1s steps(1) infinite;\n",
              "  }\n",
              "\n",
              "  @keyframes spin {\n",
              "    0% {\n",
              "      border-color: transparent;\n",
              "      border-bottom-color: var(--fill-color);\n",
              "      border-left-color: var(--fill-color);\n",
              "    }\n",
              "    20% {\n",
              "      border-color: transparent;\n",
              "      border-left-color: var(--fill-color);\n",
              "      border-top-color: var(--fill-color);\n",
              "    }\n",
              "    30% {\n",
              "      border-color: transparent;\n",
              "      border-left-color: var(--fill-color);\n",
              "      border-top-color: var(--fill-color);\n",
              "      border-right-color: var(--fill-color);\n",
              "    }\n",
              "    40% {\n",
              "      border-color: transparent;\n",
              "      border-right-color: var(--fill-color);\n",
              "      border-top-color: var(--fill-color);\n",
              "    }\n",
              "    60% {\n",
              "      border-color: transparent;\n",
              "      border-right-color: var(--fill-color);\n",
              "    }\n",
              "    80% {\n",
              "      border-color: transparent;\n",
              "      border-right-color: var(--fill-color);\n",
              "      border-bottom-color: var(--fill-color);\n",
              "    }\n",
              "    90% {\n",
              "      border-color: transparent;\n",
              "      border-bottom-color: var(--fill-color);\n",
              "    }\n",
              "  }\n",
              "</style>\n",
              "\n",
              "      <script>\n",
              "        async function quickchart(key) {\n",
              "          const quickchartButtonEl =\n",
              "            document.querySelector('#' + key + ' button');\n",
              "          quickchartButtonEl.disabled = true;  // To prevent multiple clicks.\n",
              "          quickchartButtonEl.classList.add('colab-df-spinner');\n",
              "          try {\n",
              "            const charts = await google.colab.kernel.invokeFunction(\n",
              "                'suggestCharts', [key], {});\n",
              "          } catch (error) {\n",
              "            console.error('Error during call to suggestCharts:', error);\n",
              "          }\n",
              "          quickchartButtonEl.classList.remove('colab-df-spinner');\n",
              "          quickchartButtonEl.classList.add('colab-df-quickchart-complete');\n",
              "        }\n",
              "        (() => {\n",
              "          let quickchartButtonEl =\n",
              "            document.querySelector('#df-806fcfc5-fa57-4930-8c19-9146710b472a button');\n",
              "          quickchartButtonEl.style.display =\n",
              "            google.colab.kernel.accessAllowed ? 'block' : 'none';\n",
              "        })();\n",
              "      </script>\n",
              "    </div>\n",
              "\n",
              "  <div id=\"id_0b42b348-bc58-41fb-87ef-47abf9252359\">\n",
              "    <style>\n",
              "      .colab-df-generate {\n",
              "        background-color: #E8F0FE;\n",
              "        border: none;\n",
              "        border-radius: 50%;\n",
              "        cursor: pointer;\n",
              "        display: none;\n",
              "        fill: #1967D2;\n",
              "        height: 32px;\n",
              "        padding: 0 0 0 0;\n",
              "        width: 32px;\n",
              "      }\n",
              "\n",
              "      .colab-df-generate:hover {\n",
              "        background-color: #E2EBFA;\n",
              "        box-shadow: 0px 1px 2px rgba(60, 64, 67, 0.3), 0px 1px 3px 1px rgba(60, 64, 67, 0.15);\n",
              "        fill: #174EA6;\n",
              "      }\n",
              "\n",
              "      [theme=dark] .colab-df-generate {\n",
              "        background-color: #3B4455;\n",
              "        fill: #D2E3FC;\n",
              "      }\n",
              "\n",
              "      [theme=dark] .colab-df-generate:hover {\n",
              "        background-color: #434B5C;\n",
              "        box-shadow: 0px 1px 3px 1px rgba(0, 0, 0, 0.15);\n",
              "        filter: drop-shadow(0px 1px 2px rgba(0, 0, 0, 0.3));\n",
              "        fill: #FFFFFF;\n",
              "      }\n",
              "    </style>\n",
              "    <button class=\"colab-df-generate\" onclick=\"generateWithVariable('X_selected_features')\"\n",
              "            title=\"Generate code using this dataframe.\"\n",
              "            style=\"display:none;\">\n",
              "\n",
              "  <svg xmlns=\"http://www.w3.org/2000/svg\" height=\"24px\"viewBox=\"0 0 24 24\"\n",
              "       width=\"24px\">\n",
              "    <path d=\"M7,19H8.4L18.45,9,17,7.55,7,17.6ZM5,21V16.75L18.45,3.32a2,2,0,0,1,2.83,0l1.4,1.43a1.91,1.91,0,0,1,.58,1.4,1.91,1.91,0,0,1-.58,1.4L9.25,21ZM18.45,9,17,7.55Zm-12,3A5.31,5.31,0,0,0,4.9,8.1,5.31,5.31,0,0,0,1,6.5,5.31,5.31,0,0,0,4.9,4.9,5.31,5.31,0,0,0,6.5,1,5.31,5.31,0,0,0,8.1,4.9,5.31,5.31,0,0,0,12,6.5,5.46,5.46,0,0,0,6.5,12Z\"/>\n",
              "  </svg>\n",
              "    </button>\n",
              "    <script>\n",
              "      (() => {\n",
              "      const buttonEl =\n",
              "        document.querySelector('#id_0b42b348-bc58-41fb-87ef-47abf9252359 button.colab-df-generate');\n",
              "      buttonEl.style.display =\n",
              "        google.colab.kernel.accessAllowed ? 'block' : 'none';\n",
              "\n",
              "      buttonEl.onclick = () => {\n",
              "        google.colab.notebook.generateWithVariable('X_selected_features');\n",
              "      }\n",
              "      })();\n",
              "    </script>\n",
              "  </div>\n",
              "\n",
              "    </div>\n",
              "  </div>\n"
            ],
            "application/vnd.google.colaboratory.intrinsic+json": {
              "type": "dataframe",
              "variable_name": "X_selected_features",
              "summary": "{\n  \"name\": \"X_selected_features\",\n  \"rows\": 5986,\n  \"fields\": [\n    {\n      \"column\": \"onehotencoder__tipo_contrato_Mensual\",\n      \"properties\": {\n        \"dtype\": \"number\",\n        \"std\": 0.4975737484364028,\n        \"min\": 0.0,\n        \"max\": 1.0,\n        \"num_unique_values\": 2,\n        \"samples\": [\n          1.0,\n          0.0\n        ],\n        \"semantic_type\": \"\",\n        \"description\": \"\"\n      }\n    },\n    {\n      \"column\": \"remainder__meses_contrato\",\n      \"properties\": {\n        \"dtype\": \"number\",\n        \"std\": 24.54671461319147,\n        \"min\": 0.0,\n        \"max\": 72.0,\n        \"num_unique_values\": 73,\n        \"samples\": [\n          24.0,\n          51.0\n        ],\n        \"semantic_type\": \"\",\n        \"description\": \"\"\n      }\n    },\n    {\n      \"column\": \"onehotencoder__tipo_internet_Fiber optic\",\n      \"properties\": {\n        \"dtype\": \"number\",\n        \"std\": 0.49645180045690473,\n        \"min\": 0.0,\n        \"max\": 1.0,\n        \"num_unique_values\": 2,\n        \"samples\": [\n          1.0,\n          0.0\n        ],\n        \"semantic_type\": \"\",\n        \"description\": \"\"\n      }\n    },\n    {\n      \"column\": \"remainder__cargo_total\",\n      \"properties\": {\n        \"dtype\": \"number\",\n        \"std\": 2268.5669656796435,\n        \"min\": 0.0,\n        \"max\": 8684.8,\n        \"num_unique_values\": 5605,\n        \"samples\": [\n          316.9,\n          235.5\n        ],\n        \"semantic_type\": \"\",\n        \"description\": \"\"\n      }\n    },\n    {\n      \"column\": \"onehotencoder__metodo_pago_Cheque_electr\\u00f3nico\",\n      \"properties\": {\n        \"dtype\": \"number\",\n        \"std\": 0.472244958479263,\n        \"min\": 0.0,\n        \"max\": 1.0,\n        \"num_unique_values\": 2,\n        \"samples\": [\n          1.0,\n          0.0\n        ],\n        \"semantic_type\": \"\",\n        \"description\": \"\"\n      }\n    },\n    {\n      \"column\": \"onehotencoder__tipo_contrato_Anual_2\",\n      \"properties\": {\n        \"dtype\": \"number\",\n        \"std\": 0.4281677210035263,\n        \"min\": 0.0,\n        \"max\": 1.0,\n        \"num_unique_values\": 2,\n        \"samples\": [\n          0.0,\n          1.0\n        ],\n        \"semantic_type\": \"\",\n        \"description\": \"\"\n      }\n    },\n    {\n      \"column\": \"remainder__cargo_mensual\",\n      \"properties\": {\n        \"dtype\": \"number\",\n        \"std\": 30.07901958629849,\n        \"min\": 18.25,\n        \"max\": 118.75,\n        \"num_unique_values\": 1522,\n        \"samples\": [\n          45.4,\n          72.8\n        ],\n        \"semantic_type\": \"\",\n        \"description\": \"\"\n      }\n    },\n    {\n      \"column\": \"onehotencoder__tipo_internet_No\",\n      \"properties\": {\n        \"dtype\": \"number\",\n        \"std\": 0.41166666987888295,\n        \"min\": 0.0,\n        \"max\": 1.0,\n        \"num_unique_values\": 2,\n        \"samples\": [\n          1.0,\n          0.0\n        ],\n        \"semantic_type\": \"\",\n        \"description\": \"\"\n      }\n    },\n    {\n      \"column\": \"onehotencoder__tipo_contrato_Anual_1\",\n      \"properties\": {\n        \"dtype\": \"number\",\n        \"std\": 0.4063801421719019,\n        \"min\": 0.0,\n        \"max\": 1.0,\n        \"num_unique_values\": 2,\n        \"samples\": [\n          1.0,\n          0.0\n        ],\n        \"semantic_type\": \"\",\n        \"description\": \"\"\n      }\n    },\n    {\n      \"column\": \"remainder__factura_online\",\n      \"properties\": {\n        \"dtype\": \"number\",\n        \"std\": 0.49082505982577784,\n        \"min\": 0.0,\n        \"max\": 1.0,\n        \"num_unique_values\": 2,\n        \"samples\": [\n          0.0,\n          1.0\n        ],\n        \"semantic_type\": \"\",\n        \"description\": \"\"\n      }\n    },\n    {\n      \"column\": \"remainder__soporte_tecnico\",\n      \"properties\": {\n        \"dtype\": \"number\",\n        \"std\": 0.4535723157547755,\n        \"min\": 0.0,\n        \"max\": 1.0,\n        \"num_unique_values\": 2,\n        \"samples\": [\n          0.0,\n          1.0\n        ],\n        \"semantic_type\": \"\",\n        \"description\": \"\"\n      }\n    },\n    {\n      \"column\": \"onehotencoder__tipo_internet_DSL\",\n      \"properties\": {\n        \"dtype\": \"number\",\n        \"std\": 0.47496075538795296,\n        \"min\": 0.0,\n        \"max\": 1.0,\n        \"num_unique_values\": 2,\n        \"samples\": [\n          0.0,\n          1.0\n        ],\n        \"semantic_type\": \"\",\n        \"description\": \"\"\n      }\n    },\n    {\n      \"column\": \"remainder__seguridad_online\",\n      \"properties\": {\n        \"dtype\": \"number\",\n        \"std\": 0.4521644499565076,\n        \"min\": 0.0,\n        \"max\": 1.0,\n        \"num_unique_values\": 2,\n        \"samples\": [\n          0.0,\n          1.0\n        ],\n        \"semantic_type\": \"\",\n        \"description\": \"\"\n      }\n    }\n  ]\n}"
            }
          },
          "metadata": {},
          "execution_count": 708
        }
      ]
    },
    {
      "cell_type": "code",
      "source": [
        "X_train,X_test,y_train,y_test = train_test_split(X_selected_features,y,random_state=42)"
      ],
      "metadata": {
        "id": "kqbCrVOlaYzI"
      },
      "execution_count": 709,
      "outputs": []
    },
    {
      "cell_type": "code",
      "source": [
        "param_grid = {\n",
        "              'max_depth':[5,10,15],\n",
        "              'min_samples_leaf':[1,2,3],\n",
        "              'min_samples_split':[2,4,6],\n",
        "              'n_estimators':[100,150,200]\n",
        "             }"
      ],
      "metadata": {
        "id": "KjpMCPP-5Ra-"
      },
      "execution_count": 710,
      "outputs": []
    },
    {
      "cell_type": "code",
      "source": [
        "cv = KFold(n_splits=5, shuffle=True, random_state=42)\n",
        "model_grid = GridSearchCV(RandomForestRegressor(random_state=42),\n",
        "                          param_grid=param_grid, scoring='r2',\n",
        "                          cv=cv)\n",
        "\n",
        "model_grid.fit(X_train,y_train)"
      ],
      "metadata": {
        "colab": {
          "base_uri": "https://localhost:8080/",
          "height": 166
        },
        "id": "_iq8dqt85Rd6",
        "outputId": "1cbd4135-3d37-4449-ccfa-dc96646bcc51"
      },
      "execution_count": 711,
      "outputs": [
        {
          "output_type": "execute_result",
          "data": {
            "text/plain": [
              "GridSearchCV(cv=KFold(n_splits=5, random_state=42, shuffle=True),\n",
              "             estimator=RandomForestRegressor(random_state=42),\n",
              "             param_grid={'max_depth': [5, 10, 15],\n",
              "                         'min_samples_leaf': [1, 2, 3],\n",
              "                         'min_samples_split': [2, 4, 6],\n",
              "                         'n_estimators': [100, 150, 200]},\n",
              "             scoring='r2')"
            ],
            "text/html": [
              "<style>#sk-container-id-2 {\n",
              "  /* Definition of color scheme common for light and dark mode */\n",
              "  --sklearn-color-text: #000;\n",
              "  --sklearn-color-text-muted: #666;\n",
              "  --sklearn-color-line: gray;\n",
              "  /* Definition of color scheme for unfitted estimators */\n",
              "  --sklearn-color-unfitted-level-0: #fff5e6;\n",
              "  --sklearn-color-unfitted-level-1: #f6e4d2;\n",
              "  --sklearn-color-unfitted-level-2: #ffe0b3;\n",
              "  --sklearn-color-unfitted-level-3: chocolate;\n",
              "  /* Definition of color scheme for fitted estimators */\n",
              "  --sklearn-color-fitted-level-0: #f0f8ff;\n",
              "  --sklearn-color-fitted-level-1: #d4ebff;\n",
              "  --sklearn-color-fitted-level-2: #b3dbfd;\n",
              "  --sklearn-color-fitted-level-3: cornflowerblue;\n",
              "\n",
              "  /* Specific color for light theme */\n",
              "  --sklearn-color-text-on-default-background: var(--sg-text-color, var(--theme-code-foreground, var(--jp-content-font-color1, black)));\n",
              "  --sklearn-color-background: var(--sg-background-color, var(--theme-background, var(--jp-layout-color0, white)));\n",
              "  --sklearn-color-border-box: var(--sg-text-color, var(--theme-code-foreground, var(--jp-content-font-color1, black)));\n",
              "  --sklearn-color-icon: #696969;\n",
              "\n",
              "  @media (prefers-color-scheme: dark) {\n",
              "    /* Redefinition of color scheme for dark theme */\n",
              "    --sklearn-color-text-on-default-background: var(--sg-text-color, var(--theme-code-foreground, var(--jp-content-font-color1, white)));\n",
              "    --sklearn-color-background: var(--sg-background-color, var(--theme-background, var(--jp-layout-color0, #111)));\n",
              "    --sklearn-color-border-box: var(--sg-text-color, var(--theme-code-foreground, var(--jp-content-font-color1, white)));\n",
              "    --sklearn-color-icon: #878787;\n",
              "  }\n",
              "}\n",
              "\n",
              "#sk-container-id-2 {\n",
              "  color: var(--sklearn-color-text);\n",
              "}\n",
              "\n",
              "#sk-container-id-2 pre {\n",
              "  padding: 0;\n",
              "}\n",
              "\n",
              "#sk-container-id-2 input.sk-hidden--visually {\n",
              "  border: 0;\n",
              "  clip: rect(1px 1px 1px 1px);\n",
              "  clip: rect(1px, 1px, 1px, 1px);\n",
              "  height: 1px;\n",
              "  margin: -1px;\n",
              "  overflow: hidden;\n",
              "  padding: 0;\n",
              "  position: absolute;\n",
              "  width: 1px;\n",
              "}\n",
              "\n",
              "#sk-container-id-2 div.sk-dashed-wrapped {\n",
              "  border: 1px dashed var(--sklearn-color-line);\n",
              "  margin: 0 0.4em 0.5em 0.4em;\n",
              "  box-sizing: border-box;\n",
              "  padding-bottom: 0.4em;\n",
              "  background-color: var(--sklearn-color-background);\n",
              "}\n",
              "\n",
              "#sk-container-id-2 div.sk-container {\n",
              "  /* jupyter's `normalize.less` sets `[hidden] { display: none; }`\n",
              "     but bootstrap.min.css set `[hidden] { display: none !important; }`\n",
              "     so we also need the `!important` here to be able to override the\n",
              "     default hidden behavior on the sphinx rendered scikit-learn.org.\n",
              "     See: https://github.com/scikit-learn/scikit-learn/issues/21755 */\n",
              "  display: inline-block !important;\n",
              "  position: relative;\n",
              "}\n",
              "\n",
              "#sk-container-id-2 div.sk-text-repr-fallback {\n",
              "  display: none;\n",
              "}\n",
              "\n",
              "div.sk-parallel-item,\n",
              "div.sk-serial,\n",
              "div.sk-item {\n",
              "  /* draw centered vertical line to link estimators */\n",
              "  background-image: linear-gradient(var(--sklearn-color-text-on-default-background), var(--sklearn-color-text-on-default-background));\n",
              "  background-size: 2px 100%;\n",
              "  background-repeat: no-repeat;\n",
              "  background-position: center center;\n",
              "}\n",
              "\n",
              "/* Parallel-specific style estimator block */\n",
              "\n",
              "#sk-container-id-2 div.sk-parallel-item::after {\n",
              "  content: \"\";\n",
              "  width: 100%;\n",
              "  border-bottom: 2px solid var(--sklearn-color-text-on-default-background);\n",
              "  flex-grow: 1;\n",
              "}\n",
              "\n",
              "#sk-container-id-2 div.sk-parallel {\n",
              "  display: flex;\n",
              "  align-items: stretch;\n",
              "  justify-content: center;\n",
              "  background-color: var(--sklearn-color-background);\n",
              "  position: relative;\n",
              "}\n",
              "\n",
              "#sk-container-id-2 div.sk-parallel-item {\n",
              "  display: flex;\n",
              "  flex-direction: column;\n",
              "}\n",
              "\n",
              "#sk-container-id-2 div.sk-parallel-item:first-child::after {\n",
              "  align-self: flex-end;\n",
              "  width: 50%;\n",
              "}\n",
              "\n",
              "#sk-container-id-2 div.sk-parallel-item:last-child::after {\n",
              "  align-self: flex-start;\n",
              "  width: 50%;\n",
              "}\n",
              "\n",
              "#sk-container-id-2 div.sk-parallel-item:only-child::after {\n",
              "  width: 0;\n",
              "}\n",
              "\n",
              "/* Serial-specific style estimator block */\n",
              "\n",
              "#sk-container-id-2 div.sk-serial {\n",
              "  display: flex;\n",
              "  flex-direction: column;\n",
              "  align-items: center;\n",
              "  background-color: var(--sklearn-color-background);\n",
              "  padding-right: 1em;\n",
              "  padding-left: 1em;\n",
              "}\n",
              "\n",
              "\n",
              "/* Toggleable style: style used for estimator/Pipeline/ColumnTransformer box that is\n",
              "clickable and can be expanded/collapsed.\n",
              "- Pipeline and ColumnTransformer use this feature and define the default style\n",
              "- Estimators will overwrite some part of the style using the `sk-estimator` class\n",
              "*/\n",
              "\n",
              "/* Pipeline and ColumnTransformer style (default) */\n",
              "\n",
              "#sk-container-id-2 div.sk-toggleable {\n",
              "  /* Default theme specific background. It is overwritten whether we have a\n",
              "  specific estimator or a Pipeline/ColumnTransformer */\n",
              "  background-color: var(--sklearn-color-background);\n",
              "}\n",
              "\n",
              "/* Toggleable label */\n",
              "#sk-container-id-2 label.sk-toggleable__label {\n",
              "  cursor: pointer;\n",
              "  display: flex;\n",
              "  width: 100%;\n",
              "  margin-bottom: 0;\n",
              "  padding: 0.5em;\n",
              "  box-sizing: border-box;\n",
              "  text-align: center;\n",
              "  align-items: start;\n",
              "  justify-content: space-between;\n",
              "  gap: 0.5em;\n",
              "}\n",
              "\n",
              "#sk-container-id-2 label.sk-toggleable__label .caption {\n",
              "  font-size: 0.6rem;\n",
              "  font-weight: lighter;\n",
              "  color: var(--sklearn-color-text-muted);\n",
              "}\n",
              "\n",
              "#sk-container-id-2 label.sk-toggleable__label-arrow:before {\n",
              "  /* Arrow on the left of the label */\n",
              "  content: \"▸\";\n",
              "  float: left;\n",
              "  margin-right: 0.25em;\n",
              "  color: var(--sklearn-color-icon);\n",
              "}\n",
              "\n",
              "#sk-container-id-2 label.sk-toggleable__label-arrow:hover:before {\n",
              "  color: var(--sklearn-color-text);\n",
              "}\n",
              "\n",
              "/* Toggleable content - dropdown */\n",
              "\n",
              "#sk-container-id-2 div.sk-toggleable__content {\n",
              "  max-height: 0;\n",
              "  max-width: 0;\n",
              "  overflow: hidden;\n",
              "  text-align: left;\n",
              "  /* unfitted */\n",
              "  background-color: var(--sklearn-color-unfitted-level-0);\n",
              "}\n",
              "\n",
              "#sk-container-id-2 div.sk-toggleable__content.fitted {\n",
              "  /* fitted */\n",
              "  background-color: var(--sklearn-color-fitted-level-0);\n",
              "}\n",
              "\n",
              "#sk-container-id-2 div.sk-toggleable__content pre {\n",
              "  margin: 0.2em;\n",
              "  border-radius: 0.25em;\n",
              "  color: var(--sklearn-color-text);\n",
              "  /* unfitted */\n",
              "  background-color: var(--sklearn-color-unfitted-level-0);\n",
              "}\n",
              "\n",
              "#sk-container-id-2 div.sk-toggleable__content.fitted pre {\n",
              "  /* unfitted */\n",
              "  background-color: var(--sklearn-color-fitted-level-0);\n",
              "}\n",
              "\n",
              "#sk-container-id-2 input.sk-toggleable__control:checked~div.sk-toggleable__content {\n",
              "  /* Expand drop-down */\n",
              "  max-height: 200px;\n",
              "  max-width: 100%;\n",
              "  overflow: auto;\n",
              "}\n",
              "\n",
              "#sk-container-id-2 input.sk-toggleable__control:checked~label.sk-toggleable__label-arrow:before {\n",
              "  content: \"▾\";\n",
              "}\n",
              "\n",
              "/* Pipeline/ColumnTransformer-specific style */\n",
              "\n",
              "#sk-container-id-2 div.sk-label input.sk-toggleable__control:checked~label.sk-toggleable__label {\n",
              "  color: var(--sklearn-color-text);\n",
              "  background-color: var(--sklearn-color-unfitted-level-2);\n",
              "}\n",
              "\n",
              "#sk-container-id-2 div.sk-label.fitted input.sk-toggleable__control:checked~label.sk-toggleable__label {\n",
              "  background-color: var(--sklearn-color-fitted-level-2);\n",
              "}\n",
              "\n",
              "/* Estimator-specific style */\n",
              "\n",
              "/* Colorize estimator box */\n",
              "#sk-container-id-2 div.sk-estimator input.sk-toggleable__control:checked~label.sk-toggleable__label {\n",
              "  /* unfitted */\n",
              "  background-color: var(--sklearn-color-unfitted-level-2);\n",
              "}\n",
              "\n",
              "#sk-container-id-2 div.sk-estimator.fitted input.sk-toggleable__control:checked~label.sk-toggleable__label {\n",
              "  /* fitted */\n",
              "  background-color: var(--sklearn-color-fitted-level-2);\n",
              "}\n",
              "\n",
              "#sk-container-id-2 div.sk-label label.sk-toggleable__label,\n",
              "#sk-container-id-2 div.sk-label label {\n",
              "  /* The background is the default theme color */\n",
              "  color: var(--sklearn-color-text-on-default-background);\n",
              "}\n",
              "\n",
              "/* On hover, darken the color of the background */\n",
              "#sk-container-id-2 div.sk-label:hover label.sk-toggleable__label {\n",
              "  color: var(--sklearn-color-text);\n",
              "  background-color: var(--sklearn-color-unfitted-level-2);\n",
              "}\n",
              "\n",
              "/* Label box, darken color on hover, fitted */\n",
              "#sk-container-id-2 div.sk-label.fitted:hover label.sk-toggleable__label.fitted {\n",
              "  color: var(--sklearn-color-text);\n",
              "  background-color: var(--sklearn-color-fitted-level-2);\n",
              "}\n",
              "\n",
              "/* Estimator label */\n",
              "\n",
              "#sk-container-id-2 div.sk-label label {\n",
              "  font-family: monospace;\n",
              "  font-weight: bold;\n",
              "  display: inline-block;\n",
              "  line-height: 1.2em;\n",
              "}\n",
              "\n",
              "#sk-container-id-2 div.sk-label-container {\n",
              "  text-align: center;\n",
              "}\n",
              "\n",
              "/* Estimator-specific */\n",
              "#sk-container-id-2 div.sk-estimator {\n",
              "  font-family: monospace;\n",
              "  border: 1px dotted var(--sklearn-color-border-box);\n",
              "  border-radius: 0.25em;\n",
              "  box-sizing: border-box;\n",
              "  margin-bottom: 0.5em;\n",
              "  /* unfitted */\n",
              "  background-color: var(--sklearn-color-unfitted-level-0);\n",
              "}\n",
              "\n",
              "#sk-container-id-2 div.sk-estimator.fitted {\n",
              "  /* fitted */\n",
              "  background-color: var(--sklearn-color-fitted-level-0);\n",
              "}\n",
              "\n",
              "/* on hover */\n",
              "#sk-container-id-2 div.sk-estimator:hover {\n",
              "  /* unfitted */\n",
              "  background-color: var(--sklearn-color-unfitted-level-2);\n",
              "}\n",
              "\n",
              "#sk-container-id-2 div.sk-estimator.fitted:hover {\n",
              "  /* fitted */\n",
              "  background-color: var(--sklearn-color-fitted-level-2);\n",
              "}\n",
              "\n",
              "/* Specification for estimator info (e.g. \"i\" and \"?\") */\n",
              "\n",
              "/* Common style for \"i\" and \"?\" */\n",
              "\n",
              ".sk-estimator-doc-link,\n",
              "a:link.sk-estimator-doc-link,\n",
              "a:visited.sk-estimator-doc-link {\n",
              "  float: right;\n",
              "  font-size: smaller;\n",
              "  line-height: 1em;\n",
              "  font-family: monospace;\n",
              "  background-color: var(--sklearn-color-background);\n",
              "  border-radius: 1em;\n",
              "  height: 1em;\n",
              "  width: 1em;\n",
              "  text-decoration: none !important;\n",
              "  margin-left: 0.5em;\n",
              "  text-align: center;\n",
              "  /* unfitted */\n",
              "  border: var(--sklearn-color-unfitted-level-1) 1pt solid;\n",
              "  color: var(--sklearn-color-unfitted-level-1);\n",
              "}\n",
              "\n",
              ".sk-estimator-doc-link.fitted,\n",
              "a:link.sk-estimator-doc-link.fitted,\n",
              "a:visited.sk-estimator-doc-link.fitted {\n",
              "  /* fitted */\n",
              "  border: var(--sklearn-color-fitted-level-1) 1pt solid;\n",
              "  color: var(--sklearn-color-fitted-level-1);\n",
              "}\n",
              "\n",
              "/* On hover */\n",
              "div.sk-estimator:hover .sk-estimator-doc-link:hover,\n",
              ".sk-estimator-doc-link:hover,\n",
              "div.sk-label-container:hover .sk-estimator-doc-link:hover,\n",
              ".sk-estimator-doc-link:hover {\n",
              "  /* unfitted */\n",
              "  background-color: var(--sklearn-color-unfitted-level-3);\n",
              "  color: var(--sklearn-color-background);\n",
              "  text-decoration: none;\n",
              "}\n",
              "\n",
              "div.sk-estimator.fitted:hover .sk-estimator-doc-link.fitted:hover,\n",
              ".sk-estimator-doc-link.fitted:hover,\n",
              "div.sk-label-container:hover .sk-estimator-doc-link.fitted:hover,\n",
              ".sk-estimator-doc-link.fitted:hover {\n",
              "  /* fitted */\n",
              "  background-color: var(--sklearn-color-fitted-level-3);\n",
              "  color: var(--sklearn-color-background);\n",
              "  text-decoration: none;\n",
              "}\n",
              "\n",
              "/* Span, style for the box shown on hovering the info icon */\n",
              ".sk-estimator-doc-link span {\n",
              "  display: none;\n",
              "  z-index: 9999;\n",
              "  position: relative;\n",
              "  font-weight: normal;\n",
              "  right: .2ex;\n",
              "  padding: .5ex;\n",
              "  margin: .5ex;\n",
              "  width: min-content;\n",
              "  min-width: 20ex;\n",
              "  max-width: 50ex;\n",
              "  color: var(--sklearn-color-text);\n",
              "  box-shadow: 2pt 2pt 4pt #999;\n",
              "  /* unfitted */\n",
              "  background: var(--sklearn-color-unfitted-level-0);\n",
              "  border: .5pt solid var(--sklearn-color-unfitted-level-3);\n",
              "}\n",
              "\n",
              ".sk-estimator-doc-link.fitted span {\n",
              "  /* fitted */\n",
              "  background: var(--sklearn-color-fitted-level-0);\n",
              "  border: var(--sklearn-color-fitted-level-3);\n",
              "}\n",
              "\n",
              ".sk-estimator-doc-link:hover span {\n",
              "  display: block;\n",
              "}\n",
              "\n",
              "/* \"?\"-specific style due to the `<a>` HTML tag */\n",
              "\n",
              "#sk-container-id-2 a.estimator_doc_link {\n",
              "  float: right;\n",
              "  font-size: 1rem;\n",
              "  line-height: 1em;\n",
              "  font-family: monospace;\n",
              "  background-color: var(--sklearn-color-background);\n",
              "  border-radius: 1rem;\n",
              "  height: 1rem;\n",
              "  width: 1rem;\n",
              "  text-decoration: none;\n",
              "  /* unfitted */\n",
              "  color: var(--sklearn-color-unfitted-level-1);\n",
              "  border: var(--sklearn-color-unfitted-level-1) 1pt solid;\n",
              "}\n",
              "\n",
              "#sk-container-id-2 a.estimator_doc_link.fitted {\n",
              "  /* fitted */\n",
              "  border: var(--sklearn-color-fitted-level-1) 1pt solid;\n",
              "  color: var(--sklearn-color-fitted-level-1);\n",
              "}\n",
              "\n",
              "/* On hover */\n",
              "#sk-container-id-2 a.estimator_doc_link:hover {\n",
              "  /* unfitted */\n",
              "  background-color: var(--sklearn-color-unfitted-level-3);\n",
              "  color: var(--sklearn-color-background);\n",
              "  text-decoration: none;\n",
              "}\n",
              "\n",
              "#sk-container-id-2 a.estimator_doc_link.fitted:hover {\n",
              "  /* fitted */\n",
              "  background-color: var(--sklearn-color-fitted-level-3);\n",
              "}\n",
              "</style><div id=\"sk-container-id-2\" class=\"sk-top-container\"><div class=\"sk-text-repr-fallback\"><pre>GridSearchCV(cv=KFold(n_splits=5, random_state=42, shuffle=True),\n",
              "             estimator=RandomForestRegressor(random_state=42),\n",
              "             param_grid={&#x27;max_depth&#x27;: [5, 10, 15],\n",
              "                         &#x27;min_samples_leaf&#x27;: [1, 2, 3],\n",
              "                         &#x27;min_samples_split&#x27;: [2, 4, 6],\n",
              "                         &#x27;n_estimators&#x27;: [100, 150, 200]},\n",
              "             scoring=&#x27;r2&#x27;)</pre><b>In a Jupyter environment, please rerun this cell to show the HTML representation or trust the notebook. <br />On GitHub, the HTML representation is unable to render, please try loading this page with nbviewer.org.</b></div><div class=\"sk-container\" hidden><div class=\"sk-item sk-dashed-wrapped\"><div class=\"sk-label-container\"><div class=\"sk-label fitted sk-toggleable\"><input class=\"sk-toggleable__control sk-hidden--visually\" id=\"sk-estimator-id-4\" type=\"checkbox\" ><label for=\"sk-estimator-id-4\" class=\"sk-toggleable__label fitted sk-toggleable__label-arrow\"><div><div>GridSearchCV</div></div><div><a class=\"sk-estimator-doc-link fitted\" rel=\"noreferrer\" target=\"_blank\" href=\"https://scikit-learn.org/1.6/modules/generated/sklearn.model_selection.GridSearchCV.html\">?<span>Documentation for GridSearchCV</span></a><span class=\"sk-estimator-doc-link fitted\">i<span>Fitted</span></span></div></label><div class=\"sk-toggleable__content fitted\"><pre>GridSearchCV(cv=KFold(n_splits=5, random_state=42, shuffle=True),\n",
              "             estimator=RandomForestRegressor(random_state=42),\n",
              "             param_grid={&#x27;max_depth&#x27;: [5, 10, 15],\n",
              "                         &#x27;min_samples_leaf&#x27;: [1, 2, 3],\n",
              "                         &#x27;min_samples_split&#x27;: [2, 4, 6],\n",
              "                         &#x27;n_estimators&#x27;: [100, 150, 200]},\n",
              "             scoring=&#x27;r2&#x27;)</pre></div> </div></div><div class=\"sk-parallel\"><div class=\"sk-parallel-item\"><div class=\"sk-item\"><div class=\"sk-label-container\"><div class=\"sk-label fitted sk-toggleable\"><input class=\"sk-toggleable__control sk-hidden--visually\" id=\"sk-estimator-id-5\" type=\"checkbox\" ><label for=\"sk-estimator-id-5\" class=\"sk-toggleable__label fitted sk-toggleable__label-arrow\"><div><div>best_estimator_: RandomForestRegressor</div></div></label><div class=\"sk-toggleable__content fitted\"><pre>RandomForestRegressor(max_depth=5, min_samples_leaf=3, n_estimators=150,\n",
              "                      random_state=42)</pre></div> </div></div><div class=\"sk-serial\"><div class=\"sk-item\"><div class=\"sk-estimator fitted sk-toggleable\"><input class=\"sk-toggleable__control sk-hidden--visually\" id=\"sk-estimator-id-6\" type=\"checkbox\" ><label for=\"sk-estimator-id-6\" class=\"sk-toggleable__label fitted sk-toggleable__label-arrow\"><div><div>RandomForestRegressor</div></div><div><a class=\"sk-estimator-doc-link fitted\" rel=\"noreferrer\" target=\"_blank\" href=\"https://scikit-learn.org/1.6/modules/generated/sklearn.ensemble.RandomForestRegressor.html\">?<span>Documentation for RandomForestRegressor</span></a></div></label><div class=\"sk-toggleable__content fitted\"><pre>RandomForestRegressor(max_depth=5, min_samples_leaf=3, n_estimators=150,\n",
              "                      random_state=42)</pre></div> </div></div></div></div></div></div></div></div></div>"
            ]
          },
          "metadata": {},
          "execution_count": 711
        }
      ]
    },
    {
      "cell_type": "code",
      "source": [
        "model_grid.best_params_"
      ],
      "metadata": {
        "colab": {
          "base_uri": "https://localhost:8080/"
        },
        "id": "Zffj8ulO5Rgr",
        "outputId": "a456fa16-3891-4c2e-9bf0-3b8b0bcd092a"
      },
      "execution_count": 712,
      "outputs": [
        {
          "output_type": "execute_result",
          "data": {
            "text/plain": [
              "{'max_depth': 5,\n",
              " 'min_samples_leaf': 3,\n",
              " 'min_samples_split': 2,\n",
              " 'n_estimators': 150}"
            ]
          },
          "metadata": {},
          "execution_count": 712
        }
      ]
    },
    {
      "cell_type": "code",
      "source": [
        "y_pred_grid = model_grid.predict(X_test)\n",
        "metricas_model_grid = calcular_regresion(y_test,y_pred_grid)\n",
        "metricas_model_grid"
      ],
      "metadata": {
        "colab": {
          "base_uri": "https://localhost:8080/"
        },
        "id": "NMlp0TiX5Yh-",
        "outputId": "11c91137-2258-4f20-cdcd-89e07957c5e3"
      },
      "execution_count": 713,
      "outputs": [
        {
          "output_type": "execute_result",
          "data": {
            "text/plain": [
              "{'RMSE': 0.3729, 'MAE': 0.2765, 'R2': 0.2865}"
            ]
          },
          "metadata": {},
          "execution_count": 713
        }
      ]
    },
    {
      "cell_type": "code",
      "source": [
        "resultados['modelo_grid'] = list(metricas_model_grid.values())\n",
        "resultados"
      ],
      "metadata": {
        "colab": {
          "base_uri": "https://localhost:8080/",
          "height": 143
        },
        "id": "BP0I1M7m5Yk1",
        "outputId": "a9fa6b75-c291-4351-ad32-3ff06d312c5a"
      },
      "execution_count": 714,
      "outputs": [
        {
          "output_type": "execute_result",
          "data": {
            "text/plain": [
              "          10      11      12      13      14      15  modelo_grid\n",
              "RMSE  0.3757  0.3754  0.3754  0.3750  0.3749  0.3749       0.3729\n",
              "MAE   0.2774  0.2770  0.2770  0.2768  0.2771  0.2771       0.2765\n",
              "R2    0.2750  0.2763  0.2764  0.2777  0.2782  0.2783       0.2865"
            ],
            "text/html": [
              "\n",
              "  <div id=\"df-27457612-932b-467c-b3ea-caca8cee2cdd\" class=\"colab-df-container\">\n",
              "    <div>\n",
              "<style scoped>\n",
              "    .dataframe tbody tr th:only-of-type {\n",
              "        vertical-align: middle;\n",
              "    }\n",
              "\n",
              "    .dataframe tbody tr th {\n",
              "        vertical-align: top;\n",
              "    }\n",
              "\n",
              "    .dataframe thead th {\n",
              "        text-align: right;\n",
              "    }\n",
              "</style>\n",
              "<table border=\"1\" class=\"dataframe\">\n",
              "  <thead>\n",
              "    <tr style=\"text-align: right;\">\n",
              "      <th></th>\n",
              "      <th>10</th>\n",
              "      <th>11</th>\n",
              "      <th>12</th>\n",
              "      <th>13</th>\n",
              "      <th>14</th>\n",
              "      <th>15</th>\n",
              "      <th>modelo_grid</th>\n",
              "    </tr>\n",
              "  </thead>\n",
              "  <tbody>\n",
              "    <tr>\n",
              "      <th>RMSE</th>\n",
              "      <td>0.3757</td>\n",
              "      <td>0.3754</td>\n",
              "      <td>0.3754</td>\n",
              "      <td>0.3750</td>\n",
              "      <td>0.3749</td>\n",
              "      <td>0.3749</td>\n",
              "      <td>0.3729</td>\n",
              "    </tr>\n",
              "    <tr>\n",
              "      <th>MAE</th>\n",
              "      <td>0.2774</td>\n",
              "      <td>0.2770</td>\n",
              "      <td>0.2770</td>\n",
              "      <td>0.2768</td>\n",
              "      <td>0.2771</td>\n",
              "      <td>0.2771</td>\n",
              "      <td>0.2765</td>\n",
              "    </tr>\n",
              "    <tr>\n",
              "      <th>R2</th>\n",
              "      <td>0.2750</td>\n",
              "      <td>0.2763</td>\n",
              "      <td>0.2764</td>\n",
              "      <td>0.2777</td>\n",
              "      <td>0.2782</td>\n",
              "      <td>0.2783</td>\n",
              "      <td>0.2865</td>\n",
              "    </tr>\n",
              "  </tbody>\n",
              "</table>\n",
              "</div>\n",
              "    <div class=\"colab-df-buttons\">\n",
              "\n",
              "  <div class=\"colab-df-container\">\n",
              "    <button class=\"colab-df-convert\" onclick=\"convertToInteractive('df-27457612-932b-467c-b3ea-caca8cee2cdd')\"\n",
              "            title=\"Convert this dataframe to an interactive table.\"\n",
              "            style=\"display:none;\">\n",
              "\n",
              "  <svg xmlns=\"http://www.w3.org/2000/svg\" height=\"24px\" viewBox=\"0 -960 960 960\">\n",
              "    <path d=\"M120-120v-720h720v720H120Zm60-500h600v-160H180v160Zm220 220h160v-160H400v160Zm0 220h160v-160H400v160ZM180-400h160v-160H180v160Zm440 0h160v-160H620v160ZM180-180h160v-160H180v160Zm440 0h160v-160H620v160Z\"/>\n",
              "  </svg>\n",
              "    </button>\n",
              "\n",
              "  <style>\n",
              "    .colab-df-container {\n",
              "      display:flex;\n",
              "      gap: 12px;\n",
              "    }\n",
              "\n",
              "    .colab-df-convert {\n",
              "      background-color: #E8F0FE;\n",
              "      border: none;\n",
              "      border-radius: 50%;\n",
              "      cursor: pointer;\n",
              "      display: none;\n",
              "      fill: #1967D2;\n",
              "      height: 32px;\n",
              "      padding: 0 0 0 0;\n",
              "      width: 32px;\n",
              "    }\n",
              "\n",
              "    .colab-df-convert:hover {\n",
              "      background-color: #E2EBFA;\n",
              "      box-shadow: 0px 1px 2px rgba(60, 64, 67, 0.3), 0px 1px 3px 1px rgba(60, 64, 67, 0.15);\n",
              "      fill: #174EA6;\n",
              "    }\n",
              "\n",
              "    .colab-df-buttons div {\n",
              "      margin-bottom: 4px;\n",
              "    }\n",
              "\n",
              "    [theme=dark] .colab-df-convert {\n",
              "      background-color: #3B4455;\n",
              "      fill: #D2E3FC;\n",
              "    }\n",
              "\n",
              "    [theme=dark] .colab-df-convert:hover {\n",
              "      background-color: #434B5C;\n",
              "      box-shadow: 0px 1px 3px 1px rgba(0, 0, 0, 0.15);\n",
              "      filter: drop-shadow(0px 1px 2px rgba(0, 0, 0, 0.3));\n",
              "      fill: #FFFFFF;\n",
              "    }\n",
              "  </style>\n",
              "\n",
              "    <script>\n",
              "      const buttonEl =\n",
              "        document.querySelector('#df-27457612-932b-467c-b3ea-caca8cee2cdd button.colab-df-convert');\n",
              "      buttonEl.style.display =\n",
              "        google.colab.kernel.accessAllowed ? 'block' : 'none';\n",
              "\n",
              "      async function convertToInteractive(key) {\n",
              "        const element = document.querySelector('#df-27457612-932b-467c-b3ea-caca8cee2cdd');\n",
              "        const dataTable =\n",
              "          await google.colab.kernel.invokeFunction('convertToInteractive',\n",
              "                                                    [key], {});\n",
              "        if (!dataTable) return;\n",
              "\n",
              "        const docLinkHtml = 'Like what you see? Visit the ' +\n",
              "          '<a target=\"_blank\" href=https://colab.research.google.com/notebooks/data_table.ipynb>data table notebook</a>'\n",
              "          + ' to learn more about interactive tables.';\n",
              "        element.innerHTML = '';\n",
              "        dataTable['output_type'] = 'display_data';\n",
              "        await google.colab.output.renderOutput(dataTable, element);\n",
              "        const docLink = document.createElement('div');\n",
              "        docLink.innerHTML = docLinkHtml;\n",
              "        element.appendChild(docLink);\n",
              "      }\n",
              "    </script>\n",
              "  </div>\n",
              "\n",
              "\n",
              "    <div id=\"df-6eb97243-296f-49bc-b003-8766a9456ea0\">\n",
              "      <button class=\"colab-df-quickchart\" onclick=\"quickchart('df-6eb97243-296f-49bc-b003-8766a9456ea0')\"\n",
              "                title=\"Suggest charts\"\n",
              "                style=\"display:none;\">\n",
              "\n",
              "<svg xmlns=\"http://www.w3.org/2000/svg\" height=\"24px\"viewBox=\"0 0 24 24\"\n",
              "     width=\"24px\">\n",
              "    <g>\n",
              "        <path d=\"M19 3H5c-1.1 0-2 .9-2 2v14c0 1.1.9 2 2 2h14c1.1 0 2-.9 2-2V5c0-1.1-.9-2-2-2zM9 17H7v-7h2v7zm4 0h-2V7h2v10zm4 0h-2v-4h2v4z\"/>\n",
              "    </g>\n",
              "</svg>\n",
              "      </button>\n",
              "\n",
              "<style>\n",
              "  .colab-df-quickchart {\n",
              "      --bg-color: #E8F0FE;\n",
              "      --fill-color: #1967D2;\n",
              "      --hover-bg-color: #E2EBFA;\n",
              "      --hover-fill-color: #174EA6;\n",
              "      --disabled-fill-color: #AAA;\n",
              "      --disabled-bg-color: #DDD;\n",
              "  }\n",
              "\n",
              "  [theme=dark] .colab-df-quickchart {\n",
              "      --bg-color: #3B4455;\n",
              "      --fill-color: #D2E3FC;\n",
              "      --hover-bg-color: #434B5C;\n",
              "      --hover-fill-color: #FFFFFF;\n",
              "      --disabled-bg-color: #3B4455;\n",
              "      --disabled-fill-color: #666;\n",
              "  }\n",
              "\n",
              "  .colab-df-quickchart {\n",
              "    background-color: var(--bg-color);\n",
              "    border: none;\n",
              "    border-radius: 50%;\n",
              "    cursor: pointer;\n",
              "    display: none;\n",
              "    fill: var(--fill-color);\n",
              "    height: 32px;\n",
              "    padding: 0;\n",
              "    width: 32px;\n",
              "  }\n",
              "\n",
              "  .colab-df-quickchart:hover {\n",
              "    background-color: var(--hover-bg-color);\n",
              "    box-shadow: 0 1px 2px rgba(60, 64, 67, 0.3), 0 1px 3px 1px rgba(60, 64, 67, 0.15);\n",
              "    fill: var(--button-hover-fill-color);\n",
              "  }\n",
              "\n",
              "  .colab-df-quickchart-complete:disabled,\n",
              "  .colab-df-quickchart-complete:disabled:hover {\n",
              "    background-color: var(--disabled-bg-color);\n",
              "    fill: var(--disabled-fill-color);\n",
              "    box-shadow: none;\n",
              "  }\n",
              "\n",
              "  .colab-df-spinner {\n",
              "    border: 2px solid var(--fill-color);\n",
              "    border-color: transparent;\n",
              "    border-bottom-color: var(--fill-color);\n",
              "    animation:\n",
              "      spin 1s steps(1) infinite;\n",
              "  }\n",
              "\n",
              "  @keyframes spin {\n",
              "    0% {\n",
              "      border-color: transparent;\n",
              "      border-bottom-color: var(--fill-color);\n",
              "      border-left-color: var(--fill-color);\n",
              "    }\n",
              "    20% {\n",
              "      border-color: transparent;\n",
              "      border-left-color: var(--fill-color);\n",
              "      border-top-color: var(--fill-color);\n",
              "    }\n",
              "    30% {\n",
              "      border-color: transparent;\n",
              "      border-left-color: var(--fill-color);\n",
              "      border-top-color: var(--fill-color);\n",
              "      border-right-color: var(--fill-color);\n",
              "    }\n",
              "    40% {\n",
              "      border-color: transparent;\n",
              "      border-right-color: var(--fill-color);\n",
              "      border-top-color: var(--fill-color);\n",
              "    }\n",
              "    60% {\n",
              "      border-color: transparent;\n",
              "      border-right-color: var(--fill-color);\n",
              "    }\n",
              "    80% {\n",
              "      border-color: transparent;\n",
              "      border-right-color: var(--fill-color);\n",
              "      border-bottom-color: var(--fill-color);\n",
              "    }\n",
              "    90% {\n",
              "      border-color: transparent;\n",
              "      border-bottom-color: var(--fill-color);\n",
              "    }\n",
              "  }\n",
              "</style>\n",
              "\n",
              "      <script>\n",
              "        async function quickchart(key) {\n",
              "          const quickchartButtonEl =\n",
              "            document.querySelector('#' + key + ' button');\n",
              "          quickchartButtonEl.disabled = true;  // To prevent multiple clicks.\n",
              "          quickchartButtonEl.classList.add('colab-df-spinner');\n",
              "          try {\n",
              "            const charts = await google.colab.kernel.invokeFunction(\n",
              "                'suggestCharts', [key], {});\n",
              "          } catch (error) {\n",
              "            console.error('Error during call to suggestCharts:', error);\n",
              "          }\n",
              "          quickchartButtonEl.classList.remove('colab-df-spinner');\n",
              "          quickchartButtonEl.classList.add('colab-df-quickchart-complete');\n",
              "        }\n",
              "        (() => {\n",
              "          let quickchartButtonEl =\n",
              "            document.querySelector('#df-6eb97243-296f-49bc-b003-8766a9456ea0 button');\n",
              "          quickchartButtonEl.style.display =\n",
              "            google.colab.kernel.accessAllowed ? 'block' : 'none';\n",
              "        })();\n",
              "      </script>\n",
              "    </div>\n",
              "\n",
              "  <div id=\"id_bbe3b176-a9e3-4163-8e48-9c0f7940c40d\">\n",
              "    <style>\n",
              "      .colab-df-generate {\n",
              "        background-color: #E8F0FE;\n",
              "        border: none;\n",
              "        border-radius: 50%;\n",
              "        cursor: pointer;\n",
              "        display: none;\n",
              "        fill: #1967D2;\n",
              "        height: 32px;\n",
              "        padding: 0 0 0 0;\n",
              "        width: 32px;\n",
              "      }\n",
              "\n",
              "      .colab-df-generate:hover {\n",
              "        background-color: #E2EBFA;\n",
              "        box-shadow: 0px 1px 2px rgba(60, 64, 67, 0.3), 0px 1px 3px 1px rgba(60, 64, 67, 0.15);\n",
              "        fill: #174EA6;\n",
              "      }\n",
              "\n",
              "      [theme=dark] .colab-df-generate {\n",
              "        background-color: #3B4455;\n",
              "        fill: #D2E3FC;\n",
              "      }\n",
              "\n",
              "      [theme=dark] .colab-df-generate:hover {\n",
              "        background-color: #434B5C;\n",
              "        box-shadow: 0px 1px 3px 1px rgba(0, 0, 0, 0.15);\n",
              "        filter: drop-shadow(0px 1px 2px rgba(0, 0, 0, 0.3));\n",
              "        fill: #FFFFFF;\n",
              "      }\n",
              "    </style>\n",
              "    <button class=\"colab-df-generate\" onclick=\"generateWithVariable('resultados')\"\n",
              "            title=\"Generate code using this dataframe.\"\n",
              "            style=\"display:none;\">\n",
              "\n",
              "  <svg xmlns=\"http://www.w3.org/2000/svg\" height=\"24px\"viewBox=\"0 0 24 24\"\n",
              "       width=\"24px\">\n",
              "    <path d=\"M7,19H8.4L18.45,9,17,7.55,7,17.6ZM5,21V16.75L18.45,3.32a2,2,0,0,1,2.83,0l1.4,1.43a1.91,1.91,0,0,1,.58,1.4,1.91,1.91,0,0,1-.58,1.4L9.25,21ZM18.45,9,17,7.55Zm-12,3A5.31,5.31,0,0,0,4.9,8.1,5.31,5.31,0,0,0,1,6.5,5.31,5.31,0,0,0,4.9,4.9,5.31,5.31,0,0,0,6.5,1,5.31,5.31,0,0,0,8.1,4.9,5.31,5.31,0,0,0,12,6.5,5.46,5.46,0,0,0,6.5,12Z\"/>\n",
              "  </svg>\n",
              "    </button>\n",
              "    <script>\n",
              "      (() => {\n",
              "      const buttonEl =\n",
              "        document.querySelector('#id_bbe3b176-a9e3-4163-8e48-9c0f7940c40d button.colab-df-generate');\n",
              "      buttonEl.style.display =\n",
              "        google.colab.kernel.accessAllowed ? 'block' : 'none';\n",
              "\n",
              "      buttonEl.onclick = () => {\n",
              "        google.colab.notebook.generateWithVariable('resultados');\n",
              "      }\n",
              "      })();\n",
              "    </script>\n",
              "  </div>\n",
              "\n",
              "    </div>\n",
              "  </div>\n"
            ],
            "application/vnd.google.colaboratory.intrinsic+json": {
              "type": "dataframe",
              "variable_name": "resultados",
              "summary": "{\n  \"name\": \"resultados\",\n  \"rows\": 3,\n  \"fields\": [\n    {\n      \"column\": 10,\n      \"properties\": {\n        \"dtype\": \"number\",\n        \"std\": 0.05745888385039629,\n        \"min\": 0.275,\n        \"max\": 0.3757,\n        \"num_unique_values\": 3,\n        \"samples\": [\n          0.3757,\n          0.2774,\n          0.275\n        ],\n        \"semantic_type\": \"\",\n        \"description\": \"\"\n      }\n    },\n    {\n      \"column\": 11,\n      \"properties\": {\n        \"dtype\": \"number\",\n        \"std\": 0.057014413382348625,\n        \"min\": 0.2763,\n        \"max\": 0.3754,\n        \"num_unique_values\": 3,\n        \"samples\": [\n          0.3754,\n          0.277,\n          0.2763\n        ],\n        \"semantic_type\": \"\",\n        \"description\": \"\"\n      }\n    },\n    {\n      \"column\": 12,\n      \"properties\": {\n        \"dtype\": \"number\",\n        \"std\": 0.056985261252362446,\n        \"min\": 0.2764,\n        \"max\": 0.3754,\n        \"num_unique_values\": 3,\n        \"samples\": [\n          0.3754,\n          0.277,\n          0.2764\n        ],\n        \"semantic_type\": \"\",\n        \"description\": \"\"\n      }\n    },\n    {\n      \"column\": 13,\n      \"properties\": {\n        \"dtype\": \"number\",\n        \"std\": 0.05643778285274266,\n        \"min\": 0.2768,\n        \"max\": 0.375,\n        \"num_unique_values\": 3,\n        \"samples\": [\n          0.375,\n          0.2768,\n          0.2777\n        ],\n        \"semantic_type\": \"\",\n        \"description\": \"\"\n      }\n    },\n    {\n      \"column\": 14,\n      \"properties\": {\n        \"dtype\": \"number\",\n        \"std\": 0.05615000742059909,\n        \"min\": 0.2771,\n        \"max\": 0.3749,\n        \"num_unique_values\": 3,\n        \"samples\": [\n          0.3749,\n          0.2771,\n          0.2782\n        ],\n        \"semantic_type\": \"\",\n        \"description\": \"\"\n      }\n    },\n    {\n      \"column\": 15,\n      \"properties\": {\n        \"dtype\": \"number\",\n        \"std\": 0.056121653575068514,\n        \"min\": 0.2771,\n        \"max\": 0.3749,\n        \"num_unique_values\": 3,\n        \"samples\": [\n          0.3749,\n          0.2771,\n          0.2783\n        ],\n        \"semantic_type\": \"\",\n        \"description\": \"\"\n      }\n    },\n    {\n      \"column\": \"modelo_grid\",\n      \"properties\": {\n        \"dtype\": \"number\",\n        \"std\": 0.05300616316366743,\n        \"min\": 0.2765,\n        \"max\": 0.3729,\n        \"num_unique_values\": 3,\n        \"samples\": [\n          0.3729,\n          0.2765,\n          0.2865\n        ],\n        \"semantic_type\": \"\",\n        \"description\": \"\"\n      }\n    }\n  ]\n}"
            }
          },
          "metadata": {},
          "execution_count": 714
        }
      ]
    },
    {
      "cell_type": "code",
      "source": [
        "try:\n",
        "  with open('champion.pkl','wb') as file:\n",
        "    pickle.dump(model_grid.best_estimator_,file)\n",
        "  print('Modelo serializado con éxito')\n",
        "except Exception as e:\n",
        "  print('Se presentó un error al almacenar el modelo: ',str(e))"
      ],
      "metadata": {
        "colab": {
          "base_uri": "https://localhost:8080/"
        },
        "id": "SEDFyTAX5Yn7",
        "outputId": "045be73b-73ab-4be9-84bb-5f99cc74abe0"
      },
      "execution_count": 715,
      "outputs": [
        {
          "output_type": "stream",
          "name": "stdout",
          "text": [
            "Modelo serializado con éxito\n"
          ]
        }
      ]
    },
    {
      "cell_type": "markdown",
      "source": [
        "# Análisis Predictivo de Abandono de Clientes en Telecomunicaciones\n",
        "\n",
        "## 1. Interpretación de Resultados por Modelo\n",
        "\n",
        "---\n",
        "\n",
        "### **DummyClassifier** (modelo de referencia)\n",
        "- **Exactitud:** ~73.5%, pero *recall* de clase **abandono** = 0%.\n",
        "- **Matriz de confusión:** Clasifica todos los casos como “no abandono” (clase mayoritaria).\n",
        "- **AUC-ROC:** 0.5 → equivalente a predicción aleatoria.\n",
        "\n",
        "**Conclusión:**  \n",
        "Sirve como *baseline*. Confirma que el dataset está desbalanceado (73% no abandona vs. 27% abandona) y que un clasificador ingenuo no capta la clase minoritaria.\n",
        "\n",
        "---\n",
        "\n",
        "### **DecisionTreeClassifier**\n",
        "- **Exactitud:** 78% en pruebas.\n",
        "- **Recall (abandono):** 39.5% → mejora frente al *baseline*, pero aún deja fuera ~60% de los abandonos reales.\n",
        "- **Precisión (abandono):** 64%.\n",
        "- **AUC-ROC:** 0.66 → capacidad moderada de separación.\n",
        "\n",
        "**Variables más influyentes** (tendencia habitual en árboles):\n",
        "1. **Tenure** (meses en la compañía)\n",
        "2. **Método de pago**\n",
        "3. **Tipo de contrato**\n",
        "4. **Costo mensual**\n",
        "5. **Servicios adicionales**\n",
        "\n",
        "**Observación:**  \n",
        "Puede sobreajustar si no se controla la profundidad, aunque aquí mantiene un balance razonable.\n",
        "\n",
        "---\n",
        "\n",
        "### **RandomForestClassifier** (modelo optimizado)\n",
        "- **Exactitud:** ~78% en pruebas y **80.3%** en validación cruzada.\n",
        "- **Recall (abandono):** 35.3% → ligeramente menor que el árbol simple pero más estable.\n",
        "- **Precisión (abandono):** 68%.\n",
        "- **AUC-ROC:** 0.65.\n",
        "\n",
        "Ventaja:\n",
        "Menos sensible a ruido que un solo árbol y más consistente en distintas muestras.\n",
        "\n",
        "---\n",
        "\n",
        "### **Importancia real de variables**\n",
        "\n",
        "| Ranking | Variable                           | Importancia (%) |\n",
        "|---------|------------------------------------|-----------------|\n",
        "| 1       | Tipo de contrato – Mensual         | 29.08           |\n",
        "| 2       | Meses de contrato (Tenure)         | 15.95           |\n",
        "| 3       | Tipo de internet – Fibra óptica    | 11.29           |\n",
        "| 4       | Cargo total acumulado              | 9.60            |\n",
        "| 5       | Método de pago – Cheque electrónico| 7.35            |\n",
        "| 6       | Tipo de contrato – Anual (2 años)  | 7.35            |\n",
        "| 7       | Cargo mensual                      | 4.49            |\n",
        "| 8       | Tipo de internet – No              | 3.41            |\n",
        "| 9       | Tipo de contrato – Anual (1 año)   | 2.17            |\n",
        "| 10      | Factura online                     | 1.69            |\n",
        "| ...     | Resto de variables                 | < 1.7\n",
        "\n",
        "-\n",
        "1. **Meses de contrato** – principal predictor (clientes nuevos son más inestables).\n",
        "2. **Tipo de contrato** – mensual tiene mayor riesgo.\n",
        "3. **Costo mensual** – valores extremos (muy alto o muy bajo) pueden detonar abandono.\n",
        "4. **Método de pago** – automático vs. manual.\n",
        "5. **Uso de servicios adicionales** – menos productos contratados se asocia a mayor riesgo."
      ],
      "metadata": {
        "id": "6i38pwhMIDM7"
      }
    },
    {
      "cell_type": "markdown",
      "source": [
        "# Conclusión estratégica señalando los principales factores que influyen en la cancelación."
      ],
      "metadata": {
        "id": "WdYMACp3aaL8"
      }
    },
    {
      "cell_type": "markdown",
      "source": [
        "Los modelos confirman que **el tipo de contrato** y **el tiempo en la compañía** son los factores más determinantes del abandono.  \n",
        "Además, surgen hallazgos clave en torno a la **tecnología contratada**, **costos** y **método de pago** como palancas para reducir la fuga.\n",
        "\n",
        "---\n",
        "\n",
        "## Estrategias Recomendadas\n",
        "\n",
        "### 1. Migración de clientes de contrato mensual a anual\n",
        "Ofrecer **descuentos**, **beneficios exclusivos** o **programas de fidelización** para incentivar permanencias más largas.\n",
        "\n",
        "### 2. Programa de retención temprana (*primeros 3 meses*)\n",
        "Implementar **seguimiento proactivo**, **contacto personalizado** y **resolución ágil de incidencias** para clientes nuevos.\n",
        "\n",
        "### 3. Plan especial para clientes de fibra óptica\n",
        "Refuerzo en la **calidad de servicio**, **soporte prioritario** y **encuestas tempranas** para detectar insatisfacciones.\n",
        "\n",
        "### 4. Optimización de precios y cargos acumulados\n",
        "Detectar clientes con **facturación elevada** y ofrecer **planes ajustados** antes de la cancelación.\n",
        "\n",
        "### 5. Fomento de pagos automáticos\n",
        "Incentivar métodos como **tarjeta** o **débito automático** para reducir fricciones en el pago."
      ],
      "metadata": {
        "id": "gmJNAkCIGcuY"
      }
    }
  ]
}